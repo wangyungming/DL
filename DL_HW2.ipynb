{
  "nbformat": 4,
  "nbformat_minor": 0,
  "metadata": {
    "colab": {
      "provenance": [],
      "collapsed_sections": [
        "FJ-O324cuy_q",
        "OGoEeYm7u6-K",
        "WiFTxs9ovhTz",
        "Zlzx-P-REmOE",
        "2Gj5I3L9Eqrw",
        "IxPlM2s0nHYZ"
      ]
    },
    "kernelspec": {
      "name": "python3",
      "display_name": "Python 3"
    },
    "language_info": {
      "name": "python"
    }
  },
  "cells": [
    {
      "cell_type": "markdown",
      "source": [
        "#Import package"
      ],
      "metadata": {
        "id": "FJ-O324cuy_q"
      }
    },
    {
      "cell_type": "code",
      "source": [
        "import numpy as np\n",
        "from numpy import random\n",
        "from matplotlib import pyplot as plt \n",
        "from skimage.io import imread, imshow\n",
        "from tqdm import tqdm\n",
        "import pandas as pd\n",
        "import math\n",
        "import copy\n",
        "import cv2"
      ],
      "metadata": {
        "id": "RaM4j4Fou52K"
      },
      "execution_count": null,
      "outputs": []
    },
    {
      "cell_type": "code",
      "source": [
        "!pip install googleDriveFileDownloader #安裝套件語法 !pip install {套件名稱}"
      ],
      "metadata": {
        "id": "eI--SogCE6uL",
        "colab": {
          "base_uri": "https://localhost:8080/"
        },
        "outputId": "a4a78287-56fc-46cf-c09d-25804fab5a15"
      },
      "execution_count": null,
      "outputs": [
        {
          "output_type": "stream",
          "name": "stdout",
          "text": [
            "Looking in indexes: https://pypi.org/simple, https://us-python.pkg.dev/colab-wheels/public/simple/\n",
            "Collecting googleDriveFileDownloader\n",
            "  Downloading googleDriveFileDownloader-1.2-py3-none-any.whl (15 kB)\n",
            "Requirement already satisfied: beautifulsoup4 in /usr/local/lib/python3.9/dist-packages (from googleDriveFileDownloader) (4.11.2)\n",
            "Requirement already satisfied: soupsieve>1.2 in /usr/local/lib/python3.9/dist-packages (from beautifulsoup4->googleDriveFileDownloader) (2.4)\n",
            "Installing collected packages: googleDriveFileDownloader\n",
            "Successfully installed googleDriveFileDownloader-1.2\n"
          ]
        }
      ]
    },
    {
      "cell_type": "code",
      "source": [
        "from googleDriveFileDownloader import googleDriveFileDownloader\n",
        "gdownloader = googleDriveFileDownloader()\n",
        "gdownloader.downloadFile(\"https://drive.google.com/uc?id=1kwYYWL67O0Dcbx3dvZIfbGg9NiHdyisr&export=download\") # 連結到home work 1 data並下載"
      ],
      "metadata": {
        "colab": {
          "base_uri": "https://localhost:8080/"
        },
        "id": "fEbE7AfTEOWp",
        "outputId": "f445fb8c-d473-4f8b-cac6-798047d013c0"
      },
      "execution_count": null,
      "outputs": [
        {
          "output_type": "stream",
          "name": "stdout",
          "text": [
            "Download is starting\n",
            "FILENAME ::: images.zip\n"
          ]
        },
        {
          "output_type": "execute_result",
          "data": {
            "text/plain": [
              "0"
            ]
          },
          "metadata": {},
          "execution_count": 5
        }
      ]
    },
    {
      "cell_type": "code",
      "source": [
        "!mkdir images\n",
        "!unzip /content/images.zip -d ./images #解壓縮"
      ],
      "metadata": {
        "id": "uWTnPQ-3WrpQ",
        "colab": {
          "base_uri": "https://localhost:8080/"
        },
        "outputId": "8748b71e-fbec-4e03-877a-995696ce3b3b"
      },
      "execution_count": null,
      "outputs": [
        {
          "output_type": "stream",
          "name": "stdout",
          "text": [
            "\u001b[1;30;43m串流輸出內容已截斷至最後 5000 行。\u001b[0m\n",
            "  inflating: ./images/images/n02167151/n02167151_15357.JPEG  \n",
            "  inflating: ./images/images/n02167151/n02167151_1540.JPEG  \n",
            "  inflating: ./images/images/n02167151/n02167151_15421.JPEG  \n",
            "  inflating: ./images/images/n02167151/n02167151_15446.JPEG  \n",
            "  inflating: ./images/images/n02167151/n02167151_1545.JPEG  \n",
            "  inflating: ./images/images/n02167151/n02167151_15459.JPEG  \n",
            "  inflating: ./images/images/n02167151/n02167151_15503.JPEG  \n",
            "  inflating: ./images/images/n02167151/n02167151_15506.JPEG  \n",
            "  inflating: ./images/images/n02167151/n02167151_15507.JPEG  \n",
            "  inflating: ./images/images/n02167151/n02167151_15547.JPEG  \n",
            "  inflating: ./images/images/n02167151/n02167151_15558.JPEG  \n",
            "  inflating: ./images/images/n02167151/n02167151_15578.JPEG  \n",
            "  inflating: ./images/images/n02167151/n02167151_15605.JPEG  \n",
            "  inflating: ./images/images/n02167151/n02167151_1564.JPEG  \n",
            "  inflating: ./images/images/n02167151/n02167151_15641.JPEG  \n",
            "  inflating: ./images/images/n02167151/n02167151_1567.JPEG  \n",
            "  inflating: ./images/images/n02167151/n02167151_1576.JPEG  \n",
            "  inflating: ./images/images/n02167151/n02167151_1579.JPEG  \n",
            "  inflating: ./images/images/n02167151/n02167151_1582.JPEG  \n",
            "  inflating: ./images/images/n02167151/n02167151_1583.JPEG  \n",
            "  inflating: ./images/images/n02167151/n02167151_1585.JPEG  \n",
            "  inflating: ./images/images/n02167151/n02167151_1588.JPEG  \n",
            "  inflating: ./images/images/n02167151/n02167151_16.JPEG  \n",
            "  inflating: ./images/images/n02167151/n02167151_1601.JPEG  \n",
            "  inflating: ./images/images/n02167151/n02167151_1602.JPEG  \n",
            "  inflating: ./images/images/n02167151/n02167151_1606.JPEG  \n",
            "  inflating: ./images/images/n02167151/n02167151_1607.JPEG  \n",
            "  inflating: ./images/images/n02167151/n02167151_1616.JPEG  \n",
            "  inflating: ./images/images/n02167151/n02167151_1617.JPEG  \n",
            "  inflating: ./images/images/n02167151/n02167151_1621.JPEG  \n",
            "  inflating: ./images/images/n02167151/n02167151_1627.JPEG  \n",
            "  inflating: ./images/images/n02167151/n02167151_1628.JPEG  \n",
            "  inflating: ./images/images/n02167151/n02167151_1629.JPEG  \n",
            "  inflating: ./images/images/n02167151/n02167151_1638.JPEG  \n",
            "  inflating: ./images/images/n02167151/n02167151_1641.JPEG  \n",
            "  inflating: ./images/images/n02167151/n02167151_1652.JPEG  \n",
            "  inflating: ./images/images/n02167151/n02167151_1657.JPEG  \n",
            "  inflating: ./images/images/n02167151/n02167151_1659.JPEG  \n",
            "  inflating: ./images/images/n02167151/n02167151_1661.JPEG  \n",
            "  inflating: ./images/images/n02167151/n02167151_1669.JPEG  \n",
            "  inflating: ./images/images/n02167151/n02167151_1676.JPEG  \n",
            "  inflating: ./images/images/n02167151/n02167151_1680.JPEG  \n",
            "  inflating: ./images/images/n02167151/n02167151_1681.JPEG  \n",
            "  inflating: ./images/images/n02167151/n02167151_1688.JPEG  \n",
            "  inflating: ./images/images/n02167151/n02167151_1700.JPEG  \n",
            "  inflating: ./images/images/n02167151/n02167151_1704.JPEG  \n",
            "  inflating: ./images/images/n02167151/n02167151_1708.JPEG  \n",
            "  inflating: ./images/images/n02167151/n02167151_1710.JPEG  \n",
            "  inflating: ./images/images/n02167151/n02167151_1726.JPEG  \n",
            "  inflating: ./images/images/n02167151/n02167151_1736.JPEG  \n",
            "  inflating: ./images/images/n02167151/n02167151_1737.JPEG  \n",
            "  inflating: ./images/images/n02167151/n02167151_1739.JPEG  \n",
            "  inflating: ./images/images/n02167151/n02167151_1748.JPEG  \n",
            "  inflating: ./images/images/n02167151/n02167151_1752.JPEG  \n",
            "  inflating: ./images/images/n02167151/n02167151_1762.JPEG  \n",
            "  inflating: ./images/images/n02167151/n02167151_1767.JPEG  \n",
            "  inflating: ./images/images/n02167151/n02167151_1770.JPEG  \n",
            "  inflating: ./images/images/n02167151/n02167151_1780.JPEG  \n",
            "  inflating: ./images/images/n02167151/n02167151_1795.JPEG  \n",
            "  inflating: ./images/images/n02167151/n02167151_1810.JPEG  \n",
            "  inflating: ./images/images/n02167151/n02167151_1811.JPEG  \n",
            "  inflating: ./images/images/n02167151/n02167151_1816.JPEG  \n",
            "  inflating: ./images/images/n02167151/n02167151_1819.JPEG  \n",
            "  inflating: ./images/images/n02167151/n02167151_1826.JPEG  \n",
            "  inflating: ./images/images/n02167151/n02167151_1844.JPEG  \n",
            "  inflating: ./images/images/n02167151/n02167151_1849.JPEG  \n",
            "  inflating: ./images/images/n02167151/n02167151_1852.JPEG  \n",
            "  inflating: ./images/images/n02167151/n02167151_1856.JPEG  \n",
            "  inflating: ./images/images/n02167151/n02167151_1858.JPEG  \n",
            "  inflating: ./images/images/n02167151/n02167151_1859.JPEG  \n",
            "  inflating: ./images/images/n02167151/n02167151_1871.JPEG  \n",
            "  inflating: ./images/images/n02167151/n02167151_1875.JPEG  \n",
            "  inflating: ./images/images/n02167151/n02167151_1877.JPEG  \n",
            "  inflating: ./images/images/n02167151/n02167151_1878.JPEG  \n",
            "  inflating: ./images/images/n02167151/n02167151_1891.JPEG  \n",
            "  inflating: ./images/images/n02167151/n02167151_1923.JPEG  \n",
            "  inflating: ./images/images/n02167151/n02167151_1932.JPEG  \n",
            "  inflating: ./images/images/n02167151/n02167151_1943.JPEG  \n",
            "  inflating: ./images/images/n02167151/n02167151_1948.JPEG  \n",
            "  inflating: ./images/images/n02167151/n02167151_1949.JPEG  \n",
            "  inflating: ./images/images/n02167151/n02167151_1955.JPEG  \n",
            "  inflating: ./images/images/n02167151/n02167151_1963.JPEG  \n",
            "  inflating: ./images/images/n02167151/n02167151_1965.JPEG  \n",
            "  inflating: ./images/images/n02167151/n02167151_1967.JPEG  \n",
            "  inflating: ./images/images/n02167151/n02167151_1978.JPEG  \n",
            "  inflating: ./images/images/n02167151/n02167151_20.JPEG  \n",
            "  inflating: ./images/images/n02167151/n02167151_2005.JPEG  \n",
            "  inflating: ./images/images/n02167151/n02167151_2010.JPEG  \n",
            "  inflating: ./images/images/n02167151/n02167151_2011.JPEG  \n",
            "  inflating: ./images/images/n02167151/n02167151_2012.JPEG  \n",
            "  inflating: ./images/images/n02167151/n02167151_2037.JPEG  \n",
            "  inflating: ./images/images/n02167151/n02167151_2039.JPEG  \n",
            "  inflating: ./images/images/n02167151/n02167151_204.JPEG  \n",
            "  inflating: ./images/images/n02167151/n02167151_2040.JPEG  \n",
            "  inflating: ./images/images/n02167151/n02167151_2043.JPEG  \n",
            "  inflating: ./images/images/n02167151/n02167151_2053.JPEG  \n",
            "  inflating: ./images/images/n02167151/n02167151_2059.JPEG  \n",
            "  inflating: ./images/images/n02167151/n02167151_2068.JPEG  \n",
            "  inflating: ./images/images/n02167151/n02167151_2071.JPEG  \n",
            "  inflating: ./images/images/n02167151/n02167151_2073.JPEG  \n",
            "  inflating: ./images/images/n02167151/n02167151_2079.JPEG  \n",
            "  inflating: ./images/images/n02167151/n02167151_2081.JPEG  \n",
            "  inflating: ./images/images/n02167151/n02167151_2086.JPEG  \n",
            "  inflating: ./images/images/n02167151/n02167151_2089.JPEG  \n",
            "  inflating: ./images/images/n02167151/n02167151_2101.JPEG  \n",
            "  inflating: ./images/images/n02167151/n02167151_2102.JPEG  \n",
            "  inflating: ./images/images/n02167151/n02167151_2109.JPEG  \n",
            "  inflating: ./images/images/n02167151/n02167151_2127.JPEG  \n",
            "  inflating: ./images/images/n02167151/n02167151_2128.JPEG  \n",
            "  inflating: ./images/images/n02167151/n02167151_2138.JPEG  \n",
            "  inflating: ./images/images/n02167151/n02167151_2158.JPEG  \n",
            "  inflating: ./images/images/n02167151/n02167151_2163.JPEG  \n",
            "  inflating: ./images/images/n02167151/n02167151_2166.JPEG  \n",
            "  inflating: ./images/images/n02167151/n02167151_2168.JPEG  \n",
            "  inflating: ./images/images/n02167151/n02167151_2173.JPEG  \n",
            "  inflating: ./images/images/n02167151/n02167151_2174.JPEG  \n",
            "  inflating: ./images/images/n02167151/n02167151_2188.JPEG  \n",
            "  inflating: ./images/images/n02167151/n02167151_2201.JPEG  \n",
            "  inflating: ./images/images/n02167151/n02167151_2209.JPEG  \n",
            "  inflating: ./images/images/n02167151/n02167151_2215.JPEG  \n",
            "  inflating: ./images/images/n02167151/n02167151_2219.JPEG  \n",
            "  inflating: ./images/images/n02167151/n02167151_2223.JPEG  \n",
            "  inflating: ./images/images/n02167151/n02167151_2233.JPEG  \n",
            "  inflating: ./images/images/n02167151/n02167151_2238.JPEG  \n",
            "  inflating: ./images/images/n02167151/n02167151_2240.JPEG  \n",
            "  inflating: ./images/images/n02167151/n02167151_2243.JPEG  \n",
            "  inflating: ./images/images/n02167151/n02167151_2244.JPEG  \n",
            "  inflating: ./images/images/n02167151/n02167151_2260.JPEG  \n",
            "  inflating: ./images/images/n02167151/n02167151_2268.JPEG  \n",
            "  inflating: ./images/images/n02167151/n02167151_2273.JPEG  \n",
            "  inflating: ./images/images/n02167151/n02167151_2278.JPEG  \n",
            "  inflating: ./images/images/n02167151/n02167151_2287.JPEG  \n",
            "  inflating: ./images/images/n02167151/n02167151_2290.JPEG  \n",
            "  inflating: ./images/images/n02167151/n02167151_2294.JPEG  \n",
            "  inflating: ./images/images/n02167151/n02167151_2296.JPEG  \n",
            "  inflating: ./images/images/n02167151/n02167151_23.JPEG  \n",
            "  inflating: ./images/images/n02167151/n02167151_2300.JPEG  \n",
            "  inflating: ./images/images/n02167151/n02167151_2303.JPEG  \n",
            "  inflating: ./images/images/n02167151/n02167151_2310.JPEG  \n",
            "  inflating: ./images/images/n02167151/n02167151_2314.JPEG  \n",
            "  inflating: ./images/images/n02167151/n02167151_2329.JPEG  \n",
            "  inflating: ./images/images/n02167151/n02167151_2334.JPEG  \n",
            "  inflating: ./images/images/n02167151/n02167151_2342.JPEG  \n",
            "  inflating: ./images/images/n02167151/n02167151_2346.JPEG  \n",
            "  inflating: ./images/images/n02167151/n02167151_2350.JPEG  \n",
            "  inflating: ./images/images/n02167151/n02167151_2365.JPEG  \n",
            "  inflating: ./images/images/n02167151/n02167151_2366.JPEG  \n",
            "  inflating: ./images/images/n02167151/n02167151_2367.JPEG  \n",
            "  inflating: ./images/images/n02167151/n02167151_2371.JPEG  \n",
            "  inflating: ./images/images/n02167151/n02167151_2373.JPEG  \n",
            "  inflating: ./images/images/n02167151/n02167151_2376.JPEG  \n",
            "  inflating: ./images/images/n02167151/n02167151_2381.JPEG  \n",
            "  inflating: ./images/images/n02167151/n02167151_2391.JPEG  \n",
            "  inflating: ./images/images/n02167151/n02167151_2395.JPEG  \n",
            "  inflating: ./images/images/n02167151/n02167151_242.JPEG  \n",
            "  inflating: ./images/images/n02167151/n02167151_2422.JPEG  \n",
            "  inflating: ./images/images/n02167151/n02167151_2437.JPEG  \n",
            "  inflating: ./images/images/n02167151/n02167151_2440.JPEG  \n",
            "  inflating: ./images/images/n02167151/n02167151_2452.JPEG  \n",
            "  inflating: ./images/images/n02167151/n02167151_2461.JPEG  \n",
            "  inflating: ./images/images/n02167151/n02167151_2477.JPEG  \n",
            "  inflating: ./images/images/n02167151/n02167151_2478.JPEG  \n",
            "  inflating: ./images/images/n02167151/n02167151_2483.JPEG  \n",
            "  inflating: ./images/images/n02167151/n02167151_2486.JPEG  \n",
            "  inflating: ./images/images/n02167151/n02167151_2508.JPEG  \n",
            "  inflating: ./images/images/n02167151/n02167151_2527.JPEG  \n",
            "  inflating: ./images/images/n02167151/n02167151_253.JPEG  \n",
            "  inflating: ./images/images/n02167151/n02167151_2537.JPEG  \n",
            "  inflating: ./images/images/n02167151/n02167151_2554.JPEG  \n",
            "  inflating: ./images/images/n02167151/n02167151_2573.JPEG  \n",
            "  inflating: ./images/images/n02167151/n02167151_2581.JPEG  \n",
            "  inflating: ./images/images/n02167151/n02167151_2611.JPEG  \n",
            "  inflating: ./images/images/n02167151/n02167151_2623.JPEG  \n",
            "  inflating: ./images/images/n02167151/n02167151_2625.JPEG  \n",
            "  inflating: ./images/images/n02167151/n02167151_2642.JPEG  \n",
            "  inflating: ./images/images/n02167151/n02167151_2650.JPEG  \n",
            "  inflating: ./images/images/n02167151/n02167151_2662.JPEG  \n",
            "  inflating: ./images/images/n02167151/n02167151_2666.JPEG  \n",
            "  inflating: ./images/images/n02167151/n02167151_2672.JPEG  \n",
            "  inflating: ./images/images/n02167151/n02167151_2681.JPEG  \n",
            "  inflating: ./images/images/n02167151/n02167151_2688.JPEG  \n",
            "  inflating: ./images/images/n02167151/n02167151_2689.JPEG  \n",
            "  inflating: ./images/images/n02167151/n02167151_2690.JPEG  \n",
            "  inflating: ./images/images/n02167151/n02167151_2709.JPEG  \n",
            "  inflating: ./images/images/n02167151/n02167151_2711.JPEG  \n",
            "  inflating: ./images/images/n02167151/n02167151_2715.JPEG  \n",
            "  inflating: ./images/images/n02167151/n02167151_2728.JPEG  \n",
            "  inflating: ./images/images/n02167151/n02167151_2731.JPEG  \n",
            "  inflating: ./images/images/n02167151/n02167151_2738.JPEG  \n",
            "  inflating: ./images/images/n02167151/n02167151_2743.JPEG  \n",
            "  inflating: ./images/images/n02167151/n02167151_2748.JPEG  \n",
            "  inflating: ./images/images/n02167151/n02167151_2750.JPEG  \n",
            "  inflating: ./images/images/n02167151/n02167151_2755.JPEG  \n",
            "  inflating: ./images/images/n02167151/n02167151_2774.JPEG  \n",
            "  inflating: ./images/images/n02167151/n02167151_2778.JPEG  \n",
            "  inflating: ./images/images/n02167151/n02167151_2789.JPEG  \n",
            "  inflating: ./images/images/n02167151/n02167151_2802.JPEG  \n",
            "  inflating: ./images/images/n02167151/n02167151_281.JPEG  \n",
            "  inflating: ./images/images/n02167151/n02167151_2819.JPEG  \n",
            "  inflating: ./images/images/n02167151/n02167151_2820.JPEG  \n",
            "  inflating: ./images/images/n02167151/n02167151_2827.JPEG  \n",
            "  inflating: ./images/images/n02167151/n02167151_2839.JPEG  \n",
            "  inflating: ./images/images/n02167151/n02167151_2842.JPEG  \n",
            "  inflating: ./images/images/n02167151/n02167151_2847.JPEG  \n",
            "  inflating: ./images/images/n02167151/n02167151_2849.JPEG  \n",
            "  inflating: ./images/images/n02167151/n02167151_285.JPEG  \n",
            "  inflating: ./images/images/n02167151/n02167151_2853.JPEG  \n",
            "  inflating: ./images/images/n02167151/n02167151_2858.JPEG  \n",
            "  inflating: ./images/images/n02167151/n02167151_2859.JPEG  \n",
            "  inflating: ./images/images/n02167151/n02167151_2860.JPEG  \n",
            "  inflating: ./images/images/n02167151/n02167151_2861.JPEG  \n",
            "  inflating: ./images/images/n02167151/n02167151_2877.JPEG  \n",
            "  inflating: ./images/images/n02167151/n02167151_2885.JPEG  \n",
            "  inflating: ./images/images/n02167151/n02167151_2886.JPEG  \n",
            "  inflating: ./images/images/n02167151/n02167151_2920.JPEG  \n",
            "  inflating: ./images/images/n02167151/n02167151_2927.JPEG  \n",
            "  inflating: ./images/images/n02167151/n02167151_2939.JPEG  \n",
            "  inflating: ./images/images/n02167151/n02167151_2943.JPEG  \n",
            "  inflating: ./images/images/n02167151/n02167151_2946.JPEG  \n",
            "  inflating: ./images/images/n02167151/n02167151_295.JPEG  \n",
            "  inflating: ./images/images/n02167151/n02167151_2956.JPEG  \n",
            "  inflating: ./images/images/n02167151/n02167151_2959.JPEG  \n",
            "  inflating: ./images/images/n02167151/n02167151_2982.JPEG  \n",
            "  inflating: ./images/images/n02167151/n02167151_2989.JPEG  \n",
            "  inflating: ./images/images/n02167151/n02167151_299.JPEG  \n",
            "  inflating: ./images/images/n02167151/n02167151_2990.JPEG  \n",
            "  inflating: ./images/images/n02167151/n02167151_2991.JPEG  \n",
            "  inflating: ./images/images/n02167151/n02167151_2997.JPEG  \n",
            "  inflating: ./images/images/n02167151/n02167151_2998.JPEG  \n",
            "  inflating: ./images/images/n02167151/n02167151_3006.JPEG  \n",
            "  inflating: ./images/images/n02167151/n02167151_3027.JPEG  \n",
            "  inflating: ./images/images/n02167151/n02167151_3030.JPEG  \n",
            "  inflating: ./images/images/n02167151/n02167151_3036.JPEG  \n",
            "  inflating: ./images/images/n02167151/n02167151_3061.JPEG  \n",
            "  inflating: ./images/images/n02167151/n02167151_3077.JPEG  \n",
            "  inflating: ./images/images/n02167151/n02167151_308.JPEG  \n",
            "  inflating: ./images/images/n02167151/n02167151_3083.JPEG  \n",
            "  inflating: ./images/images/n02167151/n02167151_3085.JPEG  \n",
            "  inflating: ./images/images/n02167151/n02167151_311.JPEG  \n",
            "  inflating: ./images/images/n02167151/n02167151_3121.JPEG  \n",
            "  inflating: ./images/images/n02167151/n02167151_3125.JPEG  \n",
            "  inflating: ./images/images/n02167151/n02167151_3126.JPEG  \n",
            "  inflating: ./images/images/n02167151/n02167151_3135.JPEG  \n",
            "  inflating: ./images/images/n02167151/n02167151_3138.JPEG  \n",
            "  inflating: ./images/images/n02167151/n02167151_3144.JPEG  \n",
            "  inflating: ./images/images/n02167151/n02167151_3148.JPEG  \n",
            "  inflating: ./images/images/n02167151/n02167151_3157.JPEG  \n",
            "  inflating: ./images/images/n02167151/n02167151_3162.JPEG  \n",
            "  inflating: ./images/images/n02167151/n02167151_3165.JPEG  \n",
            "  inflating: ./images/images/n02167151/n02167151_3199.JPEG  \n",
            "  inflating: ./images/images/n02167151/n02167151_32.JPEG  \n",
            "  inflating: ./images/images/n02167151/n02167151_3200.JPEG  \n",
            "  inflating: ./images/images/n02167151/n02167151_3224.JPEG  \n",
            "  inflating: ./images/images/n02167151/n02167151_3225.JPEG  \n",
            "  inflating: ./images/images/n02167151/n02167151_3232.JPEG  \n",
            "  inflating: ./images/images/n02167151/n02167151_3236.JPEG  \n",
            "  inflating: ./images/images/n02167151/n02167151_3248.JPEG  \n",
            "  inflating: ./images/images/n02167151/n02167151_3255.JPEG  \n",
            "  inflating: ./images/images/n02167151/n02167151_3265.JPEG  \n",
            "  inflating: ./images/images/n02167151/n02167151_3288.JPEG  \n",
            "  inflating: ./images/images/n02167151/n02167151_329.JPEG  \n",
            "  inflating: ./images/images/n02167151/n02167151_3297.JPEG  \n",
            "  inflating: ./images/images/n02167151/n02167151_3308.JPEG  \n",
            "  inflating: ./images/images/n02167151/n02167151_3319.JPEG  \n",
            "  inflating: ./images/images/n02167151/n02167151_3326.JPEG  \n",
            "  inflating: ./images/images/n02167151/n02167151_3341.JPEG  \n",
            "  inflating: ./images/images/n02167151/n02167151_3342.JPEG  \n",
            "  inflating: ./images/images/n02167151/n02167151_3344.JPEG  \n",
            "  inflating: ./images/images/n02167151/n02167151_3351.JPEG  \n",
            "  inflating: ./images/images/n02167151/n02167151_3372.JPEG  \n",
            "  inflating: ./images/images/n02167151/n02167151_3379.JPEG  \n",
            "  inflating: ./images/images/n02167151/n02167151_3385.JPEG  \n",
            "  inflating: ./images/images/n02167151/n02167151_3404.JPEG  \n",
            "  inflating: ./images/images/n02167151/n02167151_3408.JPEG  \n",
            "  inflating: ./images/images/n02167151/n02167151_3419.JPEG  \n",
            "  inflating: ./images/images/n02167151/n02167151_3425.JPEG  \n",
            "  inflating: ./images/images/n02167151/n02167151_3426.JPEG  \n",
            "  inflating: ./images/images/n02167151/n02167151_3434.JPEG  \n",
            "  inflating: ./images/images/n02167151/n02167151_3455.JPEG  \n",
            "  inflating: ./images/images/n02167151/n02167151_347.JPEG  \n",
            "  inflating: ./images/images/n02167151/n02167151_3475.JPEG  \n",
            "  inflating: ./images/images/n02167151/n02167151_3478.JPEG  \n",
            "  inflating: ./images/images/n02167151/n02167151_348.JPEG  \n",
            "  inflating: ./images/images/n02167151/n02167151_3504.JPEG  \n",
            "  inflating: ./images/images/n02167151/n02167151_3508.JPEG  \n",
            "  inflating: ./images/images/n02167151/n02167151_3512.JPEG  \n",
            "  inflating: ./images/images/n02167151/n02167151_3515.JPEG  \n",
            "  inflating: ./images/images/n02167151/n02167151_3516.JPEG  \n",
            "  inflating: ./images/images/n02167151/n02167151_3519.JPEG  \n",
            "  inflating: ./images/images/n02167151/n02167151_3524.JPEG  \n",
            "  inflating: ./images/images/n02167151/n02167151_3545.JPEG  \n",
            "  inflating: ./images/images/n02167151/n02167151_3554.JPEG  \n",
            "  inflating: ./images/images/n02167151/n02167151_3555.JPEG  \n",
            "  inflating: ./images/images/n02167151/n02167151_357.JPEG  \n",
            "  inflating: ./images/images/n02167151/n02167151_3585.JPEG  \n",
            "  inflating: ./images/images/n02167151/n02167151_3590.JPEG  \n",
            "  inflating: ./images/images/n02167151/n02167151_3593.JPEG  \n",
            "  inflating: ./images/images/n02167151/n02167151_3598.JPEG  \n",
            "  inflating: ./images/images/n02167151/n02167151_3602.JPEG  \n",
            "  inflating: ./images/images/n02167151/n02167151_3613.JPEG  \n",
            "  inflating: ./images/images/n02167151/n02167151_362.JPEG  \n",
            "  inflating: ./images/images/n02167151/n02167151_3620.JPEG  \n",
            "  inflating: ./images/images/n02167151/n02167151_3621.JPEG  \n",
            "  inflating: ./images/images/n02167151/n02167151_3622.JPEG  \n",
            "  inflating: ./images/images/n02167151/n02167151_363.JPEG  \n",
            "  inflating: ./images/images/n02167151/n02167151_3630.JPEG  \n",
            "  inflating: ./images/images/n02167151/n02167151_3632.JPEG  \n",
            "  inflating: ./images/images/n02167151/n02167151_3636.JPEG  \n",
            "  inflating: ./images/images/n02167151/n02167151_3641.JPEG  \n",
            "  inflating: ./images/images/n02167151/n02167151_3643.JPEG  \n",
            "  inflating: ./images/images/n02167151/n02167151_3655.JPEG  \n",
            "  inflating: ./images/images/n02167151/n02167151_366.JPEG  \n",
            "  inflating: ./images/images/n02167151/n02167151_3660.JPEG  \n",
            "  inflating: ./images/images/n02167151/n02167151_3669.JPEG  \n",
            "  inflating: ./images/images/n02167151/n02167151_3671.JPEG  \n",
            "  inflating: ./images/images/n02167151/n02167151_3675.JPEG  \n",
            "  inflating: ./images/images/n02167151/n02167151_3684.JPEG  \n",
            "  inflating: ./images/images/n02167151/n02167151_3691.JPEG  \n",
            "  inflating: ./images/images/n02167151/n02167151_3708.JPEG  \n",
            "  inflating: ./images/images/n02167151/n02167151_3710.JPEG  \n",
            "  inflating: ./images/images/n02167151/n02167151_3712.JPEG  \n",
            "  inflating: ./images/images/n02167151/n02167151_3714.JPEG  \n",
            "  inflating: ./images/images/n02167151/n02167151_372.JPEG  \n",
            "  inflating: ./images/images/n02167151/n02167151_3749.JPEG  \n",
            "  inflating: ./images/images/n02167151/n02167151_3776.JPEG  \n",
            "  inflating: ./images/images/n02167151/n02167151_3781.JPEG  \n",
            "  inflating: ./images/images/n02167151/n02167151_3782.JPEG  \n",
            "  inflating: ./images/images/n02167151/n02167151_3788.JPEG  \n",
            "  inflating: ./images/images/n02167151/n02167151_3789.JPEG  \n",
            "  inflating: ./images/images/n02167151/n02167151_3790.JPEG  \n",
            "  inflating: ./images/images/n02167151/n02167151_3794.JPEG  \n",
            "  inflating: ./images/images/n02167151/n02167151_3805.JPEG  \n",
            "  inflating: ./images/images/n02167151/n02167151_3807.JPEG  \n",
            "  inflating: ./images/images/n02167151/n02167151_3817.JPEG  \n",
            "  inflating: ./images/images/n02167151/n02167151_3820.JPEG  \n",
            "  inflating: ./images/images/n02167151/n02167151_3823.JPEG  \n",
            "  inflating: ./images/images/n02167151/n02167151_3843.JPEG  \n",
            "  inflating: ./images/images/n02167151/n02167151_3849.JPEG  \n",
            "  inflating: ./images/images/n02167151/n02167151_3853.JPEG  \n",
            "  inflating: ./images/images/n02167151/n02167151_3860.JPEG  \n",
            "  inflating: ./images/images/n02167151/n02167151_3864.JPEG  \n",
            "  inflating: ./images/images/n02167151/n02167151_3868.JPEG  \n",
            "  inflating: ./images/images/n02167151/n02167151_3870.JPEG  \n",
            "  inflating: ./images/images/n02167151/n02167151_3877.JPEG  \n",
            "  inflating: ./images/images/n02167151/n02167151_3880.JPEG  \n",
            "  inflating: ./images/images/n02167151/n02167151_389.JPEG  \n",
            "  inflating: ./images/images/n02167151/n02167151_3910.JPEG  \n",
            "  inflating: ./images/images/n02167151/n02167151_3911.JPEG  \n",
            "  inflating: ./images/images/n02167151/n02167151_3921.JPEG  \n",
            "  inflating: ./images/images/n02167151/n02167151_395.JPEG  \n",
            "  inflating: ./images/images/n02167151/n02167151_3952.JPEG  \n",
            "  inflating: ./images/images/n02167151/n02167151_3960.JPEG  \n",
            "  inflating: ./images/images/n02167151/n02167151_3961.JPEG  \n",
            "  inflating: ./images/images/n02167151/n02167151_3962.JPEG  \n",
            "  inflating: ./images/images/n02167151/n02167151_3964.JPEG  \n",
            "  inflating: ./images/images/n02167151/n02167151_3965.JPEG  \n",
            "  inflating: ./images/images/n02167151/n02167151_3973.JPEG  \n",
            "  inflating: ./images/images/n02167151/n02167151_3982.JPEG  \n",
            "  inflating: ./images/images/n02167151/n02167151_3986.JPEG  \n",
            "  inflating: ./images/images/n02167151/n02167151_3989.JPEG  \n",
            "  inflating: ./images/images/n02167151/n02167151_3992.JPEG  \n",
            "  inflating: ./images/images/n02167151/n02167151_3993.JPEG  \n",
            "  inflating: ./images/images/n02167151/n02167151_3994.JPEG  \n",
            "  inflating: ./images/images/n02167151/n02167151_3995.JPEG  \n",
            "  inflating: ./images/images/n02167151/n02167151_4001.JPEG  \n",
            "  inflating: ./images/images/n02167151/n02167151_4004.JPEG  \n",
            "  inflating: ./images/images/n02167151/n02167151_4006.JPEG  \n",
            "  inflating: ./images/images/n02167151/n02167151_4053.JPEG  \n",
            "  inflating: ./images/images/n02167151/n02167151_4054.JPEG  \n",
            "  inflating: ./images/images/n02167151/n02167151_4060.JPEG  \n",
            "  inflating: ./images/images/n02167151/n02167151_4064.JPEG  \n",
            "  inflating: ./images/images/n02167151/n02167151_4068.JPEG  \n",
            "  inflating: ./images/images/n02167151/n02167151_4073.JPEG  \n",
            "  inflating: ./images/images/n02167151/n02167151_4081.JPEG  \n",
            "  inflating: ./images/images/n02167151/n02167151_4098.JPEG  \n",
            "  inflating: ./images/images/n02167151/n02167151_4104.JPEG  \n",
            "  inflating: ./images/images/n02167151/n02167151_4106.JPEG  \n",
            "  inflating: ./images/images/n02167151/n02167151_4109.JPEG  \n",
            "  inflating: ./images/images/n02167151/n02167151_4115.JPEG  \n",
            "  inflating: ./images/images/n02167151/n02167151_4116.JPEG  \n",
            "  inflating: ./images/images/n02167151/n02167151_4127.JPEG  \n",
            "  inflating: ./images/images/n02167151/n02167151_4146.JPEG  \n",
            "  inflating: ./images/images/n02167151/n02167151_4150.JPEG  \n",
            "  inflating: ./images/images/n02167151/n02167151_4155.JPEG  \n",
            "  inflating: ./images/images/n02167151/n02167151_4169.JPEG  \n",
            "  inflating: ./images/images/n02167151/n02167151_4180.JPEG  \n",
            "  inflating: ./images/images/n02167151/n02167151_4182.JPEG  \n",
            "  inflating: ./images/images/n02167151/n02167151_4188.JPEG  \n",
            "  inflating: ./images/images/n02167151/n02167151_4189.JPEG  \n",
            "  inflating: ./images/images/n02167151/n02167151_4196.JPEG  \n",
            "  inflating: ./images/images/n02167151/n02167151_4218.JPEG  \n",
            "  inflating: ./images/images/n02167151/n02167151_4223.JPEG  \n",
            "  inflating: ./images/images/n02167151/n02167151_4228.JPEG  \n",
            "  inflating: ./images/images/n02167151/n02167151_4232.JPEG  \n",
            "  inflating: ./images/images/n02167151/n02167151_4233.JPEG  \n",
            "  inflating: ./images/images/n02167151/n02167151_4242.JPEG  \n",
            "  inflating: ./images/images/n02167151/n02167151_4245.JPEG  \n",
            "  inflating: ./images/images/n02167151/n02167151_4252.JPEG  \n",
            "  inflating: ./images/images/n02167151/n02167151_4255.JPEG  \n",
            "  inflating: ./images/images/n02167151/n02167151_4259.JPEG  \n",
            "  inflating: ./images/images/n02167151/n02167151_4261.JPEG  \n",
            "  inflating: ./images/images/n02167151/n02167151_4271.JPEG  \n",
            "  inflating: ./images/images/n02167151/n02167151_4274.JPEG  \n",
            "  inflating: ./images/images/n02167151/n02167151_4278.JPEG  \n",
            "  inflating: ./images/images/n02167151/n02167151_4288.JPEG  \n",
            "  inflating: ./images/images/n02167151/n02167151_4290.JPEG  \n",
            "  inflating: ./images/images/n02167151/n02167151_4291.JPEG  \n",
            "  inflating: ./images/images/n02167151/n02167151_43.JPEG  \n",
            "  inflating: ./images/images/n02167151/n02167151_4302.JPEG  \n",
            "  inflating: ./images/images/n02167151/n02167151_4306.JPEG  \n",
            "  inflating: ./images/images/n02167151/n02167151_4308.JPEG  \n",
            "  inflating: ./images/images/n02167151/n02167151_4319.JPEG  \n",
            "  inflating: ./images/images/n02167151/n02167151_432.JPEG  \n",
            "  inflating: ./images/images/n02167151/n02167151_4328.JPEG  \n",
            "  inflating: ./images/images/n02167151/n02167151_4347.JPEG  \n",
            "  inflating: ./images/images/n02167151/n02167151_4360.JPEG  \n",
            "  inflating: ./images/images/n02167151/n02167151_4378.JPEG  \n",
            "  inflating: ./images/images/n02167151/n02167151_4379.JPEG  \n",
            "  inflating: ./images/images/n02167151/n02167151_4380.JPEG  \n",
            "  inflating: ./images/images/n02167151/n02167151_4384.JPEG  \n",
            "  inflating: ./images/images/n02167151/n02167151_4390.JPEG  \n",
            "  inflating: ./images/images/n02167151/n02167151_4391.JPEG  \n",
            "  inflating: ./images/images/n02167151/n02167151_4398.JPEG  \n",
            "  inflating: ./images/images/n02167151/n02167151_4402.JPEG  \n",
            "  inflating: ./images/images/n02167151/n02167151_4413.JPEG  \n",
            "  inflating: ./images/images/n02167151/n02167151_4414.JPEG  \n",
            "  inflating: ./images/images/n02167151/n02167151_4424.JPEG  \n",
            "  inflating: ./images/images/n02167151/n02167151_4428.JPEG  \n",
            "  inflating: ./images/images/n02167151/n02167151_4435.JPEG  \n",
            "  inflating: ./images/images/n02167151/n02167151_4453.JPEG  \n",
            "  inflating: ./images/images/n02167151/n02167151_4457.JPEG  \n",
            "  inflating: ./images/images/n02167151/n02167151_446.JPEG  \n",
            "  inflating: ./images/images/n02167151/n02167151_4460.JPEG  \n",
            "  inflating: ./images/images/n02167151/n02167151_4465.JPEG  \n",
            "  inflating: ./images/images/n02167151/n02167151_4479.JPEG  \n",
            "  inflating: ./images/images/n02167151/n02167151_449.JPEG  \n",
            "  inflating: ./images/images/n02167151/n02167151_4499.JPEG  \n",
            "  inflating: ./images/images/n02167151/n02167151_4501.JPEG  \n",
            "  inflating: ./images/images/n02167151/n02167151_4506.JPEG  \n",
            "  inflating: ./images/images/n02167151/n02167151_4507.JPEG  \n",
            "  inflating: ./images/images/n02167151/n02167151_4516.JPEG  \n",
            "  inflating: ./images/images/n02167151/n02167151_4541.JPEG  \n",
            "  inflating: ./images/images/n02167151/n02167151_4545.JPEG  \n",
            "  inflating: ./images/images/n02167151/n02167151_4555.JPEG  \n",
            "  inflating: ./images/images/n02167151/n02167151_4556.JPEG  \n",
            "  inflating: ./images/images/n02167151/n02167151_456.JPEG  \n",
            "  inflating: ./images/images/n02167151/n02167151_4562.JPEG  \n",
            "  inflating: ./images/images/n02167151/n02167151_4577.JPEG  \n",
            "  inflating: ./images/images/n02167151/n02167151_4580.JPEG  \n",
            "  inflating: ./images/images/n02167151/n02167151_4582.JPEG  \n",
            "  inflating: ./images/images/n02167151/n02167151_460.JPEG  \n",
            "  inflating: ./images/images/n02167151/n02167151_4610.JPEG  \n",
            "  inflating: ./images/images/n02167151/n02167151_4627.JPEG  \n",
            "  inflating: ./images/images/n02167151/n02167151_4634.JPEG  \n",
            "  inflating: ./images/images/n02167151/n02167151_4636.JPEG  \n",
            "  inflating: ./images/images/n02167151/n02167151_4649.JPEG  \n",
            "  inflating: ./images/images/n02167151/n02167151_4661.JPEG  \n",
            "  inflating: ./images/images/n02167151/n02167151_4662.JPEG  \n",
            "  inflating: ./images/images/n02167151/n02167151_4665.JPEG  \n",
            "  inflating: ./images/images/n02167151/n02167151_4699.JPEG  \n",
            "  inflating: ./images/images/n02167151/n02167151_4724.JPEG  \n",
            "  inflating: ./images/images/n02167151/n02167151_4725.JPEG  \n",
            "  inflating: ./images/images/n02167151/n02167151_4737.JPEG  \n",
            "  inflating: ./images/images/n02167151/n02167151_4749.JPEG  \n",
            "  inflating: ./images/images/n02167151/n02167151_4768.JPEG  \n",
            "  inflating: ./images/images/n02167151/n02167151_4771.JPEG  \n",
            "  inflating: ./images/images/n02167151/n02167151_478.JPEG  \n",
            "  inflating: ./images/images/n02167151/n02167151_4790.JPEG  \n",
            "  inflating: ./images/images/n02167151/n02167151_4794.JPEG  \n",
            "  inflating: ./images/images/n02167151/n02167151_4798.JPEG  \n",
            "  inflating: ./images/images/n02167151/n02167151_4815.JPEG  \n",
            "  inflating: ./images/images/n02167151/n02167151_4820.JPEG  \n",
            "  inflating: ./images/images/n02167151/n02167151_4824.JPEG  \n",
            "  inflating: ./images/images/n02167151/n02167151_4851.JPEG  \n",
            "  inflating: ./images/images/n02167151/n02167151_4860.JPEG  \n",
            "  inflating: ./images/images/n02167151/n02167151_4878.JPEG  \n",
            "  inflating: ./images/images/n02167151/n02167151_4883.JPEG  \n",
            "  inflating: ./images/images/n02167151/n02167151_4909.JPEG  \n",
            "  inflating: ./images/images/n02167151/n02167151_4910.JPEG  \n",
            "  inflating: ./images/images/n02167151/n02167151_4915.JPEG  \n",
            "  inflating: ./images/images/n02167151/n02167151_4921.JPEG  \n",
            "  inflating: ./images/images/n02167151/n02167151_4941.JPEG  \n",
            "  inflating: ./images/images/n02167151/n02167151_4975.JPEG  \n",
            "  inflating: ./images/images/n02167151/n02167151_4979.JPEG  \n",
            "  inflating: ./images/images/n02167151/n02167151_4990.JPEG  \n",
            "  inflating: ./images/images/n02167151/n02167151_4991.JPEG  \n",
            "  inflating: ./images/images/n02167151/n02167151_4997.JPEG  \n",
            "  inflating: ./images/images/n02167151/n02167151_5000.JPEG  \n",
            "  inflating: ./images/images/n02167151/n02167151_5024.JPEG  \n",
            "  inflating: ./images/images/n02167151/n02167151_5025.JPEG  \n",
            "  inflating: ./images/images/n02167151/n02167151_504.JPEG  \n",
            "  inflating: ./images/images/n02167151/n02167151_5044.JPEG  \n",
            "  inflating: ./images/images/n02167151/n02167151_5048.JPEG  \n",
            "  inflating: ./images/images/n02167151/n02167151_5056.JPEG  \n",
            "  inflating: ./images/images/n02167151/n02167151_5081.JPEG  \n",
            "  inflating: ./images/images/n02167151/n02167151_5132.JPEG  \n",
            "  inflating: ./images/images/n02167151/n02167151_5147.JPEG  \n",
            "  inflating: ./images/images/n02167151/n02167151_5151.JPEG  \n",
            "  inflating: ./images/images/n02167151/n02167151_5152.JPEG  \n",
            "  inflating: ./images/images/n02167151/n02167151_5153.JPEG  \n",
            "  inflating: ./images/images/n02167151/n02167151_5157.JPEG  \n",
            "  inflating: ./images/images/n02167151/n02167151_5158.JPEG  \n",
            "  inflating: ./images/images/n02167151/n02167151_5167.JPEG  \n",
            "  inflating: ./images/images/n02167151/n02167151_5169.JPEG  \n",
            "  inflating: ./images/images/n02167151/n02167151_5180.JPEG  \n",
            "  inflating: ./images/images/n02167151/n02167151_5208.JPEG  \n",
            "  inflating: ./images/images/n02167151/n02167151_5210.JPEG  \n",
            "  inflating: ./images/images/n02167151/n02167151_5239.JPEG  \n",
            "  inflating: ./images/images/n02167151/n02167151_5243.JPEG  \n",
            "  inflating: ./images/images/n02167151/n02167151_5245.JPEG  \n",
            "  inflating: ./images/images/n02167151/n02167151_5247.JPEG  \n",
            "  inflating: ./images/images/n02167151/n02167151_5248.JPEG  \n",
            "  inflating: ./images/images/n02167151/n02167151_5253.JPEG  \n",
            "  inflating: ./images/images/n02167151/n02167151_5289.JPEG  \n",
            "  inflating: ./images/images/n02167151/n02167151_5294.JPEG  \n",
            "  inflating: ./images/images/n02167151/n02167151_5317.JPEG  \n",
            "  inflating: ./images/images/n02167151/n02167151_5318.JPEG  \n",
            "  inflating: ./images/images/n02167151/n02167151_5320.JPEG  \n",
            "  inflating: ./images/images/n02167151/n02167151_5347.JPEG  \n",
            "  inflating: ./images/images/n02167151/n02167151_5349.JPEG  \n",
            "  inflating: ./images/images/n02167151/n02167151_535.JPEG  \n",
            "  inflating: ./images/images/n02167151/n02167151_5365.JPEG  \n",
            "  inflating: ./images/images/n02167151/n02167151_5369.JPEG  \n",
            "  inflating: ./images/images/n02167151/n02167151_5390.JPEG  \n",
            "  inflating: ./images/images/n02167151/n02167151_5421.JPEG  \n",
            "  inflating: ./images/images/n02167151/n02167151_5427.JPEG  \n",
            "  inflating: ./images/images/n02167151/n02167151_5437.JPEG  \n",
            "  inflating: ./images/images/n02167151/n02167151_5439.JPEG  \n",
            "  inflating: ./images/images/n02167151/n02167151_5449.JPEG  \n",
            "  inflating: ./images/images/n02167151/n02167151_5459.JPEG  \n",
            "  inflating: ./images/images/n02167151/n02167151_5467.JPEG  \n",
            "  inflating: ./images/images/n02167151/n02167151_5471.JPEG  \n",
            "  inflating: ./images/images/n02167151/n02167151_5478.JPEG  \n",
            "  inflating: ./images/images/n02167151/n02167151_5490.JPEG  \n",
            "  inflating: ./images/images/n02167151/n02167151_5495.JPEG  \n",
            "  inflating: ./images/images/n02167151/n02167151_5498.JPEG  \n",
            "  inflating: ./images/images/n02167151/n02167151_5502.JPEG  \n",
            "  inflating: ./images/images/n02167151/n02167151_5503.JPEG  \n",
            "  inflating: ./images/images/n02167151/n02167151_5507.JPEG  \n",
            "  inflating: ./images/images/n02167151/n02167151_551.JPEG  \n",
            "  inflating: ./images/images/n02167151/n02167151_5527.JPEG  \n",
            "  inflating: ./images/images/n02167151/n02167151_5531.JPEG  \n",
            "  inflating: ./images/images/n02167151/n02167151_5537.JPEG  \n",
            "  inflating: ./images/images/n02167151/n02167151_5578.JPEG  \n",
            "  inflating: ./images/images/n02167151/n02167151_5584.JPEG  \n",
            "  inflating: ./images/images/n02167151/n02167151_5586.JPEG  \n",
            "  inflating: ./images/images/n02167151/n02167151_5587.JPEG  \n",
            "  inflating: ./images/images/n02167151/n02167151_5588.JPEG  \n",
            "  inflating: ./images/images/n02167151/n02167151_5591.JPEG  \n",
            "  inflating: ./images/images/n02167151/n02167151_5592.JPEG  \n",
            "  inflating: ./images/images/n02167151/n02167151_5595.JPEG  \n",
            "  inflating: ./images/images/n02167151/n02167151_5598.JPEG  \n",
            "  inflating: ./images/images/n02167151/n02167151_562.JPEG  \n",
            "  inflating: ./images/images/n02167151/n02167151_5626.JPEG  \n",
            "  inflating: ./images/images/n02167151/n02167151_5634.JPEG  \n",
            "  inflating: ./images/images/n02167151/n02167151_5635.JPEG  \n",
            "  inflating: ./images/images/n02167151/n02167151_5640.JPEG  \n",
            "  inflating: ./images/images/n02167151/n02167151_5641.JPEG  \n",
            "  inflating: ./images/images/n02167151/n02167151_5656.JPEG  \n",
            "  inflating: ./images/images/n02167151/n02167151_5665.JPEG  \n",
            "  inflating: ./images/images/n02167151/n02167151_5666.JPEG  \n",
            "  inflating: ./images/images/n02167151/n02167151_5672.JPEG  \n",
            "  inflating: ./images/images/n02167151/n02167151_568.JPEG  \n",
            "  inflating: ./images/images/n02167151/n02167151_5704.JPEG  \n",
            "  inflating: ./images/images/n02167151/n02167151_5705.JPEG  \n",
            "  inflating: ./images/images/n02167151/n02167151_5708.JPEG  \n",
            "  inflating: ./images/images/n02167151/n02167151_5720.JPEG  \n",
            "  inflating: ./images/images/n02167151/n02167151_5721.JPEG  \n",
            "  inflating: ./images/images/n02167151/n02167151_5723.JPEG  \n",
            "  inflating: ./images/images/n02167151/n02167151_5724.JPEG  \n",
            "  inflating: ./images/images/n02167151/n02167151_5727.JPEG  \n",
            "  inflating: ./images/images/n02167151/n02167151_5735.JPEG  \n",
            "  inflating: ./images/images/n02167151/n02167151_5749.JPEG  \n",
            "  inflating: ./images/images/n02167151/n02167151_5750.JPEG  \n",
            "  inflating: ./images/images/n02167151/n02167151_5754.JPEG  \n",
            "  inflating: ./images/images/n02167151/n02167151_5756.JPEG  \n",
            "  inflating: ./images/images/n02167151/n02167151_5773.JPEG  \n",
            "  inflating: ./images/images/n02167151/n02167151_5783.JPEG  \n",
            "  inflating: ./images/images/n02167151/n02167151_5799.JPEG  \n",
            "  inflating: ./images/images/n02167151/n02167151_5809.JPEG  \n",
            "  inflating: ./images/images/n02167151/n02167151_5831.JPEG  \n",
            "  inflating: ./images/images/n02167151/n02167151_5835.JPEG  \n",
            "  inflating: ./images/images/n02167151/n02167151_5848.JPEG  \n",
            "  inflating: ./images/images/n02167151/n02167151_5857.JPEG  \n",
            "  inflating: ./images/images/n02167151/n02167151_5859.JPEG  \n",
            "  inflating: ./images/images/n02167151/n02167151_586.JPEG  \n",
            "  inflating: ./images/images/n02167151/n02167151_5862.JPEG  \n",
            "  inflating: ./images/images/n02167151/n02167151_5868.JPEG  \n",
            "  inflating: ./images/images/n02167151/n02167151_5876.JPEG  \n",
            "  inflating: ./images/images/n02167151/n02167151_5880.JPEG  \n",
            "  inflating: ./images/images/n02167151/n02167151_5881.JPEG  \n",
            "  inflating: ./images/images/n02167151/n02167151_5889.JPEG  \n",
            "  inflating: ./images/images/n02167151/n02167151_589.JPEG  \n",
            "  inflating: ./images/images/n02167151/n02167151_5891.JPEG  \n",
            "  inflating: ./images/images/n02167151/n02167151_5907.JPEG  \n",
            "  inflating: ./images/images/n02167151/n02167151_5938.JPEG  \n",
            "  inflating: ./images/images/n02167151/n02167151_5941.JPEG  \n",
            "  inflating: ./images/images/n02167151/n02167151_5945.JPEG  \n",
            "  inflating: ./images/images/n02167151/n02167151_5948.JPEG  \n",
            "  inflating: ./images/images/n02167151/n02167151_5953.JPEG  \n",
            "  inflating: ./images/images/n02167151/n02167151_5967.JPEG  \n",
            "  inflating: ./images/images/n02167151/n02167151_597.JPEG  \n",
            "  inflating: ./images/images/n02167151/n02167151_5977.JPEG  \n",
            "  inflating: ./images/images/n02167151/n02167151_5981.JPEG  \n",
            "  inflating: ./images/images/n02167151/n02167151_5985.JPEG  \n",
            "  inflating: ./images/images/n02167151/n02167151_5988.JPEG  \n",
            "  inflating: ./images/images/n02167151/n02167151_5989.JPEG  \n",
            "  inflating: ./images/images/n02167151/n02167151_5994.JPEG  \n",
            "  inflating: ./images/images/n02167151/n02167151_6006.JPEG  \n",
            "  inflating: ./images/images/n02167151/n02167151_6014.JPEG  \n",
            "  inflating: ./images/images/n02167151/n02167151_6015.JPEG  \n",
            "  inflating: ./images/images/n02167151/n02167151_6025.JPEG  \n",
            "  inflating: ./images/images/n02167151/n02167151_604.JPEG  \n",
            "  inflating: ./images/images/n02167151/n02167151_6043.JPEG  \n",
            "  inflating: ./images/images/n02167151/n02167151_605.JPEG  \n",
            "  inflating: ./images/images/n02167151/n02167151_6051.JPEG  \n",
            "  inflating: ./images/images/n02167151/n02167151_6052.JPEG  \n",
            "  inflating: ./images/images/n02167151/n02167151_6053.JPEG  \n",
            "  inflating: ./images/images/n02167151/n02167151_6054.JPEG  \n",
            "  inflating: ./images/images/n02167151/n02167151_6066.JPEG  \n",
            "  inflating: ./images/images/n02167151/n02167151_6071.JPEG  \n",
            "  inflating: ./images/images/n02167151/n02167151_6079.JPEG  \n",
            "  inflating: ./images/images/n02167151/n02167151_6086.JPEG  \n",
            "  inflating: ./images/images/n02167151/n02167151_6089.JPEG  \n",
            "  inflating: ./images/images/n02167151/n02167151_6095.JPEG  \n",
            "  inflating: ./images/images/n02167151/n02167151_61.JPEG  \n",
            "  inflating: ./images/images/n02167151/n02167151_6102.JPEG  \n",
            "  inflating: ./images/images/n02167151/n02167151_6103.JPEG  \n",
            "  inflating: ./images/images/n02167151/n02167151_6104.JPEG  \n",
            "  inflating: ./images/images/n02167151/n02167151_6112.JPEG  \n",
            "  inflating: ./images/images/n02167151/n02167151_6113.JPEG  \n",
            "  inflating: ./images/images/n02167151/n02167151_6117.JPEG  \n",
            "  inflating: ./images/images/n02167151/n02167151_6119.JPEG  \n",
            "  inflating: ./images/images/n02167151/n02167151_6124.JPEG  \n",
            "  inflating: ./images/images/n02167151/n02167151_6128.JPEG  \n",
            "  inflating: ./images/images/n02167151/n02167151_6129.JPEG  \n",
            "  inflating: ./images/images/n02167151/n02167151_6132.JPEG  \n",
            "  inflating: ./images/images/n02167151/n02167151_6137.JPEG  \n",
            "  inflating: ./images/images/n02167151/n02167151_6145.JPEG  \n",
            "  inflating: ./images/images/n02167151/n02167151_6156.JPEG  \n",
            "  inflating: ./images/images/n02167151/n02167151_6158.JPEG  \n",
            "  inflating: ./images/images/n02167151/n02167151_6161.JPEG  \n",
            "  inflating: ./images/images/n02167151/n02167151_6166.JPEG  \n",
            "  inflating: ./images/images/n02167151/n02167151_617.JPEG  \n",
            "  inflating: ./images/images/n02167151/n02167151_6184.JPEG  \n",
            "  inflating: ./images/images/n02167151/n02167151_6199.JPEG  \n",
            "  inflating: ./images/images/n02167151/n02167151_6209.JPEG  \n",
            "  inflating: ./images/images/n02167151/n02167151_6213.JPEG  \n",
            "  inflating: ./images/images/n02167151/n02167151_6220.JPEG  \n",
            "  inflating: ./images/images/n02167151/n02167151_6225.JPEG  \n",
            "  inflating: ./images/images/n02167151/n02167151_6228.JPEG  \n",
            "  inflating: ./images/images/n02167151/n02167151_6241.JPEG  \n",
            "  inflating: ./images/images/n02167151/n02167151_625.JPEG  \n",
            "  inflating: ./images/images/n02167151/n02167151_6258.JPEG  \n",
            "  inflating: ./images/images/n02167151/n02167151_6272.JPEG  \n",
            "  inflating: ./images/images/n02167151/n02167151_6318.JPEG  \n",
            "  inflating: ./images/images/n02167151/n02167151_6319.JPEG  \n",
            "  inflating: ./images/images/n02167151/n02167151_6321.JPEG  \n",
            "  inflating: ./images/images/n02167151/n02167151_6322.JPEG  \n",
            "  inflating: ./images/images/n02167151/n02167151_6323.JPEG  \n",
            "  inflating: ./images/images/n02167151/n02167151_6329.JPEG  \n",
            "  inflating: ./images/images/n02167151/n02167151_6345.JPEG  \n",
            "  inflating: ./images/images/n02167151/n02167151_6354.JPEG  \n",
            "  inflating: ./images/images/n02167151/n02167151_6359.JPEG  \n",
            "  inflating: ./images/images/n02167151/n02167151_636.JPEG  \n",
            "  inflating: ./images/images/n02167151/n02167151_637.JPEG  \n",
            "  inflating: ./images/images/n02167151/n02167151_6376.JPEG  \n",
            "  inflating: ./images/images/n02167151/n02167151_6383.JPEG  \n",
            "  inflating: ./images/images/n02167151/n02167151_6391.JPEG  \n",
            "  inflating: ./images/images/n02167151/n02167151_6415.JPEG  \n",
            "  inflating: ./images/images/n02167151/n02167151_6438.JPEG  \n",
            "  inflating: ./images/images/n02167151/n02167151_6443.JPEG  \n",
            "  inflating: ./images/images/n02167151/n02167151_6459.JPEG  \n",
            "  inflating: ./images/images/n02167151/n02167151_6467.JPEG  \n",
            "  inflating: ./images/images/n02167151/n02167151_6500.JPEG  \n",
            "  inflating: ./images/images/n02167151/n02167151_6515.JPEG  \n",
            "  inflating: ./images/images/n02167151/n02167151_6524.JPEG  \n",
            "  inflating: ./images/images/n02167151/n02167151_6546.JPEG  \n",
            "  inflating: ./images/images/n02167151/n02167151_6548.JPEG  \n",
            "  inflating: ./images/images/n02167151/n02167151_6566.JPEG  \n",
            "  inflating: ./images/images/n02167151/n02167151_6568.JPEG  \n",
            "  inflating: ./images/images/n02167151/n02167151_658.JPEG  \n",
            "  inflating: ./images/images/n02167151/n02167151_6580.JPEG  \n",
            "  inflating: ./images/images/n02167151/n02167151_6585.JPEG  \n",
            "  inflating: ./images/images/n02167151/n02167151_6602.JPEG  \n",
            "  inflating: ./images/images/n02167151/n02167151_6614.JPEG  \n",
            "  inflating: ./images/images/n02167151/n02167151_6654.JPEG  \n",
            "  inflating: ./images/images/n02167151/n02167151_6660.JPEG  \n",
            "  inflating: ./images/images/n02167151/n02167151_6668.JPEG  \n",
            "  inflating: ./images/images/n02167151/n02167151_669.JPEG  \n",
            "  inflating: ./images/images/n02167151/n02167151_6690.JPEG  \n",
            "  inflating: ./images/images/n02167151/n02167151_6699.JPEG  \n",
            "  inflating: ./images/images/n02167151/n02167151_6723.JPEG  \n",
            "  inflating: ./images/images/n02167151/n02167151_6724.JPEG  \n",
            "  inflating: ./images/images/n02167151/n02167151_673.JPEG  \n",
            "  inflating: ./images/images/n02167151/n02167151_6734.JPEG  \n",
            "  inflating: ./images/images/n02167151/n02167151_6735.JPEG  \n",
            "  inflating: ./images/images/n02167151/n02167151_6741.JPEG  \n",
            "  inflating: ./images/images/n02167151/n02167151_6745.JPEG  \n",
            "  inflating: ./images/images/n02167151/n02167151_6758.JPEG  \n",
            "  inflating: ./images/images/n02167151/n02167151_6800.JPEG  \n",
            "  inflating: ./images/images/n02167151/n02167151_6805.JPEG  \n",
            "  inflating: ./images/images/n02167151/n02167151_6808.JPEG  \n",
            "  inflating: ./images/images/n02167151/n02167151_6828.JPEG  \n",
            "  inflating: ./images/images/n02167151/n02167151_6840.JPEG  \n",
            "  inflating: ./images/images/n02167151/n02167151_6852.JPEG  \n",
            "  inflating: ./images/images/n02167151/n02167151_6859.JPEG  \n",
            "  inflating: ./images/images/n02167151/n02167151_6860.JPEG  \n",
            "  inflating: ./images/images/n02167151/n02167151_6863.JPEG  \n",
            "  inflating: ./images/images/n02167151/n02167151_6875.JPEG  \n",
            "  inflating: ./images/images/n02167151/n02167151_6885.JPEG  \n",
            "  inflating: ./images/images/n02167151/n02167151_6893.JPEG  \n",
            "  inflating: ./images/images/n02167151/n02167151_6907.JPEG  \n",
            "  inflating: ./images/images/n02167151/n02167151_6910.JPEG  \n",
            "  inflating: ./images/images/n02167151/n02167151_6912.JPEG  \n",
            "  inflating: ./images/images/n02167151/n02167151_6916.JPEG  \n",
            "  inflating: ./images/images/n02167151/n02167151_6918.JPEG  \n",
            "  inflating: ./images/images/n02167151/n02167151_693.JPEG  \n",
            "  inflating: ./images/images/n02167151/n02167151_6936.JPEG  \n",
            "  inflating: ./images/images/n02167151/n02167151_6940.JPEG  \n",
            "  inflating: ./images/images/n02167151/n02167151_6942.JPEG  \n",
            "  inflating: ./images/images/n02167151/n02167151_6947.JPEG  \n",
            "  inflating: ./images/images/n02167151/n02167151_695.JPEG  \n",
            "  inflating: ./images/images/n02167151/n02167151_6958.JPEG  \n",
            "  inflating: ./images/images/n02167151/n02167151_6984.JPEG  \n",
            "  inflating: ./images/images/n02167151/n02167151_6986.JPEG  \n",
            "  inflating: ./images/images/n02167151/n02167151_6989.JPEG  \n",
            "  inflating: ./images/images/n02167151/n02167151_699.JPEG  \n",
            "  inflating: ./images/images/n02167151/n02167151_6995.JPEG  \n",
            "  inflating: ./images/images/n02167151/n02167151_7000.JPEG  \n",
            "  inflating: ./images/images/n02167151/n02167151_7001.JPEG  \n",
            "  inflating: ./images/images/n02167151/n02167151_7029.JPEG  \n",
            "  inflating: ./images/images/n02167151/n02167151_7047.JPEG  \n",
            "  inflating: ./images/images/n02167151/n02167151_7050.JPEG  \n",
            "  inflating: ./images/images/n02167151/n02167151_7060.JPEG  \n",
            "  inflating: ./images/images/n02167151/n02167151_7088.JPEG  \n",
            "  inflating: ./images/images/n02167151/n02167151_7106.JPEG  \n",
            "  inflating: ./images/images/n02167151/n02167151_7109.JPEG  \n",
            "  inflating: ./images/images/n02167151/n02167151_7117.JPEG  \n",
            "  inflating: ./images/images/n02167151/n02167151_712.JPEG  \n",
            "  inflating: ./images/images/n02167151/n02167151_7125.JPEG  \n",
            "  inflating: ./images/images/n02167151/n02167151_7126.JPEG  \n",
            "  inflating: ./images/images/n02167151/n02167151_7128.JPEG  \n",
            "  inflating: ./images/images/n02167151/n02167151_7152.JPEG  \n",
            "  inflating: ./images/images/n02167151/n02167151_7153.JPEG  \n",
            "  inflating: ./images/images/n02167151/n02167151_7155.JPEG  \n",
            "  inflating: ./images/images/n02167151/n02167151_7157.JPEG  \n",
            "  inflating: ./images/images/n02167151/n02167151_7173.JPEG  \n",
            "  inflating: ./images/images/n02167151/n02167151_7180.JPEG  \n",
            "  inflating: ./images/images/n02167151/n02167151_7203.JPEG  \n",
            "  inflating: ./images/images/n02167151/n02167151_7214.JPEG  \n",
            "  inflating: ./images/images/n02167151/n02167151_7227.JPEG  \n",
            "  inflating: ./images/images/n02167151/n02167151_7228.JPEG  \n",
            "  inflating: ./images/images/n02167151/n02167151_7229.JPEG  \n",
            "  inflating: ./images/images/n02167151/n02167151_7232.JPEG  \n",
            "  inflating: ./images/images/n02167151/n02167151_7239.JPEG  \n",
            "  inflating: ./images/images/n02167151/n02167151_7249.JPEG  \n",
            "  inflating: ./images/images/n02167151/n02167151_725.JPEG  \n",
            "  inflating: ./images/images/n02167151/n02167151_7255.JPEG  \n",
            "  inflating: ./images/images/n02167151/n02167151_7256.JPEG  \n",
            "  inflating: ./images/images/n02167151/n02167151_7259.JPEG  \n",
            "  inflating: ./images/images/n02167151/n02167151_7263.JPEG  \n",
            "  inflating: ./images/images/n02167151/n02167151_7273.JPEG  \n",
            "  inflating: ./images/images/n02167151/n02167151_7290.JPEG  \n",
            "  inflating: ./images/images/n02167151/n02167151_7297.JPEG  \n",
            "  inflating: ./images/images/n02167151/n02167151_731.JPEG  \n",
            "  inflating: ./images/images/n02167151/n02167151_7315.JPEG  \n",
            "  inflating: ./images/images/n02167151/n02167151_7317.JPEG  \n",
            "  inflating: ./images/images/n02167151/n02167151_7318.JPEG  \n",
            "  inflating: ./images/images/n02167151/n02167151_7332.JPEG  \n",
            "  inflating: ./images/images/n02167151/n02167151_7339.JPEG  \n",
            "  inflating: ./images/images/n02167151/n02167151_7353.JPEG  \n",
            "  inflating: ./images/images/n02167151/n02167151_7375.JPEG  \n",
            "  inflating: ./images/images/n02167151/n02167151_7377.JPEG  \n",
            "  inflating: ./images/images/n02167151/n02167151_7379.JPEG  \n",
            "  inflating: ./images/images/n02167151/n02167151_7385.JPEG  \n",
            "  inflating: ./images/images/n02167151/n02167151_7394.JPEG  \n",
            "  inflating: ./images/images/n02167151/n02167151_7401.JPEG  \n",
            "  inflating: ./images/images/n02167151/n02167151_7408.JPEG  \n",
            "  inflating: ./images/images/n02167151/n02167151_7415.JPEG  \n",
            "  inflating: ./images/images/n02167151/n02167151_7422.JPEG  \n",
            "  inflating: ./images/images/n02167151/n02167151_7427.JPEG  \n",
            "  inflating: ./images/images/n02167151/n02167151_7429.JPEG  \n",
            "  inflating: ./images/images/n02167151/n02167151_7432.JPEG  \n",
            "  inflating: ./images/images/n02167151/n02167151_7453.JPEG  \n",
            "  inflating: ./images/images/n02167151/n02167151_7455.JPEG  \n",
            "  inflating: ./images/images/n02167151/n02167151_7472.JPEG  \n",
            "  inflating: ./images/images/n02167151/n02167151_7485.JPEG  \n",
            "  inflating: ./images/images/n02167151/n02167151_7519.JPEG  \n",
            "  inflating: ./images/images/n02167151/n02167151_7526.JPEG  \n",
            "  inflating: ./images/images/n02167151/n02167151_7531.JPEG  \n",
            "  inflating: ./images/images/n02167151/n02167151_7534.JPEG  \n",
            "  inflating: ./images/images/n02167151/n02167151_754.JPEG  \n",
            "  inflating: ./images/images/n02167151/n02167151_7548.JPEG  \n",
            "  inflating: ./images/images/n02167151/n02167151_755.JPEG  \n",
            "  inflating: ./images/images/n02167151/n02167151_7555.JPEG  \n",
            "  inflating: ./images/images/n02167151/n02167151_7559.JPEG  \n",
            "  inflating: ./images/images/n02167151/n02167151_7566.JPEG  \n",
            "  inflating: ./images/images/n02167151/n02167151_757.JPEG  \n",
            "  inflating: ./images/images/n02167151/n02167151_7571.JPEG  \n",
            "  inflating: ./images/images/n02167151/n02167151_7578.JPEG  \n",
            "  inflating: ./images/images/n02167151/n02167151_7599.JPEG  \n",
            "  inflating: ./images/images/n02167151/n02167151_7606.JPEG  \n",
            "  inflating: ./images/images/n02167151/n02167151_7613.JPEG  \n",
            "  inflating: ./images/images/n02167151/n02167151_7624.JPEG  \n",
            "  inflating: ./images/images/n02167151/n02167151_763.JPEG  \n",
            "  inflating: ./images/images/n02167151/n02167151_7631.JPEG  \n",
            "  inflating: ./images/images/n02167151/n02167151_7633.JPEG  \n",
            "  inflating: ./images/images/n02167151/n02167151_7650.JPEG  \n",
            "  inflating: ./images/images/n02167151/n02167151_7651.JPEG  \n",
            "  inflating: ./images/images/n02167151/n02167151_7652.JPEG  \n",
            "  inflating: ./images/images/n02167151/n02167151_7658.JPEG  \n",
            "  inflating: ./images/images/n02167151/n02167151_7667.JPEG  \n",
            "  inflating: ./images/images/n02167151/n02167151_7680.JPEG  \n",
            "  inflating: ./images/images/n02167151/n02167151_7681.JPEG  \n",
            "  inflating: ./images/images/n02167151/n02167151_7683.JPEG  \n",
            "  inflating: ./images/images/n02167151/n02167151_7705.JPEG  \n",
            "  inflating: ./images/images/n02167151/n02167151_771.JPEG  \n",
            "  inflating: ./images/images/n02167151/n02167151_7722.JPEG  \n",
            "  inflating: ./images/images/n02167151/n02167151_773.JPEG  \n",
            "  inflating: ./images/images/n02167151/n02167151_775.JPEG  \n",
            "  inflating: ./images/images/n02167151/n02167151_7763.JPEG  \n",
            "  inflating: ./images/images/n02167151/n02167151_7773.JPEG  \n",
            "  inflating: ./images/images/n02167151/n02167151_7778.JPEG  \n",
            "  inflating: ./images/images/n02167151/n02167151_779.JPEG  \n",
            "  inflating: ./images/images/n02167151/n02167151_7800.JPEG  \n",
            "  inflating: ./images/images/n02167151/n02167151_7827.JPEG  \n",
            "  inflating: ./images/images/n02167151/n02167151_7876.JPEG  \n",
            "  inflating: ./images/images/n02167151/n02167151_7882.JPEG  \n",
            "  inflating: ./images/images/n02167151/n02167151_7903.JPEG  \n",
            "  inflating: ./images/images/n02167151/n02167151_7905.JPEG  \n",
            "  inflating: ./images/images/n02167151/n02167151_7924.JPEG  \n",
            "  inflating: ./images/images/n02167151/n02167151_7948.JPEG  \n",
            "  inflating: ./images/images/n02167151/n02167151_7949.JPEG  \n",
            "  inflating: ./images/images/n02167151/n02167151_7956.JPEG  \n",
            "  inflating: ./images/images/n02167151/n02167151_7963.JPEG  \n",
            "  inflating: ./images/images/n02167151/n02167151_7964.JPEG  \n",
            "  inflating: ./images/images/n02167151/n02167151_7967.JPEG  \n",
            "  inflating: ./images/images/n02167151/n02167151_7975.JPEG  \n",
            "  inflating: ./images/images/n02167151/n02167151_7976.JPEG  \n",
            "  inflating: ./images/images/n02167151/n02167151_7978.JPEG  \n",
            "  inflating: ./images/images/n02167151/n02167151_7979.JPEG  \n",
            "  inflating: ./images/images/n02167151/n02167151_7980.JPEG  \n",
            "  inflating: ./images/images/n02167151/n02167151_7981.JPEG  \n",
            "  inflating: ./images/images/n02167151/n02167151_7985.JPEG  \n",
            "  inflating: ./images/images/n02167151/n02167151_7999.JPEG  \n",
            "  inflating: ./images/images/n02167151/n02167151_8023.JPEG  \n",
            "  inflating: ./images/images/n02167151/n02167151_8034.JPEG  \n",
            "  inflating: ./images/images/n02167151/n02167151_8036.JPEG  \n",
            "  inflating: ./images/images/n02167151/n02167151_8047.JPEG  \n",
            "  inflating: ./images/images/n02167151/n02167151_8068.JPEG  \n",
            "  inflating: ./images/images/n02167151/n02167151_8073.JPEG  \n",
            "  inflating: ./images/images/n02167151/n02167151_8082.JPEG  \n",
            "  inflating: ./images/images/n02167151/n02167151_8088.JPEG  \n",
            "  inflating: ./images/images/n02167151/n02167151_8091.JPEG  \n",
            "  inflating: ./images/images/n02167151/n02167151_8121.JPEG  \n",
            "  inflating: ./images/images/n02167151/n02167151_8133.JPEG  \n",
            "  inflating: ./images/images/n02167151/n02167151_8146.JPEG  \n",
            "  inflating: ./images/images/n02167151/n02167151_8166.JPEG  \n",
            "  inflating: ./images/images/n02167151/n02167151_8171.JPEG  \n",
            "  inflating: ./images/images/n02167151/n02167151_8174.JPEG  \n",
            "  inflating: ./images/images/n02167151/n02167151_8176.JPEG  \n",
            "  inflating: ./images/images/n02167151/n02167151_8178.JPEG  \n",
            "  inflating: ./images/images/n02167151/n02167151_8182.JPEG  \n",
            "  inflating: ./images/images/n02167151/n02167151_8191.JPEG  \n",
            "  inflating: ./images/images/n02167151/n02167151_8197.JPEG  \n",
            "  inflating: ./images/images/n02167151/n02167151_8204.JPEG  \n",
            "  inflating: ./images/images/n02167151/n02167151_8222.JPEG  \n",
            "  inflating: ./images/images/n02167151/n02167151_8236.JPEG  \n",
            "  inflating: ./images/images/n02167151/n02167151_8238.JPEG  \n",
            "  inflating: ./images/images/n02167151/n02167151_8246.JPEG  \n",
            "  inflating: ./images/images/n02167151/n02167151_825.JPEG  \n",
            "  inflating: ./images/images/n02167151/n02167151_8253.JPEG  \n",
            "  inflating: ./images/images/n02167151/n02167151_8285.JPEG  \n",
            "  inflating: ./images/images/n02167151/n02167151_8287.JPEG  \n",
            "  inflating: ./images/images/n02167151/n02167151_8300.JPEG  \n",
            "  inflating: ./images/images/n02167151/n02167151_8303.JPEG  \n",
            "  inflating: ./images/images/n02167151/n02167151_8335.JPEG  \n",
            "  inflating: ./images/images/n02167151/n02167151_834.JPEG  \n",
            "  inflating: ./images/images/n02167151/n02167151_8342.JPEG  \n",
            "  inflating: ./images/images/n02167151/n02167151_836.JPEG  \n",
            "  inflating: ./images/images/n02167151/n02167151_8364.JPEG  \n",
            "  inflating: ./images/images/n02167151/n02167151_8392.JPEG  \n",
            "  inflating: ./images/images/n02167151/n02167151_8397.JPEG  \n",
            "  inflating: ./images/images/n02167151/n02167151_84.JPEG  \n",
            "  inflating: ./images/images/n02167151/n02167151_8401.JPEG  \n",
            "  inflating: ./images/images/n02167151/n02167151_8406.JPEG  \n",
            "  inflating: ./images/images/n02167151/n02167151_8423.JPEG  \n",
            "  inflating: ./images/images/n02167151/n02167151_8429.JPEG  \n",
            "  inflating: ./images/images/n02167151/n02167151_8432.JPEG  \n",
            "  inflating: ./images/images/n02167151/n02167151_8447.JPEG  \n",
            "  inflating: ./images/images/n02167151/n02167151_845.JPEG  \n",
            "  inflating: ./images/images/n02167151/n02167151_8459.JPEG  \n",
            "  inflating: ./images/images/n02167151/n02167151_8460.JPEG  \n",
            "  inflating: ./images/images/n02167151/n02167151_8462.JPEG  \n",
            "  inflating: ./images/images/n02167151/n02167151_8474.JPEG  \n",
            "  inflating: ./images/images/n02167151/n02167151_8480.JPEG  \n",
            "  inflating: ./images/images/n02167151/n02167151_849.JPEG  \n",
            "  inflating: ./images/images/n02167151/n02167151_8494.JPEG  \n",
            "  inflating: ./images/images/n02167151/n02167151_850.JPEG  \n",
            "  inflating: ./images/images/n02167151/n02167151_8507.JPEG  \n",
            "  inflating: ./images/images/n02167151/n02167151_8508.JPEG  \n",
            "  inflating: ./images/images/n02167151/n02167151_8519.JPEG  \n",
            "  inflating: ./images/images/n02167151/n02167151_8521.JPEG  \n",
            "  inflating: ./images/images/n02167151/n02167151_8522.JPEG  \n",
            "  inflating: ./images/images/n02167151/n02167151_8536.JPEG  \n",
            "  inflating: ./images/images/n02167151/n02167151_8551.JPEG  \n",
            "  inflating: ./images/images/n02167151/n02167151_8556.JPEG  \n",
            "  inflating: ./images/images/n02167151/n02167151_8565.JPEG  \n",
            "  inflating: ./images/images/n02167151/n02167151_857.JPEG  \n",
            "  inflating: ./images/images/n02167151/n02167151_8572.JPEG  \n",
            "  inflating: ./images/images/n02167151/n02167151_8584.JPEG  \n",
            "  inflating: ./images/images/n02167151/n02167151_8588.JPEG  \n",
            "  inflating: ./images/images/n02167151/n02167151_8603.JPEG  \n",
            "  inflating: ./images/images/n02167151/n02167151_8634.JPEG  \n",
            "  inflating: ./images/images/n02167151/n02167151_8635.JPEG  \n",
            "  inflating: ./images/images/n02167151/n02167151_8643.JPEG  \n",
            "  inflating: ./images/images/n02167151/n02167151_8645.JPEG  \n",
            "  inflating: ./images/images/n02167151/n02167151_8651.JPEG  \n",
            "  inflating: ./images/images/n02167151/n02167151_8659.JPEG  \n",
            "  inflating: ./images/images/n02167151/n02167151_8667.JPEG  \n",
            "  inflating: ./images/images/n02167151/n02167151_8670.JPEG  \n",
            "  inflating: ./images/images/n02167151/n02167151_8673.JPEG  \n",
            "  inflating: ./images/images/n02167151/n02167151_8682.JPEG  \n",
            "  inflating: ./images/images/n02167151/n02167151_8684.JPEG  \n",
            "  inflating: ./images/images/n02167151/n02167151_87.JPEG  \n",
            "  inflating: ./images/images/n02167151/n02167151_870.JPEG  \n",
            "  inflating: ./images/images/n02167151/n02167151_8700.JPEG  \n",
            "  inflating: ./images/images/n02167151/n02167151_8701.JPEG  \n",
            "  inflating: ./images/images/n02167151/n02167151_8718.JPEG  \n",
            "  inflating: ./images/images/n02167151/n02167151_8727.JPEG  \n",
            "  inflating: ./images/images/n02167151/n02167151_8732.JPEG  \n",
            "  inflating: ./images/images/n02167151/n02167151_8734.JPEG  \n",
            "  inflating: ./images/images/n02167151/n02167151_8742.JPEG  \n",
            "  inflating: ./images/images/n02167151/n02167151_8759.JPEG  \n",
            "  inflating: ./images/images/n02167151/n02167151_8761.JPEG  \n",
            "  inflating: ./images/images/n02167151/n02167151_8763.JPEG  \n",
            "  inflating: ./images/images/n02167151/n02167151_8771.JPEG  \n",
            "  inflating: ./images/images/n02167151/n02167151_878.JPEG  \n",
            "  inflating: ./images/images/n02167151/n02167151_8796.JPEG  \n",
            "  inflating: ./images/images/n02167151/n02167151_8815.JPEG  \n",
            "  inflating: ./images/images/n02167151/n02167151_8823.JPEG  \n",
            "  inflating: ./images/images/n02167151/n02167151_8825.JPEG  \n",
            "  inflating: ./images/images/n02167151/n02167151_883.JPEG  \n",
            "  inflating: ./images/images/n02167151/n02167151_8830.JPEG  \n",
            "  inflating: ./images/images/n02167151/n02167151_8835.JPEG  \n",
            "  inflating: ./images/images/n02167151/n02167151_8838.JPEG  \n",
            "  inflating: ./images/images/n02167151/n02167151_8853.JPEG  \n",
            "  inflating: ./images/images/n02167151/n02167151_8864.JPEG  \n",
            "  inflating: ./images/images/n02167151/n02167151_8865.JPEG  \n",
            "  inflating: ./images/images/n02167151/n02167151_8866.JPEG  \n",
            "  inflating: ./images/images/n02167151/n02167151_8869.JPEG  \n",
            "  inflating: ./images/images/n02167151/n02167151_8877.JPEG  \n",
            "  inflating: ./images/images/n02167151/n02167151_8902.JPEG  \n",
            "  inflating: ./images/images/n02167151/n02167151_8914.JPEG  \n",
            "  inflating: ./images/images/n02167151/n02167151_8922.JPEG  \n",
            "  inflating: ./images/images/n02167151/n02167151_8939.JPEG  \n",
            "  inflating: ./images/images/n02167151/n02167151_8951.JPEG  \n",
            "  inflating: ./images/images/n02167151/n02167151_8966.JPEG  \n",
            "  inflating: ./images/images/n02167151/n02167151_8972.JPEG  \n",
            "  inflating: ./images/images/n02167151/n02167151_8973.JPEG  \n",
            "  inflating: ./images/images/n02167151/n02167151_8974.JPEG  \n",
            "  inflating: ./images/images/n02167151/n02167151_8997.JPEG  \n",
            "  inflating: ./images/images/n02167151/n02167151_900.JPEG  \n",
            "  inflating: ./images/images/n02167151/n02167151_9002.JPEG  \n",
            "  inflating: ./images/images/n02167151/n02167151_9011.JPEG  \n",
            "  inflating: ./images/images/n02167151/n02167151_9043.JPEG  \n",
            "  inflating: ./images/images/n02167151/n02167151_9045.JPEG  \n",
            "  inflating: ./images/images/n02167151/n02167151_9051.JPEG  \n",
            "  inflating: ./images/images/n02167151/n02167151_9063.JPEG  \n",
            "  inflating: ./images/images/n02167151/n02167151_9078.JPEG  \n",
            "  inflating: ./images/images/n02167151/n02167151_9079.JPEG  \n",
            "  inflating: ./images/images/n02167151/n02167151_9083.JPEG  \n",
            "  inflating: ./images/images/n02167151/n02167151_9085.JPEG  \n",
            "  inflating: ./images/images/n02167151/n02167151_9100.JPEG  \n",
            "  inflating: ./images/images/n02167151/n02167151_9104.JPEG  \n",
            "  inflating: ./images/images/n02167151/n02167151_9107.JPEG  \n",
            "  inflating: ./images/images/n02167151/n02167151_9119.JPEG  \n",
            "  inflating: ./images/images/n02167151/n02167151_9137.JPEG  \n",
            "  inflating: ./images/images/n02167151/n02167151_9139.JPEG  \n",
            "  inflating: ./images/images/n02167151/n02167151_915.JPEG  \n",
            "  inflating: ./images/images/n02167151/n02167151_9193.JPEG  \n",
            "  inflating: ./images/images/n02167151/n02167151_9194.JPEG  \n",
            "  inflating: ./images/images/n02167151/n02167151_9195.JPEG  \n",
            "  inflating: ./images/images/n02167151/n02167151_9199.JPEG  \n",
            "  inflating: ./images/images/n02167151/n02167151_9212.JPEG  \n",
            "  inflating: ./images/images/n02167151/n02167151_9217.JPEG  \n",
            "  inflating: ./images/images/n02167151/n02167151_9223.JPEG  \n",
            "  inflating: ./images/images/n02167151/n02167151_9226.JPEG  \n",
            "  inflating: ./images/images/n02167151/n02167151_923.JPEG  \n",
            "  inflating: ./images/images/n02167151/n02167151_9238.JPEG  \n",
            "  inflating: ./images/images/n02167151/n02167151_9263.JPEG  \n",
            "  inflating: ./images/images/n02167151/n02167151_9277.JPEG  \n",
            "  inflating: ./images/images/n02167151/n02167151_9280.JPEG  \n",
            "  inflating: ./images/images/n02167151/n02167151_9288.JPEG  \n",
            "  inflating: ./images/images/n02167151/n02167151_9294.JPEG  \n",
            "  inflating: ./images/images/n02167151/n02167151_9304.JPEG  \n",
            "  inflating: ./images/images/n02167151/n02167151_9312.JPEG  \n",
            "  inflating: ./images/images/n02167151/n02167151_9321.JPEG  \n",
            "  inflating: ./images/images/n02167151/n02167151_9339.JPEG  \n",
            "  inflating: ./images/images/n02167151/n02167151_9342.JPEG  \n",
            "  inflating: ./images/images/n02167151/n02167151_9345.JPEG  \n",
            "  inflating: ./images/images/n02167151/n02167151_9356.JPEG  \n",
            "  inflating: ./images/images/n02167151/n02167151_9357.JPEG  \n",
            "  inflating: ./images/images/n02167151/n02167151_9368.JPEG  \n",
            "  inflating: ./images/images/n02167151/n02167151_9381.JPEG  \n",
            "  inflating: ./images/images/n02167151/n02167151_9393.JPEG  \n",
            "  inflating: ./images/images/n02167151/n02167151_9394.JPEG  \n",
            "  inflating: ./images/images/n02167151/n02167151_9408.JPEG  \n",
            "  inflating: ./images/images/n02167151/n02167151_9421.JPEG  \n",
            "  inflating: ./images/images/n02167151/n02167151_9427.JPEG  \n",
            "  inflating: ./images/images/n02167151/n02167151_9430.JPEG  \n",
            "  inflating: ./images/images/n02167151/n02167151_9437.JPEG  \n",
            "  inflating: ./images/images/n02167151/n02167151_9446.JPEG  \n",
            "  inflating: ./images/images/n02167151/n02167151_9454.JPEG  \n",
            "  inflating: ./images/images/n02167151/n02167151_9460.JPEG  \n",
            "  inflating: ./images/images/n02167151/n02167151_9478.JPEG  \n",
            "  inflating: ./images/images/n02167151/n02167151_9485.JPEG  \n",
            "  inflating: ./images/images/n02167151/n02167151_9492.JPEG  \n",
            "  inflating: ./images/images/n02167151/n02167151_9493.JPEG  \n",
            "  inflating: ./images/images/n02167151/n02167151_9498.JPEG  \n",
            "  inflating: ./images/images/n02167151/n02167151_951.JPEG  \n",
            "  inflating: ./images/images/n02167151/n02167151_9510.JPEG  \n",
            "  inflating: ./images/images/n02167151/n02167151_9517.JPEG  \n",
            "  inflating: ./images/images/n02167151/n02167151_9519.JPEG  \n",
            "  inflating: ./images/images/n02167151/n02167151_9525.JPEG  \n",
            "  inflating: ./images/images/n02167151/n02167151_9526.JPEG  \n",
            "  inflating: ./images/images/n02167151/n02167151_9532.JPEG  \n",
            "  inflating: ./images/images/n02167151/n02167151_9534.JPEG  \n",
            "  inflating: ./images/images/n02167151/n02167151_9536.JPEG  \n",
            "  inflating: ./images/images/n02167151/n02167151_9550.JPEG  \n",
            "  inflating: ./images/images/n02167151/n02167151_9563.JPEG  \n",
            "  inflating: ./images/images/n02167151/n02167151_9566.JPEG  \n",
            "  inflating: ./images/images/n02167151/n02167151_9586.JPEG  \n",
            "  inflating: ./images/images/n02167151/n02167151_9587.JPEG  \n",
            "  inflating: ./images/images/n02167151/n02167151_9591.JPEG  \n",
            "  inflating: ./images/images/n02167151/n02167151_9596.JPEG  \n",
            "  inflating: ./images/images/n02167151/n02167151_9600.JPEG  \n",
            "  inflating: ./images/images/n02167151/n02167151_9610.JPEG  \n",
            "  inflating: ./images/images/n02167151/n02167151_9611.JPEG  \n",
            "  inflating: ./images/images/n02167151/n02167151_963.JPEG  \n",
            "  inflating: ./images/images/n02167151/n02167151_9644.JPEG  \n",
            "  inflating: ./images/images/n02167151/n02167151_9654.JPEG  \n",
            "  inflating: ./images/images/n02167151/n02167151_9655.JPEG  \n",
            "  inflating: ./images/images/n02167151/n02167151_9656.JPEG  \n",
            "  inflating: ./images/images/n02167151/n02167151_9663.JPEG  \n",
            "  inflating: ./images/images/n02167151/n02167151_9664.JPEG  \n",
            "  inflating: ./images/images/n02167151/n02167151_967.JPEG  \n",
            "  inflating: ./images/images/n02167151/n02167151_9680.JPEG  \n",
            "  inflating: ./images/images/n02167151/n02167151_9701.JPEG  \n",
            "  inflating: ./images/images/n02167151/n02167151_9703.JPEG  \n",
            "  inflating: ./images/images/n02167151/n02167151_9715.JPEG  \n",
            "  inflating: ./images/images/n02167151/n02167151_9720.JPEG  \n",
            "  inflating: ./images/images/n02167151/n02167151_9727.JPEG  \n",
            "  inflating: ./images/images/n02167151/n02167151_9729.JPEG  \n",
            "  inflating: ./images/images/n02167151/n02167151_9732.JPEG  \n",
            "  inflating: ./images/images/n02167151/n02167151_9733.JPEG  \n",
            "  inflating: ./images/images/n02167151/n02167151_9743.JPEG  \n",
            "  inflating: ./images/images/n02167151/n02167151_9745.JPEG  \n",
            "  inflating: ./images/images/n02167151/n02167151_9751.JPEG  \n",
            "  inflating: ./images/images/n02167151/n02167151_9759.JPEG  \n",
            "  inflating: ./images/images/n02167151/n02167151_9774.JPEG  \n",
            "  inflating: ./images/images/n02167151/n02167151_9776.JPEG  \n",
            "  inflating: ./images/images/n02167151/n02167151_9785.JPEG  \n",
            "  inflating: ./images/images/n02167151/n02167151_9794.JPEG  \n",
            "  inflating: ./images/images/n02167151/n02167151_9799.JPEG  \n",
            "  inflating: ./images/images/n02167151/n02167151_9802.JPEG  \n",
            "  inflating: ./images/images/n02167151/n02167151_9807.JPEG  \n",
            "  inflating: ./images/images/n02167151/n02167151_981.JPEG  \n",
            "  inflating: ./images/images/n02167151/n02167151_9811.JPEG  \n",
            "  inflating: ./images/images/n02167151/n02167151_9818.JPEG  \n",
            "  inflating: ./images/images/n02167151/n02167151_9847.JPEG  \n",
            "  inflating: ./images/images/n02167151/n02167151_9848.JPEG  \n",
            "  inflating: ./images/images/n02167151/n02167151_9853.JPEG  \n",
            "  inflating: ./images/images/n02167151/n02167151_9858.JPEG  \n",
            "  inflating: ./images/images/n02167151/n02167151_9873.JPEG  \n",
            "  inflating: ./images/images/n02167151/n02167151_9886.JPEG  \n",
            "  inflating: ./images/images/n02167151/n02167151_989.JPEG  \n",
            "  inflating: ./images/images/n02167151/n02167151_9891.JPEG  \n",
            "  inflating: ./images/images/n02167151/n02167151_990.JPEG  \n",
            "  inflating: ./images/images/n02167151/n02167151_9912.JPEG  \n",
            "  inflating: ./images/images/n02167151/n02167151_9927.JPEG  \n",
            "  inflating: ./images/images/n02167151/n02167151_9929.JPEG  \n",
            "  inflating: ./images/images/n02167151/n02167151_993.JPEG  \n",
            "  inflating: ./images/images/n02167151/n02167151_9935.JPEG  \n",
            "  inflating: ./images/images/n02167151/n02167151_9937.JPEG  \n",
            "  inflating: ./images/images/n02167151/n02167151_9945.JPEG  \n",
            "  inflating: ./images/images/n02167151/n02167151_9948.JPEG  \n",
            "  inflating: ./images/images/n02167151/n02167151_9960.JPEG  \n",
            "  inflating: ./images/images/n02167151/n02167151_9961.JPEG  \n",
            "  inflating: ./images/images/n02167151/n02167151_9966.JPEG  \n",
            "  inflating: ./images/images/n02167151/n02167151_9971.JPEG  \n",
            "  inflating: ./images/images/n02167151/n02167151_9983.JPEG  \n",
            "  inflating: ./images/images/n02167151/n02167151_9991.JPEG  \n",
            "   creating: ./images/images/n02168699/\n",
            "  inflating: ./images/images/n02168699/n02168699_1.JPEG  \n",
            "  inflating: ./images/images/n02168699/n02168699_10036.JPEG  \n",
            "  inflating: ./images/images/n02168699/n02168699_10074.JPEG  \n",
            "  inflating: ./images/images/n02168699/n02168699_10082.JPEG  \n",
            "  inflating: ./images/images/n02168699/n02168699_10097.JPEG  \n",
            "  inflating: ./images/images/n02168699/n02168699_1012.JPEG  \n",
            "  inflating: ./images/images/n02168699/n02168699_10122.JPEG  \n",
            "  inflating: ./images/images/n02168699/n02168699_10162.JPEG  \n",
            "  inflating: ./images/images/n02168699/n02168699_1019.JPEG  \n",
            "  inflating: ./images/images/n02168699/n02168699_102.JPEG  \n",
            "  inflating: ./images/images/n02168699/n02168699_10294.JPEG  \n",
            "  inflating: ./images/images/n02168699/n02168699_10371.JPEG  \n",
            "  inflating: ./images/images/n02168699/n02168699_10390.JPEG  \n",
            "  inflating: ./images/images/n02168699/n02168699_10394.JPEG  \n",
            "  inflating: ./images/images/n02168699/n02168699_10399.JPEG  \n",
            "  inflating: ./images/images/n02168699/n02168699_10440.JPEG  \n",
            "  inflating: ./images/images/n02168699/n02168699_10455.JPEG  \n",
            "  inflating: ./images/images/n02168699/n02168699_10471.JPEG  \n",
            "  inflating: ./images/images/n02168699/n02168699_105.JPEG  \n",
            "  inflating: ./images/images/n02168699/n02168699_10528.JPEG  \n",
            "  inflating: ./images/images/n02168699/n02168699_10548.JPEG  \n",
            "  inflating: ./images/images/n02168699/n02168699_10584.JPEG  \n",
            "  inflating: ./images/images/n02168699/n02168699_10603.JPEG  \n",
            "  inflating: ./images/images/n02168699/n02168699_10638.JPEG  \n",
            "  inflating: ./images/images/n02168699/n02168699_10652.JPEG  \n",
            "  inflating: ./images/images/n02168699/n02168699_10691.JPEG  \n",
            "  inflating: ./images/images/n02168699/n02168699_10711.JPEG  \n",
            "  inflating: ./images/images/n02168699/n02168699_1072.JPEG  \n",
            "  inflating: ./images/images/n02168699/n02168699_1076.JPEG  \n",
            "  inflating: ./images/images/n02168699/n02168699_10775.JPEG  \n",
            "  inflating: ./images/images/n02168699/n02168699_1081.JPEG  \n",
            "  inflating: ./images/images/n02168699/n02168699_10831.JPEG  \n",
            "  inflating: ./images/images/n02168699/n02168699_1088.JPEG  \n",
            "  inflating: ./images/images/n02168699/n02168699_10906.JPEG  \n",
            "  inflating: ./images/images/n02168699/n02168699_1093.JPEG  \n",
            "  inflating: ./images/images/n02168699/n02168699_10953.JPEG  \n",
            "  inflating: ./images/images/n02168699/n02168699_10966.JPEG  \n",
            "  inflating: ./images/images/n02168699/n02168699_10976.JPEG  \n",
            "  inflating: ./images/images/n02168699/n02168699_10984.JPEG  \n",
            "  inflating: ./images/images/n02168699/n02168699_11010.JPEG  \n",
            "  inflating: ./images/images/n02168699/n02168699_11027.JPEG  \n",
            "  inflating: ./images/images/n02168699/n02168699_11054.JPEG  \n",
            "  inflating: ./images/images/n02168699/n02168699_11072.JPEG  \n",
            "  inflating: ./images/images/n02168699/n02168699_11089.JPEG  \n",
            "  inflating: ./images/images/n02168699/n02168699_11091.JPEG  \n",
            "  inflating: ./images/images/n02168699/n02168699_11111.JPEG  \n",
            "  inflating: ./images/images/n02168699/n02168699_11136.JPEG  \n",
            "  inflating: ./images/images/n02168699/n02168699_11141.JPEG  \n",
            "  inflating: ./images/images/n02168699/n02168699_11155.JPEG  \n",
            "  inflating: ./images/images/n02168699/n02168699_11194.JPEG  \n",
            "  inflating: ./images/images/n02168699/n02168699_11217.JPEG  \n",
            "  inflating: ./images/images/n02168699/n02168699_1122.JPEG  \n",
            "  inflating: ./images/images/n02168699/n02168699_11265.JPEG  \n",
            "  inflating: ./images/images/n02168699/n02168699_11285.JPEG  \n",
            "  inflating: ./images/images/n02168699/n02168699_11293.JPEG  \n",
            "  inflating: ./images/images/n02168699/n02168699_11300.JPEG  \n",
            "  inflating: ./images/images/n02168699/n02168699_11310.JPEG  \n",
            "  inflating: ./images/images/n02168699/n02168699_11316.JPEG  \n",
            "  inflating: ./images/images/n02168699/n02168699_11343.JPEG  \n",
            "  inflating: ./images/images/n02168699/n02168699_11372.JPEG  \n",
            "  inflating: ./images/images/n02168699/n02168699_11378.JPEG  \n",
            "  inflating: ./images/images/n02168699/n02168699_11379.JPEG  \n",
            "  inflating: ./images/images/n02168699/n02168699_114.JPEG  \n",
            "  inflating: ./images/images/n02168699/n02168699_1141.JPEG  \n",
            "  inflating: ./images/images/n02168699/n02168699_11418.JPEG  \n",
            "  inflating: ./images/images/n02168699/n02168699_11421.JPEG  \n",
            "  inflating: ./images/images/n02168699/n02168699_1143.JPEG  \n",
            "  inflating: ./images/images/n02168699/n02168699_11438.JPEG  \n",
            "  inflating: ./images/images/n02168699/n02168699_1144.JPEG  \n",
            "  inflating: ./images/images/n02168699/n02168699_11446.JPEG  \n",
            "  inflating: ./images/images/n02168699/n02168699_11448.JPEG  \n",
            "  inflating: ./images/images/n02168699/n02168699_11462.JPEG  \n",
            "  inflating: ./images/images/n02168699/n02168699_11467.JPEG  \n",
            "  inflating: ./images/images/n02168699/n02168699_11487.JPEG  \n",
            "  inflating: ./images/images/n02168699/n02168699_1152.JPEG  \n",
            "  inflating: ./images/images/n02168699/n02168699_11520.JPEG  \n",
            "  inflating: ./images/images/n02168699/n02168699_11538.JPEG  \n",
            "  inflating: ./images/images/n02168699/n02168699_1154.JPEG  \n",
            "  inflating: ./images/images/n02168699/n02168699_11546.JPEG  \n",
            "  inflating: ./images/images/n02168699/n02168699_1155.JPEG  \n",
            "  inflating: ./images/images/n02168699/n02168699_11558.JPEG  \n",
            "  inflating: ./images/images/n02168699/n02168699_1157.JPEG  \n",
            "  inflating: ./images/images/n02168699/n02168699_11580.JPEG  \n",
            "  inflating: ./images/images/n02168699/n02168699_11595.JPEG  \n",
            "  inflating: ./images/images/n02168699/n02168699_11709.JPEG  \n",
            "  inflating: ./images/images/n02168699/n02168699_1175.JPEG  \n",
            "  inflating: ./images/images/n02168699/n02168699_11753.JPEG  \n",
            "  inflating: ./images/images/n02168699/n02168699_1176.JPEG  \n",
            "  inflating: ./images/images/n02168699/n02168699_118.JPEG  \n",
            "  inflating: ./images/images/n02168699/n02168699_1185.JPEG  \n",
            "  inflating: ./images/images/n02168699/n02168699_11863.JPEG  \n",
            "  inflating: ./images/images/n02168699/n02168699_11877.JPEG  \n",
            "  inflating: ./images/images/n02168699/n02168699_11912.JPEG  \n",
            "  inflating: ./images/images/n02168699/n02168699_11949.JPEG  \n",
            "  inflating: ./images/images/n02168699/n02168699_1196.JPEG  \n",
            "  inflating: ./images/images/n02168699/n02168699_1200.JPEG  \n",
            "  inflating: ./images/images/n02168699/n02168699_1203.JPEG  \n",
            "  inflating: ./images/images/n02168699/n02168699_12030.JPEG  \n",
            "  inflating: ./images/images/n02168699/n02168699_12047.JPEG  \n",
            "  inflating: ./images/images/n02168699/n02168699_1206.JPEG  \n",
            "  inflating: ./images/images/n02168699/n02168699_12075.JPEG  \n",
            "  inflating: ./images/images/n02168699/n02168699_121.JPEG  \n",
            "  inflating: ./images/images/n02168699/n02168699_12116.JPEG  \n",
            "  inflating: ./images/images/n02168699/n02168699_12122.JPEG  \n",
            "  inflating: ./images/images/n02168699/n02168699_12128.JPEG  \n",
            "  inflating: ./images/images/n02168699/n02168699_1214.JPEG  \n",
            "  inflating: ./images/images/n02168699/n02168699_12142.JPEG  \n",
            "  inflating: ./images/images/n02168699/n02168699_12160.JPEG  \n",
            "  inflating: ./images/images/n02168699/n02168699_12179.JPEG  \n",
            "  inflating: ./images/images/n02168699/n02168699_12209.JPEG  \n",
            "  inflating: ./images/images/n02168699/n02168699_1221.JPEG  \n",
            "  inflating: ./images/images/n02168699/n02168699_1222.JPEG  \n",
            "  inflating: ./images/images/n02168699/n02168699_12239.JPEG  \n",
            "  inflating: ./images/images/n02168699/n02168699_12241.JPEG  \n",
            "  inflating: ./images/images/n02168699/n02168699_12308.JPEG  \n",
            "  inflating: ./images/images/n02168699/n02168699_12321.JPEG  \n",
            "  inflating: ./images/images/n02168699/n02168699_12336.JPEG  \n",
            "  inflating: ./images/images/n02168699/n02168699_12368.JPEG  \n",
            "  inflating: ./images/images/n02168699/n02168699_12384.JPEG  \n",
            "  inflating: ./images/images/n02168699/n02168699_124.JPEG  \n",
            "  inflating: ./images/images/n02168699/n02168699_1248.JPEG  \n",
            "  inflating: ./images/images/n02168699/n02168699_12484.JPEG  \n",
            "  inflating: ./images/images/n02168699/n02168699_125.JPEG  \n",
            "  inflating: ./images/images/n02168699/n02168699_12501.JPEG  \n",
            "  inflating: ./images/images/n02168699/n02168699_12551.JPEG  \n",
            "  inflating: ./images/images/n02168699/n02168699_12569.JPEG  \n",
            "  inflating: ./images/images/n02168699/n02168699_12585.JPEG  \n",
            "  inflating: ./images/images/n02168699/n02168699_1259.JPEG  \n",
            "  inflating: ./images/images/n02168699/n02168699_1262.JPEG  \n",
            "  inflating: ./images/images/n02168699/n02168699_1266.JPEG  \n",
            "  inflating: ./images/images/n02168699/n02168699_12675.JPEG  \n",
            "  inflating: ./images/images/n02168699/n02168699_1270.JPEG  \n",
            "  inflating: ./images/images/n02168699/n02168699_12704.JPEG  \n",
            "  inflating: ./images/images/n02168699/n02168699_12727.JPEG  \n",
            "  inflating: ./images/images/n02168699/n02168699_12743.JPEG  \n",
            "  inflating: ./images/images/n02168699/n02168699_12800.JPEG  \n",
            "  inflating: ./images/images/n02168699/n02168699_1281.JPEG  \n",
            "  inflating: ./images/images/n02168699/n02168699_12810.JPEG  \n",
            "  inflating: ./images/images/n02168699/n02168699_12818.JPEG  \n",
            "  inflating: ./images/images/n02168699/n02168699_12828.JPEG  \n",
            "  inflating: ./images/images/n02168699/n02168699_12878.JPEG  \n",
            "  inflating: ./images/images/n02168699/n02168699_1290.JPEG  \n",
            "  inflating: ./images/images/n02168699/n02168699_12912.JPEG  \n",
            "  inflating: ./images/images/n02168699/n02168699_12970.JPEG  \n",
            "  inflating: ./images/images/n02168699/n02168699_12983.JPEG  \n",
            "  inflating: ./images/images/n02168699/n02168699_12986.JPEG  \n",
            "  inflating: ./images/images/n02168699/n02168699_12997.JPEG  \n",
            "  inflating: ./images/images/n02168699/n02168699_1301.JPEG  \n",
            "  inflating: ./images/images/n02168699/n02168699_1302.JPEG  \n",
            "  inflating: ./images/images/n02168699/n02168699_13037.JPEG  \n",
            "  inflating: ./images/images/n02168699/n02168699_1308.JPEG  \n",
            "  inflating: ./images/images/n02168699/n02168699_131.JPEG  \n",
            "  inflating: ./images/images/n02168699/n02168699_1312.JPEG  \n",
            "  inflating: ./images/images/n02168699/n02168699_1316.JPEG  \n",
            "  inflating: ./images/images/n02168699/n02168699_13165.JPEG  \n",
            "  inflating: ./images/images/n02168699/n02168699_13178.JPEG  \n",
            "  inflating: ./images/images/n02168699/n02168699_13183.JPEG  \n",
            "  inflating: ./images/images/n02168699/n02168699_1320.JPEG  \n",
            "  inflating: ./images/images/n02168699/n02168699_13206.JPEG  \n",
            "  inflating: ./images/images/n02168699/n02168699_1321.JPEG  \n",
            "  inflating: ./images/images/n02168699/n02168699_13215.JPEG  \n",
            "  inflating: ./images/images/n02168699/n02168699_13236.JPEG  \n",
            "  inflating: ./images/images/n02168699/n02168699_13241.JPEG  \n",
            "  inflating: ./images/images/n02168699/n02168699_13243.JPEG  \n",
            "  inflating: ./images/images/n02168699/n02168699_13269.JPEG  \n",
            "  inflating: ./images/images/n02168699/n02168699_133.JPEG  \n",
            "  inflating: ./images/images/n02168699/n02168699_1332.JPEG  \n",
            "  inflating: ./images/images/n02168699/n02168699_13325.JPEG  \n",
            "  inflating: ./images/images/n02168699/n02168699_13349.JPEG  \n",
            "  inflating: ./images/images/n02168699/n02168699_1337.JPEG  \n",
            "  inflating: ./images/images/n02168699/n02168699_1339.JPEG  \n",
            "  inflating: ./images/images/n02168699/n02168699_134.JPEG  \n",
            "  inflating: ./images/images/n02168699/n02168699_13403.JPEG  \n",
            "  inflating: ./images/images/n02168699/n02168699_1344.JPEG  \n",
            "  inflating: ./images/images/n02168699/n02168699_13536.JPEG  \n",
            "  inflating: ./images/images/n02168699/n02168699_13551.JPEG  \n",
            "  inflating: ./images/images/n02168699/n02168699_13567.JPEG  \n",
            "  inflating: ./images/images/n02168699/n02168699_13581.JPEG  \n",
            "  inflating: ./images/images/n02168699/n02168699_13601.JPEG  \n",
            "  inflating: ./images/images/n02168699/n02168699_13617.JPEG  \n",
            "  inflating: ./images/images/n02168699/n02168699_13685.JPEG  \n",
            "  inflating: ./images/images/n02168699/n02168699_13767.JPEG  \n",
            "  inflating: ./images/images/n02168699/n02168699_13768.JPEG  \n",
            "  inflating: ./images/images/n02168699/n02168699_1377.JPEG  \n",
            "  inflating: ./images/images/n02168699/n02168699_13789.JPEG  \n",
            "  inflating: ./images/images/n02168699/n02168699_13800.JPEG  \n",
            "  inflating: ./images/images/n02168699/n02168699_1381.JPEG  \n",
            "  inflating: ./images/images/n02168699/n02168699_13833.JPEG  \n",
            "  inflating: ./images/images/n02168699/n02168699_13834.JPEG  \n",
            "  inflating: ./images/images/n02168699/n02168699_13844.JPEG  \n",
            "  inflating: ./images/images/n02168699/n02168699_13879.JPEG  \n",
            "  inflating: ./images/images/n02168699/n02168699_13888.JPEG  \n",
            "  inflating: ./images/images/n02168699/n02168699_13899.JPEG  \n",
            "  inflating: ./images/images/n02168699/n02168699_13904.JPEG  \n",
            "  inflating: ./images/images/n02168699/n02168699_13931.JPEG  \n",
            "  inflating: ./images/images/n02168699/n02168699_13934.JPEG  \n",
            "  inflating: ./images/images/n02168699/n02168699_13938.JPEG  \n",
            "  inflating: ./images/images/n02168699/n02168699_13981.JPEG  \n",
            "  inflating: ./images/images/n02168699/n02168699_14016.JPEG  \n",
            "  inflating: ./images/images/n02168699/n02168699_1405.JPEG  \n",
            "  inflating: ./images/images/n02168699/n02168699_14055.JPEG  \n",
            "  inflating: ./images/images/n02168699/n02168699_14077.JPEG  \n",
            "  inflating: ./images/images/n02168699/n02168699_1411.JPEG  \n",
            "  inflating: ./images/images/n02168699/n02168699_14118.JPEG  \n",
            "  inflating: ./images/images/n02168699/n02168699_1412.JPEG  \n",
            "  inflating: ./images/images/n02168699/n02168699_14136.JPEG  \n",
            "  inflating: ./images/images/n02168699/n02168699_1416.JPEG  \n",
            "  inflating: ./images/images/n02168699/n02168699_14198.JPEG  \n",
            "  inflating: ./images/images/n02168699/n02168699_14207.JPEG  \n",
            "  inflating: ./images/images/n02168699/n02168699_14214.JPEG  \n",
            "  inflating: ./images/images/n02168699/n02168699_14227.JPEG  \n",
            "  inflating: ./images/images/n02168699/n02168699_1423.JPEG  \n",
            "  inflating: ./images/images/n02168699/n02168699_14236.JPEG  \n",
            "  inflating: ./images/images/n02168699/n02168699_14302.JPEG  \n",
            "  inflating: ./images/images/n02168699/n02168699_14314.JPEG  \n",
            "  inflating: ./images/images/n02168699/n02168699_14358.JPEG  \n",
            "  inflating: ./images/images/n02168699/n02168699_1436.JPEG  \n",
            "  inflating: ./images/images/n02168699/n02168699_1443.JPEG  \n",
            "  inflating: ./images/images/n02168699/n02168699_14442.JPEG  \n",
            "  inflating: ./images/images/n02168699/n02168699_14451.JPEG  \n",
            "  inflating: ./images/images/n02168699/n02168699_14452.JPEG  \n",
            "  inflating: ./images/images/n02168699/n02168699_14554.JPEG  \n",
            "  inflating: ./images/images/n02168699/n02168699_14561.JPEG  \n",
            "  inflating: ./images/images/n02168699/n02168699_14568.JPEG  \n",
            "  inflating: ./images/images/n02168699/n02168699_1467.JPEG  \n",
            "  inflating: ./images/images/n02168699/n02168699_14671.JPEG  \n",
            "  inflating: ./images/images/n02168699/n02168699_14672.JPEG  \n",
            "  inflating: ./images/images/n02168699/n02168699_1468.JPEG  \n",
            "  inflating: ./images/images/n02168699/n02168699_14690.JPEG  \n",
            "  inflating: ./images/images/n02168699/n02168699_14704.JPEG  \n",
            "  inflating: ./images/images/n02168699/n02168699_14707.JPEG  \n",
            "  inflating: ./images/images/n02168699/n02168699_14713.JPEG  \n",
            "  inflating: ./images/images/n02168699/n02168699_14777.JPEG  \n",
            "  inflating: ./images/images/n02168699/n02168699_14793.JPEG  \n",
            "  inflating: ./images/images/n02168699/n02168699_14813.JPEG  \n",
            "  inflating: ./images/images/n02168699/n02168699_14828.JPEG  \n",
            "  inflating: ./images/images/n02168699/n02168699_14830.JPEG  \n",
            "  inflating: ./images/images/n02168699/n02168699_14857.JPEG  \n",
            "  inflating: ./images/images/n02168699/n02168699_1487.JPEG  \n",
            "  inflating: ./images/images/n02168699/n02168699_14895.JPEG  \n",
            "  inflating: ./images/images/n02168699/n02168699_1490.JPEG  \n",
            "  inflating: ./images/images/n02168699/n02168699_14911.JPEG  \n",
            "  inflating: ./images/images/n02168699/n02168699_14927.JPEG  \n",
            "  inflating: ./images/images/n02168699/n02168699_1493.JPEG  \n",
            "  inflating: ./images/images/n02168699/n02168699_14940.JPEG  \n",
            "  inflating: ./images/images/n02168699/n02168699_1497.JPEG  \n",
            "  inflating: ./images/images/n02168699/n02168699_14983.JPEG  \n",
            "  inflating: ./images/images/n02168699/n02168699_1499.JPEG  \n",
            "  inflating: ./images/images/n02168699/n02168699_14994.JPEG  \n",
            "  inflating: ./images/images/n02168699/n02168699_1504.JPEG  \n",
            "  inflating: ./images/images/n02168699/n02168699_15046.JPEG  \n",
            "  inflating: ./images/images/n02168699/n02168699_15048.JPEG  \n",
            "  inflating: ./images/images/n02168699/n02168699_15053.JPEG  \n",
            "  inflating: ./images/images/n02168699/n02168699_151.JPEG  \n",
            "  inflating: ./images/images/n02168699/n02168699_15120.JPEG  \n",
            "  inflating: ./images/images/n02168699/n02168699_15127.JPEG  \n",
            "  inflating: ./images/images/n02168699/n02168699_1513.JPEG  \n",
            "  inflating: ./images/images/n02168699/n02168699_15138.JPEG  \n",
            "  inflating: ./images/images/n02168699/n02168699_15197.JPEG  \n",
            "  inflating: ./images/images/n02168699/n02168699_15241.JPEG  \n",
            "  inflating: ./images/images/n02168699/n02168699_1527.JPEG  \n",
            "  inflating: ./images/images/n02168699/n02168699_15275.JPEG  \n",
            "  inflating: ./images/images/n02168699/n02168699_15289.JPEG  \n",
            "  inflating: ./images/images/n02168699/n02168699_15305.JPEG  \n",
            "  inflating: ./images/images/n02168699/n02168699_15313.JPEG  \n",
            "  inflating: ./images/images/n02168699/n02168699_15329.JPEG  \n",
            "  inflating: ./images/images/n02168699/n02168699_15395.JPEG  \n",
            "  inflating: ./images/images/n02168699/n02168699_1542.JPEG  \n",
            "  inflating: ./images/images/n02168699/n02168699_15428.JPEG  \n",
            "  inflating: ./images/images/n02168699/n02168699_15462.JPEG  \n",
            "  inflating: ./images/images/n02168699/n02168699_15544.JPEG  \n",
            "  inflating: ./images/images/n02168699/n02168699_15556.JPEG  \n",
            "  inflating: ./images/images/n02168699/n02168699_15627.JPEG  \n",
            "  inflating: ./images/images/n02168699/n02168699_1566.JPEG  \n",
            "  inflating: ./images/images/n02168699/n02168699_15682.JPEG  \n",
            "  inflating: ./images/images/n02168699/n02168699_15683.JPEG  \n",
            "  inflating: ./images/images/n02168699/n02168699_15686.JPEG  \n",
            "  inflating: ./images/images/n02168699/n02168699_1569.JPEG  \n",
            "  inflating: ./images/images/n02168699/n02168699_15692.JPEG  \n",
            "  inflating: ./images/images/n02168699/n02168699_1579.JPEG  \n",
            "  inflating: ./images/images/n02168699/n02168699_15796.JPEG  \n",
            "  inflating: ./images/images/n02168699/n02168699_15814.JPEG  \n",
            "  inflating: ./images/images/n02168699/n02168699_15836.JPEG  \n",
            "  inflating: ./images/images/n02168699/n02168699_15886.JPEG  \n",
            "  inflating: ./images/images/n02168699/n02168699_1594.JPEG  \n",
            "  inflating: ./images/images/n02168699/n02168699_15960.JPEG  \n",
            "  inflating: ./images/images/n02168699/n02168699_15988.JPEG  \n",
            "  inflating: ./images/images/n02168699/n02168699_16.JPEG  \n",
            "  inflating: ./images/images/n02168699/n02168699_1601.JPEG  \n",
            "  inflating: ./images/images/n02168699/n02168699_16014.JPEG  \n",
            "  inflating: ./images/images/n02168699/n02168699_16070.JPEG  \n",
            "  inflating: ./images/images/n02168699/n02168699_16078.JPEG  \n",
            "  inflating: ./images/images/n02168699/n02168699_16079.JPEG  \n",
            "  inflating: ./images/images/n02168699/n02168699_16135.JPEG  \n",
            "  inflating: ./images/images/n02168699/n02168699_16165.JPEG  \n",
            "  inflating: ./images/images/n02168699/n02168699_16178.JPEG  \n",
            "  inflating: ./images/images/n02168699/n02168699_16237.JPEG  \n",
            "  inflating: ./images/images/n02168699/n02168699_16254.JPEG  \n",
            "  inflating: ./images/images/n02168699/n02168699_16256.JPEG  \n",
            "  inflating: ./images/images/n02168699/n02168699_16268.JPEG  \n",
            "  inflating: ./images/images/n02168699/n02168699_1627.JPEG  \n",
            "  inflating: ./images/images/n02168699/n02168699_16282.JPEG  \n",
            "  inflating: ./images/images/n02168699/n02168699_16303.JPEG  \n",
            "  inflating: ./images/images/n02168699/n02168699_16346.JPEG  \n",
            "  inflating: ./images/images/n02168699/n02168699_1635.JPEG  \n",
            "  inflating: ./images/images/n02168699/n02168699_16366.JPEG  \n",
            "  inflating: ./images/images/n02168699/n02168699_1638.JPEG  \n",
            "  inflating: ./images/images/n02168699/n02168699_1640.JPEG  \n",
            "  inflating: ./images/images/n02168699/n02168699_16402.JPEG  \n",
            "  inflating: ./images/images/n02168699/n02168699_16451.JPEG  \n",
            "  inflating: ./images/images/n02168699/n02168699_16476.JPEG  \n",
            "  inflating: ./images/images/n02168699/n02168699_16500.JPEG  \n",
            "  inflating: ./images/images/n02168699/n02168699_16506.JPEG  \n",
            "  inflating: ./images/images/n02168699/n02168699_1651.JPEG  \n",
            "  inflating: ./images/images/n02168699/n02168699_16525.JPEG  \n",
            "  inflating: ./images/images/n02168699/n02168699_16534.JPEG  \n",
            "  inflating: ./images/images/n02168699/n02168699_16549.JPEG  \n",
            "  inflating: ./images/images/n02168699/n02168699_16551.JPEG  \n",
            "  inflating: ./images/images/n02168699/n02168699_1656.JPEG  \n",
            "  inflating: ./images/images/n02168699/n02168699_16587.JPEG  \n",
            "  inflating: ./images/images/n02168699/n02168699_16622.JPEG  \n",
            "  inflating: ./images/images/n02168699/n02168699_16629.JPEG  \n",
            "  inflating: ./images/images/n02168699/n02168699_16686.JPEG  \n",
            "  inflating: ./images/images/n02168699/n02168699_16695.JPEG  \n",
            "  inflating: ./images/images/n02168699/n02168699_16732.JPEG  \n",
            "  inflating: ./images/images/n02168699/n02168699_1674.JPEG  \n",
            "  inflating: ./images/images/n02168699/n02168699_16759.JPEG  \n",
            "  inflating: ./images/images/n02168699/n02168699_16786.JPEG  \n",
            "  inflating: ./images/images/n02168699/n02168699_16823.JPEG  \n",
            "  inflating: ./images/images/n02168699/n02168699_1685.JPEG  \n",
            "  inflating: ./images/images/n02168699/n02168699_1688.JPEG  \n",
            "  inflating: ./images/images/n02168699/n02168699_16885.JPEG  \n",
            "  inflating: ./images/images/n02168699/n02168699_16923.JPEG  \n",
            "  inflating: ./images/images/n02168699/n02168699_1696.JPEG  \n",
            "  inflating: ./images/images/n02168699/n02168699_17.JPEG  \n",
            "  inflating: ./images/images/n02168699/n02168699_17002.JPEG  \n",
            "  inflating: ./images/images/n02168699/n02168699_17003.JPEG  \n",
            "  inflating: ./images/images/n02168699/n02168699_17035.JPEG  \n",
            "  inflating: ./images/images/n02168699/n02168699_17099.JPEG  \n",
            "  inflating: ./images/images/n02168699/n02168699_17101.JPEG  \n",
            "  inflating: ./images/images/n02168699/n02168699_1711.JPEG  \n",
            "  inflating: ./images/images/n02168699/n02168699_17160.JPEG  \n",
            "  inflating: ./images/images/n02168699/n02168699_17172.JPEG  \n",
            "  inflating: ./images/images/n02168699/n02168699_17182.JPEG  \n",
            "  inflating: ./images/images/n02168699/n02168699_1720.JPEG  \n",
            "  inflating: ./images/images/n02168699/n02168699_17213.JPEG  \n",
            "  inflating: ./images/images/n02168699/n02168699_17235.JPEG  \n",
            "  inflating: ./images/images/n02168699/n02168699_1727.JPEG  \n",
            "  inflating: ./images/images/n02168699/n02168699_173.JPEG  \n",
            "  inflating: ./images/images/n02168699/n02168699_1730.JPEG  \n",
            "  inflating: ./images/images/n02168699/n02168699_17307.JPEG  \n",
            "  inflating: ./images/images/n02168699/n02168699_1731.JPEG  \n",
            "  inflating: ./images/images/n02168699/n02168699_1733.JPEG  \n",
            "  inflating: ./images/images/n02168699/n02168699_1738.JPEG  \n",
            "  inflating: ./images/images/n02168699/n02168699_1739.JPEG  \n",
            "  inflating: ./images/images/n02168699/n02168699_1740.JPEG  \n",
            "  inflating: ./images/images/n02168699/n02168699_1748.JPEG  \n",
            "  inflating: ./images/images/n02168699/n02168699_1757.JPEG  \n",
            "  inflating: ./images/images/n02168699/n02168699_1758.JPEG  \n",
            "  inflating: ./images/images/n02168699/n02168699_1761.JPEG  \n",
            "  inflating: ./images/images/n02168699/n02168699_1774.JPEG  \n",
            "  inflating: ./images/images/n02168699/n02168699_1775.JPEG  \n",
            "  inflating: ./images/images/n02168699/n02168699_1780.JPEG  \n",
            "  inflating: ./images/images/n02168699/n02168699_1805.JPEG  \n",
            "  inflating: ./images/images/n02168699/n02168699_1813.JPEG  \n",
            "  inflating: ./images/images/n02168699/n02168699_1818.JPEG  \n",
            "  inflating: ./images/images/n02168699/n02168699_1828.JPEG  \n",
            "  inflating: ./images/images/n02168699/n02168699_1836.JPEG  \n",
            "  inflating: ./images/images/n02168699/n02168699_1840.JPEG  \n",
            "  inflating: ./images/images/n02168699/n02168699_1848.JPEG  \n",
            "  inflating: ./images/images/n02168699/n02168699_185.JPEG  \n",
            "  inflating: ./images/images/n02168699/n02168699_1870.JPEG  \n",
            "  inflating: ./images/images/n02168699/n02168699_1890.JPEG  \n",
            "  inflating: ./images/images/n02168699/n02168699_1907.JPEG  \n",
            "  inflating: ./images/images/n02168699/n02168699_191.JPEG  \n",
            "  inflating: ./images/images/n02168699/n02168699_1921.JPEG  \n",
            "  inflating: ./images/images/n02168699/n02168699_1929.JPEG  \n",
            "  inflating: ./images/images/n02168699/n02168699_1930.JPEG  \n",
            "  inflating: ./images/images/n02168699/n02168699_1935.JPEG  \n",
            "  inflating: ./images/images/n02168699/n02168699_1952.JPEG  \n",
            "  inflating: ./images/images/n02168699/n02168699_1953.JPEG  \n",
            "  inflating: ./images/images/n02168699/n02168699_1956.JPEG  \n",
            "  inflating: ./images/images/n02168699/n02168699_1975.JPEG  \n",
            "  inflating: ./images/images/n02168699/n02168699_1978.JPEG  \n",
            "  inflating: ./images/images/n02168699/n02168699_1990.JPEG  \n",
            "  inflating: ./images/images/n02168699/n02168699_2001.JPEG  \n",
            "  inflating: ./images/images/n02168699/n02168699_2022.JPEG  \n",
            "  inflating: ./images/images/n02168699/n02168699_2029.JPEG  \n",
            "  inflating: ./images/images/n02168699/n02168699_2059.JPEG  \n",
            "  inflating: ./images/images/n02168699/n02168699_2062.JPEG  \n",
            "  inflating: ./images/images/n02168699/n02168699_2063.JPEG  \n",
            "  inflating: ./images/images/n02168699/n02168699_2073.JPEG  \n",
            "  inflating: ./images/images/n02168699/n02168699_2078.JPEG  \n",
            "  inflating: ./images/images/n02168699/n02168699_2086.JPEG  \n",
            "  inflating: ./images/images/n02168699/n02168699_2087.JPEG  \n",
            "  inflating: ./images/images/n02168699/n02168699_209.JPEG  \n",
            "  inflating: ./images/images/n02168699/n02168699_2128.JPEG  \n",
            "  inflating: ./images/images/n02168699/n02168699_2132.JPEG  \n",
            "  inflating: ./images/images/n02168699/n02168699_2147.JPEG  \n",
            "  inflating: ./images/images/n02168699/n02168699_2155.JPEG  \n",
            "  inflating: ./images/images/n02168699/n02168699_2158.JPEG  \n",
            "  inflating: ./images/images/n02168699/n02168699_2162.JPEG  \n",
            "  inflating: ./images/images/n02168699/n02168699_2164.JPEG  \n",
            "  inflating: ./images/images/n02168699/n02168699_2168.JPEG  \n",
            "  inflating: ./images/images/n02168699/n02168699_2170.JPEG  \n",
            "  inflating: ./images/images/n02168699/n02168699_2177.JPEG  \n",
            "  inflating: ./images/images/n02168699/n02168699_2203.JPEG  \n",
            "  inflating: ./images/images/n02168699/n02168699_2219.JPEG  \n",
            "  inflating: ./images/images/n02168699/n02168699_2232.JPEG  \n",
            "  inflating: ./images/images/n02168699/n02168699_2235.JPEG  \n",
            "  inflating: ./images/images/n02168699/n02168699_2237.JPEG  \n",
            "  inflating: ./images/images/n02168699/n02168699_2241.JPEG  \n",
            "  inflating: ./images/images/n02168699/n02168699_2242.JPEG  \n",
            "  inflating: ./images/images/n02168699/n02168699_2248.JPEG  \n",
            "  inflating: ./images/images/n02168699/n02168699_2250.JPEG  \n",
            "  inflating: ./images/images/n02168699/n02168699_2251.JPEG  \n",
            "  inflating: ./images/images/n02168699/n02168699_2254.JPEG  \n",
            "  inflating: ./images/images/n02168699/n02168699_2257.JPEG  \n",
            "  inflating: ./images/images/n02168699/n02168699_227.JPEG  \n",
            "  inflating: ./images/images/n02168699/n02168699_2279.JPEG  \n",
            "  inflating: ./images/images/n02168699/n02168699_2285.JPEG  \n",
            "  inflating: ./images/images/n02168699/n02168699_2326.JPEG  \n",
            "  inflating: ./images/images/n02168699/n02168699_2328.JPEG  \n",
            "  inflating: ./images/images/n02168699/n02168699_2329.JPEG  \n",
            "  inflating: ./images/images/n02168699/n02168699_2333.JPEG  \n",
            "  inflating: ./images/images/n02168699/n02168699_2334.JPEG  \n",
            "  inflating: ./images/images/n02168699/n02168699_235.JPEG  \n",
            "  inflating: ./images/images/n02168699/n02168699_2361.JPEG  \n",
            "  inflating: ./images/images/n02168699/n02168699_2365.JPEG  \n",
            "  inflating: ./images/images/n02168699/n02168699_2367.JPEG  \n",
            "  inflating: ./images/images/n02168699/n02168699_2370.JPEG  \n",
            "  inflating: ./images/images/n02168699/n02168699_2379.JPEG  \n",
            "  inflating: ./images/images/n02168699/n02168699_2406.JPEG  \n",
            "  inflating: ./images/images/n02168699/n02168699_2448.JPEG  \n",
            "  inflating: ./images/images/n02168699/n02168699_2462.JPEG  \n",
            "  inflating: ./images/images/n02168699/n02168699_2472.JPEG  \n",
            "  inflating: ./images/images/n02168699/n02168699_2489.JPEG  \n",
            "  inflating: ./images/images/n02168699/n02168699_2497.JPEG  \n",
            "  inflating: ./images/images/n02168699/n02168699_2507.JPEG  \n",
            "  inflating: ./images/images/n02168699/n02168699_2515.JPEG  \n",
            "  inflating: ./images/images/n02168699/n02168699_2516.JPEG  \n",
            "  inflating: ./images/images/n02168699/n02168699_2536.JPEG  \n",
            "  inflating: ./images/images/n02168699/n02168699_2552.JPEG  \n",
            "  inflating: ./images/images/n02168699/n02168699_2556.JPEG  \n",
            "  inflating: ./images/images/n02168699/n02168699_2557.JPEG  \n",
            "  inflating: ./images/images/n02168699/n02168699_256.JPEG  \n",
            "  inflating: ./images/images/n02168699/n02168699_2560.JPEG  \n",
            "  inflating: ./images/images/n02168699/n02168699_2563.JPEG  \n",
            "  inflating: ./images/images/n02168699/n02168699_2577.JPEG  \n",
            "  inflating: ./images/images/n02168699/n02168699_2589.JPEG  \n",
            "  inflating: ./images/images/n02168699/n02168699_2590.JPEG  \n",
            "  inflating: ./images/images/n02168699/n02168699_2612.JPEG  \n",
            "  inflating: ./images/images/n02168699/n02168699_2619.JPEG  \n",
            "  inflating: ./images/images/n02168699/n02168699_2621.JPEG  \n",
            "  inflating: ./images/images/n02168699/n02168699_2634.JPEG  \n",
            "  inflating: ./images/images/n02168699/n02168699_2635.JPEG  \n",
            "  inflating: ./images/images/n02168699/n02168699_2652.JPEG  \n",
            "  inflating: ./images/images/n02168699/n02168699_2676.JPEG  \n",
            "  inflating: ./images/images/n02168699/n02168699_2706.JPEG  \n",
            "  inflating: ./images/images/n02168699/n02168699_2736.JPEG  \n",
            "  inflating: ./images/images/n02168699/n02168699_2743.JPEG  \n",
            "  inflating: ./images/images/n02168699/n02168699_2771.JPEG  \n",
            "  inflating: ./images/images/n02168699/n02168699_2776.JPEG  \n",
            "  inflating: ./images/images/n02168699/n02168699_2787.JPEG  \n",
            "  inflating: ./images/images/n02168699/n02168699_2792.JPEG  \n",
            "  inflating: ./images/images/n02168699/n02168699_2794.JPEG  \n",
            "  inflating: ./images/images/n02168699/n02168699_2798.JPEG  \n",
            "  inflating: ./images/images/n02168699/n02168699_2811.JPEG  \n",
            "  inflating: ./images/images/n02168699/n02168699_2817.JPEG  \n",
            "  inflating: ./images/images/n02168699/n02168699_2825.JPEG  \n",
            "  inflating: ./images/images/n02168699/n02168699_2841.JPEG  \n",
            "  inflating: ./images/images/n02168699/n02168699_2842.JPEG  \n",
            "  inflating: ./images/images/n02168699/n02168699_2843.JPEG  \n",
            "  inflating: ./images/images/n02168699/n02168699_2867.JPEG  \n",
            "  inflating: ./images/images/n02168699/n02168699_2893.JPEG  \n",
            "  inflating: ./images/images/n02168699/n02168699_2900.JPEG  \n",
            "  inflating: ./images/images/n02168699/n02168699_2911.JPEG  \n",
            "  inflating: ./images/images/n02168699/n02168699_2915.JPEG  \n",
            "  inflating: ./images/images/n02168699/n02168699_2918.JPEG  \n",
            "  inflating: ./images/images/n02168699/n02168699_2919.JPEG  \n",
            "  inflating: ./images/images/n02168699/n02168699_2920.JPEG  \n",
            "  inflating: ./images/images/n02168699/n02168699_295.JPEG  \n",
            "  inflating: ./images/images/n02168699/n02168699_2959.JPEG  \n",
            "  inflating: ./images/images/n02168699/n02168699_2971.JPEG  \n",
            "  inflating: ./images/images/n02168699/n02168699_2974.JPEG  \n",
            "  inflating: ./images/images/n02168699/n02168699_2975.JPEG  \n",
            "  inflating: ./images/images/n02168699/n02168699_2978.JPEG  \n",
            "  inflating: ./images/images/n02168699/n02168699_2981.JPEG  \n",
            "  inflating: ./images/images/n02168699/n02168699_2986.JPEG  \n",
            "  inflating: ./images/images/n02168699/n02168699_301.JPEG  \n",
            "  inflating: ./images/images/n02168699/n02168699_3015.JPEG  \n",
            "  inflating: ./images/images/n02168699/n02168699_3020.JPEG  \n",
            "  inflating: ./images/images/n02168699/n02168699_3026.JPEG  \n",
            "  inflating: ./images/images/n02168699/n02168699_3027.JPEG  \n",
            "  inflating: ./images/images/n02168699/n02168699_3035.JPEG  \n",
            "  inflating: ./images/images/n02168699/n02168699_305.JPEG  \n",
            "  inflating: ./images/images/n02168699/n02168699_3053.JPEG  \n",
            "  inflating: ./images/images/n02168699/n02168699_3060.JPEG  \n",
            "  inflating: ./images/images/n02168699/n02168699_3064.JPEG  \n",
            "  inflating: ./images/images/n02168699/n02168699_3067.JPEG  \n",
            "  inflating: ./images/images/n02168699/n02168699_3070.JPEG  \n",
            "  inflating: ./images/images/n02168699/n02168699_3081.JPEG  \n",
            "  inflating: ./images/images/n02168699/n02168699_3106.JPEG  \n",
            "  inflating: ./images/images/n02168699/n02168699_315.JPEG  \n",
            "  inflating: ./images/images/n02168699/n02168699_3151.JPEG  \n",
            "  inflating: ./images/images/n02168699/n02168699_3156.JPEG  \n",
            "  inflating: ./images/images/n02168699/n02168699_3164.JPEG  \n",
            "  inflating: ./images/images/n02168699/n02168699_3165.JPEG  \n",
            "  inflating: ./images/images/n02168699/n02168699_3167.JPEG  \n",
            "  inflating: ./images/images/n02168699/n02168699_3181.JPEG  \n",
            "  inflating: ./images/images/n02168699/n02168699_3183.JPEG  \n",
            "  inflating: ./images/images/n02168699/n02168699_3184.JPEG  \n",
            "  inflating: ./images/images/n02168699/n02168699_3187.JPEG  \n",
            "  inflating: ./images/images/n02168699/n02168699_3196.JPEG  \n",
            "  inflating: ./images/images/n02168699/n02168699_3199.JPEG  \n",
            "  inflating: ./images/images/n02168699/n02168699_3201.JPEG  \n",
            "  inflating: ./images/images/n02168699/n02168699_3204.JPEG  \n",
            "  inflating: ./images/images/n02168699/n02168699_321.JPEG  \n",
            "  inflating: ./images/images/n02168699/n02168699_3214.JPEG  \n",
            "  inflating: ./images/images/n02168699/n02168699_322.JPEG  \n",
            "  inflating: ./images/images/n02168699/n02168699_3240.JPEG  \n",
            "  inflating: ./images/images/n02168699/n02168699_3246.JPEG  \n",
            "  inflating: ./images/images/n02168699/n02168699_3252.JPEG  \n",
            "  inflating: ./images/images/n02168699/n02168699_3259.JPEG  \n",
            "  inflating: ./images/images/n02168699/n02168699_3261.JPEG  \n",
            "  inflating: ./images/images/n02168699/n02168699_3276.JPEG  \n",
            "  inflating: ./images/images/n02168699/n02168699_3283.JPEG  \n",
            "  inflating: ./images/images/n02168699/n02168699_3284.JPEG  \n",
            "  inflating: ./images/images/n02168699/n02168699_3287.JPEG  \n",
            "  inflating: ./images/images/n02168699/n02168699_3289.JPEG  \n",
            "  inflating: ./images/images/n02168699/n02168699_3294.JPEG  \n",
            "  inflating: ./images/images/n02168699/n02168699_3297.JPEG  \n",
            "  inflating: ./images/images/n02168699/n02168699_3299.JPEG  \n",
            "  inflating: ./images/images/n02168699/n02168699_33.JPEG  \n",
            "  inflating: ./images/images/n02168699/n02168699_3305.JPEG  \n",
            "  inflating: ./images/images/n02168699/n02168699_3310.JPEG  \n",
            "  inflating: ./images/images/n02168699/n02168699_3313.JPEG  \n",
            "  inflating: ./images/images/n02168699/n02168699_3331.JPEG  \n",
            "  inflating: ./images/images/n02168699/n02168699_3338.JPEG  \n",
            "  inflating: ./images/images/n02168699/n02168699_3354.JPEG  \n",
            "  inflating: ./images/images/n02168699/n02168699_3355.JPEG  \n",
            "  inflating: ./images/images/n02168699/n02168699_3358.JPEG  \n",
            "  inflating: ./images/images/n02168699/n02168699_3369.JPEG  \n",
            "  inflating: ./images/images/n02168699/n02168699_338.JPEG  \n",
            "  inflating: ./images/images/n02168699/n02168699_3383.JPEG  \n",
            "  inflating: ./images/images/n02168699/n02168699_3393.JPEG  \n",
            "  inflating: ./images/images/n02168699/n02168699_3396.JPEG  \n",
            "  inflating: ./images/images/n02168699/n02168699_340.JPEG  \n",
            "  inflating: ./images/images/n02168699/n02168699_341.JPEG  \n",
            "  inflating: ./images/images/n02168699/n02168699_3412.JPEG  \n",
            "  inflating: ./images/images/n02168699/n02168699_3417.JPEG  \n",
            "  inflating: ./images/images/n02168699/n02168699_3420.JPEG  \n",
            "  inflating: ./images/images/n02168699/n02168699_3422.JPEG  \n",
            "  inflating: ./images/images/n02168699/n02168699_3425.JPEG  \n",
            "  inflating: ./images/images/n02168699/n02168699_3427.JPEG  \n",
            "  inflating: ./images/images/n02168699/n02168699_3429.JPEG  \n",
            "  inflating: ./images/images/n02168699/n02168699_3437.JPEG  \n",
            "  inflating: ./images/images/n02168699/n02168699_3438.JPEG  \n",
            "  inflating: ./images/images/n02168699/n02168699_3454.JPEG  \n",
            "  inflating: ./images/images/n02168699/n02168699_3456.JPEG  \n",
            "  inflating: ./images/images/n02168699/n02168699_3463.JPEG  \n",
            "  inflating: ./images/images/n02168699/n02168699_3470.JPEG  \n",
            "  inflating: ./images/images/n02168699/n02168699_3475.JPEG  \n",
            "  inflating: ./images/images/n02168699/n02168699_3477.JPEG  \n",
            "  inflating: ./images/images/n02168699/n02168699_349.JPEG  \n",
            "  inflating: ./images/images/n02168699/n02168699_3497.JPEG  \n",
            "  inflating: ./images/images/n02168699/n02168699_351.JPEG  \n",
            "  inflating: ./images/images/n02168699/n02168699_3521.JPEG  \n",
            "  inflating: ./images/images/n02168699/n02168699_3525.JPEG  \n",
            "  inflating: ./images/images/n02168699/n02168699_3547.JPEG  \n",
            "  inflating: ./images/images/n02168699/n02168699_3552.JPEG  \n",
            "  inflating: ./images/images/n02168699/n02168699_3554.JPEG  \n",
            "  inflating: ./images/images/n02168699/n02168699_3565.JPEG  \n",
            "  inflating: ./images/images/n02168699/n02168699_3566.JPEG  \n",
            "  inflating: ./images/images/n02168699/n02168699_3569.JPEG  \n",
            "  inflating: ./images/images/n02168699/n02168699_3580.JPEG  \n",
            "  inflating: ./images/images/n02168699/n02168699_3583.JPEG  \n",
            "  inflating: ./images/images/n02168699/n02168699_3586.JPEG  \n",
            "  inflating: ./images/images/n02168699/n02168699_3592.JPEG  \n",
            "  inflating: ./images/images/n02168699/n02168699_3603.JPEG  \n",
            "  inflating: ./images/images/n02168699/n02168699_3606.JPEG  \n",
            "  inflating: ./images/images/n02168699/n02168699_3608.JPEG  \n",
            "  inflating: ./images/images/n02168699/n02168699_3609.JPEG  \n",
            "  inflating: ./images/images/n02168699/n02168699_3610.JPEG  \n",
            "  inflating: ./images/images/n02168699/n02168699_3617.JPEG  \n",
            "  inflating: ./images/images/n02168699/n02168699_3619.JPEG  \n",
            "  inflating: ./images/images/n02168699/n02168699_3621.JPEG  \n",
            "  inflating: ./images/images/n02168699/n02168699_3629.JPEG  \n",
            "  inflating: ./images/images/n02168699/n02168699_363.JPEG  \n",
            "  inflating: ./images/images/n02168699/n02168699_3632.JPEG  \n",
            "  inflating: ./images/images/n02168699/n02168699_3654.JPEG  \n",
            "  inflating: ./images/images/n02168699/n02168699_3659.JPEG  \n",
            "  inflating: ./images/images/n02168699/n02168699_3662.JPEG  \n",
            "  inflating: ./images/images/n02168699/n02168699_3672.JPEG  \n",
            "  inflating: ./images/images/n02168699/n02168699_3680.JPEG  \n",
            "  inflating: ./images/images/n02168699/n02168699_3683.JPEG  \n",
            "  inflating: ./images/images/n02168699/n02168699_3692.JPEG  \n",
            "  inflating: ./images/images/n02168699/n02168699_3693.JPEG  \n",
            "  inflating: ./images/images/n02168699/n02168699_3727.JPEG  \n",
            "  inflating: ./images/images/n02168699/n02168699_3729.JPEG  \n",
            "  inflating: ./images/images/n02168699/n02168699_3732.JPEG  \n",
            "  inflating: ./images/images/n02168699/n02168699_3735.JPEG  \n",
            "  inflating: ./images/images/n02168699/n02168699_3739.JPEG  \n",
            "  inflating: ./images/images/n02168699/n02168699_3748.JPEG  \n",
            "  inflating: ./images/images/n02168699/n02168699_3754.JPEG  \n",
            "  inflating: ./images/images/n02168699/n02168699_3758.JPEG  \n",
            "  inflating: ./images/images/n02168699/n02168699_3769.JPEG  \n",
            "  inflating: ./images/images/n02168699/n02168699_3773.JPEG  \n",
            "  inflating: ./images/images/n02168699/n02168699_3789.JPEG  \n",
            "  inflating: ./images/images/n02168699/n02168699_3798.JPEG  \n",
            "  inflating: ./images/images/n02168699/n02168699_3816.JPEG  \n",
            "  inflating: ./images/images/n02168699/n02168699_3827.JPEG  \n",
            "  inflating: ./images/images/n02168699/n02168699_3849.JPEG  \n",
            "  inflating: ./images/images/n02168699/n02168699_3857.JPEG  \n",
            "  inflating: ./images/images/n02168699/n02168699_3858.JPEG  \n",
            "  inflating: ./images/images/n02168699/n02168699_3862.JPEG  \n",
            "  inflating: ./images/images/n02168699/n02168699_3883.JPEG  \n",
            "  inflating: ./images/images/n02168699/n02168699_3884.JPEG  \n",
            "  inflating: ./images/images/n02168699/n02168699_3889.JPEG  \n",
            "  inflating: ./images/images/n02168699/n02168699_3890.JPEG  \n",
            "  inflating: ./images/images/n02168699/n02168699_3897.JPEG  \n",
            "  inflating: ./images/images/n02168699/n02168699_390.JPEG  \n",
            "  inflating: ./images/images/n02168699/n02168699_3903.JPEG  \n",
            "  inflating: ./images/images/n02168699/n02168699_391.JPEG  \n",
            "  inflating: ./images/images/n02168699/n02168699_392.JPEG  \n",
            "  inflating: ./images/images/n02168699/n02168699_3931.JPEG  \n",
            "  inflating: ./images/images/n02168699/n02168699_3954.JPEG  \n",
            "  inflating: ./images/images/n02168699/n02168699_3960.JPEG  \n",
            "  inflating: ./images/images/n02168699/n02168699_3971.JPEG  \n",
            "  inflating: ./images/images/n02168699/n02168699_3975.JPEG  \n",
            "  inflating: ./images/images/n02168699/n02168699_399.JPEG  \n",
            "  inflating: ./images/images/n02168699/n02168699_3994.JPEG  \n",
            "  inflating: ./images/images/n02168699/n02168699_4009.JPEG  \n",
            "  inflating: ./images/images/n02168699/n02168699_4018.JPEG  \n",
            "  inflating: ./images/images/n02168699/n02168699_4019.JPEG  \n",
            "  inflating: ./images/images/n02168699/n02168699_4022.JPEG  \n",
            "  inflating: ./images/images/n02168699/n02168699_4031.JPEG  \n",
            "  inflating: ./images/images/n02168699/n02168699_4035.JPEG  \n",
            "  inflating: ./images/images/n02168699/n02168699_4042.JPEG  \n",
            "  inflating: ./images/images/n02168699/n02168699_4046.JPEG  \n",
            "  inflating: ./images/images/n02168699/n02168699_4058.JPEG  \n",
            "  inflating: ./images/images/n02168699/n02168699_4063.JPEG  \n",
            "  inflating: ./images/images/n02168699/n02168699_4064.JPEG  \n",
            "  inflating: ./images/images/n02168699/n02168699_4088.JPEG  \n",
            "  inflating: ./images/images/n02168699/n02168699_409.JPEG  \n",
            "  inflating: ./images/images/n02168699/n02168699_4101.JPEG  \n",
            "  inflating: ./images/images/n02168699/n02168699_4115.JPEG  \n",
            "  inflating: ./images/images/n02168699/n02168699_414.JPEG  \n",
            "  inflating: ./images/images/n02168699/n02168699_4146.JPEG  \n",
            "  inflating: ./images/images/n02168699/n02168699_4158.JPEG  \n",
            "  inflating: ./images/images/n02168699/n02168699_416.JPEG  \n",
            "  inflating: ./images/images/n02168699/n02168699_4183.JPEG  \n",
            "  inflating: ./images/images/n02168699/n02168699_4186.JPEG  \n",
            "  inflating: ./images/images/n02168699/n02168699_4192.JPEG  \n",
            "  inflating: ./images/images/n02168699/n02168699_4202.JPEG  \n",
            "  inflating: ./images/images/n02168699/n02168699_4203.JPEG  \n",
            "  inflating: ./images/images/n02168699/n02168699_4205.JPEG  \n",
            "  inflating: ./images/images/n02168699/n02168699_4215.JPEG  \n",
            "  inflating: ./images/images/n02168699/n02168699_4216.JPEG  \n",
            "  inflating: ./images/images/n02168699/n02168699_4220.JPEG  \n",
            "  inflating: ./images/images/n02168699/n02168699_4221.JPEG  \n",
            "  inflating: ./images/images/n02168699/n02168699_4223.JPEG  \n",
            "  inflating: ./images/images/n02168699/n02168699_4240.JPEG  \n",
            "  inflating: ./images/images/n02168699/n02168699_4247.JPEG  \n",
            "  inflating: ./images/images/n02168699/n02168699_4253.JPEG  \n",
            "  inflating: ./images/images/n02168699/n02168699_4256.JPEG  \n",
            "  inflating: ./images/images/n02168699/n02168699_426.JPEG  \n",
            "  inflating: ./images/images/n02168699/n02168699_4275.JPEG  \n",
            "  inflating: ./images/images/n02168699/n02168699_4280.JPEG  \n",
            "  inflating: ./images/images/n02168699/n02168699_4290.JPEG  \n",
            "  inflating: ./images/images/n02168699/n02168699_43.JPEG  \n",
            "  inflating: ./images/images/n02168699/n02168699_4301.JPEG  \n",
            "  inflating: ./images/images/n02168699/n02168699_4305.JPEG  \n",
            "  inflating: ./images/images/n02168699/n02168699_4309.JPEG  \n",
            "  inflating: ./images/images/n02168699/n02168699_4321.JPEG  \n",
            "  inflating: ./images/images/n02168699/n02168699_4342.JPEG  \n",
            "  inflating: ./images/images/n02168699/n02168699_4358.JPEG  \n",
            "  inflating: ./images/images/n02168699/n02168699_4369.JPEG  \n",
            "  inflating: ./images/images/n02168699/n02168699_437.JPEG  \n",
            "  inflating: ./images/images/n02168699/n02168699_4372.JPEG  \n",
            "  inflating: ./images/images/n02168699/n02168699_4373.JPEG  \n",
            "  inflating: ./images/images/n02168699/n02168699_4377.JPEG  \n",
            "  inflating: ./images/images/n02168699/n02168699_439.JPEG  \n",
            "  inflating: ./images/images/n02168699/n02168699_4393.JPEG  \n",
            "  inflating: ./images/images/n02168699/n02168699_4401.JPEG  \n",
            "  inflating: ./images/images/n02168699/n02168699_4402.JPEG  \n",
            "  inflating: ./images/images/n02168699/n02168699_441.JPEG  \n",
            "  inflating: ./images/images/n02168699/n02168699_4429.JPEG  \n",
            "  inflating: ./images/images/n02168699/n02168699_4453.JPEG  \n",
            "  inflating: ./images/images/n02168699/n02168699_4456.JPEG  \n",
            "  inflating: ./images/images/n02168699/n02168699_4460.JPEG  \n",
            "  inflating: ./images/images/n02168699/n02168699_4466.JPEG  \n",
            "  inflating: ./images/images/n02168699/n02168699_4467.JPEG  \n",
            "  inflating: ./images/images/n02168699/n02168699_4469.JPEG  \n",
            "  inflating: ./images/images/n02168699/n02168699_4478.JPEG  \n",
            "  inflating: ./images/images/n02168699/n02168699_4480.JPEG  \n",
            "  inflating: ./images/images/n02168699/n02168699_4485.JPEG  \n",
            "  inflating: ./images/images/n02168699/n02168699_4486.JPEG  \n",
            "  inflating: ./images/images/n02168699/n02168699_4494.JPEG  \n",
            "  inflating: ./images/images/n02168699/n02168699_4505.JPEG  \n",
            "  inflating: ./images/images/n02168699/n02168699_4508.JPEG  \n",
            "  inflating: ./images/images/n02168699/n02168699_4510.JPEG  \n",
            "  inflating: ./images/images/n02168699/n02168699_4511.JPEG  \n",
            "  inflating: ./images/images/n02168699/n02168699_4519.JPEG  \n",
            "  inflating: ./images/images/n02168699/n02168699_4522.JPEG  \n",
            "  inflating: ./images/images/n02168699/n02168699_4524.JPEG  \n",
            "  inflating: ./images/images/n02168699/n02168699_4531.JPEG  \n",
            "  inflating: ./images/images/n02168699/n02168699_4545.JPEG  \n",
            "  inflating: ./images/images/n02168699/n02168699_4547.JPEG  \n",
            "  inflating: ./images/images/n02168699/n02168699_4553.JPEG  \n",
            "  inflating: ./images/images/n02168699/n02168699_4563.JPEG  \n",
            "  inflating: ./images/images/n02168699/n02168699_4573.JPEG  \n",
            "  inflating: ./images/images/n02168699/n02168699_4575.JPEG  \n",
            "  inflating: ./images/images/n02168699/n02168699_4609.JPEG  \n",
            "  inflating: ./images/images/n02168699/n02168699_4616.JPEG  \n",
            "  inflating: ./images/images/n02168699/n02168699_4634.JPEG  \n",
            "  inflating: ./images/images/n02168699/n02168699_4636.JPEG  \n",
            "  inflating: ./images/images/n02168699/n02168699_464.JPEG  \n",
            "  inflating: ./images/images/n02168699/n02168699_466.JPEG  \n",
            "  inflating: ./images/images/n02168699/n02168699_4660.JPEG  \n",
            "  inflating: ./images/images/n02168699/n02168699_4675.JPEG  \n",
            "  inflating: ./images/images/n02168699/n02168699_4677.JPEG  \n",
            "  inflating: ./images/images/n02168699/n02168699_4678.JPEG  \n",
            "  inflating: ./images/images/n02168699/n02168699_4681.JPEG  \n",
            "  inflating: ./images/images/n02168699/n02168699_4689.JPEG  \n",
            "  inflating: ./images/images/n02168699/n02168699_469.JPEG  \n",
            "  inflating: ./images/images/n02168699/n02168699_4697.JPEG  \n",
            "  inflating: ./images/images/n02168699/n02168699_4725.JPEG  \n",
            "  inflating: ./images/images/n02168699/n02168699_4729.JPEG  \n",
            "  inflating: ./images/images/n02168699/n02168699_4735.JPEG  \n",
            "  inflating: ./images/images/n02168699/n02168699_4742.JPEG  \n",
            "  inflating: ./images/images/n02168699/n02168699_4751.JPEG  \n",
            "  inflating: ./images/images/n02168699/n02168699_4774.JPEG  \n",
            "  inflating: ./images/images/n02168699/n02168699_4801.JPEG  \n",
            "  inflating: ./images/images/n02168699/n02168699_4829.JPEG  \n",
            "  inflating: ./images/images/n02168699/n02168699_4836.JPEG  \n",
            "  inflating: ./images/images/n02168699/n02168699_4843.JPEG  \n",
            "  inflating: ./images/images/n02168699/n02168699_4846.JPEG  \n",
            "  inflating: ./images/images/n02168699/n02168699_4853.JPEG  \n",
            "  inflating: ./images/images/n02168699/n02168699_4861.JPEG  \n",
            "  inflating: ./images/images/n02168699/n02168699_4864.JPEG  \n",
            "  inflating: ./images/images/n02168699/n02168699_4868.JPEG  \n",
            "  inflating: ./images/images/n02168699/n02168699_4871.JPEG  \n",
            "  inflating: ./images/images/n02168699/n02168699_4878.JPEG  \n",
            "  inflating: ./images/images/n02168699/n02168699_4893.JPEG  \n",
            "  inflating: ./images/images/n02168699/n02168699_4901.JPEG  \n",
            "  inflating: ./images/images/n02168699/n02168699_4907.JPEG  \n",
            "  inflating: ./images/images/n02168699/n02168699_4911.JPEG  \n",
            "  inflating: ./images/images/n02168699/n02168699_4929.JPEG  \n",
            "  inflating: ./images/images/n02168699/n02168699_4935.JPEG  \n",
            "  inflating: ./images/images/n02168699/n02168699_4957.JPEG  \n",
            "  inflating: ./images/images/n02168699/n02168699_4960.JPEG  \n",
            "  inflating: ./images/images/n02168699/n02168699_4985.JPEG  \n",
            "  inflating: ./images/images/n02168699/n02168699_4994.JPEG  \n",
            "  inflating: ./images/images/n02168699/n02168699_4995.JPEG  \n",
            "  inflating: ./images/images/n02168699/n02168699_5044.JPEG  \n",
            "  inflating: ./images/images/n02168699/n02168699_5045.JPEG  \n",
            "  inflating: ./images/images/n02168699/n02168699_5049.JPEG  \n",
            "  inflating: ./images/images/n02168699/n02168699_505.JPEG  \n",
            "  inflating: ./images/images/n02168699/n02168699_5052.JPEG  \n",
            "  inflating: ./images/images/n02168699/n02168699_5084.JPEG  \n",
            "  inflating: ./images/images/n02168699/n02168699_512.JPEG  \n",
            "  inflating: ./images/images/n02168699/n02168699_5126.JPEG  \n",
            "  inflating: ./images/images/n02168699/n02168699_5127.JPEG  \n",
            "  inflating: ./images/images/n02168699/n02168699_5143.JPEG  \n",
            "  inflating: ./images/images/n02168699/n02168699_516.JPEG  \n",
            "  inflating: ./images/images/n02168699/n02168699_5174.JPEG  \n",
            "  inflating: ./images/images/n02168699/n02168699_5178.JPEG  \n",
            "  inflating: ./images/images/n02168699/n02168699_5200.JPEG  \n",
            "  inflating: ./images/images/n02168699/n02168699_5218.JPEG  \n",
            "  inflating: ./images/images/n02168699/n02168699_522.JPEG  \n",
            "  inflating: ./images/images/n02168699/n02168699_5223.JPEG  \n",
            "  inflating: ./images/images/n02168699/n02168699_5228.JPEG  \n",
            "  inflating: ./images/images/n02168699/n02168699_5240.JPEG  \n",
            "  inflating: ./images/images/n02168699/n02168699_525.JPEG  \n",
            "  inflating: ./images/images/n02168699/n02168699_5263.JPEG  \n",
            "  inflating: ./images/images/n02168699/n02168699_5264.JPEG  \n",
            "  inflating: ./images/images/n02168699/n02168699_5279.JPEG  \n",
            "  inflating: ./images/images/n02168699/n02168699_5313.JPEG  \n",
            "  inflating: ./images/images/n02168699/n02168699_5335.JPEG  \n",
            "  inflating: ./images/images/n02168699/n02168699_5366.JPEG  \n",
            "  inflating: ./images/images/n02168699/n02168699_5383.JPEG  \n",
            "  inflating: ./images/images/n02168699/n02168699_5394.JPEG  \n",
            "  inflating: ./images/images/n02168699/n02168699_54.JPEG  \n",
            "  inflating: ./images/images/n02168699/n02168699_5402.JPEG  \n",
            "  inflating: ./images/images/n02168699/n02168699_5403.JPEG  \n",
            "  inflating: ./images/images/n02168699/n02168699_5405.JPEG  \n",
            "  inflating: ./images/images/n02168699/n02168699_5411.JPEG  \n",
            "  inflating: ./images/images/n02168699/n02168699_5415.JPEG  \n",
            "  inflating: ./images/images/n02168699/n02168699_542.JPEG  \n",
            "  inflating: ./images/images/n02168699/n02168699_5431.JPEG  \n",
            "  inflating: ./images/images/n02168699/n02168699_5456.JPEG  \n",
            "  inflating: ./images/images/n02168699/n02168699_5459.JPEG  \n",
            "  inflating: ./images/images/n02168699/n02168699_546.JPEG  \n",
            "  inflating: ./images/images/n02168699/n02168699_548.JPEG  \n",
            "  inflating: ./images/images/n02168699/n02168699_5480.JPEG  \n",
            "  inflating: ./images/images/n02168699/n02168699_5498.JPEG  \n",
            "  inflating: ./images/images/n02168699/n02168699_5511.JPEG  \n",
            "  inflating: ./images/images/n02168699/n02168699_5515.JPEG  \n",
            "  inflating: ./images/images/n02168699/n02168699_5531.JPEG  \n",
            "  inflating: ./images/images/n02168699/n02168699_555.JPEG  \n",
            "  inflating: ./images/images/n02168699/n02168699_5562.JPEG  \n",
            "  inflating: ./images/images/n02168699/n02168699_5565.JPEG  \n",
            "  inflating: ./images/images/n02168699/n02168699_5568.JPEG  \n",
            "  inflating: ./images/images/n02168699/n02168699_5569.JPEG  \n",
            "  inflating: ./images/images/n02168699/n02168699_5583.JPEG  \n",
            "  inflating: ./images/images/n02168699/n02168699_5584.JPEG  \n",
            "  inflating: ./images/images/n02168699/n02168699_5605.JPEG  \n",
            "  inflating: ./images/images/n02168699/n02168699_5611.JPEG  \n",
            "  inflating: ./images/images/n02168699/n02168699_5616.JPEG  \n",
            "  inflating: ./images/images/n02168699/n02168699_5619.JPEG  \n",
            "  inflating: ./images/images/n02168699/n02168699_5647.JPEG  \n",
            "  inflating: ./images/images/n02168699/n02168699_565.JPEG  \n",
            "  inflating: ./images/images/n02168699/n02168699_5659.JPEG  \n",
            "  inflating: ./images/images/n02168699/n02168699_5660.JPEG  \n",
            "  inflating: ./images/images/n02168699/n02168699_5661.JPEG  \n",
            "  inflating: ./images/images/n02168699/n02168699_5671.JPEG  \n",
            "  inflating: ./images/images/n02168699/n02168699_5676.JPEG  \n",
            "  inflating: ./images/images/n02168699/n02168699_5692.JPEG  \n",
            "  inflating: ./images/images/n02168699/n02168699_5695.JPEG  \n",
            "  inflating: ./images/images/n02168699/n02168699_5696.JPEG  \n",
            "  inflating: ./images/images/n02168699/n02168699_5705.JPEG  \n",
            "  inflating: ./images/images/n02168699/n02168699_5715.JPEG  \n",
            "  inflating: ./images/images/n02168699/n02168699_5721.JPEG  \n",
            "  inflating: ./images/images/n02168699/n02168699_5729.JPEG  \n",
            "  inflating: ./images/images/n02168699/n02168699_5747.JPEG  \n",
            "  inflating: ./images/images/n02168699/n02168699_5753.JPEG  \n",
            "  inflating: ./images/images/n02168699/n02168699_576.JPEG  \n",
            "  inflating: ./images/images/n02168699/n02168699_5763.JPEG  \n",
            "  inflating: ./images/images/n02168699/n02168699_5780.JPEG  \n",
            "  inflating: ./images/images/n02168699/n02168699_5781.JPEG  \n",
            "  inflating: ./images/images/n02168699/n02168699_5788.JPEG  \n",
            "  inflating: ./images/images/n02168699/n02168699_5790.JPEG  \n",
            "  inflating: ./images/images/n02168699/n02168699_5792.JPEG  \n",
            "  inflating: ./images/images/n02168699/n02168699_5796.JPEG  \n",
            "  inflating: ./images/images/n02168699/n02168699_5806.JPEG  \n",
            "  inflating: ./images/images/n02168699/n02168699_5807.JPEG  \n",
            "  inflating: ./images/images/n02168699/n02168699_581.JPEG  \n",
            "  inflating: ./images/images/n02168699/n02168699_5833.JPEG  \n",
            "  inflating: ./images/images/n02168699/n02168699_584.JPEG  \n",
            "  inflating: ./images/images/n02168699/n02168699_5850.JPEG  \n",
            "  inflating: ./images/images/n02168699/n02168699_5864.JPEG  \n",
            "  inflating: ./images/images/n02168699/n02168699_5873.JPEG  \n",
            "  inflating: ./images/images/n02168699/n02168699_5877.JPEG  \n",
            "  inflating: ./images/images/n02168699/n02168699_5880.JPEG  \n",
            "  inflating: ./images/images/n02168699/n02168699_5899.JPEG  \n",
            "  inflating: ./images/images/n02168699/n02168699_590.JPEG  \n",
            "  inflating: ./images/images/n02168699/n02168699_5900.JPEG  \n",
            "  inflating: ./images/images/n02168699/n02168699_5903.JPEG  \n",
            "  inflating: ./images/images/n02168699/n02168699_5906.JPEG  \n",
            "  inflating: ./images/images/n02168699/n02168699_5913.JPEG  \n",
            "  inflating: ./images/images/n02168699/n02168699_5919.JPEG  \n",
            "  inflating: ./images/images/n02168699/n02168699_5934.JPEG  \n",
            "  inflating: ./images/images/n02168699/n02168699_5951.JPEG  \n",
            "  inflating: ./images/images/n02168699/n02168699_5955.JPEG  \n",
            "  inflating: ./images/images/n02168699/n02168699_5957.JPEG  \n",
            "  inflating: ./images/images/n02168699/n02168699_596.JPEG  \n",
            "  inflating: ./images/images/n02168699/n02168699_5964.JPEG  \n",
            "  inflating: ./images/images/n02168699/n02168699_5967.JPEG  \n",
            "  inflating: ./images/images/n02168699/n02168699_5980.JPEG  \n",
            "  inflating: ./images/images/n02168699/n02168699_5987.JPEG  \n",
            "  inflating: ./images/images/n02168699/n02168699_5991.JPEG  \n",
            "  inflating: ./images/images/n02168699/n02168699_5993.JPEG  \n",
            "  inflating: ./images/images/n02168699/n02168699_5998.JPEG  \n",
            "  inflating: ./images/images/n02168699/n02168699_6000.JPEG  \n",
            "  inflating: ./images/images/n02168699/n02168699_6001.JPEG  \n",
            "  inflating: ./images/images/n02168699/n02168699_601.JPEG  \n",
            "  inflating: ./images/images/n02168699/n02168699_6012.JPEG  \n",
            "  inflating: ./images/images/n02168699/n02168699_6025.JPEG  \n",
            "  inflating: ./images/images/n02168699/n02168699_6031.JPEG  \n",
            "  inflating: ./images/images/n02168699/n02168699_6048.JPEG  \n",
            "  inflating: ./images/images/n02168699/n02168699_6055.JPEG  \n",
            "  inflating: ./images/images/n02168699/n02168699_607.JPEG  \n",
            "  inflating: ./images/images/n02168699/n02168699_6077.JPEG  \n",
            "  inflating: ./images/images/n02168699/n02168699_6079.JPEG  \n",
            "  inflating: ./images/images/n02168699/n02168699_6084.JPEG  \n",
            "  inflating: ./images/images/n02168699/n02168699_6092.JPEG  \n",
            "  inflating: ./images/images/n02168699/n02168699_6095.JPEG  \n",
            "  inflating: ./images/images/n02168699/n02168699_61.JPEG  \n",
            "  inflating: ./images/images/n02168699/n02168699_6101.JPEG  \n",
            "  inflating: ./images/images/n02168699/n02168699_6107.JPEG  \n",
            "  inflating: ./images/images/n02168699/n02168699_6120.JPEG  \n",
            "  inflating: ./images/images/n02168699/n02168699_6125.JPEG  \n",
            "  inflating: ./images/images/n02168699/n02168699_613.JPEG  \n",
            "  inflating: ./images/images/n02168699/n02168699_6131.JPEG  \n",
            "  inflating: ./images/images/n02168699/n02168699_6133.JPEG  \n",
            "  inflating: ./images/images/n02168699/n02168699_6138.JPEG  \n",
            "  inflating: ./images/images/n02168699/n02168699_6145.JPEG  \n",
            "  inflating: ./images/images/n02168699/n02168699_6149.JPEG  \n",
            "  inflating: ./images/images/n02168699/n02168699_6150.JPEG  \n",
            "  inflating: ./images/images/n02168699/n02168699_6153.JPEG  \n",
            "  inflating: ./images/images/n02168699/n02168699_6163.JPEG  \n",
            "  inflating: ./images/images/n02168699/n02168699_620.JPEG  \n",
            "  inflating: ./images/images/n02168699/n02168699_6208.JPEG  \n",
            "  inflating: ./images/images/n02168699/n02168699_6213.JPEG  \n",
            "  inflating: ./images/images/n02168699/n02168699_6218.JPEG  \n",
            "  inflating: ./images/images/n02168699/n02168699_622.JPEG  \n",
            "  inflating: ./images/images/n02168699/n02168699_6227.JPEG  \n",
            "  inflating: ./images/images/n02168699/n02168699_6255.JPEG  \n",
            "  inflating: ./images/images/n02168699/n02168699_6264.JPEG  \n",
            "  inflating: ./images/images/n02168699/n02168699_6268.JPEG  \n",
            "  inflating: ./images/images/n02168699/n02168699_6279.JPEG  \n",
            "  inflating: ./images/images/n02168699/n02168699_6288.JPEG  \n",
            "  inflating: ./images/images/n02168699/n02168699_6291.JPEG  \n",
            "  inflating: ./images/images/n02168699/n02168699_6299.JPEG  \n",
            "  inflating: ./images/images/n02168699/n02168699_6300.JPEG  \n",
            "  inflating: ./images/images/n02168699/n02168699_6305.JPEG  \n",
            "  inflating: ./images/images/n02168699/n02168699_6308.JPEG  \n",
            "  inflating: ./images/images/n02168699/n02168699_6317.JPEG  \n",
            "  inflating: ./images/images/n02168699/n02168699_6322.JPEG  \n",
            "  inflating: ./images/images/n02168699/n02168699_6352.JPEG  \n",
            "  inflating: ./images/images/n02168699/n02168699_6353.JPEG  \n",
            "  inflating: ./images/images/n02168699/n02168699_6358.JPEG  \n",
            "  inflating: ./images/images/n02168699/n02168699_6364.JPEG  \n",
            "  inflating: ./images/images/n02168699/n02168699_6367.JPEG  \n",
            "  inflating: ./images/images/n02168699/n02168699_6373.JPEG  \n",
            "  inflating: ./images/images/n02168699/n02168699_6377.JPEG  \n",
            "  inflating: ./images/images/n02168699/n02168699_640.JPEG  \n",
            "  inflating: ./images/images/n02168699/n02168699_6408.JPEG  \n",
            "  inflating: ./images/images/n02168699/n02168699_6409.JPEG  \n",
            "  inflating: ./images/images/n02168699/n02168699_6412.JPEG  \n",
            "  inflating: ./images/images/n02168699/n02168699_6421.JPEG  \n",
            "  inflating: ./images/images/n02168699/n02168699_6423.JPEG  \n",
            "  inflating: ./images/images/n02168699/n02168699_6428.JPEG  \n",
            "  inflating: ./images/images/n02168699/n02168699_6442.JPEG  \n",
            "  inflating: ./images/images/n02168699/n02168699_6443.JPEG  \n",
            "  inflating: ./images/images/n02168699/n02168699_6448.JPEG  \n",
            "  inflating: ./images/images/n02168699/n02168699_645.JPEG  \n",
            "  inflating: ./images/images/n02168699/n02168699_6451.JPEG  \n",
            "  inflating: ./images/images/n02168699/n02168699_6454.JPEG  \n",
            "  inflating: ./images/images/n02168699/n02168699_6456.JPEG  \n",
            "  inflating: ./images/images/n02168699/n02168699_6470.JPEG  \n",
            "  inflating: ./images/images/n02168699/n02168699_6473.JPEG  \n",
            "  inflating: ./images/images/n02168699/n02168699_6475.JPEG  \n",
            "  inflating: ./images/images/n02168699/n02168699_6477.JPEG  \n",
            "  inflating: ./images/images/n02168699/n02168699_6487.JPEG  \n",
            "  inflating: ./images/images/n02168699/n02168699_6493.JPEG  \n",
            "  inflating: ./images/images/n02168699/n02168699_6494.JPEG  \n",
            "  inflating: ./images/images/n02168699/n02168699_6495.JPEG  \n",
            "  inflating: ./images/images/n02168699/n02168699_6501.JPEG  \n",
            "  inflating: ./images/images/n02168699/n02168699_6502.JPEG  \n",
            "  inflating: ./images/images/n02168699/n02168699_6508.JPEG  \n",
            "  inflating: ./images/images/n02168699/n02168699_6516.JPEG  \n",
            "  inflating: ./images/images/n02168699/n02168699_6519.JPEG  \n",
            "  inflating: ./images/images/n02168699/n02168699_6521.JPEG  \n",
            "  inflating: ./images/images/n02168699/n02168699_6523.JPEG  \n",
            "  inflating: ./images/images/n02168699/n02168699_6524.JPEG  \n",
            "  inflating: ./images/images/n02168699/n02168699_6525.JPEG  \n",
            "  inflating: ./images/images/n02168699/n02168699_653.JPEG  \n",
            "  inflating: ./images/images/n02168699/n02168699_6530.JPEG  \n",
            "  inflating: ./images/images/n02168699/n02168699_6539.JPEG  \n",
            "  inflating: ./images/images/n02168699/n02168699_6550.JPEG  \n",
            "  inflating: ./images/images/n02168699/n02168699_6570.JPEG  \n",
            "  inflating: ./images/images/n02168699/n02168699_6578.JPEG  \n",
            "  inflating: ./images/images/n02168699/n02168699_6579.JPEG  \n",
            "  inflating: ./images/images/n02168699/n02168699_6583.JPEG  \n",
            "  inflating: ./images/images/n02168699/n02168699_6585.JPEG  \n",
            "  inflating: ./images/images/n02168699/n02168699_6586.JPEG  \n",
            "  inflating: ./images/images/n02168699/n02168699_6598.JPEG  \n",
            "  inflating: ./images/images/n02168699/n02168699_660.JPEG  \n",
            "  inflating: ./images/images/n02168699/n02168699_6600.JPEG  \n",
            "  inflating: ./images/images/n02168699/n02168699_6604.JPEG  \n",
            "  inflating: ./images/images/n02168699/n02168699_6610.JPEG  \n",
            "  inflating: ./images/images/n02168699/n02168699_6621.JPEG  \n",
            "  inflating: ./images/images/n02168699/n02168699_6626.JPEG  \n",
            "  inflating: ./images/images/n02168699/n02168699_6637.JPEG  \n",
            "  inflating: ./images/images/n02168699/n02168699_6659.JPEG  \n",
            "  inflating: ./images/images/n02168699/n02168699_6669.JPEG  \n",
            "  inflating: ./images/images/n02168699/n02168699_667.JPEG  \n",
            "  inflating: ./images/images/n02168699/n02168699_6679.JPEG  \n",
            "  inflating: ./images/images/n02168699/n02168699_6691.JPEG  \n",
            "  inflating: ./images/images/n02168699/n02168699_6696.JPEG  \n",
            "  inflating: ./images/images/n02168699/n02168699_6698.JPEG  \n",
            "  inflating: ./images/images/n02168699/n02168699_6699.JPEG  \n",
            "  inflating: ./images/images/n02168699/n02168699_6707.JPEG  \n",
            "  inflating: ./images/images/n02168699/n02168699_671.JPEG  \n",
            "  inflating: ./images/images/n02168699/n02168699_6722.JPEG  \n",
            "  inflating: ./images/images/n02168699/n02168699_6724.JPEG  \n",
            "  inflating: ./images/images/n02168699/n02168699_6727.JPEG  \n",
            "  inflating: ./images/images/n02168699/n02168699_6731.JPEG  \n",
            "  inflating: ./images/images/n02168699/n02168699_6732.JPEG  \n",
            "  inflating: ./images/images/n02168699/n02168699_6740.JPEG  \n",
            "  inflating: ./images/images/n02168699/n02168699_6752.JPEG  \n",
            "  inflating: ./images/images/n02168699/n02168699_6760.JPEG  \n",
            "  inflating: ./images/images/n02168699/n02168699_6768.JPEG  \n",
            "  inflating: ./images/images/n02168699/n02168699_6778.JPEG  \n",
            "  inflating: ./images/images/n02168699/n02168699_6782.JPEG  \n",
            "  inflating: ./images/images/n02168699/n02168699_6788.JPEG  \n",
            "  inflating: ./images/images/n02168699/n02168699_679.JPEG  \n",
            "  inflating: ./images/images/n02168699/n02168699_6792.JPEG  \n",
            "  inflating: ./images/images/n02168699/n02168699_6794.JPEG  \n",
            "  inflating: ./images/images/n02168699/n02168699_6805.JPEG  \n",
            "  inflating: ./images/images/n02168699/n02168699_6808.JPEG  \n",
            "  inflating: ./images/images/n02168699/n02168699_6813.JPEG  \n",
            "  inflating: ./images/images/n02168699/n02168699_6819.JPEG  \n",
            "  inflating: ./images/images/n02168699/n02168699_682.JPEG  \n",
            "  inflating: ./images/images/n02168699/n02168699_6820.JPEG  \n",
            "  inflating: ./images/images/n02168699/n02168699_6829.JPEG  \n",
            "  inflating: ./images/images/n02168699/n02168699_6837.JPEG  \n",
            "  inflating: ./images/images/n02168699/n02168699_6838.JPEG  \n",
            "  inflating: ./images/images/n02168699/n02168699_6844.JPEG  \n",
            "  inflating: ./images/images/n02168699/n02168699_6848.JPEG  \n",
            "  inflating: ./images/images/n02168699/n02168699_6849.JPEG  \n",
            "  inflating: ./images/images/n02168699/n02168699_6850.JPEG  \n",
            "  inflating: ./images/images/n02168699/n02168699_6854.JPEG  \n",
            "  inflating: ./images/images/n02168699/n02168699_6856.JPEG  \n",
            "  inflating: ./images/images/n02168699/n02168699_6875.JPEG  \n",
            "  inflating: ./images/images/n02168699/n02168699_6884.JPEG  \n",
            "  inflating: ./images/images/n02168699/n02168699_6897.JPEG  \n",
            "  inflating: ./images/images/n02168699/n02168699_6900.JPEG  \n",
            "  inflating: ./images/images/n02168699/n02168699_6905.JPEG  \n",
            "  inflating: ./images/images/n02168699/n02168699_6907.JPEG  \n",
            "  inflating: ./images/images/n02168699/n02168699_6911.JPEG  \n",
            "  inflating: ./images/images/n02168699/n02168699_6912.JPEG  \n",
            "  inflating: ./images/images/n02168699/n02168699_6915.JPEG  \n",
            "  inflating: ./images/images/n02168699/n02168699_6916.JPEG  \n",
            "  inflating: ./images/images/n02168699/n02168699_6946.JPEG  \n",
            "  inflating: ./images/images/n02168699/n02168699_6951.JPEG  \n",
            "  inflating: ./images/images/n02168699/n02168699_6960.JPEG  \n",
            "  inflating: ./images/images/n02168699/n02168699_6964.JPEG  \n",
            "  inflating: ./images/images/n02168699/n02168699_6965.JPEG  \n",
            "  inflating: ./images/images/n02168699/n02168699_6969.JPEG  \n",
            "  inflating: ./images/images/n02168699/n02168699_6970.JPEG  \n",
            "  inflating: ./images/images/n02168699/n02168699_6973.JPEG  \n",
            "  inflating: ./images/images/n02168699/n02168699_6976.JPEG  \n",
            "  inflating: ./images/images/n02168699/n02168699_6977.JPEG  \n",
            "  inflating: ./images/images/n02168699/n02168699_6980.JPEG  \n",
            "  inflating: ./images/images/n02168699/n02168699_6984.JPEG  \n",
            "  inflating: ./images/images/n02168699/n02168699_6997.JPEG  \n",
            "  inflating: ./images/images/n02168699/n02168699_7001.JPEG  \n",
            "  inflating: ./images/images/n02168699/n02168699_7012.JPEG  \n",
            "  inflating: ./images/images/n02168699/n02168699_7015.JPEG  \n",
            "  inflating: ./images/images/n02168699/n02168699_7016.JPEG  \n",
            "  inflating: ./images/images/n02168699/n02168699_7017.JPEG  \n",
            "  inflating: ./images/images/n02168699/n02168699_7019.JPEG  \n",
            "  inflating: ./images/images/n02168699/n02168699_7020.JPEG  \n",
            "  inflating: ./images/images/n02168699/n02168699_7025.JPEG  \n",
            "  inflating: ./images/images/n02168699/n02168699_7035.JPEG  \n",
            "  inflating: ./images/images/n02168699/n02168699_7038.JPEG  \n",
            "  inflating: ./images/images/n02168699/n02168699_7044.JPEG  \n",
            "  inflating: ./images/images/n02168699/n02168699_7045.JPEG  \n",
            "  inflating: ./images/images/n02168699/n02168699_7052.JPEG  \n",
            "  inflating: ./images/images/n02168699/n02168699_7061.JPEG  \n",
            "  inflating: ./images/images/n02168699/n02168699_7068.JPEG  \n",
            "  inflating: ./images/images/n02168699/n02168699_7073.JPEG  \n",
            "  inflating: ./images/images/n02168699/n02168699_7074.JPEG  \n",
            "  inflating: ./images/images/n02168699/n02168699_7075.JPEG  \n",
            "  inflating: ./images/images/n02168699/n02168699_7077.JPEG  \n",
            "  inflating: ./images/images/n02168699/n02168699_7083.JPEG  \n",
            "  inflating: ./images/images/n02168699/n02168699_7116.JPEG  \n",
            "  inflating: ./images/images/n02168699/n02168699_7118.JPEG  \n",
            "  inflating: ./images/images/n02168699/n02168699_7128.JPEG  \n",
            "  inflating: ./images/images/n02168699/n02168699_7131.JPEG  \n",
            "  inflating: ./images/images/n02168699/n02168699_7136.JPEG  \n",
            "  inflating: ./images/images/n02168699/n02168699_7138.JPEG  \n",
            "  inflating: ./images/images/n02168699/n02168699_7145.JPEG  \n",
            "  inflating: ./images/images/n02168699/n02168699_7155.JPEG  \n",
            "  inflating: ./images/images/n02168699/n02168699_7161.JPEG  \n",
            "  inflating: ./images/images/n02168699/n02168699_7168.JPEG  \n",
            "  inflating: ./images/images/n02168699/n02168699_7169.JPEG  \n",
            "  inflating: ./images/images/n02168699/n02168699_7170.JPEG  \n",
            "  inflating: ./images/images/n02168699/n02168699_7177.JPEG  \n",
            "  inflating: ./images/images/n02168699/n02168699_7180.JPEG  \n",
            "  inflating: ./images/images/n02168699/n02168699_7183.JPEG  \n",
            "  inflating: ./images/images/n02168699/n02168699_7192.JPEG  \n",
            "  inflating: ./images/images/n02168699/n02168699_7200.JPEG  \n",
            "  inflating: ./images/images/n02168699/n02168699_7211.JPEG  \n",
            "  inflating: ./images/images/n02168699/n02168699_7212.JPEG  \n",
            "  inflating: ./images/images/n02168699/n02168699_7214.JPEG  \n",
            "  inflating: ./images/images/n02168699/n02168699_7216.JPEG  \n",
            "  inflating: ./images/images/n02168699/n02168699_722.JPEG  \n",
            "  inflating: ./images/images/n02168699/n02168699_7223.JPEG  \n",
            "  inflating: ./images/images/n02168699/n02168699_723.JPEG  \n",
            "  inflating: ./images/images/n02168699/n02168699_7231.JPEG  \n",
            "  inflating: ./images/images/n02168699/n02168699_7235.JPEG  \n",
            "  inflating: ./images/images/n02168699/n02168699_7236.JPEG  \n",
            "  inflating: ./images/images/n02168699/n02168699_7242.JPEG  \n",
            "  inflating: ./images/images/n02168699/n02168699_7249.JPEG  \n",
            "  inflating: ./images/images/n02168699/n02168699_7251.JPEG  \n",
            "  inflating: ./images/images/n02168699/n02168699_7267.JPEG  \n",
            "  inflating: ./images/images/n02168699/n02168699_7268.JPEG  \n",
            "  inflating: ./images/images/n02168699/n02168699_7279.JPEG  \n",
            "  inflating: ./images/images/n02168699/n02168699_7280.JPEG  \n",
            "  inflating: ./images/images/n02168699/n02168699_7288.JPEG  \n",
            "  inflating: ./images/images/n02168699/n02168699_7294.JPEG  \n",
            "  inflating: ./images/images/n02168699/n02168699_7300.JPEG  \n",
            "  inflating: ./images/images/n02168699/n02168699_7304.JPEG  \n",
            "  inflating: ./images/images/n02168699/n02168699_7338.JPEG  \n",
            "  inflating: ./images/images/n02168699/n02168699_734.JPEG  \n",
            "  inflating: ./images/images/n02168699/n02168699_7348.JPEG  \n",
            "  inflating: ./images/images/n02168699/n02168699_735.JPEG  \n",
            "  inflating: ./images/images/n02168699/n02168699_7354.JPEG  \n",
            "  inflating: ./images/images/n02168699/n02168699_7361.JPEG  \n",
            "  inflating: ./images/images/n02168699/n02168699_7370.JPEG  \n",
            "  inflating: ./images/images/n02168699/n02168699_7371.JPEG  \n",
            "  inflating: ./images/images/n02168699/n02168699_7372.JPEG  \n",
            "  inflating: ./images/images/n02168699/n02168699_7377.JPEG  \n",
            "  inflating: ./images/images/n02168699/n02168699_7378.JPEG  \n",
            "  inflating: ./images/images/n02168699/n02168699_7395.JPEG  \n",
            "  inflating: ./images/images/n02168699/n02168699_7403.JPEG  \n",
            "  inflating: ./images/images/n02168699/n02168699_7405.JPEG  \n",
            "  inflating: ./images/images/n02168699/n02168699_7420.JPEG  \n",
            "  inflating: ./images/images/n02168699/n02168699_7430.JPEG  \n",
            "  inflating: ./images/images/n02168699/n02168699_7436.JPEG  \n",
            "  inflating: ./images/images/n02168699/n02168699_744.JPEG  \n",
            "  inflating: ./images/images/n02168699/n02168699_7440.JPEG  \n",
            "  inflating: ./images/images/n02168699/n02168699_7454.JPEG  \n",
            "  inflating: ./images/images/n02168699/n02168699_7464.JPEG  \n",
            "  inflating: ./images/images/n02168699/n02168699_7467.JPEG  \n",
            "  inflating: ./images/images/n02168699/n02168699_7470.JPEG  \n",
            "  inflating: ./images/images/n02168699/n02168699_7473.JPEG  \n",
            "  inflating: ./images/images/n02168699/n02168699_7474.JPEG  \n",
            "  inflating: ./images/images/n02168699/n02168699_7481.JPEG  \n",
            "  inflating: ./images/images/n02168699/n02168699_7483.JPEG  \n",
            "  inflating: ./images/images/n02168699/n02168699_749.JPEG  \n",
            "  inflating: ./images/images/n02168699/n02168699_7491.JPEG  \n",
            "  inflating: ./images/images/n02168699/n02168699_7495.JPEG  \n",
            "  inflating: ./images/images/n02168699/n02168699_7498.JPEG  \n",
            "  inflating: ./images/images/n02168699/n02168699_751.JPEG  \n",
            "  inflating: ./images/images/n02168699/n02168699_7510.JPEG  \n",
            "  inflating: ./images/images/n02168699/n02168699_7522.JPEG  \n",
            "  inflating: ./images/images/n02168699/n02168699_7542.JPEG  \n",
            "  inflating: ./images/images/n02168699/n02168699_7545.JPEG  \n",
            "  inflating: ./images/images/n02168699/n02168699_7548.JPEG  \n",
            "  inflating: ./images/images/n02168699/n02168699_755.JPEG  \n",
            "  inflating: ./images/images/n02168699/n02168699_7554.JPEG  \n",
            "  inflating: ./images/images/n02168699/n02168699_7569.JPEG  \n",
            "  inflating: ./images/images/n02168699/n02168699_7573.JPEG  \n",
            "  inflating: ./images/images/n02168699/n02168699_7575.JPEG  \n",
            "  inflating: ./images/images/n02168699/n02168699_7579.JPEG  \n",
            "  inflating: ./images/images/n02168699/n02168699_7589.JPEG  \n",
            "  inflating: ./images/images/n02168699/n02168699_7603.JPEG  \n",
            "  inflating: ./images/images/n02168699/n02168699_7610.JPEG  \n",
            "  inflating: ./images/images/n02168699/n02168699_7620.JPEG  \n",
            "  inflating: ./images/images/n02168699/n02168699_7631.JPEG  \n",
            "  inflating: ./images/images/n02168699/n02168699_7632.JPEG  \n",
            "  inflating: ./images/images/n02168699/n02168699_7634.JPEG  \n",
            "  inflating: ./images/images/n02168699/n02168699_7636.JPEG  \n",
            "  inflating: ./images/images/n02168699/n02168699_7637.JPEG  \n",
            "  inflating: ./images/images/n02168699/n02168699_7639.JPEG  \n",
            "  inflating: ./images/images/n02168699/n02168699_7645.JPEG  \n",
            "  inflating: ./images/images/n02168699/n02168699_7655.JPEG  \n",
            "  inflating: ./images/images/n02168699/n02168699_7660.JPEG  \n",
            "  inflating: ./images/images/n02168699/n02168699_7664.JPEG  \n",
            "  inflating: ./images/images/n02168699/n02168699_7668.JPEG  \n",
            "  inflating: ./images/images/n02168699/n02168699_7671.JPEG  \n",
            "  inflating: ./images/images/n02168699/n02168699_7691.JPEG  \n",
            "  inflating: ./images/images/n02168699/n02168699_7695.JPEG  \n",
            "  inflating: ./images/images/n02168699/n02168699_7697.JPEG  \n",
            "  inflating: ./images/images/n02168699/n02168699_7699.JPEG  \n",
            "  inflating: ./images/images/n02168699/n02168699_7734.JPEG  \n",
            "  inflating: ./images/images/n02168699/n02168699_7735.JPEG  \n",
            "  inflating: ./images/images/n02168699/n02168699_7756.JPEG  \n",
            "  inflating: ./images/images/n02168699/n02168699_7757.JPEG  \n",
            "  inflating: ./images/images/n02168699/n02168699_7763.JPEG  \n",
            "  inflating: ./images/images/n02168699/n02168699_7768.JPEG  \n",
            "  inflating: ./images/images/n02168699/n02168699_7773.JPEG  \n",
            "  inflating: ./images/images/n02168699/n02168699_7788.JPEG  \n",
            "  inflating: ./images/images/n02168699/n02168699_7789.JPEG  \n",
            "  inflating: ./images/images/n02168699/n02168699_7790.JPEG  \n",
            "  inflating: ./images/images/n02168699/n02168699_7799.JPEG  \n",
            "  inflating: ./images/images/n02168699/n02168699_7801.JPEG  \n",
            "  inflating: ./images/images/n02168699/n02168699_7803.JPEG  \n",
            "  inflating: ./images/images/n02168699/n02168699_7809.JPEG  \n",
            "  inflating: ./images/images/n02168699/n02168699_781.JPEG  \n",
            "  inflating: ./images/images/n02168699/n02168699_7816.JPEG  \n",
            "  inflating: ./images/images/n02168699/n02168699_7820.JPEG  \n",
            "  inflating: ./images/images/n02168699/n02168699_7822.JPEG  \n",
            "  inflating: ./images/images/n02168699/n02168699_7828.JPEG  \n",
            "  inflating: ./images/images/n02168699/n02168699_7832.JPEG  \n",
            "  inflating: ./images/images/n02168699/n02168699_7842.JPEG  \n",
            "  inflating: ./images/images/n02168699/n02168699_7844.JPEG  \n",
            "  inflating: ./images/images/n02168699/n02168699_7847.JPEG  \n",
            "  inflating: ./images/images/n02168699/n02168699_7848.JPEG  \n",
            "  inflating: ./images/images/n02168699/n02168699_7855.JPEG  \n",
            "  inflating: ./images/images/n02168699/n02168699_7856.JPEG  \n",
            "  inflating: ./images/images/n02168699/n02168699_7857.JPEG  \n",
            "  inflating: ./images/images/n02168699/n02168699_7859.JPEG  \n",
            "  inflating: ./images/images/n02168699/n02168699_7860.JPEG  \n",
            "  inflating: ./images/images/n02168699/n02168699_7863.JPEG  \n",
            "  inflating: ./images/images/n02168699/n02168699_7870.JPEG  \n",
            "  inflating: ./images/images/n02168699/n02168699_7878.JPEG  \n",
            "  inflating: ./images/images/n02168699/n02168699_7886.JPEG  \n",
            "  inflating: ./images/images/n02168699/n02168699_7893.JPEG  \n",
            "  inflating: ./images/images/n02168699/n02168699_79.JPEG  \n",
            "  inflating: ./images/images/n02168699/n02168699_7901.JPEG  \n",
            "  inflating: ./images/images/n02168699/n02168699_7909.JPEG  \n",
            "  inflating: ./images/images/n02168699/n02168699_793.JPEG  \n",
            "  inflating: ./images/images/n02168699/n02168699_7947.JPEG  \n",
            "  inflating: ./images/images/n02168699/n02168699_7958.JPEG  \n",
            "  inflating: ./images/images/n02168699/n02168699_7960.JPEG  \n",
            "  inflating: ./images/images/n02168699/n02168699_7962.JPEG  \n",
            "  inflating: ./images/images/n02168699/n02168699_797.JPEG  \n",
            "  inflating: ./images/images/n02168699/n02168699_7981.JPEG  \n",
            "  inflating: ./images/images/n02168699/n02168699_7982.JPEG  \n",
            "  inflating: ./images/images/n02168699/n02168699_7984.JPEG  \n",
            "  inflating: ./images/images/n02168699/n02168699_7993.JPEG  \n",
            "  inflating: ./images/images/n02168699/n02168699_7994.JPEG  \n",
            "  inflating: ./images/images/n02168699/n02168699_80.JPEG  \n",
            "  inflating: ./images/images/n02168699/n02168699_8001.JPEG  \n",
            "  inflating: ./images/images/n02168699/n02168699_8017.JPEG  \n",
            "  inflating: ./images/images/n02168699/n02168699_802.JPEG  \n",
            "  inflating: ./images/images/n02168699/n02168699_8023.JPEG  \n",
            "  inflating: ./images/images/n02168699/n02168699_8028.JPEG  \n",
            "  inflating: ./images/images/n02168699/n02168699_8029.JPEG  \n",
            "  inflating: ./images/images/n02168699/n02168699_8035.JPEG  \n",
            "  inflating: ./images/images/n02168699/n02168699_806.JPEG  \n",
            "  inflating: ./images/images/n02168699/n02168699_8061.JPEG  \n",
            "  inflating: ./images/images/n02168699/n02168699_8067.JPEG  \n",
            "  inflating: ./images/images/n02168699/n02168699_8144.JPEG  \n",
            "  inflating: ./images/images/n02168699/n02168699_8155.JPEG  \n",
            "  inflating: ./images/images/n02168699/n02168699_8162.JPEG  \n",
            "  inflating: ./images/images/n02168699/n02168699_8173.JPEG  \n",
            "  inflating: ./images/images/n02168699/n02168699_8197.JPEG  \n",
            "  inflating: ./images/images/n02168699/n02168699_8199.JPEG  \n",
            "  inflating: ./images/images/n02168699/n02168699_8214.JPEG  \n",
            "  inflating: ./images/images/n02168699/n02168699_823.JPEG  \n",
            "  inflating: ./images/images/n02168699/n02168699_8273.JPEG  \n",
            "  inflating: ./images/images/n02168699/n02168699_8284.JPEG  \n",
            "  inflating: ./images/images/n02168699/n02168699_8287.JPEG  \n",
            "  inflating: ./images/images/n02168699/n02168699_8307.JPEG  \n",
            "  inflating: ./images/images/n02168699/n02168699_8371.JPEG  \n",
            "  inflating: ./images/images/n02168699/n02168699_8399.JPEG  \n",
            "  inflating: ./images/images/n02168699/n02168699_8423.JPEG  \n",
            "  inflating: ./images/images/n02168699/n02168699_8424.JPEG  \n",
            "  inflating: ./images/images/n02168699/n02168699_8432.JPEG  \n",
            "  inflating: ./images/images/n02168699/n02168699_8453.JPEG  \n",
            "  inflating: ./images/images/n02168699/n02168699_846.JPEG  \n",
            "  inflating: ./images/images/n02168699/n02168699_8485.JPEG  \n",
            "  inflating: ./images/images/n02168699/n02168699_8492.JPEG  \n",
            "  inflating: ./images/images/n02168699/n02168699_8495.JPEG  \n",
            "  inflating: ./images/images/n02168699/n02168699_8500.JPEG  \n",
            "  inflating: ./images/images/n02168699/n02168699_851.JPEG  \n",
            "  inflating: ./images/images/n02168699/n02168699_8522.JPEG  \n",
            "  inflating: ./images/images/n02168699/n02168699_8557.JPEG  \n",
            "  inflating: ./images/images/n02168699/n02168699_8567.JPEG  \n",
            "  inflating: ./images/images/n02168699/n02168699_8591.JPEG  \n",
            "  inflating: ./images/images/n02168699/n02168699_862.JPEG  \n",
            "  inflating: ./images/images/n02168699/n02168699_8624.JPEG  \n",
            "  inflating: ./images/images/n02168699/n02168699_8625.JPEG  \n",
            "  inflating: ./images/images/n02168699/n02168699_8631.JPEG  \n",
            "  inflating: ./images/images/n02168699/n02168699_8683.JPEG  \n",
            "  inflating: ./images/images/n02168699/n02168699_8693.JPEG  \n",
            "  inflating: ./images/images/n02168699/n02168699_8694.JPEG  \n",
            "  inflating: ./images/images/n02168699/n02168699_8699.JPEG  \n",
            "  inflating: ./images/images/n02168699/n02168699_8706.JPEG  \n",
            "  inflating: ./images/images/n02168699/n02168699_8720.JPEG  \n",
            "  inflating: ./images/images/n02168699/n02168699_874.JPEG  \n",
            "  inflating: ./images/images/n02168699/n02168699_8808.JPEG  \n",
            "  inflating: ./images/images/n02168699/n02168699_883.JPEG  \n",
            "  inflating: ./images/images/n02168699/n02168699_8852.JPEG  \n",
            "  inflating: ./images/images/n02168699/n02168699_8864.JPEG  \n",
            "  inflating: ./images/images/n02168699/n02168699_8867.JPEG  \n",
            "  inflating: ./images/images/n02168699/n02168699_8871.JPEG  \n",
            "  inflating: ./images/images/n02168699/n02168699_8881.JPEG  \n",
            "  inflating: ./images/images/n02168699/n02168699_8884.JPEG  \n",
            "  inflating: ./images/images/n02168699/n02168699_8885.JPEG  \n",
            "  inflating: ./images/images/n02168699/n02168699_89.JPEG  \n",
            "  inflating: ./images/images/n02168699/n02168699_893.JPEG  \n",
            "  inflating: ./images/images/n02168699/n02168699_8936.JPEG  \n",
            "  inflating: ./images/images/n02168699/n02168699_8964.JPEG  \n",
            "  inflating: ./images/images/n02168699/n02168699_8967.JPEG  \n",
            "  inflating: ./images/images/n02168699/n02168699_8992.JPEG  \n",
            "  inflating: ./images/images/n02168699/n02168699_9012.JPEG  \n",
            "  inflating: ./images/images/n02168699/n02168699_902.JPEG  \n",
            "  inflating: ./images/images/n02168699/n02168699_9021.JPEG  \n",
            "  inflating: ./images/images/n02168699/n02168699_903.JPEG  \n",
            "  inflating: ./images/images/n02168699/n02168699_9054.JPEG  \n",
            "  inflating: ./images/images/n02168699/n02168699_9066.JPEG  \n",
            "  inflating: ./images/images/n02168699/n02168699_9077.JPEG  \n",
            "  inflating: ./images/images/n02168699/n02168699_9148.JPEG  \n",
            "  inflating: ./images/images/n02168699/n02168699_9150.JPEG  \n",
            "  inflating: ./images/images/n02168699/n02168699_9192.JPEG  \n",
            "  inflating: ./images/images/n02168699/n02168699_9225.JPEG  \n",
            "  inflating: ./images/images/n02168699/n02168699_923.JPEG  \n",
            "  inflating: ./images/images/n02168699/n02168699_9239.JPEG  \n",
            "  inflating: ./images/images/n02168699/n02168699_9266.JPEG  \n",
            "  inflating: ./images/images/n02168699/n02168699_9276.JPEG  \n",
            "  inflating: ./images/images/n02168699/n02168699_936.JPEG  \n",
            "  inflating: ./images/images/n02168699/n02168699_9381.JPEG  \n",
            "  inflating: ./images/images/n02168699/n02168699_939.JPEG  \n",
            "  inflating: ./images/images/n02168699/n02168699_946.JPEG  \n",
            "  inflating: ./images/images/n02168699/n02168699_9481.JPEG  \n",
            "  inflating: ./images/images/n02168699/n02168699_9499.JPEG  \n",
            "  inflating: ./images/images/n02168699/n02168699_9512.JPEG  \n",
            "  inflating: ./images/images/n02168699/n02168699_954.JPEG  \n",
            "  inflating: ./images/images/n02168699/n02168699_955.JPEG  \n",
            "  inflating: ./images/images/n02168699/n02168699_963.JPEG  \n",
            "  inflating: ./images/images/n02168699/n02168699_9642.JPEG  \n",
            "  inflating: ./images/images/n02168699/n02168699_965.JPEG  \n",
            "  inflating: ./images/images/n02168699/n02168699_967.JPEG  \n",
            "  inflating: ./images/images/n02168699/n02168699_9704.JPEG  \n",
            "  inflating: ./images/images/n02168699/n02168699_9717.JPEG  \n",
            "  inflating: ./images/images/n02168699/n02168699_9718.JPEG  \n",
            "  inflating: ./images/images/n02168699/n02168699_974.JPEG  \n",
            "  inflating: ./images/images/n02168699/n02168699_9758.JPEG  \n",
            "  inflating: ./images/images/n02168699/n02168699_985.JPEG  \n",
            "  inflating: ./images/images/n02168699/n02168699_9861.JPEG  \n",
            "  inflating: ./images/images/n02168699/n02168699_9903.JPEG  \n",
            "  inflating: ./images/images/n02168699/n02168699_998.JPEG  \n",
            "   creating: ./images/images/n02169497/\n",
            "  inflating: ./images/images/n02169497/n02169497_1002.JPEG  \n",
            "  inflating: ./images/images/n02169497/n02169497_10022.JPEG  \n",
            "  inflating: ./images/images/n02169497/n02169497_10034.JPEG  \n",
            "  inflating: ./images/images/n02169497/n02169497_10058.JPEG  \n",
            "  inflating: ./images/images/n02169497/n02169497_10091.JPEG  \n",
            "  inflating: ./images/images/n02169497/n02169497_10102.JPEG  \n",
            "  inflating: ./images/images/n02169497/n02169497_10127.JPEG  \n",
            "  inflating: ./images/images/n02169497/n02169497_10151.JPEG  \n",
            "  inflating: ./images/images/n02169497/n02169497_10178.JPEG  \n",
            "  inflating: ./images/images/n02169497/n02169497_10218.JPEG  \n",
            "  inflating: ./images/images/n02169497/n02169497_10239.JPEG  \n",
            "  inflating: ./images/images/n02169497/n02169497_10246.JPEG  \n",
            "  inflating: ./images/images/n02169497/n02169497_1025.JPEG  \n",
            "  inflating: ./images/images/n02169497/n02169497_10259.JPEG  \n",
            "  inflating: ./images/images/n02169497/n02169497_10272.JPEG  \n",
            "  inflating: ./images/images/n02169497/n02169497_1028.JPEG  \n",
            "  inflating: ./images/images/n02169497/n02169497_10299.JPEG  \n",
            "  inflating: ./images/images/n02169497/n02169497_10304.JPEG  \n",
            "  inflating: ./images/images/n02169497/n02169497_10306.JPEG  \n",
            "  inflating: ./images/images/n02169497/n02169497_10324.JPEG  \n",
            "  inflating: ./images/images/n02169497/n02169497_10394.JPEG  \n",
            "  inflating: ./images/images/n02169497/n02169497_10398.JPEG  \n",
            "  inflating: ./images/images/n02169497/n02169497_1040.JPEG  \n",
            "  inflating: ./images/images/n02169497/n02169497_10400.JPEG  \n",
            "  inflating: ./images/images/n02169497/n02169497_10450.JPEG  \n",
            "  inflating: ./images/images/n02169497/n02169497_105.JPEG  \n",
            "  inflating: ./images/images/n02169497/n02169497_1072.JPEG  \n",
            "  inflating: ./images/images/n02169497/n02169497_10746.JPEG  \n",
            "  inflating: ./images/images/n02169497/n02169497_10756.JPEG  \n",
            "  inflating: ./images/images/n02169497/n02169497_10773.JPEG  \n",
            "  inflating: ./images/images/n02169497/n02169497_1081.JPEG  \n",
            "  inflating: ./images/images/n02169497/n02169497_1083.JPEG  \n",
            "  inflating: ./images/images/n02169497/n02169497_10839.JPEG  \n",
            "  inflating: ./images/images/n02169497/n02169497_1091.JPEG  \n",
            "  inflating: ./images/images/n02169497/n02169497_1092.JPEG  \n",
            "  inflating: ./images/images/n02169497/n02169497_1093.JPEG  \n",
            "  inflating: ./images/images/n02169497/n02169497_1096.JPEG  \n",
            "  inflating: ./images/images/n02169497/n02169497_10990.JPEG  \n",
            "  inflating: ./images/images/n02169497/n02169497_1101.JPEG  \n",
            "  inflating: ./images/images/n02169497/n02169497_11035.JPEG  \n",
            "  inflating: ./images/images/n02169497/n02169497_1108.JPEG  \n",
            "  inflating: ./images/images/n02169497/n02169497_11084.JPEG  \n",
            "  inflating: ./images/images/n02169497/n02169497_11132.JPEG  \n",
            "  inflating: ./images/images/n02169497/n02169497_1114.JPEG  \n",
            "  inflating: ./images/images/n02169497/n02169497_1122.JPEG  \n",
            "  inflating: ./images/images/n02169497/n02169497_1125.JPEG  \n",
            "  inflating: ./images/images/n02169497/n02169497_1126.JPEG  \n",
            "  inflating: ./images/images/n02169497/n02169497_11271.JPEG  \n",
            "  inflating: ./images/images/n02169497/n02169497_11286.JPEG  \n",
            "  inflating: ./images/images/n02169497/n02169497_11289.JPEG  \n",
            "  inflating: ./images/images/n02169497/n02169497_1129.JPEG  \n",
            "  inflating: ./images/images/n02169497/n02169497_1131.JPEG  \n",
            "  inflating: ./images/images/n02169497/n02169497_11315.JPEG  \n",
            "  inflating: ./images/images/n02169497/n02169497_1143.JPEG  \n",
            "  inflating: ./images/images/n02169497/n02169497_11449.JPEG  \n",
            "  inflating: ./images/images/n02169497/n02169497_1147.JPEG  \n",
            "  inflating: ./images/images/n02169497/n02169497_11499.JPEG  \n",
            "  inflating: ./images/images/n02169497/n02169497_1151.JPEG  \n",
            "  inflating: ./images/images/n02169497/n02169497_1159.JPEG  \n",
            "  inflating: ./images/images/n02169497/n02169497_1160.JPEG  \n",
            "  inflating: ./images/images/n02169497/n02169497_11604.JPEG  \n",
            "  inflating: ./images/images/n02169497/n02169497_11619.JPEG  \n",
            "  inflating: ./images/images/n02169497/n02169497_1164.JPEG  \n",
            "  inflating: ./images/images/n02169497/n02169497_1165.JPEG  \n",
            "  inflating: ./images/images/n02169497/n02169497_11671.JPEG  \n",
            "  inflating: ./images/images/n02169497/n02169497_11673.JPEG  \n",
            "  inflating: ./images/images/n02169497/n02169497_1173.JPEG  \n",
            "  inflating: ./images/images/n02169497/n02169497_11755.JPEG  \n",
            "  inflating: ./images/images/n02169497/n02169497_1179.JPEG  \n",
            "  inflating: ./images/images/n02169497/n02169497_118.JPEG  \n",
            "  inflating: ./images/images/n02169497/n02169497_1182.JPEG  \n",
            "  inflating: ./images/images/n02169497/n02169497_1183.JPEG  \n",
            "  inflating: ./images/images/n02169497/n02169497_1184.JPEG  \n",
            "  inflating: ./images/images/n02169497/n02169497_11840.JPEG  \n",
            "  inflating: ./images/images/n02169497/n02169497_1190.JPEG  \n",
            "  inflating: ./images/images/n02169497/n02169497_1191.JPEG  \n",
            "  inflating: ./images/images/n02169497/n02169497_1192.JPEG  \n",
            "  inflating: ./images/images/n02169497/n02169497_11991.JPEG  \n",
            "  inflating: ./images/images/n02169497/n02169497_1201.JPEG  \n",
            "  inflating: ./images/images/n02169497/n02169497_1208.JPEG  \n",
            "  inflating: ./images/images/n02169497/n02169497_12081.JPEG  \n",
            "  inflating: ./images/images/n02169497/n02169497_12096.JPEG  \n",
            "  inflating: ./images/images/n02169497/n02169497_121.JPEG  \n",
            "  inflating: ./images/images/n02169497/n02169497_1210.JPEG  \n",
            "  inflating: ./images/images/n02169497/n02169497_12127.JPEG  \n",
            "  inflating: ./images/images/n02169497/n02169497_1213.JPEG  \n",
            "  inflating: ./images/images/n02169497/n02169497_1216.JPEG  \n",
            "  inflating: ./images/images/n02169497/n02169497_1218.JPEG  \n",
            "  inflating: ./images/images/n02169497/n02169497_1227.JPEG  \n",
            "  inflating: ./images/images/n02169497/n02169497_12275.JPEG  \n",
            "  inflating: ./images/images/n02169497/n02169497_1229.JPEG  \n",
            "  inflating: ./images/images/n02169497/n02169497_12323.JPEG  \n",
            "  inflating: ./images/images/n02169497/n02169497_12333.JPEG  \n",
            "  inflating: ./images/images/n02169497/n02169497_12351.JPEG  \n",
            "  inflating: ./images/images/n02169497/n02169497_1236.JPEG  \n",
            "  inflating: ./images/images/n02169497/n02169497_1238.JPEG  \n",
            "  inflating: ./images/images/n02169497/n02169497_12398.JPEG  \n",
            "  inflating: ./images/images/n02169497/n02169497_1247.JPEG  \n",
            "  inflating: ./images/images/n02169497/n02169497_12470.JPEG  \n",
            "  inflating: ./images/images/n02169497/n02169497_1249.JPEG  \n",
            "  inflating: ./images/images/n02169497/n02169497_1250.JPEG  \n",
            "  inflating: ./images/images/n02169497/n02169497_12520.JPEG  \n",
            "  inflating: ./images/images/n02169497/n02169497_1255.JPEG  \n",
            "  inflating: ./images/images/n02169497/n02169497_12571.JPEG  \n",
            "  inflating: ./images/images/n02169497/n02169497_1260.JPEG  \n",
            "  inflating: ./images/images/n02169497/n02169497_1262.JPEG  \n",
            "  inflating: ./images/images/n02169497/n02169497_1265.JPEG  \n",
            "  inflating: ./images/images/n02169497/n02169497_12650.JPEG  \n",
            "  inflating: ./images/images/n02169497/n02169497_1272.JPEG  \n",
            "  inflating: ./images/images/n02169497/n02169497_12753.JPEG  \n",
            "  inflating: ./images/images/n02169497/n02169497_1280.JPEG  \n",
            "  inflating: ./images/images/n02169497/n02169497_1283.JPEG  \n",
            "  inflating: ./images/images/n02169497/n02169497_1284.JPEG  \n",
            "  inflating: ./images/images/n02169497/n02169497_1287.JPEG  \n",
            "  inflating: ./images/images/n02169497/n02169497_12880.JPEG  \n",
            "  inflating: ./images/images/n02169497/n02169497_12935.JPEG  \n",
            "  inflating: ./images/images/n02169497/n02169497_1297.JPEG  \n",
            "  inflating: ./images/images/n02169497/n02169497_12984.JPEG  \n",
            "  inflating: ./images/images/n02169497/n02169497_1301.JPEG  \n",
            "  inflating: ./images/images/n02169497/n02169497_13018.JPEG  \n",
            "  inflating: ./images/images/n02169497/n02169497_13034.JPEG  \n",
            "  inflating: ./images/images/n02169497/n02169497_1305.JPEG  \n",
            "  inflating: ./images/images/n02169497/n02169497_1307.JPEG  \n",
            "  inflating: ./images/images/n02169497/n02169497_1309.JPEG  \n",
            "  inflating: ./images/images/n02169497/n02169497_13139.JPEG  \n",
            "  inflating: ./images/images/n02169497/n02169497_1314.JPEG  \n",
            "  inflating: ./images/images/n02169497/n02169497_13141.JPEG  \n",
            "  inflating: ./images/images/n02169497/n02169497_13195.JPEG  \n",
            "  inflating: ./images/images/n02169497/n02169497_1327.JPEG  \n",
            "  inflating: ./images/images/n02169497/n02169497_13352.JPEG  \n",
            "  inflating: ./images/images/n02169497/n02169497_1342.JPEG  \n",
            "  inflating: ./images/images/n02169497/n02169497_13439.JPEG  \n",
            "  inflating: ./images/images/n02169497/n02169497_1344.JPEG  \n",
            "  inflating: ./images/images/n02169497/n02169497_1349.JPEG  \n",
            "  inflating: ./images/images/n02169497/n02169497_13491.JPEG  \n",
            "  inflating: ./images/images/n02169497/n02169497_1351.JPEG  \n",
            "  inflating: ./images/images/n02169497/n02169497_1357.JPEG  \n",
            "  inflating: ./images/images/n02169497/n02169497_1358.JPEG  \n",
            "  inflating: ./images/images/n02169497/n02169497_1364.JPEG  \n",
            "  inflating: ./images/images/n02169497/n02169497_13649.JPEG  \n",
            "  inflating: ./images/images/n02169497/n02169497_1371.JPEG  \n",
            "  inflating: ./images/images/n02169497/n02169497_1378.JPEG  \n",
            "  inflating: ./images/images/n02169497/n02169497_13791.JPEG  \n",
            "  inflating: ./images/images/n02169497/n02169497_13798.JPEG  \n",
            "  inflating: ./images/images/n02169497/n02169497_1381.JPEG  \n",
            "  inflating: ./images/images/n02169497/n02169497_13847.JPEG  \n",
            "  inflating: ./images/images/n02169497/n02169497_1389.JPEG  \n",
            "  inflating: ./images/images/n02169497/n02169497_13900.JPEG  \n",
            "  inflating: ./images/images/n02169497/n02169497_1398.JPEG  \n",
            "  inflating: ./images/images/n02169497/n02169497_1404.JPEG  \n",
            "  inflating: ./images/images/n02169497/n02169497_1410.JPEG  \n",
            "  inflating: ./images/images/n02169497/n02169497_1412.JPEG  \n",
            "  inflating: ./images/images/n02169497/n02169497_1423.JPEG  \n",
            "  inflating: ./images/images/n02169497/n02169497_1425.JPEG  \n",
            "  inflating: ./images/images/n02169497/n02169497_1430.JPEG  \n",
            "  inflating: ./images/images/n02169497/n02169497_1440.JPEG  \n",
            "  inflating: ./images/images/n02169497/n02169497_1449.JPEG  \n",
            "  inflating: ./images/images/n02169497/n02169497_1451.JPEG  \n",
            "  inflating: ./images/images/n02169497/n02169497_1461.JPEG  \n",
            "  inflating: ./images/images/n02169497/n02169497_1468.JPEG  \n",
            "  inflating: ./images/images/n02169497/n02169497_1481.JPEG  \n",
            "  inflating: ./images/images/n02169497/n02169497_1485.JPEG  \n",
            "  inflating: ./images/images/n02169497/n02169497_1489.JPEG  \n",
            "  inflating: ./images/images/n02169497/n02169497_1491.JPEG  \n",
            "  inflating: ./images/images/n02169497/n02169497_1492.JPEG  \n",
            "  inflating: ./images/images/n02169497/n02169497_1500.JPEG  \n",
            "  inflating: ./images/images/n02169497/n02169497_1519.JPEG  \n",
            "  inflating: ./images/images/n02169497/n02169497_1525.JPEG  \n",
            "  inflating: ./images/images/n02169497/n02169497_1555.JPEG  \n",
            "  inflating: ./images/images/n02169497/n02169497_1563.JPEG  \n",
            "  inflating: ./images/images/n02169497/n02169497_1566.JPEG  \n",
            "  inflating: ./images/images/n02169497/n02169497_1570.JPEG  \n",
            "  inflating: ./images/images/n02169497/n02169497_1575.JPEG  \n",
            "  inflating: ./images/images/n02169497/n02169497_1582.JPEG  \n",
            "  inflating: ./images/images/n02169497/n02169497_1586.JPEG  \n",
            "  inflating: ./images/images/n02169497/n02169497_1588.JPEG  \n",
            "  inflating: ./images/images/n02169497/n02169497_1599.JPEG  \n",
            "  inflating: ./images/images/n02169497/n02169497_1603.JPEG  \n",
            "  inflating: ./images/images/n02169497/n02169497_1616.JPEG  \n",
            "  inflating: ./images/images/n02169497/n02169497_1636.JPEG  \n",
            "  inflating: ./images/images/n02169497/n02169497_1638.JPEG  \n",
            "  inflating: ./images/images/n02169497/n02169497_1639.JPEG  \n",
            "  inflating: ./images/images/n02169497/n02169497_1651.JPEG  \n",
            "  inflating: ./images/images/n02169497/n02169497_1659.JPEG  \n",
            "  inflating: ./images/images/n02169497/n02169497_1682.JPEG  \n",
            "  inflating: ./images/images/n02169497/n02169497_1684.JPEG  \n",
            "  inflating: ./images/images/n02169497/n02169497_1718.JPEG  \n",
            "  inflating: ./images/images/n02169497/n02169497_1719.JPEG  \n",
            "  inflating: ./images/images/n02169497/n02169497_1721.JPEG  \n",
            "  inflating: ./images/images/n02169497/n02169497_1722.JPEG  \n",
            "  inflating: ./images/images/n02169497/n02169497_1724.JPEG  \n",
            "  inflating: ./images/images/n02169497/n02169497_1729.JPEG  \n",
            "  inflating: ./images/images/n02169497/n02169497_1730.JPEG  \n",
            "  inflating: ./images/images/n02169497/n02169497_1732.JPEG  \n",
            "  inflating: ./images/images/n02169497/n02169497_1736.JPEG  \n",
            "  inflating: ./images/images/n02169497/n02169497_1741.JPEG  \n",
            "  inflating: ./images/images/n02169497/n02169497_1742.JPEG  \n",
            "  inflating: ./images/images/n02169497/n02169497_1748.JPEG  \n",
            "  inflating: ./images/images/n02169497/n02169497_1757.JPEG  \n",
            "  inflating: ./images/images/n02169497/n02169497_1762.JPEG  \n",
            "  inflating: ./images/images/n02169497/n02169497_1764.JPEG  \n",
            "  inflating: ./images/images/n02169497/n02169497_1766.JPEG  \n",
            "  inflating: ./images/images/n02169497/n02169497_1778.JPEG  \n",
            "  inflating: ./images/images/n02169497/n02169497_1788.JPEG  \n",
            "  inflating: ./images/images/n02169497/n02169497_179.JPEG  \n",
            "  inflating: ./images/images/n02169497/n02169497_1793.JPEG  \n",
            "  inflating: ./images/images/n02169497/n02169497_1796.JPEG  \n",
            "  inflating: ./images/images/n02169497/n02169497_1797.JPEG  \n",
            "  inflating: ./images/images/n02169497/n02169497_18.JPEG  \n",
            "  inflating: ./images/images/n02169497/n02169497_1800.JPEG  \n",
            "  inflating: ./images/images/n02169497/n02169497_1801.JPEG  \n",
            "  inflating: ./images/images/n02169497/n02169497_1816.JPEG  \n",
            "  inflating: ./images/images/n02169497/n02169497_1818.JPEG  \n",
            "  inflating: ./images/images/n02169497/n02169497_1819.JPEG  \n",
            "  inflating: ./images/images/n02169497/n02169497_1833.JPEG  \n",
            "  inflating: ./images/images/n02169497/n02169497_1840.JPEG  \n",
            "  inflating: ./images/images/n02169497/n02169497_1855.JPEG  \n",
            "  inflating: ./images/images/n02169497/n02169497_1856.JPEG  \n",
            "  inflating: ./images/images/n02169497/n02169497_1863.JPEG  \n",
            "  inflating: ./images/images/n02169497/n02169497_1874.JPEG  \n",
            "  inflating: ./images/images/n02169497/n02169497_1886.JPEG  \n",
            "  inflating: ./images/images/n02169497/n02169497_1900.JPEG  \n",
            "  inflating: ./images/images/n02169497/n02169497_1911.JPEG  \n",
            "  inflating: ./images/images/n02169497/n02169497_1912.JPEG  \n",
            "  inflating: ./images/images/n02169497/n02169497_1939.JPEG  \n",
            "  inflating: ./images/images/n02169497/n02169497_1940.JPEG  \n",
            "  inflating: ./images/images/n02169497/n02169497_1944.JPEG  \n",
            "  inflating: ./images/images/n02169497/n02169497_1949.JPEG  \n",
            "  inflating: ./images/images/n02169497/n02169497_195.JPEG  \n",
            "  inflating: ./images/images/n02169497/n02169497_1951.JPEG  \n",
            "  inflating: ./images/images/n02169497/n02169497_1958.JPEG  \n",
            "  inflating: ./images/images/n02169497/n02169497_1961.JPEG  \n",
            "  inflating: ./images/images/n02169497/n02169497_197.JPEG  \n",
            "  inflating: ./images/images/n02169497/n02169497_1974.JPEG  \n",
            "  inflating: ./images/images/n02169497/n02169497_198.JPEG  \n",
            "  inflating: ./images/images/n02169497/n02169497_1984.JPEG  \n",
            "  inflating: ./images/images/n02169497/n02169497_2.JPEG  \n",
            "  inflating: ./images/images/n02169497/n02169497_2001.JPEG  \n",
            "  inflating: ./images/images/n02169497/n02169497_2005.JPEG  \n",
            "  inflating: ./images/images/n02169497/n02169497_2012.JPEG  \n",
            "  inflating: ./images/images/n02169497/n02169497_2013.JPEG  \n",
            "  inflating: ./images/images/n02169497/n02169497_2018.JPEG  \n",
            "  inflating: ./images/images/n02169497/n02169497_2019.JPEG  \n",
            "  inflating: ./images/images/n02169497/n02169497_2036.JPEG  \n",
            "  inflating: ./images/images/n02169497/n02169497_2039.JPEG  \n",
            "  inflating: ./images/images/n02169497/n02169497_2056.JPEG  \n",
            "  inflating: ./images/images/n02169497/n02169497_2068.JPEG  \n",
            "  inflating: ./images/images/n02169497/n02169497_2069.JPEG  \n",
            "  inflating: ./images/images/n02169497/n02169497_207.JPEG  \n",
            "  inflating: ./images/images/n02169497/n02169497_2080.JPEG  \n",
            "  inflating: ./images/images/n02169497/n02169497_2081.JPEG  \n",
            "  inflating: ./images/images/n02169497/n02169497_2083.JPEG  \n",
            "  inflating: ./images/images/n02169497/n02169497_2096.JPEG  \n",
            "  inflating: ./images/images/n02169497/n02169497_2097.JPEG  \n",
            "  inflating: ./images/images/n02169497/n02169497_2111.JPEG  \n",
            "  inflating: ./images/images/n02169497/n02169497_2133.JPEG  \n",
            "  inflating: ./images/images/n02169497/n02169497_214.JPEG  \n",
            "  inflating: ./images/images/n02169497/n02169497_2142.JPEG  \n",
            "  inflating: ./images/images/n02169497/n02169497_2157.JPEG  \n",
            "  inflating: ./images/images/n02169497/n02169497_2158.JPEG  \n",
            "  inflating: ./images/images/n02169497/n02169497_2159.JPEG  \n",
            "  inflating: ./images/images/n02169497/n02169497_2162.JPEG  \n",
            "  inflating: ./images/images/n02169497/n02169497_2168.JPEG  \n",
            "  inflating: ./images/images/n02169497/n02169497_2169.JPEG  \n",
            "  inflating: ./images/images/n02169497/n02169497_217.JPEG  \n",
            "  inflating: ./images/images/n02169497/n02169497_2178.JPEG  \n",
            "  inflating: ./images/images/n02169497/n02169497_2180.JPEG  \n",
            "  inflating: ./images/images/n02169497/n02169497_2184.JPEG  \n",
            "  inflating: ./images/images/n02169497/n02169497_2187.JPEG  \n",
            "  inflating: ./images/images/n02169497/n02169497_219.JPEG  \n",
            "  inflating: ./images/images/n02169497/n02169497_2199.JPEG  \n",
            "  inflating: ./images/images/n02169497/n02169497_220.JPEG  \n",
            "  inflating: ./images/images/n02169497/n02169497_2200.JPEG  \n",
            "  inflating: ./images/images/n02169497/n02169497_2201.JPEG  \n",
            "  inflating: ./images/images/n02169497/n02169497_2202.JPEG  \n",
            "  inflating: ./images/images/n02169497/n02169497_2205.JPEG  \n",
            "  inflating: ./images/images/n02169497/n02169497_2208.JPEG  \n",
            "  inflating: ./images/images/n02169497/n02169497_2209.JPEG  \n",
            "  inflating: ./images/images/n02169497/n02169497_2224.JPEG  \n",
            "  inflating: ./images/images/n02169497/n02169497_2228.JPEG  \n",
            "  inflating: ./images/images/n02169497/n02169497_2229.JPEG  \n",
            "  inflating: ./images/images/n02169497/n02169497_2237.JPEG  \n",
            "  inflating: ./images/images/n02169497/n02169497_2242.JPEG  \n",
            "  inflating: ./images/images/n02169497/n02169497_2265.JPEG  \n",
            "  inflating: ./images/images/n02169497/n02169497_2269.JPEG  \n",
            "  inflating: ./images/images/n02169497/n02169497_2273.JPEG  \n",
            "  inflating: ./images/images/n02169497/n02169497_2275.JPEG  \n",
            "  inflating: ./images/images/n02169497/n02169497_2280.JPEG  \n",
            "  inflating: ./images/images/n02169497/n02169497_2290.JPEG  \n",
            "  inflating: ./images/images/n02169497/n02169497_2295.JPEG  \n",
            "  inflating: ./images/images/n02169497/n02169497_2296.JPEG  \n",
            "  inflating: ./images/images/n02169497/n02169497_2306.JPEG  \n",
            "  inflating: ./images/images/n02169497/n02169497_2312.JPEG  \n",
            "  inflating: ./images/images/n02169497/n02169497_2318.JPEG  \n",
            "  inflating: ./images/images/n02169497/n02169497_2319.JPEG  \n",
            "  inflating: ./images/images/n02169497/n02169497_232.JPEG  \n",
            "  inflating: ./images/images/n02169497/n02169497_2329.JPEG  \n",
            "  inflating: ./images/images/n02169497/n02169497_2336.JPEG  \n",
            "  inflating: ./images/images/n02169497/n02169497_234.JPEG  \n",
            "  inflating: ./images/images/n02169497/n02169497_2347.JPEG  \n",
            "  inflating: ./images/images/n02169497/n02169497_2349.JPEG  \n",
            "  inflating: ./images/images/n02169497/n02169497_2355.JPEG  \n",
            "  inflating: ./images/images/n02169497/n02169497_236.JPEG  \n",
            "  inflating: ./images/images/n02169497/n02169497_2364.JPEG  \n",
            "  inflating: ./images/images/n02169497/n02169497_2368.JPEG  \n",
            "  inflating: ./images/images/n02169497/n02169497_2370.JPEG  \n",
            "  inflating: ./images/images/n02169497/n02169497_2375.JPEG  \n",
            "  inflating: ./images/images/n02169497/n02169497_2382.JPEG  \n",
            "  inflating: ./images/images/n02169497/n02169497_2386.JPEG  \n",
            "  inflating: ./images/images/n02169497/n02169497_2389.JPEG  \n",
            "  inflating: ./images/images/n02169497/n02169497_239.JPEG  \n",
            "  inflating: ./images/images/n02169497/n02169497_2394.JPEG  \n",
            "  inflating: ./images/images/n02169497/n02169497_2405.JPEG  \n",
            "  inflating: ./images/images/n02169497/n02169497_2421.JPEG  \n",
            "  inflating: ./images/images/n02169497/n02169497_2424.JPEG  \n",
            "  inflating: ./images/images/n02169497/n02169497_2429.JPEG  \n",
            "  inflating: ./images/images/n02169497/n02169497_2441.JPEG  \n",
            "  inflating: ./images/images/n02169497/n02169497_2445.JPEG  \n",
            "  inflating: ./images/images/n02169497/n02169497_2447.JPEG  \n",
            "  inflating: ./images/images/n02169497/n02169497_2457.JPEG  \n",
            "  inflating: ./images/images/n02169497/n02169497_2461.JPEG  \n",
            "  inflating: ./images/images/n02169497/n02169497_247.JPEG  \n",
            "  inflating: ./images/images/n02169497/n02169497_2484.JPEG  \n",
            "  inflating: ./images/images/n02169497/n02169497_2485.JPEG  \n",
            "  inflating: ./images/images/n02169497/n02169497_2486.JPEG  \n",
            "  inflating: ./images/images/n02169497/n02169497_2487.JPEG  \n",
            "  inflating: ./images/images/n02169497/n02169497_2493.JPEG  \n",
            "  inflating: ./images/images/n02169497/n02169497_2497.JPEG  \n",
            "  inflating: ./images/images/n02169497/n02169497_250.JPEG  \n",
            "  inflating: ./images/images/n02169497/n02169497_2502.JPEG  \n",
            "  inflating: ./images/images/n02169497/n02169497_2517.JPEG  \n",
            "  inflating: ./images/images/n02169497/n02169497_2518.JPEG  \n",
            "  inflating: ./images/images/n02169497/n02169497_253.JPEG  \n",
            "  inflating: ./images/images/n02169497/n02169497_2533.JPEG  \n",
            "  inflating: ./images/images/n02169497/n02169497_2534.JPEG  \n",
            "  inflating: ./images/images/n02169497/n02169497_2535.JPEG  \n",
            "  inflating: ./images/images/n02169497/n02169497_2547.JPEG  \n",
            "  inflating: ./images/images/n02169497/n02169497_2552.JPEG  \n",
            "  inflating: ./images/images/n02169497/n02169497_2558.JPEG  \n",
            "  inflating: ./images/images/n02169497/n02169497_2563.JPEG  \n",
            "  inflating: ./images/images/n02169497/n02169497_2568.JPEG  \n",
            "  inflating: ./images/images/n02169497/n02169497_2569.JPEG  \n",
            "  inflating: ./images/images/n02169497/n02169497_2572.JPEG  \n",
            "  inflating: ./images/images/n02169497/n02169497_2581.JPEG  \n",
            "  inflating: ./images/images/n02169497/n02169497_2583.JPEG  \n",
            "  inflating: ./images/images/n02169497/n02169497_2589.JPEG  \n",
            "  inflating: ./images/images/n02169497/n02169497_2592.JPEG  \n",
            "  inflating: ./images/images/n02169497/n02169497_2598.JPEG  \n",
            "  inflating: ./images/images/n02169497/n02169497_2604.JPEG  \n",
            "  inflating: ./images/images/n02169497/n02169497_2607.JPEG  \n",
            "  inflating: ./images/images/n02169497/n02169497_2615.JPEG  \n",
            "  inflating: ./images/images/n02169497/n02169497_2620.JPEG  \n",
            "  inflating: ./images/images/n02169497/n02169497_2621.JPEG  \n",
            "  inflating: ./images/images/n02169497/n02169497_2623.JPEG  \n",
            "  inflating: ./images/images/n02169497/n02169497_2625.JPEG  \n",
            "  inflating: ./images/images/n02169497/n02169497_2626.JPEG  \n",
            "  inflating: ./images/images/n02169497/n02169497_2629.JPEG  \n",
            "  inflating: ./images/images/n02169497/n02169497_2630.JPEG  \n",
            "  inflating: ./images/images/n02169497/n02169497_2637.JPEG  \n",
            "  inflating: ./images/images/n02169497/n02169497_2638.JPEG  \n",
            "  inflating: ./images/images/n02169497/n02169497_2640.JPEG  \n",
            "  inflating: ./images/images/n02169497/n02169497_2647.JPEG  \n",
            "  inflating: ./images/images/n02169497/n02169497_2648.JPEG  \n",
            "  inflating: ./images/images/n02169497/n02169497_2655.JPEG  \n",
            "  inflating: ./images/images/n02169497/n02169497_2656.JPEG  \n",
            "  inflating: ./images/images/n02169497/n02169497_2666.JPEG  \n",
            "  inflating: ./images/images/n02169497/n02169497_2668.JPEG  \n",
            "  inflating: ./images/images/n02169497/n02169497_2673.JPEG  \n",
            "  inflating: ./images/images/n02169497/n02169497_2677.JPEG  \n",
            "  inflating: ./images/images/n02169497/n02169497_2678.JPEG  \n",
            "  inflating: ./images/images/n02169497/n02169497_2679.JPEG  \n",
            "  inflating: ./images/images/n02169497/n02169497_268.JPEG  \n",
            "  inflating: ./images/images/n02169497/n02169497_2690.JPEG  \n",
            "  inflating: ./images/images/n02169497/n02169497_2701.JPEG  \n",
            "  inflating: ./images/images/n02169497/n02169497_2702.JPEG  \n",
            "  inflating: ./images/images/n02169497/n02169497_2709.JPEG  \n",
            "  inflating: ./images/images/n02169497/n02169497_2715.JPEG  \n",
            "  inflating: ./images/images/n02169497/n02169497_2717.JPEG  \n",
            "  inflating: ./images/images/n02169497/n02169497_2721.JPEG  \n",
            "  inflating: ./images/images/n02169497/n02169497_2728.JPEG  \n",
            "  inflating: ./images/images/n02169497/n02169497_2729.JPEG  \n",
            "  inflating: ./images/images/n02169497/n02169497_273.JPEG  \n",
            "  inflating: ./images/images/n02169497/n02169497_2734.JPEG  \n",
            "  inflating: ./images/images/n02169497/n02169497_2738.JPEG  \n",
            "  inflating: ./images/images/n02169497/n02169497_2739.JPEG  \n",
            "  inflating: ./images/images/n02169497/n02169497_2744.JPEG  \n",
            "  inflating: ./images/images/n02169497/n02169497_2746.JPEG  \n",
            "  inflating: ./images/images/n02169497/n02169497_2761.JPEG  \n",
            "  inflating: ./images/images/n02169497/n02169497_2773.JPEG  \n",
            "  inflating: ./images/images/n02169497/n02169497_2780.JPEG  \n",
            "  inflating: ./images/images/n02169497/n02169497_2783.JPEG  \n",
            "  inflating: ./images/images/n02169497/n02169497_2789.JPEG  \n",
            "  inflating: ./images/images/n02169497/n02169497_2805.JPEG  \n",
            "  inflating: ./images/images/n02169497/n02169497_2808.JPEG  \n",
            "  inflating: ./images/images/n02169497/n02169497_2816.JPEG  \n",
            "  inflating: ./images/images/n02169497/n02169497_2820.JPEG  \n",
            "  inflating: ./images/images/n02169497/n02169497_2825.JPEG  \n",
            "  inflating: ./images/images/n02169497/n02169497_2833.JPEG  \n",
            "  inflating: ./images/images/n02169497/n02169497_2834.JPEG  \n",
            "  inflating: ./images/images/n02169497/n02169497_2839.JPEG  \n",
            "  inflating: ./images/images/n02169497/n02169497_2843.JPEG  \n",
            "  inflating: ./images/images/n02169497/n02169497_2844.JPEG  \n",
            "  inflating: ./images/images/n02169497/n02169497_2849.JPEG  \n",
            "  inflating: ./images/images/n02169497/n02169497_2850.JPEG  \n",
            "  inflating: ./images/images/n02169497/n02169497_2852.JPEG  \n",
            "  inflating: ./images/images/n02169497/n02169497_2853.JPEG  \n",
            "  inflating: ./images/images/n02169497/n02169497_2863.JPEG  \n",
            "  inflating: ./images/images/n02169497/n02169497_2864.JPEG  \n",
            "  inflating: ./images/images/n02169497/n02169497_2865.JPEG  \n",
            "  inflating: ./images/images/n02169497/n02169497_2871.JPEG  \n",
            "  inflating: ./images/images/n02169497/n02169497_2879.JPEG  \n",
            "  inflating: ./images/images/n02169497/n02169497_2884.JPEG  \n",
            "  inflating: ./images/images/n02169497/n02169497_2887.JPEG  \n",
            "  inflating: ./images/images/n02169497/n02169497_2895.JPEG  \n",
            "  inflating: ./images/images/n02169497/n02169497_2903.JPEG  \n",
            "  inflating: ./images/images/n02169497/n02169497_2910.JPEG  \n",
            "  inflating: ./images/images/n02169497/n02169497_2918.JPEG  \n",
            "  inflating: ./images/images/n02169497/n02169497_2922.JPEG  \n",
            "  inflating: ./images/images/n02169497/n02169497_2928.JPEG  \n",
            "  inflating: ./images/images/n02169497/n02169497_2941.JPEG  \n",
            "  inflating: ./images/images/n02169497/n02169497_2959.JPEG  \n",
            "  inflating: ./images/images/n02169497/n02169497_2960.JPEG  \n",
            "  inflating: ./images/images/n02169497/n02169497_2967.JPEG  \n",
            "  inflating: ./images/images/n02169497/n02169497_2979.JPEG  \n",
            "  inflating: ./images/images/n02169497/n02169497_2981.JPEG  \n",
            "  inflating: ./images/images/n02169497/n02169497_2990.JPEG  \n",
            "  inflating: ./images/images/n02169497/n02169497_2991.JPEG  \n",
            "  inflating: ./images/images/n02169497/n02169497_2998.JPEG  \n",
            "  inflating: ./images/images/n02169497/n02169497_300.JPEG  \n",
            "  inflating: ./images/images/n02169497/n02169497_3005.JPEG  \n",
            "  inflating: ./images/images/n02169497/n02169497_3009.JPEG  \n",
            "  inflating: ./images/images/n02169497/n02169497_3010.JPEG  \n",
            "  inflating: ./images/images/n02169497/n02169497_3012.JPEG  \n",
            "  inflating: ./images/images/n02169497/n02169497_3014.JPEG  \n",
            "  inflating: ./images/images/n02169497/n02169497_3024.JPEG  \n",
            "  inflating: ./images/images/n02169497/n02169497_3036.JPEG  \n",
            "  inflating: ./images/images/n02169497/n02169497_3040.JPEG  \n",
            "  inflating: ./images/images/n02169497/n02169497_3044.JPEG  \n",
            "  inflating: ./images/images/n02169497/n02169497_3049.JPEG  \n",
            "  inflating: ./images/images/n02169497/n02169497_3063.JPEG  \n",
            "  inflating: ./images/images/n02169497/n02169497_3068.JPEG  \n",
            "  inflating: ./images/images/n02169497/n02169497_3071.JPEG  \n",
            "  inflating: ./images/images/n02169497/n02169497_3072.JPEG  \n",
            "  inflating: ./images/images/n02169497/n02169497_3074.JPEG  \n",
            "  inflating: ./images/images/n02169497/n02169497_3084.JPEG  \n",
            "  inflating: ./images/images/n02169497/n02169497_3088.JPEG  \n",
            "  inflating: ./images/images/n02169497/n02169497_3093.JPEG  \n",
            "  inflating: ./images/images/n02169497/n02169497_3095.JPEG  \n",
            "  inflating: ./images/images/n02169497/n02169497_3099.JPEG  \n",
            "  inflating: ./images/images/n02169497/n02169497_311.JPEG  \n",
            "  inflating: ./images/images/n02169497/n02169497_3115.JPEG  \n",
            "  inflating: ./images/images/n02169497/n02169497_313.JPEG  \n",
            "  inflating: ./images/images/n02169497/n02169497_3130.JPEG  \n",
            "  inflating: ./images/images/n02169497/n02169497_3134.JPEG  \n",
            "  inflating: ./images/images/n02169497/n02169497_3137.JPEG  \n",
            "  inflating: ./images/images/n02169497/n02169497_3138.JPEG  \n",
            "  inflating: ./images/images/n02169497/n02169497_3141.JPEG  \n",
            "  inflating: ./images/images/n02169497/n02169497_3146.JPEG  \n",
            "  inflating: ./images/images/n02169497/n02169497_3149.JPEG  \n",
            "  inflating: ./images/images/n02169497/n02169497_3166.JPEG  \n",
            "  inflating: ./images/images/n02169497/n02169497_317.JPEG  \n",
            "  inflating: ./images/images/n02169497/n02169497_3170.JPEG  \n",
            "  inflating: ./images/images/n02169497/n02169497_3171.JPEG  \n",
            "  inflating: ./images/images/n02169497/n02169497_3173.JPEG  \n",
            "  inflating: ./images/images/n02169497/n02169497_3182.JPEG  \n",
            "  inflating: ./images/images/n02169497/n02169497_3195.JPEG  \n",
            "  inflating: ./images/images/n02169497/n02169497_3199.JPEG  \n",
            "  inflating: ./images/images/n02169497/n02169497_3205.JPEG  \n",
            "  inflating: ./images/images/n02169497/n02169497_3221.JPEG  \n",
            "  inflating: ./images/images/n02169497/n02169497_3229.JPEG  \n",
            "  inflating: ./images/images/n02169497/n02169497_3230.JPEG  \n",
            "  inflating: ./images/images/n02169497/n02169497_3240.JPEG  \n",
            "  inflating: ./images/images/n02169497/n02169497_3241.JPEG  \n",
            "  inflating: ./images/images/n02169497/n02169497_3243.JPEG  \n",
            "  inflating: ./images/images/n02169497/n02169497_3246.JPEG  \n",
            "  inflating: ./images/images/n02169497/n02169497_3247.JPEG  \n",
            "  inflating: ./images/images/n02169497/n02169497_3252.JPEG  \n",
            "  inflating: ./images/images/n02169497/n02169497_3255.JPEG  \n",
            "  inflating: ./images/images/n02169497/n02169497_3260.JPEG  \n",
            "  inflating: ./images/images/n02169497/n02169497_3264.JPEG  \n",
            "  inflating: ./images/images/n02169497/n02169497_3266.JPEG  \n",
            "  inflating: ./images/images/n02169497/n02169497_3273.JPEG  \n",
            "  inflating: ./images/images/n02169497/n02169497_3277.JPEG  \n",
            "  inflating: ./images/images/n02169497/n02169497_3284.JPEG  \n",
            "  inflating: ./images/images/n02169497/n02169497_3285.JPEG  \n",
            "  inflating: ./images/images/n02169497/n02169497_3286.JPEG  \n",
            "  inflating: ./images/images/n02169497/n02169497_3297.JPEG  \n",
            "  inflating: ./images/images/n02169497/n02169497_3300.JPEG  \n",
            "  inflating: ./images/images/n02169497/n02169497_3304.JPEG  \n",
            "  inflating: ./images/images/n02169497/n02169497_3307.JPEG  \n",
            "  inflating: ./images/images/n02169497/n02169497_3308.JPEG  \n",
            "  inflating: ./images/images/n02169497/n02169497_3310.JPEG  \n",
            "  inflating: ./images/images/n02169497/n02169497_3322.JPEG  \n",
            "  inflating: ./images/images/n02169497/n02169497_3336.JPEG  \n",
            "  inflating: ./images/images/n02169497/n02169497_3339.JPEG  \n",
            "  inflating: ./images/images/n02169497/n02169497_3341.JPEG  \n",
            "  inflating: ./images/images/n02169497/n02169497_3342.JPEG  \n",
            "  inflating: ./images/images/n02169497/n02169497_3346.JPEG  \n",
            "  inflating: ./images/images/n02169497/n02169497_3348.JPEG  \n",
            "  inflating: ./images/images/n02169497/n02169497_335.JPEG  \n",
            "  inflating: ./images/images/n02169497/n02169497_3355.JPEG  \n",
            "  inflating: ./images/images/n02169497/n02169497_3359.JPEG  \n",
            "  inflating: ./images/images/n02169497/n02169497_3360.JPEG  \n",
            "  inflating: ./images/images/n02169497/n02169497_3363.JPEG  \n",
            "  inflating: ./images/images/n02169497/n02169497_3367.JPEG  \n",
            "  inflating: ./images/images/n02169497/n02169497_3369.JPEG  \n",
            "  inflating: ./images/images/n02169497/n02169497_337.JPEG  \n",
            "  inflating: ./images/images/n02169497/n02169497_3373.JPEG  \n",
            "  inflating: ./images/images/n02169497/n02169497_3378.JPEG  \n",
            "  inflating: ./images/images/n02169497/n02169497_3379.JPEG  \n",
            "  inflating: ./images/images/n02169497/n02169497_3380.JPEG  \n",
            "  inflating: ./images/images/n02169497/n02169497_3391.JPEG  \n",
            "  inflating: ./images/images/n02169497/n02169497_3397.JPEG  \n",
            "  inflating: ./images/images/n02169497/n02169497_3400.JPEG  \n",
            "  inflating: ./images/images/n02169497/n02169497_3406.JPEG  \n",
            "  inflating: ./images/images/n02169497/n02169497_3407.JPEG  \n",
            "  inflating: ./images/images/n02169497/n02169497_3413.JPEG  \n",
            "  inflating: ./images/images/n02169497/n02169497_3423.JPEG  \n",
            "  inflating: ./images/images/n02169497/n02169497_3426.JPEG  \n",
            "  inflating: ./images/images/n02169497/n02169497_3427.JPEG  \n",
            "  inflating: ./images/images/n02169497/n02169497_3432.JPEG  \n",
            "  inflating: ./images/images/n02169497/n02169497_3435.JPEG  \n",
            "  inflating: ./images/images/n02169497/n02169497_3436.JPEG  \n",
            "  inflating: ./images/images/n02169497/n02169497_3438.JPEG  \n",
            "  inflating: ./images/images/n02169497/n02169497_3442.JPEG  \n",
            "  inflating: ./images/images/n02169497/n02169497_3445.JPEG  \n",
            "  inflating: ./images/images/n02169497/n02169497_3449.JPEG  \n",
            "  inflating: ./images/images/n02169497/n02169497_3464.JPEG  \n",
            "  inflating: ./images/images/n02169497/n02169497_3469.JPEG  \n",
            "  inflating: ./images/images/n02169497/n02169497_347.JPEG  \n",
            "  inflating: ./images/images/n02169497/n02169497_3480.JPEG  \n",
            "  inflating: ./images/images/n02169497/n02169497_3483.JPEG  \n",
            "  inflating: ./images/images/n02169497/n02169497_3485.JPEG  \n",
            "  inflating: ./images/images/n02169497/n02169497_3486.JPEG  \n",
            "  inflating: ./images/images/n02169497/n02169497_3494.JPEG  \n",
            "  inflating: ./images/images/n02169497/n02169497_3498.JPEG  \n",
            "  inflating: ./images/images/n02169497/n02169497_3499.JPEG  \n",
            "  inflating: ./images/images/n02169497/n02169497_3503.JPEG  \n",
            "  inflating: ./images/images/n02169497/n02169497_3510.JPEG  \n",
            "  inflating: ./images/images/n02169497/n02169497_3512.JPEG  \n",
            "  inflating: ./images/images/n02169497/n02169497_3515.JPEG  \n",
            "  inflating: ./images/images/n02169497/n02169497_3521.JPEG  \n",
            "  inflating: ./images/images/n02169497/n02169497_3529.JPEG  \n",
            "  inflating: ./images/images/n02169497/n02169497_3531.JPEG  \n",
            "  inflating: ./images/images/n02169497/n02169497_3533.JPEG  \n",
            "  inflating: ./images/images/n02169497/n02169497_3540.JPEG  \n",
            "  inflating: ./images/images/n02169497/n02169497_3541.JPEG  \n",
            "  inflating: ./images/images/n02169497/n02169497_3548.JPEG  \n",
            "  inflating: ./images/images/n02169497/n02169497_3551.JPEG  \n",
            "  inflating: ./images/images/n02169497/n02169497_3557.JPEG  \n",
            "  inflating: ./images/images/n02169497/n02169497_3566.JPEG  \n",
            "  inflating: ./images/images/n02169497/n02169497_3571.JPEG  \n",
            "  inflating: ./images/images/n02169497/n02169497_3572.JPEG  \n",
            "  inflating: ./images/images/n02169497/n02169497_3575.JPEG  \n",
            "  inflating: ./images/images/n02169497/n02169497_3586.JPEG  \n",
            "  inflating: ./images/images/n02169497/n02169497_3594.JPEG  \n",
            "  inflating: ./images/images/n02169497/n02169497_3595.JPEG  \n",
            "  inflating: ./images/images/n02169497/n02169497_36.JPEG  \n",
            "  inflating: ./images/images/n02169497/n02169497_3604.JPEG  \n",
            "  inflating: ./images/images/n02169497/n02169497_3605.JPEG  \n",
            "  inflating: ./images/images/n02169497/n02169497_3607.JPEG  \n",
            "  inflating: ./images/images/n02169497/n02169497_3610.JPEG  \n",
            "  inflating: ./images/images/n02169497/n02169497_3614.JPEG  \n",
            "  inflating: ./images/images/n02169497/n02169497_3616.JPEG  \n",
            "  inflating: ./images/images/n02169497/n02169497_3619.JPEG  \n",
            "  inflating: ./images/images/n02169497/n02169497_3622.JPEG  \n",
            "  inflating: ./images/images/n02169497/n02169497_3632.JPEG  \n",
            "  inflating: ./images/images/n02169497/n02169497_3636.JPEG  \n",
            "  inflating: ./images/images/n02169497/n02169497_3639.JPEG  \n",
            "  inflating: ./images/images/n02169497/n02169497_364.JPEG  \n",
            "  inflating: ./images/images/n02169497/n02169497_3662.JPEG  \n",
            "  inflating: ./images/images/n02169497/n02169497_3663.JPEG  \n",
            "  inflating: ./images/images/n02169497/n02169497_3664.JPEG  \n",
            "  inflating: ./images/images/n02169497/n02169497_3675.JPEG  \n",
            "  inflating: ./images/images/n02169497/n02169497_3680.JPEG  \n",
            "  inflating: ./images/images/n02169497/n02169497_3688.JPEG  \n",
            "  inflating: ./images/images/n02169497/n02169497_3691.JPEG  \n",
            "  inflating: ./images/images/n02169497/n02169497_3693.JPEG  \n",
            "  inflating: ./images/images/n02169497/n02169497_3701.JPEG  \n",
            "  inflating: ./images/images/n02169497/n02169497_3703.JPEG  \n",
            "  inflating: ./images/images/n02169497/n02169497_3711.JPEG  \n",
            "  inflating: ./images/images/n02169497/n02169497_3715.JPEG  \n",
            "  inflating: ./images/images/n02169497/n02169497_3719.JPEG  \n",
            "  inflating: ./images/images/n02169497/n02169497_3722.JPEG  \n",
            "  inflating: ./images/images/n02169497/n02169497_3725.JPEG  \n",
            "  inflating: ./images/images/n02169497/n02169497_3727.JPEG  \n",
            "  inflating: ./images/images/n02169497/n02169497_3729.JPEG  \n",
            "  inflating: ./images/images/n02169497/n02169497_373.JPEG  \n",
            "  inflating: ./images/images/n02169497/n02169497_3741.JPEG  \n",
            "  inflating: ./images/images/n02169497/n02169497_3746.JPEG  \n",
            "  inflating: ./images/images/n02169497/n02169497_3747.JPEG  \n",
            "  inflating: ./images/images/n02169497/n02169497_3748.JPEG  \n",
            "  inflating: ./images/images/n02169497/n02169497_3754.JPEG  \n",
            "  inflating: ./images/images/n02169497/n02169497_3760.JPEG  \n",
            "  inflating: ./images/images/n02169497/n02169497_3767.JPEG  \n",
            "  inflating: ./images/images/n02169497/n02169497_3769.JPEG  \n",
            "  inflating: ./images/images/n02169497/n02169497_3773.JPEG  \n",
            "  inflating: ./images/images/n02169497/n02169497_3774.JPEG  \n",
            "  inflating: ./images/images/n02169497/n02169497_3775.JPEG  \n",
            "  inflating: ./images/images/n02169497/n02169497_378.JPEG  \n",
            "  inflating: ./images/images/n02169497/n02169497_3784.JPEG  \n",
            "  inflating: ./images/images/n02169497/n02169497_3796.JPEG  \n",
            "  inflating: ./images/images/n02169497/n02169497_3802.JPEG  \n",
            "  inflating: ./images/images/n02169497/n02169497_3809.JPEG  \n",
            "  inflating: ./images/images/n02169497/n02169497_382.JPEG  \n",
            "  inflating: ./images/images/n02169497/n02169497_3825.JPEG  \n",
            "  inflating: ./images/images/n02169497/n02169497_3827.JPEG  \n",
            "  inflating: ./images/images/n02169497/n02169497_3838.JPEG  \n",
            "  inflating: ./images/images/n02169497/n02169497_3839.JPEG  \n",
            "  inflating: ./images/images/n02169497/n02169497_3841.JPEG  \n",
            "  inflating: ./images/images/n02169497/n02169497_3842.JPEG  \n",
            "  inflating: ./images/images/n02169497/n02169497_3844.JPEG  \n",
            "  inflating: ./images/images/n02169497/n02169497_386.JPEG  \n",
            "  inflating: ./images/images/n02169497/n02169497_3864.JPEG  \n",
            "  inflating: ./images/images/n02169497/n02169497_3866.JPEG  \n",
            "  inflating: ./images/images/n02169497/n02169497_3878.JPEG  \n",
            "  inflating: ./images/images/n02169497/n02169497_388.JPEG  \n",
            "  inflating: ./images/images/n02169497/n02169497_3885.JPEG  \n",
            "  inflating: ./images/images/n02169497/n02169497_3901.JPEG  \n",
            "  inflating: ./images/images/n02169497/n02169497_3903.JPEG  \n",
            "  inflating: ./images/images/n02169497/n02169497_3904.JPEG  \n",
            "  inflating: ./images/images/n02169497/n02169497_3913.JPEG  \n",
            "  inflating: ./images/images/n02169497/n02169497_3918.JPEG  \n",
            "  inflating: ./images/images/n02169497/n02169497_3919.JPEG  \n",
            "  inflating: ./images/images/n02169497/n02169497_3920.JPEG  \n",
            "  inflating: ./images/images/n02169497/n02169497_3932.JPEG  \n",
            "  inflating: ./images/images/n02169497/n02169497_3933.JPEG  \n",
            "  inflating: ./images/images/n02169497/n02169497_3937.JPEG  \n",
            "  inflating: ./images/images/n02169497/n02169497_3938.JPEG  \n",
            "  inflating: ./images/images/n02169497/n02169497_3951.JPEG  \n",
            "  inflating: ./images/images/n02169497/n02169497_3953.JPEG  \n",
            "  inflating: ./images/images/n02169497/n02169497_3958.JPEG  \n",
            "  inflating: ./images/images/n02169497/n02169497_3960.JPEG  \n",
            "  inflating: ./images/images/n02169497/n02169497_3964.JPEG  \n",
            "  inflating: ./images/images/n02169497/n02169497_3966.JPEG  \n",
            "  inflating: ./images/images/n02169497/n02169497_3968.JPEG  \n",
            "  inflating: ./images/images/n02169497/n02169497_3971.JPEG  \n",
            "  inflating: ./images/images/n02169497/n02169497_3973.JPEG  \n",
            "  inflating: ./images/images/n02169497/n02169497_3978.JPEG  \n",
            "  inflating: ./images/images/n02169497/n02169497_3979.JPEG  \n",
            "  inflating: ./images/images/n02169497/n02169497_3984.JPEG  \n",
            "  inflating: ./images/images/n02169497/n02169497_3985.JPEG  \n",
            "  inflating: ./images/images/n02169497/n02169497_399.JPEG  \n",
            "  inflating: ./images/images/n02169497/n02169497_3994.JPEG  \n",
            "  inflating: ./images/images/n02169497/n02169497_3995.JPEG  \n",
            "  inflating: ./images/images/n02169497/n02169497_4004.JPEG  \n",
            "  inflating: ./images/images/n02169497/n02169497_4007.JPEG  \n",
            "  inflating: ./images/images/n02169497/n02169497_4016.JPEG  \n",
            "  inflating: ./images/images/n02169497/n02169497_4020.JPEG  \n",
            "  inflating: ./images/images/n02169497/n02169497_4021.JPEG  \n",
            "  inflating: ./images/images/n02169497/n02169497_4033.JPEG  \n",
            "  inflating: ./images/images/n02169497/n02169497_4055.JPEG  \n",
            "  inflating: ./images/images/n02169497/n02169497_4064.JPEG  \n",
            "  inflating: ./images/images/n02169497/n02169497_4068.JPEG  \n",
            "  inflating: ./images/images/n02169497/n02169497_4071.JPEG  \n",
            "  inflating: ./images/images/n02169497/n02169497_408.JPEG  \n",
            "  inflating: ./images/images/n02169497/n02169497_4086.JPEG  \n",
            "  inflating: ./images/images/n02169497/n02169497_4087.JPEG  \n",
            "  inflating: ./images/images/n02169497/n02169497_4094.JPEG  \n",
            "  inflating: ./images/images/n02169497/n02169497_4096.JPEG  \n",
            "  inflating: ./images/images/n02169497/n02169497_4102.JPEG  \n",
            "  inflating: ./images/images/n02169497/n02169497_4111.JPEG  \n",
            "  inflating: ./images/images/n02169497/n02169497_4118.JPEG  \n",
            "  inflating: ./images/images/n02169497/n02169497_4123.JPEG  \n",
            "  inflating: ./images/images/n02169497/n02169497_4127.JPEG  \n",
            "  inflating: ./images/images/n02169497/n02169497_4131.JPEG  \n",
            "  inflating: ./images/images/n02169497/n02169497_4135.JPEG  \n",
            "  inflating: ./images/images/n02169497/n02169497_4138.JPEG  \n",
            "  inflating: ./images/images/n02169497/n02169497_4142.JPEG  \n",
            "  inflating: ./images/images/n02169497/n02169497_4144.JPEG  \n",
            "  inflating: ./images/images/n02169497/n02169497_4152.JPEG  \n",
            "  inflating: ./images/images/n02169497/n02169497_4156.JPEG  \n",
            "  inflating: ./images/images/n02169497/n02169497_4157.JPEG  \n",
            "  inflating: ./images/images/n02169497/n02169497_4159.JPEG  \n",
            "  inflating: ./images/images/n02169497/n02169497_416.JPEG  \n",
            "  inflating: ./images/images/n02169497/n02169497_4166.JPEG  \n",
            "  inflating: ./images/images/n02169497/n02169497_4169.JPEG  \n",
            "  inflating: ./images/images/n02169497/n02169497_4171.JPEG  \n",
            "  inflating: ./images/images/n02169497/n02169497_4179.JPEG  \n",
            "  inflating: ./images/images/n02169497/n02169497_4189.JPEG  \n",
            "  inflating: ./images/images/n02169497/n02169497_4196.JPEG  \n",
            "  inflating: ./images/images/n02169497/n02169497_4197.JPEG  \n",
            "  inflating: ./images/images/n02169497/n02169497_4204.JPEG  \n",
            "  inflating: ./images/images/n02169497/n02169497_4225.JPEG  \n",
            "  inflating: ./images/images/n02169497/n02169497_4230.JPEG  \n",
            "  inflating: ./images/images/n02169497/n02169497_4235.JPEG  \n",
            "  inflating: ./images/images/n02169497/n02169497_424.JPEG  \n",
            "  inflating: ./images/images/n02169497/n02169497_4252.JPEG  \n",
            "  inflating: ./images/images/n02169497/n02169497_4253.JPEG  \n",
            "  inflating: ./images/images/n02169497/n02169497_4259.JPEG  \n",
            "  inflating: ./images/images/n02169497/n02169497_4267.JPEG  \n",
            "  inflating: ./images/images/n02169497/n02169497_4289.JPEG  \n",
            "  inflating: ./images/images/n02169497/n02169497_4294.JPEG  \n",
            "  inflating: ./images/images/n02169497/n02169497_4301.JPEG  \n",
            "  inflating: ./images/images/n02169497/n02169497_4307.JPEG  \n",
            "  inflating: ./images/images/n02169497/n02169497_4319.JPEG  \n",
            "  inflating: ./images/images/n02169497/n02169497_432.JPEG  \n",
            "  inflating: ./images/images/n02169497/n02169497_433.JPEG  \n",
            "  inflating: ./images/images/n02169497/n02169497_4337.JPEG  \n",
            "  inflating: ./images/images/n02169497/n02169497_4346.JPEG  \n",
            "  inflating: ./images/images/n02169497/n02169497_4347.JPEG  \n",
            "  inflating: ./images/images/n02169497/n02169497_4352.JPEG  \n",
            "  inflating: ./images/images/n02169497/n02169497_4364.JPEG  \n",
            "  inflating: ./images/images/n02169497/n02169497_4372.JPEG  \n",
            "  inflating: ./images/images/n02169497/n02169497_4378.JPEG  \n",
            "  inflating: ./images/images/n02169497/n02169497_438.JPEG  \n",
            "  inflating: ./images/images/n02169497/n02169497_4406.JPEG  \n",
            "  inflating: ./images/images/n02169497/n02169497_4408.JPEG  \n",
            "  inflating: ./images/images/n02169497/n02169497_4410.JPEG  \n",
            "  inflating: ./images/images/n02169497/n02169497_4413.JPEG  \n",
            "  inflating: ./images/images/n02169497/n02169497_4429.JPEG  \n",
            "  inflating: ./images/images/n02169497/n02169497_4435.JPEG  \n",
            "  inflating: ./images/images/n02169497/n02169497_4444.JPEG  \n",
            "  inflating: ./images/images/n02169497/n02169497_4480.JPEG  \n",
            "  inflating: ./images/images/n02169497/n02169497_4495.JPEG  \n",
            "  inflating: ./images/images/n02169497/n02169497_4502.JPEG  \n",
            "  inflating: ./images/images/n02169497/n02169497_4512.JPEG  \n",
            "  inflating: ./images/images/n02169497/n02169497_4514.JPEG  \n",
            "  inflating: ./images/images/n02169497/n02169497_4522.JPEG  \n",
            "  inflating: ./images/images/n02169497/n02169497_4524.JPEG  \n",
            "  inflating: ./images/images/n02169497/n02169497_4533.JPEG  \n",
            "  inflating: ./images/images/n02169497/n02169497_4536.JPEG  \n",
            "  inflating: ./images/images/n02169497/n02169497_4544.JPEG  \n",
            "  inflating: ./images/images/n02169497/n02169497_4552.JPEG  \n",
            "  inflating: ./images/images/n02169497/n02169497_4553.JPEG  \n",
            "  inflating: ./images/images/n02169497/n02169497_4558.JPEG  \n",
            "  inflating: ./images/images/n02169497/n02169497_4569.JPEG  \n",
            "  inflating: ./images/images/n02169497/n02169497_4584.JPEG  \n",
            "  inflating: ./images/images/n02169497/n02169497_4588.JPEG  \n",
            "  inflating: ./images/images/n02169497/n02169497_4597.JPEG  \n",
            "  inflating: ./images/images/n02169497/n02169497_4600.JPEG  \n",
            "  inflating: ./images/images/n02169497/n02169497_4602.JPEG  \n",
            "  inflating: ./images/images/n02169497/n02169497_4605.JPEG  \n",
            "  inflating: ./images/images/n02169497/n02169497_4622.JPEG  \n",
            "  inflating: ./images/images/n02169497/n02169497_4628.JPEG  \n",
            "  inflating: ./images/images/n02169497/n02169497_4632.JPEG  \n",
            "  inflating: ./images/images/n02169497/n02169497_4634.JPEG  \n",
            "  inflating: ./images/images/n02169497/n02169497_4638.JPEG  \n",
            "  inflating: ./images/images/n02169497/n02169497_4641.JPEG  \n",
            "  inflating: ./images/images/n02169497/n02169497_4643.JPEG  \n",
            "  inflating: ./images/images/n02169497/n02169497_4645.JPEG  \n",
            "  inflating: ./images/images/n02169497/n02169497_4647.JPEG  \n",
            "  inflating: ./images/images/n02169497/n02169497_4653.JPEG  \n",
            "  inflating: ./images/images/n02169497/n02169497_4654.JPEG  \n",
            "  inflating: ./images/images/n02169497/n02169497_4655.JPEG  \n",
            "  inflating: ./images/images/n02169497/n02169497_4657.JPEG  \n",
            "  inflating: ./images/images/n02169497/n02169497_4678.JPEG  \n",
            "  inflating: ./images/images/n02169497/n02169497_468.JPEG  \n",
            "  inflating: ./images/images/n02169497/n02169497_4690.JPEG  \n",
            "  inflating: ./images/images/n02169497/n02169497_4699.JPEG  \n",
            "  inflating: ./images/images/n02169497/n02169497_4700.JPEG  \n",
            "  inflating: ./images/images/n02169497/n02169497_4709.JPEG  \n",
            "  inflating: ./images/images/n02169497/n02169497_471.JPEG  \n",
            "  inflating: ./images/images/n02169497/n02169497_4717.JPEG  \n",
            "  inflating: ./images/images/n02169497/n02169497_4726.JPEG  \n",
            "  inflating: ./images/images/n02169497/n02169497_4732.JPEG  \n",
            "  inflating: ./images/images/n02169497/n02169497_4741.JPEG  \n",
            "  inflating: ./images/images/n02169497/n02169497_4747.JPEG  \n",
            "  inflating: ./images/images/n02169497/n02169497_4752.JPEG  \n",
            "  inflating: ./images/images/n02169497/n02169497_4754.JPEG  \n",
            "  inflating: ./images/images/n02169497/n02169497_4758.JPEG  \n",
            "  inflating: ./images/images/n02169497/n02169497_476.JPEG  \n",
            "  inflating: ./images/images/n02169497/n02169497_4763.JPEG  \n",
            "  inflating: ./images/images/n02169497/n02169497_4770.JPEG  \n",
            "  inflating: ./images/images/n02169497/n02169497_4774.JPEG  \n",
            "  inflating: ./images/images/n02169497/n02169497_4780.JPEG  \n",
            "  inflating: ./images/images/n02169497/n02169497_4781.JPEG  \n",
            "  inflating: ./images/images/n02169497/n02169497_4797.JPEG  \n",
            "  inflating: ./images/images/n02169497/n02169497_4804.JPEG  \n",
            "  inflating: ./images/images/n02169497/n02169497_4823.JPEG  \n",
            "  inflating: ./images/images/n02169497/n02169497_4825.JPEG  \n",
            "  inflating: ./images/images/n02169497/n02169497_4830.JPEG  \n",
            "  inflating: ./images/images/n02169497/n02169497_4839.JPEG  \n",
            "  inflating: ./images/images/n02169497/n02169497_4849.JPEG  \n",
            "  inflating: ./images/images/n02169497/n02169497_4853.JPEG  \n",
            "  inflating: ./images/images/n02169497/n02169497_4864.JPEG  \n",
            "  inflating: ./images/images/n02169497/n02169497_4865.JPEG  \n",
            "  inflating: ./images/images/n02169497/n02169497_4868.JPEG  \n",
            "  inflating: ./images/images/n02169497/n02169497_4873.JPEG  \n",
            "  inflating: ./images/images/n02169497/n02169497_4886.JPEG  \n",
            "  inflating: ./images/images/n02169497/n02169497_4899.JPEG  \n",
            "  inflating: ./images/images/n02169497/n02169497_4901.JPEG  \n",
            "  inflating: ./images/images/n02169497/n02169497_4909.JPEG  \n",
            "  inflating: ./images/images/n02169497/n02169497_4926.JPEG  \n",
            "  inflating: ./images/images/n02169497/n02169497_4931.JPEG  \n",
            "  inflating: ./images/images/n02169497/n02169497_494.JPEG  \n",
            "  inflating: ./images/images/n02169497/n02169497_4946.JPEG  \n",
            "  inflating: ./images/images/n02169497/n02169497_4956.JPEG  \n",
            "  inflating: ./images/images/n02169497/n02169497_4965.JPEG  \n",
            "  inflating: ./images/images/n02169497/n02169497_497.JPEG  \n",
            "  inflating: ./images/images/n02169497/n02169497_4976.JPEG  \n",
            "  inflating: ./images/images/n02169497/n02169497_4993.JPEG  \n",
            "  inflating: ./images/images/n02169497/n02169497_5013.JPEG  \n",
            "  inflating: ./images/images/n02169497/n02169497_5018.JPEG  \n",
            "  inflating: ./images/images/n02169497/n02169497_5025.JPEG  \n",
            "  inflating: ./images/images/n02169497/n02169497_5027.JPEG  \n",
            "  inflating: ./images/images/n02169497/n02169497_5037.JPEG  \n",
            "  inflating: ./images/images/n02169497/n02169497_5041.JPEG  \n",
            "  inflating: ./images/images/n02169497/n02169497_5044.JPEG  \n",
            "  inflating: ./images/images/n02169497/n02169497_5051.JPEG  \n",
            "  inflating: ./images/images/n02169497/n02169497_5069.JPEG  \n",
            "  inflating: ./images/images/n02169497/n02169497_5070.JPEG  \n",
            "  inflating: ./images/images/n02169497/n02169497_5072.JPEG  \n",
            "  inflating: ./images/images/n02169497/n02169497_5100.JPEG  \n",
            "  inflating: ./images/images/n02169497/n02169497_5104.JPEG  \n",
            "  inflating: ./images/images/n02169497/n02169497_5116.JPEG  \n",
            "  inflating: ./images/images/n02169497/n02169497_5128.JPEG  \n",
            "  inflating: ./images/images/n02169497/n02169497_5134.JPEG  \n",
            "  inflating: ./images/images/n02169497/n02169497_5139.JPEG  \n",
            "  inflating: ./images/images/n02169497/n02169497_5145.JPEG  \n",
            "  inflating: ./images/images/n02169497/n02169497_5147.JPEG  \n",
            "  inflating: ./images/images/n02169497/n02169497_5148.JPEG  \n",
            "  inflating: ./images/images/n02169497/n02169497_5153.JPEG  \n",
            "  inflating: ./images/images/n02169497/n02169497_5160.JPEG  \n",
            "  inflating: ./images/images/n02169497/n02169497_5161.JPEG  \n",
            "  inflating: ./images/images/n02169497/n02169497_5162.JPEG  \n",
            "  inflating: ./images/images/n02169497/n02169497_5163.JPEG  \n",
            "  inflating: ./images/images/n02169497/n02169497_5171.JPEG  \n",
            "  inflating: ./images/images/n02169497/n02169497_5179.JPEG  \n",
            "  inflating: ./images/images/n02169497/n02169497_5181.JPEG  \n",
            "  inflating: ./images/images/n02169497/n02169497_5184.JPEG  \n",
            "  inflating: ./images/images/n02169497/n02169497_5186.JPEG  \n",
            "  inflating: ./images/images/n02169497/n02169497_519.JPEG  \n",
            "  inflating: ./images/images/n02169497/n02169497_5190.JPEG  \n",
            "  inflating: ./images/images/n02169497/n02169497_5205.JPEG  \n",
            "  inflating: ./images/images/n02169497/n02169497_5217.JPEG  \n",
            "  inflating: ./images/images/n02169497/n02169497_5218.JPEG  \n",
            "  inflating: ./images/images/n02169497/n02169497_5223.JPEG  \n",
            "  inflating: ./images/images/n02169497/n02169497_525.JPEG  \n",
            "  inflating: ./images/images/n02169497/n02169497_5257.JPEG  \n",
            "  inflating: ./images/images/n02169497/n02169497_5258.JPEG  \n",
            "  inflating: ./images/images/n02169497/n02169497_5264.JPEG  \n",
            "  inflating: ./images/images/n02169497/n02169497_5294.JPEG  \n",
            "  inflating: ./images/images/n02169497/n02169497_532.JPEG  \n",
            "  inflating: ./images/images/n02169497/n02169497_5325.JPEG  \n",
            "  inflating: ./images/images/n02169497/n02169497_5331.JPEG  \n",
            "  inflating: ./images/images/n02169497/n02169497_5334.JPEG  \n",
            "  inflating: ./images/images/n02169497/n02169497_5336.JPEG  \n",
            "  inflating: ./images/images/n02169497/n02169497_5353.JPEG  \n",
            "  inflating: ./images/images/n02169497/n02169497_5360.JPEG  \n",
            "  inflating: ./images/images/n02169497/n02169497_5371.JPEG  \n",
            "  inflating: ./images/images/n02169497/n02169497_5381.JPEG  \n",
            "  inflating: ./images/images/n02169497/n02169497_5384.JPEG  \n",
            "  inflating: ./images/images/n02169497/n02169497_5394.JPEG  \n",
            "  inflating: ./images/images/n02169497/n02169497_5396.JPEG  \n",
            "  inflating: ./images/images/n02169497/n02169497_5401.JPEG  \n",
            "  inflating: ./images/images/n02169497/n02169497_5402.JPEG  \n",
            "  inflating: ./images/images/n02169497/n02169497_5404.JPEG  \n",
            "  inflating: ./images/images/n02169497/n02169497_5412.JPEG  \n",
            "  inflating: ./images/images/n02169497/n02169497_5428.JPEG  \n",
            "  inflating: ./images/images/n02169497/n02169497_5432.JPEG  \n",
            "  inflating: ./images/images/n02169497/n02169497_5437.JPEG  \n",
            "  inflating: ./images/images/n02169497/n02169497_5439.JPEG  \n",
            "  inflating: ./images/images/n02169497/n02169497_5443.JPEG  \n",
            "  inflating: ./images/images/n02169497/n02169497_5455.JPEG  \n",
            "  inflating: ./images/images/n02169497/n02169497_5456.JPEG  \n",
            "  inflating: ./images/images/n02169497/n02169497_5459.JPEG  \n",
            "  inflating: ./images/images/n02169497/n02169497_5464.JPEG  \n",
            "  inflating: ./images/images/n02169497/n02169497_5472.JPEG  \n",
            "  inflating: ./images/images/n02169497/n02169497_5473.JPEG  \n",
            "  inflating: ./images/images/n02169497/n02169497_5488.JPEG  \n",
            "  inflating: ./images/images/n02169497/n02169497_549.JPEG  \n",
            "  inflating: ./images/images/n02169497/n02169497_5490.JPEG  \n",
            "  inflating: ./images/images/n02169497/n02169497_5492.JPEG  \n",
            "  inflating: ./images/images/n02169497/n02169497_5496.JPEG  \n",
            "  inflating: ./images/images/n02169497/n02169497_5509.JPEG  \n",
            "  inflating: ./images/images/n02169497/n02169497_5533.JPEG  \n",
            "  inflating: ./images/images/n02169497/n02169497_5537.JPEG  \n",
            "  inflating: ./images/images/n02169497/n02169497_5539.JPEG  \n",
            "  inflating: ./images/images/n02169497/n02169497_5544.JPEG  \n",
            "  inflating: ./images/images/n02169497/n02169497_5548.JPEG  \n",
            "  inflating: ./images/images/n02169497/n02169497_5549.JPEG  \n",
            "  inflating: ./images/images/n02169497/n02169497_5552.JPEG  \n",
            "  inflating: ./images/images/n02169497/n02169497_5561.JPEG  \n",
            "  inflating: ./images/images/n02169497/n02169497_5563.JPEG  \n",
            "  inflating: ./images/images/n02169497/n02169497_5566.JPEG  \n",
            "  inflating: ./images/images/n02169497/n02169497_5567.JPEG  \n",
            "  inflating: ./images/images/n02169497/n02169497_5569.JPEG  \n",
            "  inflating: ./images/images/n02169497/n02169497_5576.JPEG  \n",
            "  inflating: ./images/images/n02169497/n02169497_5582.JPEG  \n",
            "  inflating: ./images/images/n02169497/n02169497_5593.JPEG  \n",
            "  inflating: ./images/images/n02169497/n02169497_560.JPEG  \n",
            "  inflating: ./images/images/n02169497/n02169497_5611.JPEG  \n",
            "  inflating: ./images/images/n02169497/n02169497_5612.JPEG  \n",
            "  inflating: ./images/images/n02169497/n02169497_5617.JPEG  \n",
            "  inflating: ./images/images/n02169497/n02169497_5621.JPEG  \n",
            "  inflating: ./images/images/n02169497/n02169497_5623.JPEG  \n",
            "  inflating: ./images/images/n02169497/n02169497_564.JPEG  \n",
            "  inflating: ./images/images/n02169497/n02169497_5648.JPEG  \n",
            "  inflating: ./images/images/n02169497/n02169497_5653.JPEG  \n",
            "  inflating: ./images/images/n02169497/n02169497_5658.JPEG  \n",
            "  inflating: ./images/images/n02169497/n02169497_5670.JPEG  \n",
            "  inflating: ./images/images/n02169497/n02169497_5672.JPEG  \n",
            "  inflating: ./images/images/n02169497/n02169497_5676.JPEG  \n",
            "  inflating: ./images/images/n02169497/n02169497_5681.JPEG  \n",
            "  inflating: ./images/images/n02169497/n02169497_5682.JPEG  \n",
            "  inflating: ./images/images/n02169497/n02169497_5683.JPEG  \n",
            "  inflating: ./images/images/n02169497/n02169497_5684.JPEG  \n",
            "  inflating: ./images/images/n02169497/n02169497_5692.JPEG  \n",
            "  inflating: ./images/images/n02169497/n02169497_5703.JPEG  \n",
            "  inflating: ./images/images/n02169497/n02169497_5705.JPEG  \n",
            "  inflating: ./images/images/n02169497/n02169497_5710.JPEG  \n",
            "  inflating: ./images/images/n02169497/n02169497_5713.JPEG  \n",
            "  inflating: ./images/images/n02169497/n02169497_5716.JPEG  \n",
            "  inflating: ./images/images/n02169497/n02169497_5726.JPEG  \n",
            "  inflating: ./images/images/n02169497/n02169497_5728.JPEG  \n",
            "  inflating: ./images/images/n02169497/n02169497_5732.JPEG  \n",
            "  inflating: ./images/images/n02169497/n02169497_5742.JPEG  \n",
            "  inflating: ./images/images/n02169497/n02169497_5743.JPEG  \n",
            "  inflating: ./images/images/n02169497/n02169497_5746.JPEG  \n",
            "  inflating: ./images/images/n02169497/n02169497_575.JPEG  \n",
            "  inflating: ./images/images/n02169497/n02169497_5752.JPEG  \n",
            "  inflating: ./images/images/n02169497/n02169497_5753.JPEG  \n",
            "  inflating: ./images/images/n02169497/n02169497_5754.JPEG  \n",
            "  inflating: ./images/images/n02169497/n02169497_5756.JPEG  \n",
            "  inflating: ./images/images/n02169497/n02169497_5757.JPEG  \n",
            "  inflating: ./images/images/n02169497/n02169497_5765.JPEG  \n",
            "  inflating: ./images/images/n02169497/n02169497_5766.JPEG  \n",
            "  inflating: ./images/images/n02169497/n02169497_5770.JPEG  \n",
            "  inflating: ./images/images/n02169497/n02169497_5778.JPEG  \n",
            "  inflating: ./images/images/n02169497/n02169497_5783.JPEG  \n",
            "  inflating: ./images/images/n02169497/n02169497_5787.JPEG  \n",
            "  inflating: ./images/images/n02169497/n02169497_5790.JPEG  \n",
            "  inflating: ./images/images/n02169497/n02169497_5793.JPEG  \n",
            "  inflating: ./images/images/n02169497/n02169497_5794.JPEG  \n",
            "  inflating: ./images/images/n02169497/n02169497_5802.JPEG  \n",
            "  inflating: ./images/images/n02169497/n02169497_5807.JPEG  \n",
            "  inflating: ./images/images/n02169497/n02169497_5821.JPEG  \n",
            "  inflating: ./images/images/n02169497/n02169497_5822.JPEG  \n",
            "  inflating: ./images/images/n02169497/n02169497_5823.JPEG  \n",
            "  inflating: ./images/images/n02169497/n02169497_5825.JPEG  \n",
            "  inflating: ./images/images/n02169497/n02169497_5829.JPEG  \n",
            "  inflating: ./images/images/n02169497/n02169497_5830.JPEG  \n",
            "  inflating: ./images/images/n02169497/n02169497_5833.JPEG  \n",
            "  inflating: ./images/images/n02169497/n02169497_5835.JPEG  \n",
            "  inflating: ./images/images/n02169497/n02169497_5837.JPEG  \n",
            "  inflating: ./images/images/n02169497/n02169497_5839.JPEG  \n",
            "  inflating: ./images/images/n02169497/n02169497_5841.JPEG  \n",
            "  inflating: ./images/images/n02169497/n02169497_5843.JPEG  \n",
            "  inflating: ./images/images/n02169497/n02169497_5850.JPEG  \n",
            "  inflating: ./images/images/n02169497/n02169497_5857.JPEG  \n",
            "  inflating: ./images/images/n02169497/n02169497_5863.JPEG  \n",
            "  inflating: ./images/images/n02169497/n02169497_5874.JPEG  \n",
            "  inflating: ./images/images/n02169497/n02169497_5878.JPEG  \n",
            "  inflating: ./images/images/n02169497/n02169497_5879.JPEG  \n",
            "  inflating: ./images/images/n02169497/n02169497_5881.JPEG  \n",
            "  inflating: ./images/images/n02169497/n02169497_5882.JPEG  \n",
            "  inflating: ./images/images/n02169497/n02169497_5894.JPEG  \n",
            "  inflating: ./images/images/n02169497/n02169497_5895.JPEG  \n",
            "  inflating: ./images/images/n02169497/n02169497_5904.JPEG  \n",
            "  inflating: ./images/images/n02169497/n02169497_592.JPEG  \n",
            "  inflating: ./images/images/n02169497/n02169497_5935.JPEG  \n",
            "  inflating: ./images/images/n02169497/n02169497_5937.JPEG  \n",
            "  inflating: ./images/images/n02169497/n02169497_5957.JPEG  \n",
            "  inflating: ./images/images/n02169497/n02169497_596.JPEG  \n",
            "  inflating: ./images/images/n02169497/n02169497_5987.JPEG  \n",
            "  inflating: ./images/images/n02169497/n02169497_599.JPEG  \n",
            "  inflating: ./images/images/n02169497/n02169497_5993.JPEG  \n",
            "  inflating: ./images/images/n02169497/n02169497_6005.JPEG  \n",
            "  inflating: ./images/images/n02169497/n02169497_6010.JPEG  \n",
            "  inflating: ./images/images/n02169497/n02169497_6011.JPEG  \n",
            "  inflating: ./images/images/n02169497/n02169497_6018.JPEG  \n",
            "  inflating: ./images/images/n02169497/n02169497_6052.JPEG  \n",
            "  inflating: ./images/images/n02169497/n02169497_6055.JPEG  \n",
            "  inflating: ./images/images/n02169497/n02169497_6090.JPEG  \n",
            "  inflating: ./images/images/n02169497/n02169497_6109.JPEG  \n",
            "  inflating: ./images/images/n02169497/n02169497_6111.JPEG  \n",
            "  inflating: ./images/images/n02169497/n02169497_6114.JPEG  \n",
            "  inflating: ./images/images/n02169497/n02169497_6116.JPEG  \n",
            "  inflating: ./images/images/n02169497/n02169497_6125.JPEG  \n",
            "  inflating: ./images/images/n02169497/n02169497_6128.JPEG  \n",
            "  inflating: ./images/images/n02169497/n02169497_614.JPEG  \n",
            "  inflating: ./images/images/n02169497/n02169497_6140.JPEG  \n",
            "  inflating: ./images/images/n02169497/n02169497_6142.JPEG  \n",
            "  inflating: ./images/images/n02169497/n02169497_6145.JPEG  \n",
            "  inflating: ./images/images/n02169497/n02169497_6154.JPEG  \n",
            "  inflating: ./images/images/n02169497/n02169497_6160.JPEG  \n",
            "  inflating: ./images/images/n02169497/n02169497_6161.JPEG  \n",
            "  inflating: ./images/images/n02169497/n02169497_6169.JPEG  \n",
            "  inflating: ./images/images/n02169497/n02169497_6170.JPEG  \n",
            "  inflating: ./images/images/n02169497/n02169497_6175.JPEG  \n",
            "  inflating: ./images/images/n02169497/n02169497_6178.JPEG  \n",
            "  inflating: ./images/images/n02169497/n02169497_6193.JPEG  \n",
            "  inflating: ./images/images/n02169497/n02169497_6194.JPEG  \n",
            "  inflating: ./images/images/n02169497/n02169497_620.JPEG  \n",
            "  inflating: ./images/images/n02169497/n02169497_6201.JPEG  \n",
            "  inflating: ./images/images/n02169497/n02169497_6204.JPEG  \n",
            "  inflating: ./images/images/n02169497/n02169497_6207.JPEG  \n",
            "  inflating: ./images/images/n02169497/n02169497_6217.JPEG  \n",
            "  inflating: ./images/images/n02169497/n02169497_6219.JPEG  \n",
            "  inflating: ./images/images/n02169497/n02169497_623.JPEG  \n",
            "  inflating: ./images/images/n02169497/n02169497_6231.JPEG  \n",
            "  inflating: ./images/images/n02169497/n02169497_6239.JPEG  \n",
            "  inflating: ./images/images/n02169497/n02169497_6245.JPEG  \n",
            "  inflating: ./images/images/n02169497/n02169497_6246.JPEG  \n",
            "  inflating: ./images/images/n02169497/n02169497_6257.JPEG  \n",
            "  inflating: ./images/images/n02169497/n02169497_6265.JPEG  \n",
            "  inflating: ./images/images/n02169497/n02169497_6269.JPEG  \n",
            "  inflating: ./images/images/n02169497/n02169497_629.JPEG  \n",
            "  inflating: ./images/images/n02169497/n02169497_632.JPEG  \n",
            "  inflating: ./images/images/n02169497/n02169497_6322.JPEG  \n",
            "  inflating: ./images/images/n02169497/n02169497_6342.JPEG  \n",
            "  inflating: ./images/images/n02169497/n02169497_6343.JPEG  \n",
            "  inflating: ./images/images/n02169497/n02169497_6348.JPEG  \n",
            "  inflating: ./images/images/n02169497/n02169497_6357.JPEG  \n",
            "  inflating: ./images/images/n02169497/n02169497_6367.JPEG  \n",
            "  inflating: ./images/images/n02169497/n02169497_6369.JPEG  \n",
            "  inflating: ./images/images/n02169497/n02169497_637.JPEG  \n",
            "  inflating: ./images/images/n02169497/n02169497_6370.JPEG  \n",
            "  inflating: ./images/images/n02169497/n02169497_6378.JPEG  \n",
            "  inflating: ./images/images/n02169497/n02169497_6400.JPEG  \n",
            "  inflating: ./images/images/n02169497/n02169497_6419.JPEG  \n",
            "  inflating: ./images/images/n02169497/n02169497_6470.JPEG  \n",
            "  inflating: ./images/images/n02169497/n02169497_6474.JPEG  \n",
            "  inflating: ./images/images/n02169497/n02169497_6476.JPEG  \n",
            "  inflating: ./images/images/n02169497/n02169497_6482.JPEG  \n",
            "  inflating: ./images/images/n02169497/n02169497_6485.JPEG  \n",
            "  inflating: ./images/images/n02169497/n02169497_6489.JPEG  \n",
            "  inflating: ./images/images/n02169497/n02169497_6500.JPEG  \n",
            "  inflating: ./images/images/n02169497/n02169497_6502.JPEG  \n",
            "  inflating: ./images/images/n02169497/n02169497_6504.JPEG  \n",
            "  inflating: ./images/images/n02169497/n02169497_6507.JPEG  \n",
            "  inflating: ./images/images/n02169497/n02169497_6508.JPEG  \n",
            "  inflating: ./images/images/n02169497/n02169497_6511.JPEG  \n",
            "  inflating: ./images/images/n02169497/n02169497_6512.JPEG  \n",
            "  inflating: ./images/images/n02169497/n02169497_6513.JPEG  \n",
            "  inflating: ./images/images/n02169497/n02169497_6514.JPEG  \n",
            "  inflating: ./images/images/n02169497/n02169497_6521.JPEG  \n",
            "  inflating: ./images/images/n02169497/n02169497_6524.JPEG  \n",
            "  inflating: ./images/images/n02169497/n02169497_6525.JPEG  \n",
            "  inflating: ./images/images/n02169497/n02169497_6528.JPEG  \n",
            "  inflating: ./images/images/n02169497/n02169497_653.JPEG  \n",
            "  inflating: ./images/images/n02169497/n02169497_6530.JPEG  \n",
            "  inflating: ./images/images/n02169497/n02169497_6532.JPEG  \n",
            "  inflating: ./images/images/n02169497/n02169497_6534.JPEG  \n",
            "  inflating: ./images/images/n02169497/n02169497_6539.JPEG  \n",
            "  inflating: ./images/images/n02169497/n02169497_6542.JPEG  \n",
            "  inflating: ./images/images/n02169497/n02169497_6543.JPEG  \n",
            "  inflating: ./images/images/n02169497/n02169497_6549.JPEG  \n",
            "  inflating: ./images/images/n02169497/n02169497_6551.JPEG  \n",
            "  inflating: ./images/images/n02169497/n02169497_6557.JPEG  \n",
            "  inflating: ./images/images/n02169497/n02169497_6558.JPEG  \n",
            "  inflating: ./images/images/n02169497/n02169497_6561.JPEG  \n",
            "  inflating: ./images/images/n02169497/n02169497_6564.JPEG  \n",
            "  inflating: ./images/images/n02169497/n02169497_6565.JPEG  \n",
            "  inflating: ./images/images/n02169497/n02169497_6571.JPEG  \n",
            "  inflating: ./images/images/n02169497/n02169497_6579.JPEG  \n",
            "  inflating: ./images/images/n02169497/n02169497_658.JPEG  \n",
            "  inflating: ./images/images/n02169497/n02169497_6580.JPEG  \n",
            "  inflating: ./images/images/n02169497/n02169497_6583.JPEG  \n",
            "  inflating: ./images/images/n02169497/n02169497_6585.JPEG  \n",
            "  inflating: ./images/images/n02169497/n02169497_6588.JPEG  \n",
            "  inflating: ./images/images/n02169497/n02169497_6589.JPEG  \n",
            "  inflating: ./images/images/n02169497/n02169497_6599.JPEG  \n",
            "  inflating: ./images/images/n02169497/n02169497_660.JPEG  \n",
            "  inflating: ./images/images/n02169497/n02169497_6613.JPEG  \n",
            "  inflating: ./images/images/n02169497/n02169497_6619.JPEG  \n",
            "  inflating: ./images/images/n02169497/n02169497_6622.JPEG  \n",
            "  inflating: ./images/images/n02169497/n02169497_6624.JPEG  \n",
            "  inflating: ./images/images/n02169497/n02169497_6625.JPEG  \n",
            "  inflating: ./images/images/n02169497/n02169497_6626.JPEG  \n",
            "  inflating: ./images/images/n02169497/n02169497_6627.JPEG  \n",
            "  inflating: ./images/images/n02169497/n02169497_6629.JPEG  \n",
            "  inflating: ./images/images/n02169497/n02169497_6630.JPEG  \n",
            "  inflating: ./images/images/n02169497/n02169497_6632.JPEG  \n",
            "  inflating: ./images/images/n02169497/n02169497_6635.JPEG  \n",
            "  inflating: ./images/images/n02169497/n02169497_6636.JPEG  \n",
            "  inflating: ./images/images/n02169497/n02169497_6639.JPEG  \n",
            "  inflating: ./images/images/n02169497/n02169497_6644.JPEG  \n",
            "  inflating: ./images/images/n02169497/n02169497_6645.JPEG  \n",
            "  inflating: ./images/images/n02169497/n02169497_6654.JPEG  \n",
            "  inflating: ./images/images/n02169497/n02169497_6656.JPEG  \n",
            "  inflating: ./images/images/n02169497/n02169497_6660.JPEG  \n",
            "  inflating: ./images/images/n02169497/n02169497_6661.JPEG  \n",
            "  inflating: ./images/images/n02169497/n02169497_6662.JPEG  \n",
            "  inflating: ./images/images/n02169497/n02169497_6663.JPEG  \n",
            "  inflating: ./images/images/n02169497/n02169497_6668.JPEG  \n",
            "  inflating: ./images/images/n02169497/n02169497_6673.JPEG  \n",
            "  inflating: ./images/images/n02169497/n02169497_6679.JPEG  \n",
            "  inflating: ./images/images/n02169497/n02169497_6682.JPEG  \n",
            "  inflating: ./images/images/n02169497/n02169497_6689.JPEG  \n",
            "  inflating: ./images/images/n02169497/n02169497_6695.JPEG  \n",
            "  inflating: ./images/images/n02169497/n02169497_6700.JPEG  \n",
            "  inflating: ./images/images/n02169497/n02169497_6706.JPEG  \n",
            "  inflating: ./images/images/n02169497/n02169497_6707.JPEG  \n",
            "  inflating: ./images/images/n02169497/n02169497_6713.JPEG  \n",
            "  inflating: ./images/images/n02169497/n02169497_6716.JPEG  \n",
            "  inflating: ./images/images/n02169497/n02169497_6722.JPEG  \n",
            "  inflating: ./images/images/n02169497/n02169497_6723.JPEG  \n",
            "  inflating: ./images/images/n02169497/n02169497_6728.JPEG  \n",
            "  inflating: ./images/images/n02169497/n02169497_6729.JPEG  \n",
            "  inflating: ./images/images/n02169497/n02169497_6734.JPEG  \n",
            "  inflating: ./images/images/n02169497/n02169497_6738.JPEG  \n",
            "  inflating: ./images/images/n02169497/n02169497_6746.JPEG  \n",
            "  inflating: ./images/images/n02169497/n02169497_6754.JPEG  \n",
            "  inflating: ./images/images/n02169497/n02169497_6759.JPEG  \n",
            "  inflating: ./images/images/n02169497/n02169497_6760.JPEG  \n",
            "  inflating: ./images/images/n02169497/n02169497_6761.JPEG  \n",
            "  inflating: ./images/images/n02169497/n02169497_6770.JPEG  \n",
            "  inflating: ./images/images/n02169497/n02169497_6772.JPEG  \n",
            "  inflating: ./images/images/n02169497/n02169497_6774.JPEG  \n",
            "  inflating: ./images/images/n02169497/n02169497_6776.JPEG  \n",
            "  inflating: ./images/images/n02169497/n02169497_6779.JPEG  \n",
            "  inflating: ./images/images/n02169497/n02169497_6780.JPEG  \n",
            "  inflating: ./images/images/n02169497/n02169497_6783.JPEG  \n",
            "  inflating: ./images/images/n02169497/n02169497_6794.JPEG  \n",
            "  inflating: ./images/images/n02169497/n02169497_6799.JPEG  \n",
            "  inflating: ./images/images/n02169497/n02169497_6801.JPEG  \n",
            "  inflating: ./images/images/n02169497/n02169497_6803.JPEG  \n",
            "  inflating: ./images/images/n02169497/n02169497_6808.JPEG  \n",
            "  inflating: ./images/images/n02169497/n02169497_6811.JPEG  \n",
            "  inflating: ./images/images/n02169497/n02169497_6815.JPEG  \n",
            "  inflating: ./images/images/n02169497/n02169497_6818.JPEG  \n",
            "  inflating: ./images/images/n02169497/n02169497_6819.JPEG  \n",
            "  inflating: ./images/images/n02169497/n02169497_6824.JPEG  \n",
            "  inflating: ./images/images/n02169497/n02169497_6825.JPEG  \n",
            "  inflating: ./images/images/n02169497/n02169497_6837.JPEG  \n",
            "  inflating: ./images/images/n02169497/n02169497_6838.JPEG  \n",
            "  inflating: ./images/images/n02169497/n02169497_6840.JPEG  \n",
            "  inflating: ./images/images/n02169497/n02169497_6846.JPEG  \n",
            "  inflating: ./images/images/n02169497/n02169497_6847.JPEG  \n",
            "  inflating: ./images/images/n02169497/n02169497_6856.JPEG  \n",
            "  inflating: ./images/images/n02169497/n02169497_6857.JPEG  \n",
            "  inflating: ./images/images/n02169497/n02169497_6858.JPEG  \n",
            "  inflating: ./images/images/n02169497/n02169497_6859.JPEG  \n",
            "  inflating: ./images/images/n02169497/n02169497_686.JPEG  \n",
            "  inflating: ./images/images/n02169497/n02169497_6861.JPEG  \n",
            "  inflating: ./images/images/n02169497/n02169497_6863.JPEG  \n",
            "  inflating: ./images/images/n02169497/n02169497_6865.JPEG  \n",
            "  inflating: ./images/images/n02169497/n02169497_6867.JPEG  \n",
            "  inflating: ./images/images/n02169497/n02169497_6875.JPEG  \n",
            "  inflating: ./images/images/n02169497/n02169497_6880.JPEG  \n",
            "  inflating: ./images/images/n02169497/n02169497_6883.JPEG  \n",
            "  inflating: ./images/images/n02169497/n02169497_6887.JPEG  \n",
            "  inflating: ./images/images/n02169497/n02169497_6889.JPEG  \n",
            "  inflating: ./images/images/n02169497/n02169497_6890.JPEG  \n",
            "  inflating: ./images/images/n02169497/n02169497_6903.JPEG  \n",
            "  inflating: ./images/images/n02169497/n02169497_6913.JPEG  \n",
            "  inflating: ./images/images/n02169497/n02169497_6915.JPEG  \n",
            "  inflating: ./images/images/n02169497/n02169497_6916.JPEG  \n",
            "  inflating: ./images/images/n02169497/n02169497_6918.JPEG  \n",
            "  inflating: ./images/images/n02169497/n02169497_6932.JPEG  \n",
            "  inflating: ./images/images/n02169497/n02169497_6940.JPEG  \n",
            "  inflating: ./images/images/n02169497/n02169497_6941.JPEG  \n",
            "  inflating: ./images/images/n02169497/n02169497_6946.JPEG  \n",
            "  inflating: ./images/images/n02169497/n02169497_6955.JPEG  \n",
            "  inflating: ./images/images/n02169497/n02169497_6956.JPEG  \n",
            "  inflating: ./images/images/n02169497/n02169497_6958.JPEG  \n",
            "  inflating: ./images/images/n02169497/n02169497_6962.JPEG  \n",
            "  inflating: ./images/images/n02169497/n02169497_6963.JPEG  \n",
            "  inflating: ./images/images/n02169497/n02169497_6964.JPEG  \n",
            "  inflating: ./images/images/n02169497/n02169497_6966.JPEG  \n",
            "  inflating: ./images/images/n02169497/n02169497_6971.JPEG  \n",
            "  inflating: ./images/images/n02169497/n02169497_6976.JPEG  \n",
            "  inflating: ./images/images/n02169497/n02169497_6979.JPEG  \n",
            "  inflating: ./images/images/n02169497/n02169497_6982.JPEG  \n",
            "  inflating: ./images/images/n02169497/n02169497_6984.JPEG  \n",
            "  inflating: ./images/images/n02169497/n02169497_7.JPEG  \n",
            "  inflating: ./images/images/n02169497/n02169497_7004.JPEG  \n",
            "  inflating: ./images/images/n02169497/n02169497_7010.JPEG  \n",
            "  inflating: ./images/images/n02169497/n02169497_7017.JPEG  \n",
            "  inflating: ./images/images/n02169497/n02169497_7024.JPEG  \n",
            "  inflating: ./images/images/n02169497/n02169497_7042.JPEG  \n",
            "  inflating: ./images/images/n02169497/n02169497_7048.JPEG  \n",
            "  inflating: ./images/images/n02169497/n02169497_7068.JPEG  \n",
            "  inflating: ./images/images/n02169497/n02169497_7076.JPEG  \n",
            "  inflating: ./images/images/n02169497/n02169497_7078.JPEG  \n",
            "  inflating: ./images/images/n02169497/n02169497_7082.JPEG  \n",
            "  inflating: ./images/images/n02169497/n02169497_7086.JPEG  \n",
            "  inflating: ./images/images/n02169497/n02169497_7088.JPEG  \n",
            "  inflating: ./images/images/n02169497/n02169497_7090.JPEG  \n",
            "  inflating: ./images/images/n02169497/n02169497_7095.JPEG  \n",
            "  inflating: ./images/images/n02169497/n02169497_7097.JPEG  \n",
            "  inflating: ./images/images/n02169497/n02169497_7103.JPEG  \n",
            "  inflating: ./images/images/n02169497/n02169497_7105.JPEG  \n",
            "  inflating: ./images/images/n02169497/n02169497_7108.JPEG  \n",
            "  inflating: ./images/images/n02169497/n02169497_7110.JPEG  \n",
            "  inflating: ./images/images/n02169497/n02169497_7118.JPEG  \n",
            "  inflating: ./images/images/n02169497/n02169497_7119.JPEG  \n",
            "  inflating: ./images/images/n02169497/n02169497_7121.JPEG  \n",
            "  inflating: ./images/images/n02169497/n02169497_7122.JPEG  \n",
            "  inflating: ./images/images/n02169497/n02169497_7127.JPEG  \n",
            "  inflating: ./images/images/n02169497/n02169497_7130.JPEG  \n",
            "  inflating: ./images/images/n02169497/n02169497_7131.JPEG  \n",
            "  inflating: ./images/images/n02169497/n02169497_7147.JPEG  \n",
            "  inflating: ./images/images/n02169497/n02169497_7148.JPEG  \n",
            "  inflating: ./images/images/n02169497/n02169497_7150.JPEG  \n",
            "  inflating: ./images/images/n02169497/n02169497_7151.JPEG  \n",
            "  inflating: ./images/images/n02169497/n02169497_7176.JPEG  \n",
            "  inflating: ./images/images/n02169497/n02169497_7188.JPEG  \n",
            "  inflating: ./images/images/n02169497/n02169497_7196.JPEG  \n",
            "  inflating: ./images/images/n02169497/n02169497_7199.JPEG  \n",
            "  inflating: ./images/images/n02169497/n02169497_7200.JPEG  \n",
            "  inflating: ./images/images/n02169497/n02169497_7210.JPEG  \n",
            "  inflating: ./images/images/n02169497/n02169497_7216.JPEG  \n",
            "  inflating: ./images/images/n02169497/n02169497_7218.JPEG  \n",
            "  inflating: ./images/images/n02169497/n02169497_7220.JPEG  \n",
            "  inflating: ./images/images/n02169497/n02169497_7222.JPEG  \n",
            "  inflating: ./images/images/n02169497/n02169497_7223.JPEG  \n",
            "  inflating: ./images/images/n02169497/n02169497_7226.JPEG  \n",
            "  inflating: ./images/images/n02169497/n02169497_7231.JPEG  \n",
            "  inflating: ./images/images/n02169497/n02169497_7234.JPEG  \n",
            "  inflating: ./images/images/n02169497/n02169497_7236.JPEG  \n",
            "  inflating: ./images/images/n02169497/n02169497_7252.JPEG  \n",
            "  inflating: ./images/images/n02169497/n02169497_7265.JPEG  \n",
            "  inflating: ./images/images/n02169497/n02169497_7283.JPEG  \n",
            "  inflating: ./images/images/n02169497/n02169497_7287.JPEG  \n",
            "  inflating: ./images/images/n02169497/n02169497_7290.JPEG  \n",
            "  inflating: ./images/images/n02169497/n02169497_7300.JPEG  \n",
            "  inflating: ./images/images/n02169497/n02169497_7306.JPEG  \n",
            "  inflating: ./images/images/n02169497/n02169497_7309.JPEG  \n",
            "  inflating: ./images/images/n02169497/n02169497_7316.JPEG  \n",
            "  inflating: ./images/images/n02169497/n02169497_7327.JPEG  \n",
            "  inflating: ./images/images/n02169497/n02169497_7345.JPEG  \n",
            "  inflating: ./images/images/n02169497/n02169497_7384.JPEG  \n",
            "  inflating: ./images/images/n02169497/n02169497_741.JPEG  \n",
            "  inflating: ./images/images/n02169497/n02169497_7427.JPEG  \n",
            "  inflating: ./images/images/n02169497/n02169497_747.JPEG  \n",
            "  inflating: ./images/images/n02169497/n02169497_7470.JPEG  \n",
            "  inflating: ./images/images/n02169497/n02169497_7522.JPEG  \n",
            "  inflating: ./images/images/n02169497/n02169497_7529.JPEG  \n",
            "  inflating: ./images/images/n02169497/n02169497_753.JPEG  \n",
            "  inflating: ./images/images/n02169497/n02169497_7548.JPEG  \n",
            "  inflating: ./images/images/n02169497/n02169497_7550.JPEG  \n",
            "  inflating: ./images/images/n02169497/n02169497_7562.JPEG  \n",
            "  inflating: ./images/images/n02169497/n02169497_7615.JPEG  \n",
            "  inflating: ./images/images/n02169497/n02169497_7648.JPEG  \n",
            "  inflating: ./images/images/n02169497/n02169497_7685.JPEG  \n",
            "  inflating: ./images/images/n02169497/n02169497_7749.JPEG  \n",
            "  inflating: ./images/images/n02169497/n02169497_7751.JPEG  \n",
            "  inflating: ./images/images/n02169497/n02169497_7773.JPEG  \n",
            "  inflating: ./images/images/n02169497/n02169497_7789.JPEG  \n",
            "  inflating: ./images/images/n02169497/n02169497_781.JPEG  \n",
            "  inflating: ./images/images/n02169497/n02169497_783.JPEG  \n",
            "  inflating: ./images/images/n02169497/n02169497_784.JPEG  \n",
            "  inflating: ./images/images/n02169497/n02169497_7859.JPEG  \n",
            "  inflating: ./images/images/n02169497/n02169497_7879.JPEG  \n",
            "  inflating: ./images/images/n02169497/n02169497_7896.JPEG  \n",
            "  inflating: ./images/images/n02169497/n02169497_7954.JPEG  \n",
            "  inflating: ./images/images/n02169497/n02169497_8053.JPEG  \n",
            "  inflating: ./images/images/n02169497/n02169497_8156.JPEG  \n",
            "  inflating: ./images/images/n02169497/n02169497_8167.JPEG  \n",
            "  inflating: ./images/images/n02169497/n02169497_8174.JPEG  \n",
            "  inflating: ./images/images/n02169497/n02169497_8194.JPEG  \n",
            "  inflating: ./images/images/n02169497/n02169497_8209.JPEG  \n",
            "  inflating: ./images/images/n02169497/n02169497_8233.JPEG  \n",
            "  inflating: ./images/images/n02169497/n02169497_8277.JPEG  \n",
            "  inflating: ./images/images/n02169497/n02169497_8308.JPEG  \n",
            "  inflating: ./images/images/n02169497/n02169497_8352.JPEG  \n",
            "  inflating: ./images/images/n02169497/n02169497_8375.JPEG  \n",
            "  inflating: ./images/images/n02169497/n02169497_8426.JPEG  \n",
            "  inflating: ./images/images/n02169497/n02169497_8449.JPEG  \n",
            "  inflating: ./images/images/n02169497/n02169497_8465.JPEG  \n",
            "  inflating: ./images/images/n02169497/n02169497_8487.JPEG  \n",
            "  inflating: ./images/images/n02169497/n02169497_8505.JPEG  \n",
            "  inflating: ./images/images/n02169497/n02169497_8531.JPEG  \n",
            "  inflating: ./images/images/n02169497/n02169497_860.JPEG  \n",
            "  inflating: ./images/images/n02169497/n02169497_8615.JPEG  \n",
            "  inflating: ./images/images/n02169497/n02169497_8658.JPEG  \n",
            "  inflating: ./images/images/n02169497/n02169497_8688.JPEG  \n",
            "  inflating: ./images/images/n02169497/n02169497_8699.JPEG  \n",
            "  inflating: ./images/images/n02169497/n02169497_8734.JPEG  \n",
            "  inflating: ./images/images/n02169497/n02169497_8811.JPEG  \n",
            "  inflating: ./images/images/n02169497/n02169497_8843.JPEG  \n",
            "  inflating: ./images/images/n02169497/n02169497_8885.JPEG  \n",
            "  inflating: ./images/images/n02169497/n02169497_8909.JPEG  \n",
            "  inflating: ./images/images/n02169497/n02169497_8929.JPEG  \n",
            "  inflating: ./images/images/n02169497/n02169497_8946.JPEG  \n",
            "  inflating: ./images/images/n02169497/n02169497_8984.JPEG  \n",
            "  inflating: ./images/images/n02169497/n02169497_9000.JPEG  \n",
            "  inflating: ./images/images/n02169497/n02169497_9032.JPEG  \n",
            "  inflating: ./images/images/n02169497/n02169497_9035.JPEG  \n",
            "  inflating: ./images/images/n02169497/n02169497_9042.JPEG  \n",
            "  inflating: ./images/images/n02169497/n02169497_914.JPEG  \n",
            "  inflating: ./images/images/n02169497/n02169497_9170.JPEG  \n",
            "  inflating: ./images/images/n02169497/n02169497_92.JPEG  \n",
            "  inflating: ./images/images/n02169497/n02169497_9207.JPEG  \n",
            "  inflating: ./images/images/n02169497/n02169497_9340.JPEG  \n",
            "  inflating: ./images/images/n02169497/n02169497_9427.JPEG  \n",
            "  inflating: ./images/images/n02169497/n02169497_9513.JPEG  \n",
            "  inflating: ./images/images/n02169497/n02169497_9535.JPEG  \n",
            "  inflating: ./images/images/n02169497/n02169497_9548.JPEG  \n",
            "  inflating: ./images/images/n02169497/n02169497_9604.JPEG  \n",
            "  inflating: ./images/images/n02169497/n02169497_961.JPEG  \n",
            "  inflating: ./images/images/n02169497/n02169497_9613.JPEG  \n",
            "  inflating: ./images/images/n02169497/n02169497_964.JPEG  \n",
            "  inflating: ./images/images/n02169497/n02169497_9664.JPEG  \n",
            "  inflating: ./images/images/n02169497/n02169497_9678.JPEG  \n",
            "  inflating: ./images/images/n02169497/n02169497_9737.JPEG  \n",
            "  inflating: ./images/images/n02169497/n02169497_9750.JPEG  \n",
            "  inflating: ./images/images/n02169497/n02169497_9757.JPEG  \n",
            "  inflating: ./images/images/n02169497/n02169497_9761.JPEG  \n",
            "  inflating: ./images/images/n02169497/n02169497_9827.JPEG  \n",
            "  inflating: ./images/images/n02169497/n02169497_9830.JPEG  \n",
            "  inflating: ./images/images/n02169497/n02169497_9862.JPEG  \n",
            "  inflating: ./images/images/n02169497/n02169497_9863.JPEG  \n",
            "  inflating: ./images/images/n02169497/n02169497_988.JPEG  \n",
            "  inflating: ./images/images/n02169497/n02169497_9895.JPEG  \n",
            "  inflating: ./images/images/n02169497/n02169497_9966.JPEG  \n",
            "  inflating: ./images/images/n02169497/n02169497_9979.JPEG  \n",
            "   creating: ./images/images/n02172182/\n",
            "  inflating: ./images/images/n02172182/n02172182_10007.JPEG  \n",
            "  inflating: ./images/images/n02172182/n02172182_10018.JPEG  \n",
            "  inflating: ./images/images/n02172182/n02172182_1002.JPEG  \n",
            "  inflating: ./images/images/n02172182/n02172182_10023.JPEG  \n",
            "  inflating: ./images/images/n02172182/n02172182_1004.JPEG  \n",
            "  inflating: ./images/images/n02172182/n02172182_10045.JPEG  \n",
            "  inflating: ./images/images/n02172182/n02172182_1007.JPEG  \n",
            "  inflating: ./images/images/n02172182/n02172182_1012.JPEG  \n",
            "  inflating: ./images/images/n02172182/n02172182_10127.JPEG  \n",
            "  inflating: ./images/images/n02172182/n02172182_1015.JPEG  \n",
            "  inflating: ./images/images/n02172182/n02172182_10174.JPEG  \n",
            "  inflating: ./images/images/n02172182/n02172182_1018.JPEG  \n",
            "  inflating: ./images/images/n02172182/n02172182_1019.JPEG  \n",
            "  inflating: ./images/images/n02172182/n02172182_102.JPEG  \n",
            "  inflating: ./images/images/n02172182/n02172182_10202.JPEG  \n",
            "  inflating: ./images/images/n02172182/n02172182_10223.JPEG  \n",
            "  inflating: ./images/images/n02172182/n02172182_10237.JPEG  \n",
            "  inflating: ./images/images/n02172182/n02172182_10254.JPEG  \n",
            "  inflating: ./images/images/n02172182/n02172182_1026.JPEG  \n",
            "  inflating: ./images/images/n02172182/n02172182_10272.JPEG  \n",
            "  inflating: ./images/images/n02172182/n02172182_1032.JPEG  \n",
            "  inflating: ./images/images/n02172182/n02172182_10351.JPEG  \n",
            "  inflating: ./images/images/n02172182/n02172182_10368.JPEG  \n",
            "  inflating: ./images/images/n02172182/n02172182_10412.JPEG  \n",
            "  inflating: ./images/images/n02172182/n02172182_10420.JPEG  \n",
            "  inflating: ./images/images/n02172182/n02172182_10437.JPEG  \n",
            "  inflating: ./images/images/n02172182/n02172182_10448.JPEG  \n",
            "  inflating: ./images/images/n02172182/n02172182_10460.JPEG  \n",
            "  inflating: ./images/images/n02172182/n02172182_10480.JPEG  \n",
            "  inflating: ./images/images/n02172182/n02172182_10504.JPEG  \n",
            "  inflating: ./images/images/n02172182/n02172182_10507.JPEG  \n",
            "  inflating: ./images/images/n02172182/n02172182_1051.JPEG  \n",
            "  inflating: ./images/images/n02172182/n02172182_10541.JPEG  \n",
            "  inflating: ./images/images/n02172182/n02172182_10547.JPEG  \n",
            "  inflating: ./images/images/n02172182/n02172182_10557.JPEG  \n",
            "  inflating: ./images/images/n02172182/n02172182_1056.JPEG  \n",
            "  inflating: ./images/images/n02172182/n02172182_106.JPEG  \n",
            "  inflating: ./images/images/n02172182/n02172182_10622.JPEG  \n",
            "  inflating: ./images/images/n02172182/n02172182_10626.JPEG  \n",
            "  inflating: ./images/images/n02172182/n02172182_1068.JPEG  \n",
            "  inflating: ./images/images/n02172182/n02172182_1073.JPEG  \n",
            "  inflating: ./images/images/n02172182/n02172182_10730.JPEG  \n",
            "  inflating: ./images/images/n02172182/n02172182_10773.JPEG  \n",
            "  inflating: ./images/images/n02172182/n02172182_10778.JPEG  \n",
            "  inflating: ./images/images/n02172182/n02172182_10806.JPEG  \n",
            "  inflating: ./images/images/n02172182/n02172182_10818.JPEG  \n",
            "  inflating: ./images/images/n02172182/n02172182_10849.JPEG  \n",
            "  inflating: ./images/images/n02172182/n02172182_10855.JPEG  \n",
            "  inflating: ./images/images/n02172182/n02172182_10862.JPEG  \n",
            "  inflating: ./images/images/n02172182/n02172182_10880.JPEG  \n",
            "  inflating: ./images/images/n02172182/n02172182_10901.JPEG  \n",
            "  inflating: ./images/images/n02172182/n02172182_10936.JPEG  \n",
            "  inflating: ./images/images/n02172182/n02172182_1095.JPEG  \n",
            "  inflating: ./images/images/n02172182/n02172182_1098.JPEG  \n",
            "  inflating: ./images/images/n02172182/n02172182_10988.JPEG  \n",
            "  inflating: ./images/images/n02172182/n02172182_10992.JPEG  \n",
            "  inflating: ./images/images/n02172182/n02172182_11.JPEG  \n",
            "  inflating: ./images/images/n02172182/n02172182_1101.JPEG  \n",
            "  inflating: ./images/images/n02172182/n02172182_11022.JPEG  \n",
            "  inflating: ./images/images/n02172182/n02172182_11049.JPEG  \n",
            "  inflating: ./images/images/n02172182/n02172182_11062.JPEG  \n",
            "  inflating: ./images/images/n02172182/n02172182_11063.JPEG  \n",
            "  inflating: ./images/images/n02172182/n02172182_11066.JPEG  \n",
            "  inflating: ./images/images/n02172182/n02172182_11073.JPEG  \n",
            "  inflating: ./images/images/n02172182/n02172182_11095.JPEG  \n",
            "  inflating: ./images/images/n02172182/n02172182_11096.JPEG  \n",
            "  inflating: ./images/images/n02172182/n02172182_11131.JPEG  \n",
            "  inflating: ./images/images/n02172182/n02172182_1115.JPEG  \n",
            "  inflating: ./images/images/n02172182/n02172182_11273.JPEG  \n",
            "  inflating: ./images/images/n02172182/n02172182_1128.JPEG  \n",
            "  inflating: ./images/images/n02172182/n02172182_11285.JPEG  \n",
            "  inflating: ./images/images/n02172182/n02172182_11286.JPEG  \n",
            "  inflating: ./images/images/n02172182/n02172182_11316.JPEG  \n",
            "  inflating: ./images/images/n02172182/n02172182_11330.JPEG  \n",
            "  inflating: ./images/images/n02172182/n02172182_1134.JPEG  \n",
            "  inflating: ./images/images/n02172182/n02172182_11397.JPEG  \n",
            "  inflating: ./images/images/n02172182/n02172182_1142.JPEG  \n",
            "  inflating: ./images/images/n02172182/n02172182_11519.JPEG  \n",
            "  inflating: ./images/images/n02172182/n02172182_11533.JPEG  \n",
            "  inflating: ./images/images/n02172182/n02172182_1155.JPEG  \n",
            "  inflating: ./images/images/n02172182/n02172182_1157.JPEG  \n",
            "  inflating: ./images/images/n02172182/n02172182_11585.JPEG  \n",
            "  inflating: ./images/images/n02172182/n02172182_1159.JPEG  \n",
            "  inflating: ./images/images/n02172182/n02172182_11646.JPEG  \n",
            "  inflating: ./images/images/n02172182/n02172182_11699.JPEG  \n",
            "  inflating: ./images/images/n02172182/n02172182_117.JPEG  \n",
            "  inflating: ./images/images/n02172182/n02172182_1171.JPEG  \n",
            "  inflating: ./images/images/n02172182/n02172182_1177.JPEG  \n",
            "  inflating: ./images/images/n02172182/n02172182_11796.JPEG  \n",
            "  inflating: ./images/images/n02172182/n02172182_11805.JPEG  \n",
            "  inflating: ./images/images/n02172182/n02172182_1181.JPEG  \n",
            "  inflating: ./images/images/n02172182/n02172182_11823.JPEG  \n",
            "  inflating: ./images/images/n02172182/n02172182_1184.JPEG  \n",
            "  inflating: ./images/images/n02172182/n02172182_11851.JPEG  \n",
            "  inflating: ./images/images/n02172182/n02172182_11893.JPEG  \n",
            "  inflating: ./images/images/n02172182/n02172182_11897.JPEG  \n",
            "  inflating: ./images/images/n02172182/n02172182_1190.JPEG  \n",
            "  inflating: ./images/images/n02172182/n02172182_11926.JPEG  \n",
            "  inflating: ./images/images/n02172182/n02172182_11963.JPEG  \n",
            "  inflating: ./images/images/n02172182/n02172182_1197.JPEG  \n",
            "  inflating: ./images/images/n02172182/n02172182_11980.JPEG  \n",
            "  inflating: ./images/images/n02172182/n02172182_1199.JPEG  \n",
            "  inflating: ./images/images/n02172182/n02172182_12034.JPEG  \n",
            "  inflating: ./images/images/n02172182/n02172182_12066.JPEG  \n",
            "  inflating: ./images/images/n02172182/n02172182_12075.JPEG  \n",
            "  inflating: ./images/images/n02172182/n02172182_12109.JPEG  \n",
            "  inflating: ./images/images/n02172182/n02172182_12158.JPEG  \n",
            "  inflating: ./images/images/n02172182/n02172182_12182.JPEG  \n",
            "  inflating: ./images/images/n02172182/n02172182_1219.JPEG  \n",
            "  inflating: ./images/images/n02172182/n02172182_12251.JPEG  \n",
            "  inflating: ./images/images/n02172182/n02172182_1230.JPEG  \n",
            "  inflating: ./images/images/n02172182/n02172182_1242.JPEG  \n",
            "  inflating: ./images/images/n02172182/n02172182_12430.JPEG  \n",
            "  inflating: ./images/images/n02172182/n02172182_12434.JPEG  \n",
            "  inflating: ./images/images/n02172182/n02172182_1249.JPEG  \n",
            "  inflating: ./images/images/n02172182/n02172182_1253.JPEG  \n",
            "  inflating: ./images/images/n02172182/n02172182_1255.JPEG  \n",
            "  inflating: ./images/images/n02172182/n02172182_12658.JPEG  \n",
            "  inflating: ./images/images/n02172182/n02172182_12669.JPEG  \n",
            "  inflating: ./images/images/n02172182/n02172182_12672.JPEG  \n",
            "  inflating: ./images/images/n02172182/n02172182_12693.JPEG  \n",
            "  inflating: ./images/images/n02172182/n02172182_1270.JPEG  \n",
            "  inflating: ./images/images/n02172182/n02172182_12719.JPEG  \n",
            "  inflating: ./images/images/n02172182/n02172182_1273.JPEG  \n",
            "  inflating: ./images/images/n02172182/n02172182_1275.JPEG  \n",
            "  inflating: ./images/images/n02172182/n02172182_12753.JPEG  \n",
            "  inflating: ./images/images/n02172182/n02172182_12757.JPEG  \n",
            "  inflating: ./images/images/n02172182/n02172182_12829.JPEG  \n",
            "  inflating: ./images/images/n02172182/n02172182_12877.JPEG  \n",
            "  inflating: ./images/images/n02172182/n02172182_1289.JPEG  \n",
            "  inflating: ./images/images/n02172182/n02172182_12891.JPEG  \n",
            "  inflating: ./images/images/n02172182/n02172182_1291.JPEG  \n",
            "  inflating: ./images/images/n02172182/n02172182_12948.JPEG  \n",
            "  inflating: ./images/images/n02172182/n02172182_12957.JPEG  \n",
            "  inflating: ./images/images/n02172182/n02172182_1296.JPEG  \n",
            "  inflating: ./images/images/n02172182/n02172182_12974.JPEG  \n",
            "  inflating: ./images/images/n02172182/n02172182_12994.JPEG  \n",
            "  inflating: ./images/images/n02172182/n02172182_13.JPEG  \n",
            "  inflating: ./images/images/n02172182/n02172182_1301.JPEG  \n",
            "  inflating: ./images/images/n02172182/n02172182_1308.JPEG  \n",
            "  inflating: ./images/images/n02172182/n02172182_13087.JPEG  \n",
            "  inflating: ./images/images/n02172182/n02172182_13102.JPEG  \n",
            "  inflating: ./images/images/n02172182/n02172182_13114.JPEG  \n",
            "  inflating: ./images/images/n02172182/n02172182_13119.JPEG  \n",
            "  inflating: ./images/images/n02172182/n02172182_1314.JPEG  \n",
            "  inflating: ./images/images/n02172182/n02172182_1318.JPEG  \n",
            "  inflating: ./images/images/n02172182/n02172182_13195.JPEG  \n",
            "  inflating: ./images/images/n02172182/n02172182_13255.JPEG  \n",
            "  inflating: ./images/images/n02172182/n02172182_1327.JPEG  \n",
            "  inflating: ./images/images/n02172182/n02172182_13311.JPEG  \n",
            "  inflating: ./images/images/n02172182/n02172182_13312.JPEG  \n",
            "  inflating: ./images/images/n02172182/n02172182_13317.JPEG  \n",
            "  inflating: ./images/images/n02172182/n02172182_1337.JPEG  \n",
            "  inflating: ./images/images/n02172182/n02172182_13388.JPEG  \n",
            "  inflating: ./images/images/n02172182/n02172182_13437.JPEG  \n",
            "  inflating: ./images/images/n02172182/n02172182_13446.JPEG  \n",
            "  inflating: ./images/images/n02172182/n02172182_13482.JPEG  \n",
            "  inflating: ./images/images/n02172182/n02172182_13490.JPEG  \n",
            "  inflating: ./images/images/n02172182/n02172182_13505.JPEG  \n",
            "  inflating: ./images/images/n02172182/n02172182_1351.JPEG  \n",
            "  inflating: ./images/images/n02172182/n02172182_13518.JPEG  \n",
            "  inflating: ./images/images/n02172182/n02172182_1352.JPEG  \n",
            "  inflating: ./images/images/n02172182/n02172182_13565.JPEG  \n",
            "  inflating: ./images/images/n02172182/n02172182_13568.JPEG  \n",
            "  inflating: ./images/images/n02172182/n02172182_1358.JPEG  \n",
            "  inflating: ./images/images/n02172182/n02172182_1363.JPEG  \n",
            "  inflating: ./images/images/n02172182/n02172182_1364.JPEG  \n",
            "  inflating: ./images/images/n02172182/n02172182_1367.JPEG  \n",
            "  inflating: ./images/images/n02172182/n02172182_13681.JPEG  \n",
            "  inflating: ./images/images/n02172182/n02172182_13686.JPEG  \n",
            "  inflating: ./images/images/n02172182/n02172182_137.JPEG  \n",
            "  inflating: ./images/images/n02172182/n02172182_13700.JPEG  \n",
            "  inflating: ./images/images/n02172182/n02172182_13736.JPEG  \n",
            "  inflating: ./images/images/n02172182/n02172182_13744.JPEG  \n",
            "  inflating: ./images/images/n02172182/n02172182_1384.JPEG  \n",
            "  inflating: ./images/images/n02172182/n02172182_13847.JPEG  \n",
            "  inflating: ./images/images/n02172182/n02172182_13868.JPEG  \n",
            "  inflating: ./images/images/n02172182/n02172182_13914.JPEG  \n",
            "  inflating: ./images/images/n02172182/n02172182_1393.JPEG  \n",
            "  inflating: ./images/images/n02172182/n02172182_1395.JPEG  \n",
            "  inflating: ./images/images/n02172182/n02172182_13954.JPEG  \n",
            "  inflating: ./images/images/n02172182/n02172182_14.JPEG  \n",
            "  inflating: ./images/images/n02172182/n02172182_14005.JPEG  \n",
            "  inflating: ./images/images/n02172182/n02172182_14031.JPEG  \n",
            "  inflating: ./images/images/n02172182/n02172182_14037.JPEG  \n",
            "  inflating: ./images/images/n02172182/n02172182_14064.JPEG  \n",
            "  inflating: ./images/images/n02172182/n02172182_1408.JPEG  \n",
            "  inflating: ./images/images/n02172182/n02172182_14102.JPEG  \n",
            "  inflating: ./images/images/n02172182/n02172182_14146.JPEG  \n",
            "  inflating: ./images/images/n02172182/n02172182_14160.JPEG  \n",
            "  inflating: ./images/images/n02172182/n02172182_14188.JPEG  \n",
            "  inflating: ./images/images/n02172182/n02172182_14209.JPEG  \n",
            "  inflating: ./images/images/n02172182/n02172182_14218.JPEG  \n",
            "  inflating: ./images/images/n02172182/n02172182_14301.JPEG  \n",
            "  inflating: ./images/images/n02172182/n02172182_1438.JPEG  \n",
            "  inflating: ./images/images/n02172182/n02172182_1440.JPEG  \n",
            "  inflating: ./images/images/n02172182/n02172182_14404.JPEG  \n",
            "  inflating: ./images/images/n02172182/n02172182_14405.JPEG  \n",
            "  inflating: ./images/images/n02172182/n02172182_1442.JPEG  \n",
            "  inflating: ./images/images/n02172182/n02172182_1444.JPEG  \n",
            "  inflating: ./images/images/n02172182/n02172182_1445.JPEG  \n",
            "  inflating: ./images/images/n02172182/n02172182_14463.JPEG  \n",
            "  inflating: ./images/images/n02172182/n02172182_145.JPEG  \n",
            "  inflating: ./images/images/n02172182/n02172182_1450.JPEG  \n",
            "  inflating: ./images/images/n02172182/n02172182_1452.JPEG  \n",
            "  inflating: ./images/images/n02172182/n02172182_146.JPEG  \n",
            "  inflating: ./images/images/n02172182/n02172182_14601.JPEG  \n",
            "  inflating: ./images/images/n02172182/n02172182_14625.JPEG  \n",
            "  inflating: ./images/images/n02172182/n02172182_14651.JPEG  \n",
            "  inflating: ./images/images/n02172182/n02172182_14678.JPEG  \n",
            "  inflating: ./images/images/n02172182/n02172182_14702.JPEG  \n",
            "  inflating: ./images/images/n02172182/n02172182_1474.JPEG  \n",
            "  inflating: ./images/images/n02172182/n02172182_1475.JPEG  \n",
            "  inflating: ./images/images/n02172182/n02172182_14758.JPEG  \n",
            "  inflating: ./images/images/n02172182/n02172182_14770.JPEG  \n",
            "  inflating: ./images/images/n02172182/n02172182_14782.JPEG  \n",
            "  inflating: ./images/images/n02172182/n02172182_1481.JPEG  \n",
            "  inflating: ./images/images/n02172182/n02172182_14815.JPEG  \n",
            "  inflating: ./images/images/n02172182/n02172182_1484.JPEG  \n",
            "  inflating: ./images/images/n02172182/n02172182_14854.JPEG  \n",
            "  inflating: ./images/images/n02172182/n02172182_14880.JPEG  \n",
            "  inflating: ./images/images/n02172182/n02172182_14890.JPEG  \n",
            "  inflating: ./images/images/n02172182/n02172182_149.JPEG  \n",
            "  inflating: ./images/images/n02172182/n02172182_14906.JPEG  \n",
            "  inflating: ./images/images/n02172182/n02172182_14955.JPEG  \n",
            "  inflating: ./images/images/n02172182/n02172182_14966.JPEG  \n",
            "  inflating: ./images/images/n02172182/n02172182_15054.JPEG  \n",
            "  inflating: ./images/images/n02172182/n02172182_1509.JPEG  \n",
            "  inflating: ./images/images/n02172182/n02172182_151.JPEG  \n",
            "  inflating: ./images/images/n02172182/n02172182_15128.JPEG  \n",
            "  inflating: ./images/images/n02172182/n02172182_15131.JPEG  \n",
            "  inflating: ./images/images/n02172182/n02172182_15142.JPEG  \n",
            "  inflating: ./images/images/n02172182/n02172182_15144.JPEG  \n",
            "  inflating: ./images/images/n02172182/n02172182_1515.JPEG  \n",
            "  inflating: ./images/images/n02172182/n02172182_1518.JPEG  \n",
            "  inflating: ./images/images/n02172182/n02172182_15210.JPEG  \n",
            "  inflating: ./images/images/n02172182/n02172182_15212.JPEG  \n",
            "  inflating: ./images/images/n02172182/n02172182_15231.JPEG  \n",
            "  inflating: ./images/images/n02172182/n02172182_1525.JPEG  \n",
            "  inflating: ./images/images/n02172182/n02172182_15255.JPEG  \n",
            "  inflating: ./images/images/n02172182/n02172182_1526.JPEG  \n",
            "  inflating: ./images/images/n02172182/n02172182_15268.JPEG  \n",
            "  inflating: ./images/images/n02172182/n02172182_1532.JPEG  \n",
            "  inflating: ./images/images/n02172182/n02172182_1535.JPEG  \n",
            "  inflating: ./images/images/n02172182/n02172182_1537.JPEG  \n",
            "  inflating: ./images/images/n02172182/n02172182_15395.JPEG  \n",
            "  inflating: ./images/images/n02172182/n02172182_15421.JPEG  \n",
            "  inflating: ./images/images/n02172182/n02172182_1545.JPEG  \n",
            "  inflating: ./images/images/n02172182/n02172182_15458.JPEG  \n",
            "  inflating: ./images/images/n02172182/n02172182_15469.JPEG  \n",
            "  inflating: ./images/images/n02172182/n02172182_15485.JPEG  \n",
            "  inflating: ./images/images/n02172182/n02172182_1551.JPEG  \n",
            "  inflating: ./images/images/n02172182/n02172182_15555.JPEG  \n",
            "  inflating: ./images/images/n02172182/n02172182_15559.JPEG  \n",
            "  inflating: ./images/images/n02172182/n02172182_1558.JPEG  \n",
            "  inflating: ./images/images/n02172182/n02172182_15604.JPEG  \n",
            "  inflating: ./images/images/n02172182/n02172182_15609.JPEG  \n",
            "  inflating: ./images/images/n02172182/n02172182_15610.JPEG  \n",
            "  inflating: ./images/images/n02172182/n02172182_15621.JPEG  \n",
            "  inflating: ./images/images/n02172182/n02172182_15656.JPEG  \n",
            "  inflating: ./images/images/n02172182/n02172182_15682.JPEG  \n",
            "  inflating: ./images/images/n02172182/n02172182_15686.JPEG  \n",
            "  inflating: ./images/images/n02172182/n02172182_1569.JPEG  \n",
            "  inflating: ./images/images/n02172182/n02172182_1575.JPEG  \n",
            "  inflating: ./images/images/n02172182/n02172182_15766.JPEG  \n",
            "  inflating: ./images/images/n02172182/n02172182_15769.JPEG  \n",
            "  inflating: ./images/images/n02172182/n02172182_15785.JPEG  \n",
            "  inflating: ./images/images/n02172182/n02172182_1579.JPEG  \n",
            "  inflating: ./images/images/n02172182/n02172182_158.JPEG  \n",
            "  inflating: ./images/images/n02172182/n02172182_15833.JPEG  \n",
            "  inflating: ./images/images/n02172182/n02172182_1586.JPEG  \n",
            "  inflating: ./images/images/n02172182/n02172182_15868.JPEG  \n",
            "  inflating: ./images/images/n02172182/n02172182_15874.JPEG  \n",
            "  inflating: ./images/images/n02172182/n02172182_15881.JPEG  \n",
            "  inflating: ./images/images/n02172182/n02172182_15886.JPEG  \n",
            "  inflating: ./images/images/n02172182/n02172182_1590.JPEG  \n",
            "  inflating: ./images/images/n02172182/n02172182_1593.JPEG  \n",
            "  inflating: ./images/images/n02172182/n02172182_15934.JPEG  \n",
            "  inflating: ./images/images/n02172182/n02172182_15946.JPEG  \n",
            "  inflating: ./images/images/n02172182/n02172182_15953.JPEG  \n",
            "  inflating: ./images/images/n02172182/n02172182_15989.JPEG  \n",
            "  inflating: ./images/images/n02172182/n02172182_160.JPEG  \n",
            "  inflating: ./images/images/n02172182/n02172182_16055.JPEG  \n",
            "  inflating: ./images/images/n02172182/n02172182_16095.JPEG  \n",
            "  inflating: ./images/images/n02172182/n02172182_16114.JPEG  \n",
            "  inflating: ./images/images/n02172182/n02172182_16126.JPEG  \n",
            "  inflating: ./images/images/n02172182/n02172182_16144.JPEG  \n",
            "  inflating: ./images/images/n02172182/n02172182_16173.JPEG  \n",
            "  inflating: ./images/images/n02172182/n02172182_162.JPEG  \n",
            "  inflating: ./images/images/n02172182/n02172182_16252.JPEG  \n",
            "  inflating: ./images/images/n02172182/n02172182_1626.JPEG  \n",
            "  inflating: ./images/images/n02172182/n02172182_16295.JPEG  \n",
            "  inflating: ./images/images/n02172182/n02172182_1630.JPEG  \n",
            "  inflating: ./images/images/n02172182/n02172182_16308.JPEG  \n",
            "  inflating: ./images/images/n02172182/n02172182_1637.JPEG  \n",
            "  inflating: ./images/images/n02172182/n02172182_16392.JPEG  \n",
            "  inflating: ./images/images/n02172182/n02172182_164.JPEG  \n",
            "  inflating: ./images/images/n02172182/n02172182_1648.JPEG  \n",
            "  inflating: ./images/images/n02172182/n02172182_1650.JPEG  \n",
            "  inflating: ./images/images/n02172182/n02172182_16650.JPEG  \n",
            "  inflating: ./images/images/n02172182/n02172182_16678.JPEG  \n",
            "  inflating: ./images/images/n02172182/n02172182_167.JPEG  \n",
            "  inflating: ./images/images/n02172182/n02172182_16727.JPEG  \n",
            "  inflating: ./images/images/n02172182/n02172182_1678.JPEG  \n",
            "  inflating: ./images/images/n02172182/n02172182_16794.JPEG  \n",
            "  inflating: ./images/images/n02172182/n02172182_16840.JPEG  \n",
            "  inflating: ./images/images/n02172182/n02172182_16864.JPEG  \n",
            "  inflating: ./images/images/n02172182/n02172182_16872.JPEG  \n",
            "  inflating: ./images/images/n02172182/n02172182_16877.JPEG  \n",
            "  inflating: ./images/images/n02172182/n02172182_1691.JPEG  \n",
            "  inflating: ./images/images/n02172182/n02172182_1700.JPEG  \n",
            "  inflating: ./images/images/n02172182/n02172182_17003.JPEG  \n",
            "  inflating: ./images/images/n02172182/n02172182_17033.JPEG  \n",
            "  inflating: ./images/images/n02172182/n02172182_1705.JPEG  \n",
            "  inflating: ./images/images/n02172182/n02172182_17060.JPEG  \n",
            "  inflating: ./images/images/n02172182/n02172182_17061.JPEG  \n",
            "  inflating: ./images/images/n02172182/n02172182_17069.JPEG  \n",
            "  inflating: ./images/images/n02172182/n02172182_1708.JPEG  \n",
            "  inflating: ./images/images/n02172182/n02172182_17086.JPEG  \n",
            "  inflating: ./images/images/n02172182/n02172182_171.JPEG  \n",
            "  inflating: ./images/images/n02172182/n02172182_17113.JPEG  \n",
            "  inflating: ./images/images/n02172182/n02172182_17123.JPEG  \n",
            "  inflating: ./images/images/n02172182/n02172182_17131.JPEG  \n",
            "  inflating: ./images/images/n02172182/n02172182_1714.JPEG  \n",
            "  inflating: ./images/images/n02172182/n02172182_1715.JPEG  \n",
            "  inflating: ./images/images/n02172182/n02172182_17200.JPEG  \n",
            "  inflating: ./images/images/n02172182/n02172182_1722.JPEG  \n",
            "  inflating: ./images/images/n02172182/n02172182_17259.JPEG  \n",
            "  inflating: ./images/images/n02172182/n02172182_17262.JPEG  \n",
            "  inflating: ./images/images/n02172182/n02172182_1727.JPEG  \n",
            "  inflating: ./images/images/n02172182/n02172182_17283.JPEG  \n",
            "  inflating: ./images/images/n02172182/n02172182_1730.JPEG  \n",
            "  inflating: ./images/images/n02172182/n02172182_1734.JPEG  \n",
            "  inflating: ./images/images/n02172182/n02172182_17347.JPEG  \n",
            "  inflating: ./images/images/n02172182/n02172182_17369.JPEG  \n",
            "  inflating: ./images/images/n02172182/n02172182_1738.JPEG  \n",
            "  inflating: ./images/images/n02172182/n02172182_17383.JPEG  \n",
            "  inflating: ./images/images/n02172182/n02172182_17384.JPEG  \n",
            "  inflating: ./images/images/n02172182/n02172182_1739.JPEG  \n",
            "  inflating: ./images/images/n02172182/n02172182_17419.JPEG  \n",
            "  inflating: ./images/images/n02172182/n02172182_17425.JPEG  \n",
            "  inflating: ./images/images/n02172182/n02172182_1744.JPEG  \n",
            "  inflating: ./images/images/n02172182/n02172182_17517.JPEG  \n",
            "  inflating: ./images/images/n02172182/n02172182_1753.JPEG  \n",
            "  inflating: ./images/images/n02172182/n02172182_17557.JPEG  \n",
            "  inflating: ./images/images/n02172182/n02172182_17565.JPEG  \n",
            "  inflating: ./images/images/n02172182/n02172182_17568.JPEG  \n",
            "  inflating: ./images/images/n02172182/n02172182_17635.JPEG  \n",
            "  inflating: ./images/images/n02172182/n02172182_1770.JPEG  \n",
            "  inflating: ./images/images/n02172182/n02172182_17719.JPEG  \n",
            "  inflating: ./images/images/n02172182/n02172182_1779.JPEG  \n",
            "  inflating: ./images/images/n02172182/n02172182_17795.JPEG  \n",
            "  inflating: ./images/images/n02172182/n02172182_17812.JPEG  \n",
            "  inflating: ./images/images/n02172182/n02172182_17865.JPEG  \n",
            "  inflating: ./images/images/n02172182/n02172182_17889.JPEG  \n",
            "  inflating: ./images/images/n02172182/n02172182_17905.JPEG  \n",
            "  inflating: ./images/images/n02172182/n02172182_1794.JPEG  \n",
            "  inflating: ./images/images/n02172182/n02172182_17942.JPEG  \n",
            "  inflating: ./images/images/n02172182/n02172182_1795.JPEG  \n",
            "  inflating: ./images/images/n02172182/n02172182_1798.JPEG  \n",
            "  inflating: ./images/images/n02172182/n02172182_1802.JPEG  \n",
            "  inflating: ./images/images/n02172182/n02172182_18055.JPEG  \n",
            "  inflating: ./images/images/n02172182/n02172182_18059.JPEG  \n",
            "  inflating: ./images/images/n02172182/n02172182_1806.JPEG  \n",
            "  inflating: ./images/images/n02172182/n02172182_18062.JPEG  \n",
            "  inflating: ./images/images/n02172182/n02172182_1808.JPEG  \n",
            "  inflating: ./images/images/n02172182/n02172182_181.JPEG  \n",
            "  inflating: ./images/images/n02172182/n02172182_18123.JPEG  \n",
            "  inflating: ./images/images/n02172182/n02172182_18148.JPEG  \n",
            "  inflating: ./images/images/n02172182/n02172182_1818.JPEG  \n",
            "  inflating: ./images/images/n02172182/n02172182_18207.JPEG  \n",
            "  inflating: ./images/images/n02172182/n02172182_18222.JPEG  \n",
            "  inflating: ./images/images/n02172182/n02172182_1823.JPEG  \n",
            "  inflating: ./images/images/n02172182/n02172182_1832.JPEG  \n",
            "  inflating: ./images/images/n02172182/n02172182_1833.JPEG  \n",
            "  inflating: ./images/images/n02172182/n02172182_18356.JPEG  \n",
            "  inflating: ./images/images/n02172182/n02172182_1837.JPEG  \n",
            "  inflating: ./images/images/n02172182/n02172182_18371.JPEG  \n",
            "  inflating: ./images/images/n02172182/n02172182_1838.JPEG  \n",
            "  inflating: ./images/images/n02172182/n02172182_18381.JPEG  \n",
            "  inflating: ./images/images/n02172182/n02172182_18467.JPEG  \n",
            "  inflating: ./images/images/n02172182/n02172182_18484.JPEG  \n",
            "  inflating: ./images/images/n02172182/n02172182_18486.JPEG  \n",
            "  inflating: ./images/images/n02172182/n02172182_18553.JPEG  \n",
            "  inflating: ./images/images/n02172182/n02172182_1856.JPEG  \n",
            "  inflating: ./images/images/n02172182/n02172182_18594.JPEG  \n",
            "  inflating: ./images/images/n02172182/n02172182_18602.JPEG  \n",
            "  inflating: ./images/images/n02172182/n02172182_1864.JPEG  \n",
            "  inflating: ./images/images/n02172182/n02172182_18651.JPEG  \n",
            "  inflating: ./images/images/n02172182/n02172182_1866.JPEG  \n",
            "  inflating: ./images/images/n02172182/n02172182_18667.JPEG  \n",
            "  inflating: ./images/images/n02172182/n02172182_18679.JPEG  \n",
            "  inflating: ./images/images/n02172182/n02172182_18700.JPEG  \n",
            "  inflating: ./images/images/n02172182/n02172182_18724.JPEG  \n",
            "  inflating: ./images/images/n02172182/n02172182_18793.JPEG  \n",
            "  inflating: ./images/images/n02172182/n02172182_18864.JPEG  \n",
            "  inflating: ./images/images/n02172182/n02172182_18882.JPEG  \n",
            "  inflating: ./images/images/n02172182/n02172182_1891.JPEG  \n",
            "  inflating: ./images/images/n02172182/n02172182_18927.JPEG  \n",
            "  inflating: ./images/images/n02172182/n02172182_19021.JPEG  \n",
            "  inflating: ./images/images/n02172182/n02172182_19052.JPEG  \n",
            "  inflating: ./images/images/n02172182/n02172182_19070.JPEG  \n",
            "  inflating: ./images/images/n02172182/n02172182_1920.JPEG  \n",
            "  inflating: ./images/images/n02172182/n02172182_19207.JPEG  \n",
            "  inflating: ./images/images/n02172182/n02172182_19209.JPEG  \n",
            "  inflating: ./images/images/n02172182/n02172182_19221.JPEG  \n",
            "  inflating: ./images/images/n02172182/n02172182_19235.JPEG  \n",
            "  inflating: ./images/images/n02172182/n02172182_19238.JPEG  \n",
            "  inflating: ./images/images/n02172182/n02172182_19247.JPEG  \n",
            "  inflating: ./images/images/n02172182/n02172182_19270.JPEG  \n",
            "  inflating: ./images/images/n02172182/n02172182_19315.JPEG  \n",
            "  inflating: ./images/images/n02172182/n02172182_19350.JPEG  \n",
            "  inflating: ./images/images/n02172182/n02172182_19379.JPEG  \n",
            "  inflating: ./images/images/n02172182/n02172182_19390.JPEG  \n",
            "  inflating: ./images/images/n02172182/n02172182_19398.JPEG  \n",
            "  inflating: ./images/images/n02172182/n02172182_194.JPEG  \n",
            "  inflating: ./images/images/n02172182/n02172182_19408.JPEG  \n",
            "  inflating: ./images/images/n02172182/n02172182_1945.JPEG  \n",
            "  inflating: ./images/images/n02172182/n02172182_19493.JPEG  \n",
            "  inflating: ./images/images/n02172182/n02172182_195.JPEG  \n",
            "  inflating: ./images/images/n02172182/n02172182_19579.JPEG  \n",
            "  inflating: ./images/images/n02172182/n02172182_19608.JPEG  \n",
            "  inflating: ./images/images/n02172182/n02172182_19639.JPEG  \n",
            "  inflating: ./images/images/n02172182/n02172182_1965.JPEG  \n",
            "  inflating: ./images/images/n02172182/n02172182_19671.JPEG  \n",
            "  inflating: ./images/images/n02172182/n02172182_19757.JPEG  \n",
            "  inflating: ./images/images/n02172182/n02172182_19766.JPEG  \n",
            "  inflating: ./images/images/n02172182/n02172182_19783.JPEG  \n",
            "  inflating: ./images/images/n02172182/n02172182_19804.JPEG  \n",
            "  inflating: ./images/images/n02172182/n02172182_1981.JPEG  \n",
            "  inflating: ./images/images/n02172182/n02172182_19828.JPEG  \n",
            "  inflating: ./images/images/n02172182/n02172182_1983.JPEG  \n",
            "  inflating: ./images/images/n02172182/n02172182_19858.JPEG  \n",
            "  inflating: ./images/images/n02172182/n02172182_1986.JPEG  \n",
            "  inflating: ./images/images/n02172182/n02172182_19873.JPEG  \n",
            "  inflating: ./images/images/n02172182/n02172182_19900.JPEG  \n",
            "  inflating: ./images/images/n02172182/n02172182_19956.JPEG  \n",
            "  inflating: ./images/images/n02172182/n02172182_200.JPEG  \n",
            "  inflating: ./images/images/n02172182/n02172182_20012.JPEG  \n",
            "  inflating: ./images/images/n02172182/n02172182_20017.JPEG  \n",
            "  inflating: ./images/images/n02172182/n02172182_20082.JPEG  \n",
            "  inflating: ./images/images/n02172182/n02172182_20104.JPEG  \n",
            "  inflating: ./images/images/n02172182/n02172182_2011.JPEG  \n",
            "  inflating: ./images/images/n02172182/n02172182_20115.JPEG  \n",
            "  inflating: ./images/images/n02172182/n02172182_20122.JPEG  \n",
            "  inflating: ./images/images/n02172182/n02172182_20135.JPEG  \n",
            "  inflating: ./images/images/n02172182/n02172182_20158.JPEG  \n",
            "  inflating: ./images/images/n02172182/n02172182_20168.JPEG  \n",
            "  inflating: ./images/images/n02172182/n02172182_20174.JPEG  \n",
            "  inflating: ./images/images/n02172182/n02172182_20182.JPEG  \n",
            "  inflating: ./images/images/n02172182/n02172182_2020.JPEG  \n",
            "  inflating: ./images/images/n02172182/n02172182_20221.JPEG  \n",
            "  inflating: ./images/images/n02172182/n02172182_2023.JPEG  \n",
            "  inflating: ./images/images/n02172182/n02172182_20249.JPEG  \n",
            "  inflating: ./images/images/n02172182/n02172182_20260.JPEG  \n",
            "  inflating: ./images/images/n02172182/n02172182_2028.JPEG  \n",
            "  inflating: ./images/images/n02172182/n02172182_203.JPEG  \n",
            "  inflating: ./images/images/n02172182/n02172182_20326.JPEG  \n",
            "  inflating: ./images/images/n02172182/n02172182_2034.JPEG  \n",
            "  inflating: ./images/images/n02172182/n02172182_2035.JPEG  \n",
            "  inflating: ./images/images/n02172182/n02172182_20494.JPEG  \n",
            "  inflating: ./images/images/n02172182/n02172182_20543.JPEG  \n",
            "  inflating: ./images/images/n02172182/n02172182_20588.JPEG  \n",
            "  inflating: ./images/images/n02172182/n02172182_2064.JPEG  \n",
            "  inflating: ./images/images/n02172182/n02172182_20663.JPEG  \n",
            "  inflating: ./images/images/n02172182/n02172182_20665.JPEG  \n",
            "  inflating: ./images/images/n02172182/n02172182_20704.JPEG  \n",
            "  inflating: ./images/images/n02172182/n02172182_20721.JPEG  \n",
            "  inflating: ./images/images/n02172182/n02172182_208.JPEG  \n",
            "  inflating: ./images/images/n02172182/n02172182_2081.JPEG  \n",
            "  inflating: ./images/images/n02172182/n02172182_20849.JPEG  \n",
            "  inflating: ./images/images/n02172182/n02172182_2087.JPEG  \n",
            "  inflating: ./images/images/n02172182/n02172182_2094.JPEG  \n",
            "  inflating: ./images/images/n02172182/n02172182_2096.JPEG  \n",
            "  inflating: ./images/images/n02172182/n02172182_2100.JPEG  \n",
            "  inflating: ./images/images/n02172182/n02172182_2113.JPEG  \n",
            "  inflating: ./images/images/n02172182/n02172182_2121.JPEG  \n",
            "  inflating: ./images/images/n02172182/n02172182_2137.JPEG  \n",
            "  inflating: ./images/images/n02172182/n02172182_2155.JPEG  \n",
            "  inflating: ./images/images/n02172182/n02172182_2157.JPEG  \n",
            "  inflating: ./images/images/n02172182/n02172182_2162.JPEG  \n",
            "  inflating: ./images/images/n02172182/n02172182_2171.JPEG  \n",
            "  inflating: ./images/images/n02172182/n02172182_2173.JPEG  \n",
            "  inflating: ./images/images/n02172182/n02172182_2180.JPEG  \n",
            "  inflating: ./images/images/n02172182/n02172182_2190.JPEG  \n",
            "  inflating: ./images/images/n02172182/n02172182_2193.JPEG  \n",
            "  inflating: ./images/images/n02172182/n02172182_2195.JPEG  \n",
            "  inflating: ./images/images/n02172182/n02172182_2198.JPEG  \n",
            "  inflating: ./images/images/n02172182/n02172182_2204.JPEG  \n",
            "  inflating: ./images/images/n02172182/n02172182_2208.JPEG  \n",
            "  inflating: ./images/images/n02172182/n02172182_2211.JPEG  \n",
            "  inflating: ./images/images/n02172182/n02172182_2233.JPEG  \n",
            "  inflating: ./images/images/n02172182/n02172182_2249.JPEG  \n",
            "  inflating: ./images/images/n02172182/n02172182_2251.JPEG  \n",
            "  inflating: ./images/images/n02172182/n02172182_2265.JPEG  \n",
            "  inflating: ./images/images/n02172182/n02172182_2278.JPEG  \n",
            "  inflating: ./images/images/n02172182/n02172182_2286.JPEG  \n",
            "  inflating: ./images/images/n02172182/n02172182_230.JPEG  \n",
            "  inflating: ./images/images/n02172182/n02172182_2302.JPEG  \n",
            "  inflating: ./images/images/n02172182/n02172182_2306.JPEG  \n",
            "  inflating: ./images/images/n02172182/n02172182_2307.JPEG  \n",
            "  inflating: ./images/images/n02172182/n02172182_2310.JPEG  \n",
            "  inflating: ./images/images/n02172182/n02172182_2313.JPEG  \n",
            "  inflating: ./images/images/n02172182/n02172182_2315.JPEG  \n",
            "  inflating: ./images/images/n02172182/n02172182_2324.JPEG  \n",
            "  inflating: ./images/images/n02172182/n02172182_2327.JPEG  \n",
            "  inflating: ./images/images/n02172182/n02172182_2328.JPEG  \n",
            "  inflating: ./images/images/n02172182/n02172182_2335.JPEG  \n",
            "  inflating: ./images/images/n02172182/n02172182_2339.JPEG  \n",
            "  inflating: ./images/images/n02172182/n02172182_2345.JPEG  \n",
            "  inflating: ./images/images/n02172182/n02172182_2347.JPEG  \n",
            "  inflating: ./images/images/n02172182/n02172182_2351.JPEG  \n",
            "  inflating: ./images/images/n02172182/n02172182_2356.JPEG  \n",
            "  inflating: ./images/images/n02172182/n02172182_2359.JPEG  \n",
            "  inflating: ./images/images/n02172182/n02172182_2372.JPEG  \n",
            "  inflating: ./images/images/n02172182/n02172182_2373.JPEG  \n",
            "  inflating: ./images/images/n02172182/n02172182_238.JPEG  \n",
            "  inflating: ./images/images/n02172182/n02172182_2380.JPEG  \n",
            "  inflating: ./images/images/n02172182/n02172182_2392.JPEG  \n",
            "  inflating: ./images/images/n02172182/n02172182_2407.JPEG  \n",
            "  inflating: ./images/images/n02172182/n02172182_241.JPEG  \n",
            "  inflating: ./images/images/n02172182/n02172182_2412.JPEG  \n",
            "  inflating: ./images/images/n02172182/n02172182_2423.JPEG  \n",
            "  inflating: ./images/images/n02172182/n02172182_2433.JPEG  \n",
            "  inflating: ./images/images/n02172182/n02172182_2444.JPEG  \n",
            "  inflating: ./images/images/n02172182/n02172182_2445.JPEG  \n",
            "  inflating: ./images/images/n02172182/n02172182_2449.JPEG  \n",
            "  inflating: ./images/images/n02172182/n02172182_2450.JPEG  \n",
            "  inflating: ./images/images/n02172182/n02172182_2451.JPEG  \n",
            "  inflating: ./images/images/n02172182/n02172182_2452.JPEG  \n",
            "  inflating: ./images/images/n02172182/n02172182_2456.JPEG  \n",
            "  inflating: ./images/images/n02172182/n02172182_2468.JPEG  \n",
            "  inflating: ./images/images/n02172182/n02172182_2470.JPEG  \n",
            "  inflating: ./images/images/n02172182/n02172182_2476.JPEG  \n",
            "  inflating: ./images/images/n02172182/n02172182_2484.JPEG  \n",
            "  inflating: ./images/images/n02172182/n02172182_2488.JPEG  \n",
            "  inflating: ./images/images/n02172182/n02172182_249.JPEG  \n",
            "  inflating: ./images/images/n02172182/n02172182_2498.JPEG  \n",
            "  inflating: ./images/images/n02172182/n02172182_2513.JPEG  \n",
            "  inflating: ./images/images/n02172182/n02172182_2515.JPEG  \n",
            "  inflating: ./images/images/n02172182/n02172182_2523.JPEG  \n",
            "  inflating: ./images/images/n02172182/n02172182_2529.JPEG  \n",
            "  inflating: ./images/images/n02172182/n02172182_2533.JPEG  \n",
            "  inflating: ./images/images/n02172182/n02172182_2536.JPEG  \n",
            "  inflating: ./images/images/n02172182/n02172182_2537.JPEG  \n",
            "  inflating: ./images/images/n02172182/n02172182_2538.JPEG  \n",
            "  inflating: ./images/images/n02172182/n02172182_2544.JPEG  \n",
            "  inflating: ./images/images/n02172182/n02172182_2548.JPEG  \n",
            "  inflating: ./images/images/n02172182/n02172182_2552.JPEG  \n",
            "  inflating: ./images/images/n02172182/n02172182_2583.JPEG  \n",
            "  inflating: ./images/images/n02172182/n02172182_2587.JPEG  \n",
            "  inflating: ./images/images/n02172182/n02172182_2599.JPEG  \n",
            "  inflating: ./images/images/n02172182/n02172182_2614.JPEG  \n",
            "  inflating: ./images/images/n02172182/n02172182_2619.JPEG  \n",
            "  inflating: ./images/images/n02172182/n02172182_262.JPEG  \n",
            "  inflating: ./images/images/n02172182/n02172182_2625.JPEG  \n",
            "  inflating: ./images/images/n02172182/n02172182_2626.JPEG  \n",
            "  inflating: ./images/images/n02172182/n02172182_2629.JPEG  \n",
            "  inflating: ./images/images/n02172182/n02172182_2639.JPEG  \n",
            "  inflating: ./images/images/n02172182/n02172182_2643.JPEG  \n",
            "  inflating: ./images/images/n02172182/n02172182_2644.JPEG  \n",
            "  inflating: ./images/images/n02172182/n02172182_2645.JPEG  \n",
            "  inflating: ./images/images/n02172182/n02172182_2647.JPEG  \n",
            "  inflating: ./images/images/n02172182/n02172182_2655.JPEG  \n",
            "  inflating: ./images/images/n02172182/n02172182_266.JPEG  \n",
            "  inflating: ./images/images/n02172182/n02172182_2661.JPEG  \n",
            "  inflating: ./images/images/n02172182/n02172182_2674.JPEG  \n",
            "  inflating: ./images/images/n02172182/n02172182_2678.JPEG  \n",
            "  inflating: ./images/images/n02172182/n02172182_2693.JPEG  \n",
            "  inflating: ./images/images/n02172182/n02172182_2696.JPEG  \n",
            "  inflating: ./images/images/n02172182/n02172182_2701.JPEG  \n",
            "  inflating: ./images/images/n02172182/n02172182_2710.JPEG  \n",
            "  inflating: ./images/images/n02172182/n02172182_2720.JPEG  \n",
            "  inflating: ./images/images/n02172182/n02172182_2730.JPEG  \n",
            "  inflating: ./images/images/n02172182/n02172182_2734.JPEG  \n",
            "  inflating: ./images/images/n02172182/n02172182_2737.JPEG  \n",
            "  inflating: ./images/images/n02172182/n02172182_2740.JPEG  \n",
            "  inflating: ./images/images/n02172182/n02172182_2743.JPEG  \n",
            "  inflating: ./images/images/n02172182/n02172182_2751.JPEG  \n",
            "  inflating: ./images/images/n02172182/n02172182_2752.JPEG  \n",
            "  inflating: ./images/images/n02172182/n02172182_2762.JPEG  \n",
            "  inflating: ./images/images/n02172182/n02172182_2765.JPEG  \n",
            "  inflating: ./images/images/n02172182/n02172182_2774.JPEG  \n",
            "  inflating: ./images/images/n02172182/n02172182_2801.JPEG  \n",
            "  inflating: ./images/images/n02172182/n02172182_2811.JPEG  \n",
            "  inflating: ./images/images/n02172182/n02172182_2841.JPEG  \n",
            "  inflating: ./images/images/n02172182/n02172182_2843.JPEG  \n",
            "  inflating: ./images/images/n02172182/n02172182_2853.JPEG  \n",
            "  inflating: ./images/images/n02172182/n02172182_2854.JPEG  \n",
            "  inflating: ./images/images/n02172182/n02172182_286.JPEG  \n",
            "  inflating: ./images/images/n02172182/n02172182_2866.JPEG  \n",
            "  inflating: ./images/images/n02172182/n02172182_287.JPEG  \n",
            "  inflating: ./images/images/n02172182/n02172182_2870.JPEG  \n",
            "  inflating: ./images/images/n02172182/n02172182_2872.JPEG  \n",
            "  inflating: ./images/images/n02172182/n02172182_2882.JPEG  \n",
            "  inflating: ./images/images/n02172182/n02172182_2913.JPEG  \n",
            "  inflating: ./images/images/n02172182/n02172182_2916.JPEG  \n",
            "  inflating: ./images/images/n02172182/n02172182_2923.JPEG  \n",
            "  inflating: ./images/images/n02172182/n02172182_2930.JPEG  \n",
            "  inflating: ./images/images/n02172182/n02172182_2932.JPEG  \n",
            "  inflating: ./images/images/n02172182/n02172182_2936.JPEG  \n",
            "  inflating: ./images/images/n02172182/n02172182_2940.JPEG  \n",
            "  inflating: ./images/images/n02172182/n02172182_2942.JPEG  \n",
            "  inflating: ./images/images/n02172182/n02172182_2943.JPEG  \n",
            "  inflating: ./images/images/n02172182/n02172182_2951.JPEG  \n",
            "  inflating: ./images/images/n02172182/n02172182_2955.JPEG  \n",
            "  inflating: ./images/images/n02172182/n02172182_2956.JPEG  \n",
            "  inflating: ./images/images/n02172182/n02172182_2975.JPEG  \n",
            "  inflating: ./images/images/n02172182/n02172182_2988.JPEG  \n",
            "  inflating: ./images/images/n02172182/n02172182_299.JPEG  \n",
            "  inflating: ./images/images/n02172182/n02172182_2990.JPEG  \n",
            "  inflating: ./images/images/n02172182/n02172182_2995.JPEG  \n",
            "  inflating: ./images/images/n02172182/n02172182_2996.JPEG  \n",
            "  inflating: ./images/images/n02172182/n02172182_2999.JPEG  \n",
            "  inflating: ./images/images/n02172182/n02172182_300.JPEG  \n",
            "  inflating: ./images/images/n02172182/n02172182_3004.JPEG  \n",
            "  inflating: ./images/images/n02172182/n02172182_3015.JPEG  \n",
            "  inflating: ./images/images/n02172182/n02172182_3016.JPEG  \n",
            "  inflating: ./images/images/n02172182/n02172182_3023.JPEG  \n",
            "  inflating: ./images/images/n02172182/n02172182_3032.JPEG  \n",
            "  inflating: ./images/images/n02172182/n02172182_3033.JPEG  \n",
            "  inflating: ./images/images/n02172182/n02172182_3042.JPEG  \n",
            "  inflating: ./images/images/n02172182/n02172182_3044.JPEG  \n",
            "  inflating: ./images/images/n02172182/n02172182_3047.JPEG  \n",
            "  inflating: ./images/images/n02172182/n02172182_3060.JPEG  \n",
            "  inflating: ./images/images/n02172182/n02172182_3061.JPEG  \n",
            "  inflating: ./images/images/n02172182/n02172182_3064.JPEG  \n",
            "  inflating: ./images/images/n02172182/n02172182_3071.JPEG  \n",
            "  inflating: ./images/images/n02172182/n02172182_3075.JPEG  \n",
            "  inflating: ./images/images/n02172182/n02172182_3078.JPEG  \n",
            "  inflating: ./images/images/n02172182/n02172182_3086.JPEG  \n",
            "  inflating: ./images/images/n02172182/n02172182_3090.JPEG  \n",
            "  inflating: ./images/images/n02172182/n02172182_3093.JPEG  \n",
            "  inflating: ./images/images/n02172182/n02172182_3118.JPEG  \n",
            "  inflating: ./images/images/n02172182/n02172182_3121.JPEG  \n",
            "  inflating: ./images/images/n02172182/n02172182_3125.JPEG  \n",
            "  inflating: ./images/images/n02172182/n02172182_3130.JPEG  \n",
            "  inflating: ./images/images/n02172182/n02172182_3147.JPEG  \n",
            "  inflating: ./images/images/n02172182/n02172182_317.JPEG  \n",
            "  inflating: ./images/images/n02172182/n02172182_3185.JPEG  \n",
            "  inflating: ./images/images/n02172182/n02172182_3191.JPEG  \n",
            "  inflating: ./images/images/n02172182/n02172182_3202.JPEG  \n",
            "  inflating: ./images/images/n02172182/n02172182_3204.JPEG  \n",
            "  inflating: ./images/images/n02172182/n02172182_3207.JPEG  \n",
            "  inflating: ./images/images/n02172182/n02172182_3211.JPEG  \n",
            "  inflating: ./images/images/n02172182/n02172182_323.JPEG  \n",
            "  inflating: ./images/images/n02172182/n02172182_3238.JPEG  \n",
            "  inflating: ./images/images/n02172182/n02172182_324.JPEG  \n",
            "  inflating: ./images/images/n02172182/n02172182_3253.JPEG  \n",
            "  inflating: ./images/images/n02172182/n02172182_3255.JPEG  \n",
            "  inflating: ./images/images/n02172182/n02172182_3259.JPEG  \n",
            "  inflating: ./images/images/n02172182/n02172182_3262.JPEG  \n",
            "  inflating: ./images/images/n02172182/n02172182_3266.JPEG  \n",
            "  inflating: ./images/images/n02172182/n02172182_3272.JPEG  \n",
            "  inflating: ./images/images/n02172182/n02172182_3278.JPEG  \n",
            "  inflating: ./images/images/n02172182/n02172182_3296.JPEG  \n",
            "  inflating: ./images/images/n02172182/n02172182_3298.JPEG  \n",
            "  inflating: ./images/images/n02172182/n02172182_3305.JPEG  \n",
            "  inflating: ./images/images/n02172182/n02172182_3306.JPEG  \n",
            "  inflating: ./images/images/n02172182/n02172182_3309.JPEG  \n",
            "  inflating: ./images/images/n02172182/n02172182_3318.JPEG  \n",
            "  inflating: ./images/images/n02172182/n02172182_332.JPEG  \n",
            "  inflating: ./images/images/n02172182/n02172182_3333.JPEG  \n",
            "  inflating: ./images/images/n02172182/n02172182_3337.JPEG  \n",
            "  inflating: ./images/images/n02172182/n02172182_3344.JPEG  \n",
            "  inflating: ./images/images/n02172182/n02172182_3362.JPEG  \n",
            "  inflating: ./images/images/n02172182/n02172182_3364.JPEG  \n",
            "  inflating: ./images/images/n02172182/n02172182_3375.JPEG  \n",
            "  inflating: ./images/images/n02172182/n02172182_3387.JPEG  \n",
            "  inflating: ./images/images/n02172182/n02172182_3394.JPEG  \n",
            "  inflating: ./images/images/n02172182/n02172182_3398.JPEG  \n",
            "  inflating: ./images/images/n02172182/n02172182_3410.JPEG  \n",
            "  inflating: ./images/images/n02172182/n02172182_3412.JPEG  \n",
            "  inflating: ./images/images/n02172182/n02172182_3419.JPEG  \n",
            "  inflating: ./images/images/n02172182/n02172182_3427.JPEG  \n",
            "  inflating: ./images/images/n02172182/n02172182_3454.JPEG  \n",
            "  inflating: ./images/images/n02172182/n02172182_3466.JPEG  \n",
            "  inflating: ./images/images/n02172182/n02172182_347.JPEG  \n",
            "  inflating: ./images/images/n02172182/n02172182_3476.JPEG  \n",
            "  inflating: ./images/images/n02172182/n02172182_3478.JPEG  \n",
            "  inflating: ./images/images/n02172182/n02172182_348.JPEG  \n",
            "  inflating: ./images/images/n02172182/n02172182_3484.JPEG  \n",
            "  inflating: ./images/images/n02172182/n02172182_3485.JPEG  \n",
            "  inflating: ./images/images/n02172182/n02172182_349.JPEG  \n",
            "  inflating: ./images/images/n02172182/n02172182_35.JPEG  \n",
            "  inflating: ./images/images/n02172182/n02172182_350.JPEG  \n",
            "  inflating: ./images/images/n02172182/n02172182_3516.JPEG  \n",
            "  inflating: ./images/images/n02172182/n02172182_3521.JPEG  \n",
            "  inflating: ./images/images/n02172182/n02172182_3529.JPEG  \n",
            "  inflating: ./images/images/n02172182/n02172182_3537.JPEG  \n",
            "  inflating: ./images/images/n02172182/n02172182_3544.JPEG  \n",
            "  inflating: ./images/images/n02172182/n02172182_3550.JPEG  \n",
            "  inflating: ./images/images/n02172182/n02172182_3553.JPEG  \n",
            "  inflating: ./images/images/n02172182/n02172182_3566.JPEG  \n",
            "  inflating: ./images/images/n02172182/n02172182_3580.JPEG  \n",
            "  inflating: ./images/images/n02172182/n02172182_3596.JPEG  \n",
            "  inflating: ./images/images/n02172182/n02172182_3597.JPEG  \n",
            "  inflating: ./images/images/n02172182/n02172182_36.JPEG  \n",
            "  inflating: ./images/images/n02172182/n02172182_3604.JPEG  \n",
            "  inflating: ./images/images/n02172182/n02172182_3606.JPEG  \n",
            "  inflating: ./images/images/n02172182/n02172182_3616.JPEG  \n",
            "  inflating: ./images/images/n02172182/n02172182_3630.JPEG  \n",
            "  inflating: ./images/images/n02172182/n02172182_3632.JPEG  \n",
            "  inflating: ./images/images/n02172182/n02172182_3636.JPEG  \n",
            "  inflating: ./images/images/n02172182/n02172182_3645.JPEG  \n",
            "  inflating: ./images/images/n02172182/n02172182_3649.JPEG  \n",
            "  inflating: ./images/images/n02172182/n02172182_3654.JPEG  \n",
            "  inflating: ./images/images/n02172182/n02172182_366.JPEG  \n",
            "  inflating: ./images/images/n02172182/n02172182_3663.JPEG  \n",
            "  inflating: ./images/images/n02172182/n02172182_367.JPEG  \n",
            "  inflating: ./images/images/n02172182/n02172182_3680.JPEG  \n",
            "  inflating: ./images/images/n02172182/n02172182_3688.JPEG  \n",
            "  inflating: ./images/images/n02172182/n02172182_369.JPEG  \n",
            "  inflating: ./images/images/n02172182/n02172182_3697.JPEG  \n",
            "  inflating: ./images/images/n02172182/n02172182_3707.JPEG  \n",
            "  inflating: ./images/images/n02172182/n02172182_3709.JPEG  \n",
            "  inflating: ./images/images/n02172182/n02172182_371.JPEG  \n",
            "  inflating: ./images/images/n02172182/n02172182_3718.JPEG  \n",
            "  inflating: ./images/images/n02172182/n02172182_3724.JPEG  \n",
            "  inflating: ./images/images/n02172182/n02172182_3750.JPEG  \n",
            "  inflating: ./images/images/n02172182/n02172182_376.JPEG  \n",
            "  inflating: ./images/images/n02172182/n02172182_3760.JPEG  \n",
            "  inflating: ./images/images/n02172182/n02172182_3761.JPEG  \n",
            "  inflating: ./images/images/n02172182/n02172182_3776.JPEG  \n",
            "  inflating: ./images/images/n02172182/n02172182_3785.JPEG  \n",
            "  inflating: ./images/images/n02172182/n02172182_3796.JPEG  \n",
            "  inflating: ./images/images/n02172182/n02172182_3801.JPEG  \n",
            "  inflating: ./images/images/n02172182/n02172182_3802.JPEG  \n",
            "  inflating: ./images/images/n02172182/n02172182_3805.JPEG  \n",
            "  inflating: ./images/images/n02172182/n02172182_381.JPEG  \n",
            "  inflating: ./images/images/n02172182/n02172182_3818.JPEG  \n",
            "  inflating: ./images/images/n02172182/n02172182_3823.JPEG  \n",
            "  inflating: ./images/images/n02172182/n02172182_3825.JPEG  \n",
            "  inflating: ./images/images/n02172182/n02172182_3828.JPEG  \n",
            "  inflating: ./images/images/n02172182/n02172182_3829.JPEG  \n",
            "  inflating: ./images/images/n02172182/n02172182_3841.JPEG  \n",
            "  inflating: ./images/images/n02172182/n02172182_3844.JPEG  \n",
            "  inflating: ./images/images/n02172182/n02172182_3847.JPEG  \n",
            "  inflating: ./images/images/n02172182/n02172182_3849.JPEG  \n",
            "  inflating: ./images/images/n02172182/n02172182_386.JPEG  \n",
            "  inflating: ./images/images/n02172182/n02172182_3873.JPEG  \n",
            "  inflating: ./images/images/n02172182/n02172182_3881.JPEG  \n",
            "  inflating: ./images/images/n02172182/n02172182_3934.JPEG  \n",
            "  inflating: ./images/images/n02172182/n02172182_3936.JPEG  \n",
            "  inflating: ./images/images/n02172182/n02172182_3948.JPEG  \n",
            "  inflating: ./images/images/n02172182/n02172182_3952.JPEG  \n",
            "  inflating: ./images/images/n02172182/n02172182_3965.JPEG  \n",
            "  inflating: ./images/images/n02172182/n02172182_3968.JPEG  \n",
            "  inflating: ./images/images/n02172182/n02172182_3973.JPEG  \n",
            "  inflating: ./images/images/n02172182/n02172182_399.JPEG  \n",
            "  inflating: ./images/images/n02172182/n02172182_3990.JPEG  \n",
            "  inflating: ./images/images/n02172182/n02172182_3998.JPEG  \n",
            "  inflating: ./images/images/n02172182/n02172182_4001.JPEG  \n",
            "  inflating: ./images/images/n02172182/n02172182_4007.JPEG  \n",
            "  inflating: ./images/images/n02172182/n02172182_4014.JPEG  \n",
            "  inflating: ./images/images/n02172182/n02172182_4021.JPEG  \n",
            "  inflating: ./images/images/n02172182/n02172182_403.JPEG  \n",
            "  inflating: ./images/images/n02172182/n02172182_4039.JPEG  \n",
            "  inflating: ./images/images/n02172182/n02172182_405.JPEG  \n",
            "  inflating: ./images/images/n02172182/n02172182_4057.JPEG  \n",
            "  inflating: ./images/images/n02172182/n02172182_4069.JPEG  \n",
            "  inflating: ./images/images/n02172182/n02172182_4073.JPEG  \n",
            "  inflating: ./images/images/n02172182/n02172182_409.JPEG  \n",
            "  inflating: ./images/images/n02172182/n02172182_4100.JPEG  \n",
            "  inflating: ./images/images/n02172182/n02172182_4103.JPEG  \n",
            "  inflating: ./images/images/n02172182/n02172182_4104.JPEG  \n",
            "  inflating: ./images/images/n02172182/n02172182_412.JPEG  \n",
            "  inflating: ./images/images/n02172182/n02172182_413.JPEG  \n",
            "  inflating: ./images/images/n02172182/n02172182_4131.JPEG  \n",
            "  inflating: ./images/images/n02172182/n02172182_4135.JPEG  \n",
            "  inflating: ./images/images/n02172182/n02172182_4147.JPEG  \n",
            "  inflating: ./images/images/n02172182/n02172182_416.JPEG  \n",
            "  inflating: ./images/images/n02172182/n02172182_4160.JPEG  \n",
            "  inflating: ./images/images/n02172182/n02172182_4169.JPEG  \n",
            "  inflating: ./images/images/n02172182/n02172182_4172.JPEG  \n",
            "  inflating: ./images/images/n02172182/n02172182_4174.JPEG  \n",
            "  inflating: ./images/images/n02172182/n02172182_4180.JPEG  \n",
            "  inflating: ./images/images/n02172182/n02172182_4183.JPEG  \n",
            "  inflating: ./images/images/n02172182/n02172182_4201.JPEG  \n",
            "  inflating: ./images/images/n02172182/n02172182_4210.JPEG  \n",
            "  inflating: ./images/images/n02172182/n02172182_4212.JPEG  \n",
            "  inflating: ./images/images/n02172182/n02172182_422.JPEG  \n",
            "  inflating: ./images/images/n02172182/n02172182_4220.JPEG  \n",
            "  inflating: ./images/images/n02172182/n02172182_4241.JPEG  \n",
            "  inflating: ./images/images/n02172182/n02172182_426.JPEG  \n",
            "  inflating: ./images/images/n02172182/n02172182_4260.JPEG  \n",
            "  inflating: ./images/images/n02172182/n02172182_4261.JPEG  \n",
            "  inflating: ./images/images/n02172182/n02172182_4265.JPEG  \n",
            "  inflating: ./images/images/n02172182/n02172182_427.JPEG  \n",
            "  inflating: ./images/images/n02172182/n02172182_4273.JPEG  \n",
            "  inflating: ./images/images/n02172182/n02172182_4274.JPEG  \n",
            "  inflating: ./images/images/n02172182/n02172182_4281.JPEG  \n",
            "  inflating: ./images/images/n02172182/n02172182_4314.JPEG  \n",
            "  inflating: ./images/images/n02172182/n02172182_4316.JPEG  \n",
            "  inflating: ./images/images/n02172182/n02172182_4319.JPEG  \n",
            "  inflating: ./images/images/n02172182/n02172182_4324.JPEG  \n",
            "  inflating: ./images/images/n02172182/n02172182_4335.JPEG  \n",
            "  inflating: ./images/images/n02172182/n02172182_4336.JPEG  \n",
            "  inflating: ./images/images/n02172182/n02172182_4341.JPEG  \n",
            "  inflating: ./images/images/n02172182/n02172182_4352.JPEG  \n",
            "  inflating: ./images/images/n02172182/n02172182_4361.JPEG  \n",
            "  inflating: ./images/images/n02172182/n02172182_4368.JPEG  \n",
            "  inflating: ./images/images/n02172182/n02172182_4376.JPEG  \n",
            "  inflating: ./images/images/n02172182/n02172182_4377.JPEG  \n",
            "  inflating: ./images/images/n02172182/n02172182_4379.JPEG  \n",
            "  inflating: ./images/images/n02172182/n02172182_4382.JPEG  \n",
            "  inflating: ./images/images/n02172182/n02172182_439.JPEG  \n",
            "  inflating: ./images/images/n02172182/n02172182_44.JPEG  \n",
            "  inflating: ./images/images/n02172182/n02172182_4401.JPEG  \n",
            "  inflating: ./images/images/n02172182/n02172182_4402.JPEG  \n",
            "  inflating: ./images/images/n02172182/n02172182_4405.JPEG  \n",
            "  inflating: ./images/images/n02172182/n02172182_4408.JPEG  \n",
            "  inflating: ./images/images/n02172182/n02172182_4420.JPEG  \n",
            "  inflating: ./images/images/n02172182/n02172182_4423.JPEG  \n",
            "  inflating: ./images/images/n02172182/n02172182_4424.JPEG  \n",
            "  inflating: ./images/images/n02172182/n02172182_4425.JPEG  \n",
            "  inflating: ./images/images/n02172182/n02172182_443.JPEG  \n",
            "  inflating: ./images/images/n02172182/n02172182_4434.JPEG  \n",
            "  inflating: ./images/images/n02172182/n02172182_4442.JPEG  \n",
            "  inflating: ./images/images/n02172182/n02172182_445.JPEG  \n",
            "  inflating: ./images/images/n02172182/n02172182_4458.JPEG  \n",
            "  inflating: ./images/images/n02172182/n02172182_4464.JPEG  \n",
            "  inflating: ./images/images/n02172182/n02172182_4468.JPEG  \n",
            "  inflating: ./images/images/n02172182/n02172182_4474.JPEG  \n",
            "  inflating: ./images/images/n02172182/n02172182_4476.JPEG  \n",
            "  inflating: ./images/images/n02172182/n02172182_4480.JPEG  \n",
            "  inflating: ./images/images/n02172182/n02172182_4485.JPEG  \n",
            "  inflating: ./images/images/n02172182/n02172182_449.JPEG  \n",
            "  inflating: ./images/images/n02172182/n02172182_453.JPEG  \n",
            "  inflating: ./images/images/n02172182/n02172182_4530.JPEG  \n",
            "  inflating: ./images/images/n02172182/n02172182_4533.JPEG  \n",
            "  inflating: ./images/images/n02172182/n02172182_4571.JPEG  \n",
            "  inflating: ./images/images/n02172182/n02172182_4585.JPEG  \n",
            "  inflating: ./images/images/n02172182/n02172182_4587.JPEG  \n",
            "  inflating: ./images/images/n02172182/n02172182_46.JPEG  \n",
            "  inflating: ./images/images/n02172182/n02172182_4606.JPEG  \n",
            "  inflating: ./images/images/n02172182/n02172182_4615.JPEG  \n",
            "  inflating: ./images/images/n02172182/n02172182_4620.JPEG  \n",
            "  inflating: ./images/images/n02172182/n02172182_4631.JPEG  \n",
            "  inflating: ./images/images/n02172182/n02172182_4633.JPEG  \n",
            "  inflating: ./images/images/n02172182/n02172182_4648.JPEG  \n",
            "  inflating: ./images/images/n02172182/n02172182_4652.JPEG  \n",
            "  inflating: ./images/images/n02172182/n02172182_4654.JPEG  \n",
            "  inflating: ./images/images/n02172182/n02172182_4662.JPEG  \n",
            "  inflating: ./images/images/n02172182/n02172182_4665.JPEG  \n",
            "  inflating: ./images/images/n02172182/n02172182_4671.JPEG  \n",
            "  inflating: ./images/images/n02172182/n02172182_4678.JPEG  \n",
            "  inflating: ./images/images/n02172182/n02172182_4689.JPEG  \n",
            "  inflating: ./images/images/n02172182/n02172182_4691.JPEG  \n",
            "  inflating: ./images/images/n02172182/n02172182_4695.JPEG  \n",
            "  inflating: ./images/images/n02172182/n02172182_471.JPEG  \n",
            "  inflating: ./images/images/n02172182/n02172182_4715.JPEG  \n",
            "  inflating: ./images/images/n02172182/n02172182_4727.JPEG  \n",
            "  inflating: ./images/images/n02172182/n02172182_4736.JPEG  \n",
            "  inflating: ./images/images/n02172182/n02172182_4740.JPEG  \n",
            "  inflating: ./images/images/n02172182/n02172182_4743.JPEG  \n",
            "  inflating: ./images/images/n02172182/n02172182_4758.JPEG  \n",
            "  inflating: ./images/images/n02172182/n02172182_4765.JPEG  \n",
            "  inflating: ./images/images/n02172182/n02172182_4777.JPEG  \n",
            "  inflating: ./images/images/n02172182/n02172182_478.JPEG  \n",
            "  inflating: ./images/images/n02172182/n02172182_4780.JPEG  \n",
            "  inflating: ./images/images/n02172182/n02172182_4786.JPEG  \n",
            "  inflating: ./images/images/n02172182/n02172182_4788.JPEG  \n",
            "  inflating: ./images/images/n02172182/n02172182_4791.JPEG  \n",
            "  inflating: ./images/images/n02172182/n02172182_4793.JPEG  \n",
            "  inflating: ./images/images/n02172182/n02172182_4797.JPEG  \n",
            "  inflating: ./images/images/n02172182/n02172182_4803.JPEG  \n",
            "  inflating: ./images/images/n02172182/n02172182_4809.JPEG  \n",
            "  inflating: ./images/images/n02172182/n02172182_4819.JPEG  \n",
            "  inflating: ./images/images/n02172182/n02172182_4828.JPEG  \n",
            "  inflating: ./images/images/n02172182/n02172182_4833.JPEG  \n",
            "  inflating: ./images/images/n02172182/n02172182_4834.JPEG  \n",
            "  inflating: ./images/images/n02172182/n02172182_4857.JPEG  \n",
            "  inflating: ./images/images/n02172182/n02172182_4859.JPEG  \n",
            "  inflating: ./images/images/n02172182/n02172182_4885.JPEG  \n",
            "  inflating: ./images/images/n02172182/n02172182_489.JPEG  \n",
            "  inflating: ./images/images/n02172182/n02172182_4901.JPEG  \n",
            "  inflating: ./images/images/n02172182/n02172182_4904.JPEG  \n",
            "  inflating: ./images/images/n02172182/n02172182_4909.JPEG  \n",
            "  inflating: ./images/images/n02172182/n02172182_492.JPEG  \n",
            "  inflating: ./images/images/n02172182/n02172182_4945.JPEG  \n",
            "  inflating: ./images/images/n02172182/n02172182_4948.JPEG  \n",
            "  inflating: ./images/images/n02172182/n02172182_4957.JPEG  \n",
            "  inflating: ./images/images/n02172182/n02172182_496.JPEG  \n",
            "  inflating: ./images/images/n02172182/n02172182_4968.JPEG  \n",
            "  inflating: ./images/images/n02172182/n02172182_4973.JPEG  \n",
            "  inflating: ./images/images/n02172182/n02172182_4974.JPEG  \n",
            "  inflating: ./images/images/n02172182/n02172182_4978.JPEG  \n",
            "  inflating: ./images/images/n02172182/n02172182_4982.JPEG  \n",
            "  inflating: ./images/images/n02172182/n02172182_4984.JPEG  \n",
            "  inflating: ./images/images/n02172182/n02172182_4993.JPEG  \n",
            "  inflating: ./images/images/n02172182/n02172182_4998.JPEG  \n",
            "  inflating: ./images/images/n02172182/n02172182_5012.JPEG  \n",
            "  inflating: ./images/images/n02172182/n02172182_5030.JPEG  \n",
            "  inflating: ./images/images/n02172182/n02172182_5035.JPEG  \n",
            "  inflating: ./images/images/n02172182/n02172182_5040.JPEG  \n",
            "  inflating: ./images/images/n02172182/n02172182_5044.JPEG  \n",
            "  inflating: ./images/images/n02172182/n02172182_5051.JPEG  \n",
            "  inflating: ./images/images/n02172182/n02172182_5068.JPEG  \n",
            "  inflating: ./images/images/n02172182/n02172182_507.JPEG  \n",
            "  inflating: ./images/images/n02172182/n02172182_5071.JPEG  \n",
            "  inflating: ./images/images/n02172182/n02172182_508.JPEG  \n",
            "  inflating: ./images/images/n02172182/n02172182_5082.JPEG  \n",
            "  inflating: ./images/images/n02172182/n02172182_5083.JPEG  \n",
            "  inflating: ./images/images/n02172182/n02172182_5085.JPEG  \n",
            "  inflating: ./images/images/n02172182/n02172182_5095.JPEG  \n",
            "  inflating: ./images/images/n02172182/n02172182_5098.JPEG  \n",
            "  inflating: ./images/images/n02172182/n02172182_5101.JPEG  \n",
            "  inflating: ./images/images/n02172182/n02172182_5120.JPEG  \n",
            "  inflating: ./images/images/n02172182/n02172182_5124.JPEG  \n",
            "  inflating: ./images/images/n02172182/n02172182_5131.JPEG  \n",
            "  inflating: ./images/images/n02172182/n02172182_5135.JPEG  \n",
            "  inflating: ./images/images/n02172182/n02172182_5142.JPEG  \n",
            "  inflating: ./images/images/n02172182/n02172182_5148.JPEG  \n",
            "  inflating: ./images/images/n02172182/n02172182_5166.JPEG  \n",
            "  inflating: ./images/images/n02172182/n02172182_5167.JPEG  \n",
            "  inflating: ./images/images/n02172182/n02172182_5196.JPEG  \n",
            "  inflating: ./images/images/n02172182/n02172182_520.JPEG  \n",
            "  inflating: ./images/images/n02172182/n02172182_5216.JPEG  \n",
            "  inflating: ./images/images/n02172182/n02172182_5251.JPEG  \n",
            "  inflating: ./images/images/n02172182/n02172182_5259.JPEG  \n",
            "  inflating: ./images/images/n02172182/n02172182_526.JPEG  \n",
            "  inflating: ./images/images/n02172182/n02172182_5267.JPEG  \n",
            "  inflating: ./images/images/n02172182/n02172182_5282.JPEG  \n",
            "  inflating: ./images/images/n02172182/n02172182_5285.JPEG  \n",
            "  inflating: ./images/images/n02172182/n02172182_5294.JPEG  \n",
            "  inflating: ./images/images/n02172182/n02172182_5301.JPEG  \n",
            "  inflating: ./images/images/n02172182/n02172182_5320.JPEG  \n",
            "  inflating: ./images/images/n02172182/n02172182_5333.JPEG  \n",
            "  inflating: ./images/images/n02172182/n02172182_5341.JPEG  \n",
            "  inflating: ./images/images/n02172182/n02172182_5344.JPEG  \n",
            "  inflating: ./images/images/n02172182/n02172182_5351.JPEG  \n",
            "  inflating: ./images/images/n02172182/n02172182_5373.JPEG  \n",
            "  inflating: ./images/images/n02172182/n02172182_5380.JPEG  \n",
            "  inflating: ./images/images/n02172182/n02172182_5383.JPEG  \n",
            "  inflating: ./images/images/n02172182/n02172182_5397.JPEG  \n",
            "  inflating: ./images/images/n02172182/n02172182_5405.JPEG  \n",
            "  inflating: ./images/images/n02172182/n02172182_5411.JPEG  \n",
            "  inflating: ./images/images/n02172182/n02172182_5417.JPEG  \n",
            "  inflating: ./images/images/n02172182/n02172182_5425.JPEG  \n",
            "  inflating: ./images/images/n02172182/n02172182_5435.JPEG  \n",
            "  inflating: ./images/images/n02172182/n02172182_5439.JPEG  \n",
            "  inflating: ./images/images/n02172182/n02172182_5440.JPEG  \n",
            "  inflating: ./images/images/n02172182/n02172182_5446.JPEG  \n",
            "  inflating: ./images/images/n02172182/n02172182_5449.JPEG  \n",
            "  inflating: ./images/images/n02172182/n02172182_5452.JPEG  \n",
            "  inflating: ./images/images/n02172182/n02172182_5455.JPEG  \n",
            "  inflating: ./images/images/n02172182/n02172182_5461.JPEG  \n",
            "  inflating: ./images/images/n02172182/n02172182_5471.JPEG  \n",
            "  inflating: ./images/images/n02172182/n02172182_5474.JPEG  \n",
            "  inflating: ./images/images/n02172182/n02172182_5480.JPEG  \n",
            "  inflating: ./images/images/n02172182/n02172182_5481.JPEG  \n",
            "  inflating: ./images/images/n02172182/n02172182_5510.JPEG  \n",
            "  inflating: ./images/images/n02172182/n02172182_5511.JPEG  \n",
            "  inflating: ./images/images/n02172182/n02172182_5513.JPEG  \n",
            "  inflating: ./images/images/n02172182/n02172182_5515.JPEG  \n",
            "  inflating: ./images/images/n02172182/n02172182_5519.JPEG  \n",
            "  inflating: ./images/images/n02172182/n02172182_553.JPEG  \n",
            "  inflating: ./images/images/n02172182/n02172182_5546.JPEG  \n",
            "  inflating: ./images/images/n02172182/n02172182_5554.JPEG  \n",
            "  inflating: ./images/images/n02172182/n02172182_5564.JPEG  \n",
            "  inflating: ./images/images/n02172182/n02172182_5578.JPEG  \n",
            "  inflating: ./images/images/n02172182/n02172182_5590.JPEG  \n",
            "  inflating: ./images/images/n02172182/n02172182_56.JPEG  \n",
            "  inflating: ./images/images/n02172182/n02172182_5619.JPEG  \n",
            "  inflating: ./images/images/n02172182/n02172182_562.JPEG  \n",
            "  inflating: ./images/images/n02172182/n02172182_563.JPEG  \n",
            "  inflating: ./images/images/n02172182/n02172182_5644.JPEG  \n",
            "  inflating: ./images/images/n02172182/n02172182_5653.JPEG  \n",
            "  inflating: ./images/images/n02172182/n02172182_5677.JPEG  \n",
            "  inflating: ./images/images/n02172182/n02172182_5679.JPEG  \n",
            "  inflating: ./images/images/n02172182/n02172182_5680.JPEG  \n",
            "  inflating: ./images/images/n02172182/n02172182_5686.JPEG  \n",
            "  inflating: ./images/images/n02172182/n02172182_5702.JPEG  \n",
            "  inflating: ./images/images/n02172182/n02172182_5719.JPEG  \n",
            "  inflating: ./images/images/n02172182/n02172182_5722.JPEG  \n",
            "  inflating: ./images/images/n02172182/n02172182_5726.JPEG  \n",
            "  inflating: ./images/images/n02172182/n02172182_5747.JPEG  \n",
            "  inflating: ./images/images/n02172182/n02172182_5749.JPEG  \n",
            "  inflating: ./images/images/n02172182/n02172182_5751.JPEG  \n",
            "  inflating: ./images/images/n02172182/n02172182_5767.JPEG  \n",
            "  inflating: ./images/images/n02172182/n02172182_577.JPEG  \n",
            "  inflating: ./images/images/n02172182/n02172182_5818.JPEG  \n",
            "  inflating: ./images/images/n02172182/n02172182_587.JPEG  \n",
            "  inflating: ./images/images/n02172182/n02172182_5886.JPEG  \n",
            "  inflating: ./images/images/n02172182/n02172182_5889.JPEG  \n",
            "  inflating: ./images/images/n02172182/n02172182_59.JPEG  \n",
            "  inflating: ./images/images/n02172182/n02172182_5901.JPEG  \n",
            "  inflating: ./images/images/n02172182/n02172182_5914.JPEG  \n",
            "  inflating: ./images/images/n02172182/n02172182_5931.JPEG  \n",
            "  inflating: ./images/images/n02172182/n02172182_596.JPEG  \n",
            "  inflating: ./images/images/n02172182/n02172182_5961.JPEG  \n",
            "  inflating: ./images/images/n02172182/n02172182_5965.JPEG  \n",
            "  inflating: ./images/images/n02172182/n02172182_5968.JPEG  \n",
            "  inflating: ./images/images/n02172182/n02172182_597.JPEG  \n",
            "  inflating: ./images/images/n02172182/n02172182_5981.JPEG  \n",
            "  inflating: ./images/images/n02172182/n02172182_5991.JPEG  \n",
            "  inflating: ./images/images/n02172182/n02172182_600.JPEG  \n",
            "  inflating: ./images/images/n02172182/n02172182_6004.JPEG  \n",
            "  inflating: ./images/images/n02172182/n02172182_6012.JPEG  \n",
            "  inflating: ./images/images/n02172182/n02172182_604.JPEG  \n",
            "  inflating: ./images/images/n02172182/n02172182_6045.JPEG  \n",
            "  inflating: ./images/images/n02172182/n02172182_605.JPEG  \n",
            "  inflating: ./images/images/n02172182/n02172182_6053.JPEG  \n",
            "  inflating: ./images/images/n02172182/n02172182_6065.JPEG  \n",
            "  inflating: ./images/images/n02172182/n02172182_6066.JPEG  \n",
            "  inflating: ./images/images/n02172182/n02172182_6071.JPEG  \n",
            "  inflating: ./images/images/n02172182/n02172182_6079.JPEG  \n",
            "  inflating: ./images/images/n02172182/n02172182_6114.JPEG  \n",
            "  inflating: ./images/images/n02172182/n02172182_6119.JPEG  \n",
            "  inflating: ./images/images/n02172182/n02172182_612.JPEG  \n",
            "  inflating: ./images/images/n02172182/n02172182_6122.JPEG  \n",
            "  inflating: ./images/images/n02172182/n02172182_6127.JPEG  \n",
            "  inflating: ./images/images/n02172182/n02172182_6129.JPEG  \n",
            "  inflating: ./images/images/n02172182/n02172182_6135.JPEG  \n",
            "  inflating: ./images/images/n02172182/n02172182_6156.JPEG  \n",
            "  inflating: ./images/images/n02172182/n02172182_616.JPEG  \n",
            "  inflating: ./images/images/n02172182/n02172182_617.JPEG  \n",
            "  inflating: ./images/images/n02172182/n02172182_6174.JPEG  \n",
            "  inflating: ./images/images/n02172182/n02172182_6176.JPEG  \n",
            "  inflating: ./images/images/n02172182/n02172182_6179.JPEG  \n",
            "  inflating: ./images/images/n02172182/n02172182_618.JPEG  \n",
            "  inflating: ./images/images/n02172182/n02172182_6188.JPEG  \n",
            "  inflating: ./images/images/n02172182/n02172182_6189.JPEG  \n",
            "  inflating: ./images/images/n02172182/n02172182_6196.JPEG  \n",
            "  inflating: ./images/images/n02172182/n02172182_620.JPEG  \n",
            "  inflating: ./images/images/n02172182/n02172182_6206.JPEG  \n",
            "  inflating: ./images/images/n02172182/n02172182_6212.JPEG  \n",
            "  inflating: ./images/images/n02172182/n02172182_6220.JPEG  \n",
            "  inflating: ./images/images/n02172182/n02172182_6221.JPEG  \n",
            "  inflating: ./images/images/n02172182/n02172182_6225.JPEG  \n",
            "  inflating: ./images/images/n02172182/n02172182_6229.JPEG  \n",
            "  inflating: ./images/images/n02172182/n02172182_6234.JPEG  \n",
            "  inflating: ./images/images/n02172182/n02172182_6237.JPEG  \n",
            "  inflating: ./images/images/n02172182/n02172182_6239.JPEG  \n",
            "  inflating: ./images/images/n02172182/n02172182_6243.JPEG  \n",
            "  inflating: ./images/images/n02172182/n02172182_6253.JPEG  \n",
            "  inflating: ./images/images/n02172182/n02172182_6260.JPEG  \n",
            "  inflating: ./images/images/n02172182/n02172182_6267.JPEG  \n",
            "  inflating: ./images/images/n02172182/n02172182_6275.JPEG  \n",
            "  inflating: ./images/images/n02172182/n02172182_6276.JPEG  \n",
            "  inflating: ./images/images/n02172182/n02172182_6279.JPEG  \n",
            "  inflating: ./images/images/n02172182/n02172182_6295.JPEG  \n",
            "  inflating: ./images/images/n02172182/n02172182_6307.JPEG  \n",
            "  inflating: ./images/images/n02172182/n02172182_6308.JPEG  \n",
            "  inflating: ./images/images/n02172182/n02172182_6316.JPEG  \n",
            "  inflating: ./images/images/n02172182/n02172182_6325.JPEG  \n",
            "  inflating: ./images/images/n02172182/n02172182_633.JPEG  \n",
            "  inflating: ./images/images/n02172182/n02172182_6337.JPEG  \n",
            "  inflating: ./images/images/n02172182/n02172182_6338.JPEG  \n",
            "  inflating: ./images/images/n02172182/n02172182_6394.JPEG  \n",
            "  inflating: ./images/images/n02172182/n02172182_6398.JPEG  \n",
            "  inflating: ./images/images/n02172182/n02172182_6407.JPEG  \n",
            "  inflating: ./images/images/n02172182/n02172182_6433.JPEG  \n",
            "  inflating: ./images/images/n02172182/n02172182_6438.JPEG  \n",
            "  inflating: ./images/images/n02172182/n02172182_6457.JPEG  \n",
            "  inflating: ./images/images/n02172182/n02172182_6465.JPEG  \n",
            "  inflating: ./images/images/n02172182/n02172182_6487.JPEG  \n",
            "  inflating: ./images/images/n02172182/n02172182_6495.JPEG  \n",
            "  inflating: ./images/images/n02172182/n02172182_650.JPEG  \n",
            "  inflating: ./images/images/n02172182/n02172182_6504.JPEG  \n",
            "  inflating: ./images/images/n02172182/n02172182_6507.JPEG  \n",
            "  inflating: ./images/images/n02172182/n02172182_6511.JPEG  \n",
            "  inflating: ./images/images/n02172182/n02172182_6515.JPEG  \n",
            "  inflating: ./images/images/n02172182/n02172182_652.JPEG  \n",
            "  inflating: ./images/images/n02172182/n02172182_6549.JPEG  \n",
            "  inflating: ./images/images/n02172182/n02172182_658.JPEG  \n",
            "  inflating: ./images/images/n02172182/n02172182_6597.JPEG  \n",
            "  inflating: ./images/images/n02172182/n02172182_6600.JPEG  \n",
            "  inflating: ./images/images/n02172182/n02172182_6601.JPEG  \n",
            "  inflating: ./images/images/n02172182/n02172182_6606.JPEG  \n",
            "  inflating: ./images/images/n02172182/n02172182_6612.JPEG  \n",
            "  inflating: ./images/images/n02172182/n02172182_6614.JPEG  \n",
            "  inflating: ./images/images/n02172182/n02172182_6626.JPEG  \n",
            "  inflating: ./images/images/n02172182/n02172182_6644.JPEG  \n",
            "  inflating: ./images/images/n02172182/n02172182_6646.JPEG  \n",
            "  inflating: ./images/images/n02172182/n02172182_667.JPEG  \n",
            "  inflating: ./images/images/n02172182/n02172182_6671.JPEG  \n",
            "  inflating: ./images/images/n02172182/n02172182_6676.JPEG  \n",
            "  inflating: ./images/images/n02172182/n02172182_6692.JPEG  \n",
            "  inflating: ./images/images/n02172182/n02172182_6715.JPEG  \n",
            "  inflating: ./images/images/n02172182/n02172182_672.JPEG  \n",
            "  inflating: ./images/images/n02172182/n02172182_6723.JPEG  \n",
            "  inflating: ./images/images/n02172182/n02172182_6733.JPEG  \n",
            "  inflating: ./images/images/n02172182/n02172182_6740.JPEG  \n",
            "  inflating: ./images/images/n02172182/n02172182_6741.JPEG  \n",
            "  inflating: ./images/images/n02172182/n02172182_675.JPEG  \n",
            "  inflating: ./images/images/n02172182/n02172182_6765.JPEG  \n",
            "  inflating: ./images/images/n02172182/n02172182_677.JPEG  \n",
            "  inflating: ./images/images/n02172182/n02172182_6777.JPEG  \n",
            "  inflating: ./images/images/n02172182/n02172182_6782.JPEG  \n",
            "  inflating: ./images/images/n02172182/n02172182_6786.JPEG  \n",
            "  inflating: ./images/images/n02172182/n02172182_6788.JPEG  \n",
            "  inflating: ./images/images/n02172182/n02172182_679.JPEG  \n",
            "  inflating: ./images/images/n02172182/n02172182_6815.JPEG  \n",
            "  inflating: ./images/images/n02172182/n02172182_6825.JPEG  \n",
            "  inflating: ./images/images/n02172182/n02172182_6829.JPEG  \n",
            "  inflating: ./images/images/n02172182/n02172182_6841.JPEG  \n",
            "  inflating: ./images/images/n02172182/n02172182_6854.JPEG  \n",
            "  inflating: ./images/images/n02172182/n02172182_6857.JPEG  \n",
            "  inflating: ./images/images/n02172182/n02172182_6861.JPEG  \n",
            "  inflating: ./images/images/n02172182/n02172182_6871.JPEG  \n",
            "  inflating: ./images/images/n02172182/n02172182_6874.JPEG  \n",
            "  inflating: ./images/images/n02172182/n02172182_6877.JPEG  \n",
            "  inflating: ./images/images/n02172182/n02172182_6902.JPEG  \n",
            "  inflating: ./images/images/n02172182/n02172182_6905.JPEG  \n",
            "  inflating: ./images/images/n02172182/n02172182_6912.JPEG  \n",
            "  inflating: ./images/images/n02172182/n02172182_692.JPEG  \n",
            "  inflating: ./images/images/n02172182/n02172182_6948.JPEG  \n",
            "  inflating: ./images/images/n02172182/n02172182_695.JPEG  \n",
            "  inflating: ./images/images/n02172182/n02172182_6960.JPEG  \n",
            "  inflating: ./images/images/n02172182/n02172182_6966.JPEG  \n",
            "  inflating: ./images/images/n02172182/n02172182_6987.JPEG  \n",
            "  inflating: ./images/images/n02172182/n02172182_700.JPEG  \n",
            "  inflating: ./images/images/n02172182/n02172182_7030.JPEG  \n",
            "  inflating: ./images/images/n02172182/n02172182_7032.JPEG  \n",
            "  inflating: ./images/images/n02172182/n02172182_7041.JPEG  \n",
            "  inflating: ./images/images/n02172182/n02172182_7042.JPEG  \n",
            "  inflating: ./images/images/n02172182/n02172182_706.JPEG  \n",
            "  inflating: ./images/images/n02172182/n02172182_7087.JPEG  \n",
            "  inflating: ./images/images/n02172182/n02172182_7090.JPEG  \n",
            "  inflating: ./images/images/n02172182/n02172182_7093.JPEG  \n",
            "  inflating: ./images/images/n02172182/n02172182_7095.JPEG  \n",
            "  inflating: ./images/images/n02172182/n02172182_7096.JPEG  \n",
            "  inflating: ./images/images/n02172182/n02172182_71.JPEG  \n",
            "  inflating: ./images/images/n02172182/n02172182_7137.JPEG  \n",
            "  inflating: ./images/images/n02172182/n02172182_7151.JPEG  \n",
            "  inflating: ./images/images/n02172182/n02172182_7169.JPEG  \n",
            "  inflating: ./images/images/n02172182/n02172182_7171.JPEG  \n",
            "  inflating: ./images/images/n02172182/n02172182_7174.JPEG  \n",
            "  inflating: ./images/images/n02172182/n02172182_7188.JPEG  \n",
            "  inflating: ./images/images/n02172182/n02172182_7207.JPEG  \n",
            "  inflating: ./images/images/n02172182/n02172182_7215.JPEG  \n",
            "  inflating: ./images/images/n02172182/n02172182_7217.JPEG  \n",
            "  inflating: ./images/images/n02172182/n02172182_7219.JPEG  \n",
            "  inflating: ./images/images/n02172182/n02172182_7220.JPEG  \n",
            "  inflating: ./images/images/n02172182/n02172182_7226.JPEG  \n",
            "  inflating: ./images/images/n02172182/n02172182_7229.JPEG  \n",
            "  inflating: ./images/images/n02172182/n02172182_725.JPEG  \n",
            "  inflating: ./images/images/n02172182/n02172182_7261.JPEG  \n",
            "  inflating: ./images/images/n02172182/n02172182_7284.JPEG  \n",
            "  inflating: ./images/images/n02172182/n02172182_7289.JPEG  \n",
            "  inflating: ./images/images/n02172182/n02172182_7298.JPEG  \n",
            "  inflating: ./images/images/n02172182/n02172182_7319.JPEG  \n",
            "  inflating: ./images/images/n02172182/n02172182_7339.JPEG  \n",
            "  inflating: ./images/images/n02172182/n02172182_7341.JPEG  \n",
            "  inflating: ./images/images/n02172182/n02172182_7354.JPEG  \n",
            "  inflating: ./images/images/n02172182/n02172182_7367.JPEG  \n",
            "  inflating: ./images/images/n02172182/n02172182_7375.JPEG  \n",
            "  inflating: ./images/images/n02172182/n02172182_7377.JPEG  \n",
            "  inflating: ./images/images/n02172182/n02172182_7402.JPEG  \n",
            "  inflating: ./images/images/n02172182/n02172182_7405.JPEG  \n",
            "  inflating: ./images/images/n02172182/n02172182_7406.JPEG  \n",
            "  inflating: ./images/images/n02172182/n02172182_7434.JPEG  \n",
            "  inflating: ./images/images/n02172182/n02172182_7438.JPEG  \n",
            "  inflating: ./images/images/n02172182/n02172182_7447.JPEG  \n",
            "  inflating: ./images/images/n02172182/n02172182_7455.JPEG  \n",
            "  inflating: ./images/images/n02172182/n02172182_7462.JPEG  \n",
            "  inflating: ./images/images/n02172182/n02172182_7466.JPEG  \n",
            "  inflating: ./images/images/n02172182/n02172182_7472.JPEG  \n",
            "  inflating: ./images/images/n02172182/n02172182_748.JPEG  \n",
            "  inflating: ./images/images/n02172182/n02172182_7483.JPEG  \n",
            "  inflating: ./images/images/n02172182/n02172182_750.JPEG  \n",
            "  inflating: ./images/images/n02172182/n02172182_7502.JPEG  \n",
            "  inflating: ./images/images/n02172182/n02172182_7512.JPEG  \n",
            "  inflating: ./images/images/n02172182/n02172182_7513.JPEG  \n",
            "  inflating: ./images/images/n02172182/n02172182_7518.JPEG  \n",
            "  inflating: ./images/images/n02172182/n02172182_7523.JPEG  \n",
            "  inflating: ./images/images/n02172182/n02172182_7534.JPEG  \n",
            "  inflating: ./images/images/n02172182/n02172182_754.JPEG  \n",
            "  inflating: ./images/images/n02172182/n02172182_7544.JPEG  \n",
            "  inflating: ./images/images/n02172182/n02172182_7545.JPEG  \n",
            "  inflating: ./images/images/n02172182/n02172182_7564.JPEG  \n",
            "  inflating: ./images/images/n02172182/n02172182_757.JPEG  \n",
            "  inflating: ./images/images/n02172182/n02172182_7571.JPEG  \n",
            "  inflating: ./images/images/n02172182/n02172182_7578.JPEG  \n",
            "  inflating: ./images/images/n02172182/n02172182_758.JPEG  \n",
            "  inflating: ./images/images/n02172182/n02172182_7599.JPEG  \n",
            "  inflating: ./images/images/n02172182/n02172182_7614.JPEG  \n",
            "  inflating: ./images/images/n02172182/n02172182_762.JPEG  \n",
            "  inflating: ./images/images/n02172182/n02172182_7624.JPEG  \n",
            "  inflating: ./images/images/n02172182/n02172182_7642.JPEG  \n",
            "  inflating: ./images/images/n02172182/n02172182_765.JPEG  \n",
            "  inflating: ./images/images/n02172182/n02172182_7653.JPEG  \n",
            "  inflating: ./images/images/n02172182/n02172182_766.JPEG  \n",
            "  inflating: ./images/images/n02172182/n02172182_769.JPEG  \n",
            "  inflating: ./images/images/n02172182/n02172182_7693.JPEG  \n",
            "  inflating: ./images/images/n02172182/n02172182_7698.JPEG  \n",
            "  inflating: ./images/images/n02172182/n02172182_770.JPEG  \n",
            "  inflating: ./images/images/n02172182/n02172182_7700.JPEG  \n",
            "  inflating: ./images/images/n02172182/n02172182_7705.JPEG  \n",
            "  inflating: ./images/images/n02172182/n02172182_7710.JPEG  \n",
            "  inflating: ./images/images/n02172182/n02172182_7716.JPEG  \n",
            "  inflating: ./images/images/n02172182/n02172182_7719.JPEG  \n",
            "  inflating: ./images/images/n02172182/n02172182_7728.JPEG  \n",
            "  inflating: ./images/images/n02172182/n02172182_7735.JPEG  \n",
            "  inflating: ./images/images/n02172182/n02172182_7787.JPEG  \n",
            "  inflating: ./images/images/n02172182/n02172182_7788.JPEG  \n",
            "  inflating: ./images/images/n02172182/n02172182_7792.JPEG  \n",
            "  inflating: ./images/images/n02172182/n02172182_7794.JPEG  \n",
            "  inflating: ./images/images/n02172182/n02172182_7800.JPEG  \n",
            "  inflating: ./images/images/n02172182/n02172182_7811.JPEG  \n",
            "  inflating: ./images/images/n02172182/n02172182_782.JPEG  \n",
            "  inflating: ./images/images/n02172182/n02172182_7821.JPEG  \n",
            "  inflating: ./images/images/n02172182/n02172182_7824.JPEG  \n",
            "  inflating: ./images/images/n02172182/n02172182_7838.JPEG  \n",
            "  inflating: ./images/images/n02172182/n02172182_7845.JPEG  \n",
            "  inflating: ./images/images/n02172182/n02172182_785.JPEG  \n",
            "  inflating: ./images/images/n02172182/n02172182_7854.JPEG  \n",
            "  inflating: ./images/images/n02172182/n02172182_7861.JPEG  \n",
            "  inflating: ./images/images/n02172182/n02172182_789.JPEG  \n",
            "  inflating: ./images/images/n02172182/n02172182_7972.JPEG  \n",
            "  inflating: ./images/images/n02172182/n02172182_80.JPEG  \n",
            "  inflating: ./images/images/n02172182/n02172182_800.JPEG  \n",
            "  inflating: ./images/images/n02172182/n02172182_8000.JPEG  \n",
            "  inflating: ./images/images/n02172182/n02172182_803.JPEG  \n",
            "  inflating: ./images/images/n02172182/n02172182_8084.JPEG  \n",
            "  inflating: ./images/images/n02172182/n02172182_8133.JPEG  \n",
            "  inflating: ./images/images/n02172182/n02172182_8144.JPEG  \n",
            "  inflating: ./images/images/n02172182/n02172182_815.JPEG  \n",
            "  inflating: ./images/images/n02172182/n02172182_816.JPEG  \n",
            "  inflating: ./images/images/n02172182/n02172182_82.JPEG  \n",
            "  inflating: ./images/images/n02172182/n02172182_8200.JPEG  \n",
            "  inflating: ./images/images/n02172182/n02172182_8215.JPEG  \n",
            "  inflating: ./images/images/n02172182/n02172182_8245.JPEG  \n",
            "  inflating: ./images/images/n02172182/n02172182_8255.JPEG  \n",
            "  inflating: ./images/images/n02172182/n02172182_827.JPEG  \n",
            "  inflating: ./images/images/n02172182/n02172182_829.JPEG  \n",
            "  inflating: ./images/images/n02172182/n02172182_8314.JPEG  \n",
            "  inflating: ./images/images/n02172182/n02172182_8413.JPEG  \n",
            "  inflating: ./images/images/n02172182/n02172182_843.JPEG  \n",
            "  inflating: ./images/images/n02172182/n02172182_8440.JPEG  \n",
            "  inflating: ./images/images/n02172182/n02172182_8562.JPEG  \n",
            "  inflating: ./images/images/n02172182/n02172182_857.JPEG  \n",
            "  inflating: ./images/images/n02172182/n02172182_8582.JPEG  \n",
            "  inflating: ./images/images/n02172182/n02172182_86.JPEG  \n",
            "  inflating: ./images/images/n02172182/n02172182_8632.JPEG  \n",
            "  inflating: ./images/images/n02172182/n02172182_8634.JPEG  \n",
            "  inflating: ./images/images/n02172182/n02172182_864.JPEG  \n",
            "  inflating: ./images/images/n02172182/n02172182_868.JPEG  \n",
            "  inflating: ./images/images/n02172182/n02172182_8706.JPEG  \n",
            "  inflating: ./images/images/n02172182/n02172182_8737.JPEG  \n",
            "  inflating: ./images/images/n02172182/n02172182_8813.JPEG  \n",
            "  inflating: ./images/images/n02172182/n02172182_8816.JPEG  \n",
            "  inflating: ./images/images/n02172182/n02172182_8849.JPEG  \n",
            "  inflating: ./images/images/n02172182/n02172182_8889.JPEG  \n",
            "  inflating: ./images/images/n02172182/n02172182_8911.JPEG  \n",
            "  inflating: ./images/images/n02172182/n02172182_8921.JPEG  \n",
            "  inflating: ./images/images/n02172182/n02172182_896.JPEG  \n",
            "  inflating: ./images/images/n02172182/n02172182_8983.JPEG  \n",
            "  inflating: ./images/images/n02172182/n02172182_899.JPEG  \n",
            "  inflating: ./images/images/n02172182/n02172182_8997.JPEG  \n",
            "  inflating: ./images/images/n02172182/n02172182_901.JPEG  \n",
            "  inflating: ./images/images/n02172182/n02172182_9018.JPEG  \n",
            "  inflating: ./images/images/n02172182/n02172182_903.JPEG  \n",
            "  inflating: ./images/images/n02172182/n02172182_9084.JPEG  \n",
            "  inflating: ./images/images/n02172182/n02172182_910.JPEG  \n",
            "  inflating: ./images/images/n02172182/n02172182_911.JPEG  \n",
            "  inflating: ./images/images/n02172182/n02172182_9118.JPEG  \n",
            "  inflating: ./images/images/n02172182/n02172182_914.JPEG  \n",
            "  inflating: ./images/images/n02172182/n02172182_9144.JPEG  \n",
            "  inflating: ./images/images/n02172182/n02172182_917.JPEG  \n",
            "  inflating: ./images/images/n02172182/n02172182_9198.JPEG  \n",
            "  inflating: ./images/images/n02172182/n02172182_92.JPEG  \n",
            "  inflating: ./images/images/n02172182/n02172182_9230.JPEG  \n",
            "  inflating: ./images/images/n02172182/n02172182_9251.JPEG  \n",
            "  inflating: ./images/images/n02172182/n02172182_926.JPEG  \n",
            "  inflating: ./images/images/n02172182/n02172182_933.JPEG  \n",
            "  inflating: ./images/images/n02172182/n02172182_939.JPEG  \n",
            "  inflating: ./images/images/n02172182/n02172182_9412.JPEG  \n",
            "  inflating: ./images/images/n02172182/n02172182_9413.JPEG  \n",
            "  inflating: ./images/images/n02172182/n02172182_9433.JPEG  \n",
            "  inflating: ./images/images/n02172182/n02172182_947.JPEG  \n",
            "  inflating: ./images/images/n02172182/n02172182_9470.JPEG  \n",
            "  inflating: ./images/images/n02172182/n02172182_95.JPEG  \n",
            "  inflating: ./images/images/n02172182/n02172182_9501.JPEG  \n",
            "  inflating: ./images/images/n02172182/n02172182_951.JPEG  \n",
            "  inflating: ./images/images/n02172182/n02172182_9515.JPEG  \n",
            "  inflating: ./images/images/n02172182/n02172182_954.JPEG  \n",
            "  inflating: ./images/images/n02172182/n02172182_9549.JPEG  \n",
            "  inflating: ./images/images/n02172182/n02172182_9589.JPEG  \n",
            "  inflating: ./images/images/n02172182/n02172182_959.JPEG  \n",
            "  inflating: ./images/images/n02172182/n02172182_9674.JPEG  \n",
            "  inflating: ./images/images/n02172182/n02172182_970.JPEG  \n",
            "  inflating: ./images/images/n02172182/n02172182_9730.JPEG  \n",
            "  inflating: ./images/images/n02172182/n02172182_974.JPEG  \n",
            "  inflating: ./images/images/n02172182/n02172182_9765.JPEG  \n",
            "  inflating: ./images/images/n02172182/n02172182_9789.JPEG  \n",
            "  inflating: ./images/images/n02172182/n02172182_98.JPEG  \n",
            "  inflating: ./images/images/n02172182/n02172182_981.JPEG  \n",
            "  inflating: ./images/images/n02172182/n02172182_9821.JPEG  \n",
            "  inflating: ./images/images/n02172182/n02172182_984.JPEG  \n",
            "  inflating: ./images/images/n02172182/n02172182_9842.JPEG  \n",
            "  inflating: ./images/images/n02172182/n02172182_9856.JPEG  \n",
            "  inflating: ./images/images/n02172182/n02172182_989.JPEG  \n",
            "  inflating: ./images/images/n02172182/n02172182_993.JPEG  \n",
            "  inflating: ./images/images/n02172182/n02172182_9953.JPEG  \n",
            "  inflating: ./images/images/n02172182/n02172182_997.JPEG  \n",
            "  inflating: ./images/images/n02172182/n02172182_998.JPEG  \n",
            "  inflating: ./images/images/n02172182/n02172182_9982.JPEG  \n",
            "  inflating: ./images/test.txt       \n",
            "  inflating: ./images/train.txt      \n",
            "  inflating: ./images/val.txt        \n"
          ]
        }
      ]
    },
    {
      "cell_type": "markdown",
      "source": [
        "#Read txt"
      ],
      "metadata": {
        "id": "OGoEeYm7u6-K"
      }
    },
    {
      "cell_type": "code",
      "source": [
        "train = open(\"/content/images/train.txt\",\"r\")\n",
        "train_file = train.readlines()\n",
        "train.close"
      ],
      "metadata": {
        "colab": {
          "base_uri": "https://localhost:8080/"
        },
        "outputId": "3751c2c6-9b54-48c6-cd23-437b38d8e9f9",
        "id": "q9n5xJQwvKTM"
      },
      "execution_count": null,
      "outputs": [
        {
          "output_type": "execute_result",
          "data": {
            "text/plain": [
              "<function TextIOWrapper.close()>"
            ]
          },
          "metadata": {},
          "execution_count": 10
        }
      ]
    },
    {
      "cell_type": "code",
      "source": [
        "test = open(\"/content/images/test.txt\",\"r\")\n",
        "test_file = test.readlines()\n",
        "test.close"
      ],
      "metadata": {
        "colab": {
          "base_uri": "https://localhost:8080/"
        },
        "outputId": "7ee429e9-dab7-42c5-fe1b-e0131f653566",
        "id": "LkhkM2PFvKAU"
      },
      "execution_count": null,
      "outputs": [
        {
          "output_type": "execute_result",
          "data": {
            "text/plain": [
              "<function TextIOWrapper.close()>"
            ]
          },
          "metadata": {},
          "execution_count": 11
        }
      ]
    },
    {
      "cell_type": "code",
      "source": [
        "val = open(\"/content/images/val.txt\",\"r\")\n",
        "val_file = val.readlines()\n",
        "val.close"
      ],
      "metadata": {
        "colab": {
          "base_uri": "https://localhost:8080/"
        },
        "id": "Cc8X553uMZqo",
        "outputId": "ad52f91d-e491-4e24-e233-30c2f4785ff4"
      },
      "execution_count": null,
      "outputs": [
        {
          "output_type": "execute_result",
          "data": {
            "text/plain": [
              "<function TextIOWrapper.close()>"
            ]
          },
          "metadata": {},
          "execution_count": 12
        }
      ]
    },
    {
      "cell_type": "markdown",
      "source": [
        "#Computational graph"
      ],
      "metadata": {
        "id": "WiFTxs9ovhTz"
      }
    },
    {
      "cell_type": "markdown",
      "source": [
        "##type 1"
      ],
      "metadata": {
        "id": "Zlzx-P-REmOE"
      }
    },
    {
      "cell_type": "code",
      "source": [
        "w1 = randn(100,128*128)\n",
        "w2 = randn(50,100)\n",
        "\n",
        "\n",
        "for l in range(200):\n",
        "  for i in tqdm(range(len(train_file))):\n",
        "    (a1,a2) = train_file[i].strip().split()\n",
        "    img = cv2.imread(f'/content/images/{a1}',cv2.IMREAD_GRAYSCALE)\n",
        "    image = cv2.resize(img,(128,128))\n",
        "    x = image.reshape(128*128,1)\n",
        "    f1 = w1.dot(x)\n",
        "    for ii in range(len(f1)):\n",
        "      if f1[ii] > 0:\n",
        "        pass\n",
        "      else:\n",
        "        f1[ii] = 0\n",
        "    f = w2.dot(f1)\n",
        "    y = np.zeros([50,1])\n",
        "    y[int(a2)] = int(1)\n",
        "  \n",
        "    grad_y_pred = f - y\n",
        "    grad_w2 = grad_y_pred.dot(f1.T)\n",
        "    grad_f1 = w2.T.dot(grad_y_pred)\n",
        "    for ll in range(len(f1)):\n",
        "      if f1[ll] > 0:\n",
        "        pass\n",
        "      else:\n",
        "        grad_f1[ll] = 0\n",
        "\n",
        "    grad_w1 = f1.dot(x.T)\n",
        "\n",
        "    w1 -= 0.0001 * grad_w1\n",
        "    w2 -= 0.0001 * grad_w2\n",
        "print(l)"
      ],
      "metadata": {
        "id": "zQP6TS-Rvp97"
      },
      "execution_count": null,
      "outputs": []
    },
    {
      "cell_type": "code",
      "source": [
        "np.save('w1.npy', w1)\n",
        "np.save('w2.npy', w2)"
      ],
      "metadata": {
        "id": "jQUV-e_70kWM"
      },
      "execution_count": null,
      "outputs": []
    },
    {
      "cell_type": "markdown",
      "source": [
        "##type 2"
      ],
      "metadata": {
        "id": "2Gj5I3L9Eqrw"
      }
    },
    {
      "cell_type": "code",
      "source": [
        "x_list = []\n",
        "y_list = []\n",
        "\n",
        "for l in tqdm(range(len(train_file))):\n",
        "  (a1,a2) = train_file[l].strip().split()\n",
        "  filename = cv2.imread(f'/content/images/{a1}',cv2.IMREAD_GRAYSCALE)\n",
        "  image = cv2.resize(filename,(64,64))\n",
        "  img = image.reshape(1,64*64)\n",
        "  x_list.append(img)\n",
        "  label = np.zeros([1,50])\n",
        "  label[0,int(a2)] = int(1)\n",
        "  y_list.append(label)"
      ],
      "metadata": {
        "colab": {
          "base_uri": "https://localhost:8080/"
        },
        "id": "8TY9P1CH-Nfw",
        "outputId": "b015a351-2305-4671-97f3-0f42eaf6ff18"
      },
      "execution_count": null,
      "outputs": [
        {
          "output_type": "stream",
          "name": "stderr",
          "text": [
            "100%|██████████| 63325/63325 [00:55<00:00, 1150.99it/s]\n"
          ]
        }
      ]
    },
    {
      "cell_type": "code",
      "source": [
        "w1 = random.rand(64*64,100)\n",
        "w2 = random.rand(100,50)\n",
        "x1 = np.array(x_list)\n",
        "y1 = np.array(y_list)\n",
        "x = x1.reshape(63325,4096)\n",
        "y = y1.reshape(63325,50)\n",
        "g_f1 = np.empty((63325,100))\n",
        "\n",
        "\n",
        "for q in tqdm(range(200)):\n",
        "  f1 = x.dot(w1)\n",
        "  for i in range(f1.shape[0]):\n",
        "    for ii in range(f1.shape[1]):\n",
        "      if f1[i,ii] > 0:\n",
        "        pass\n",
        "      else:\n",
        "        f1[i,ii] = 0\n",
        "  f = f1.dot(w2)\n",
        "  loss = np.square(f - y).sum()\n",
        "  print(q,loss)\n",
        "  \n",
        "  grad_y_pred = f - y\n",
        "  grad_w2 = 2*f1.T.dot(grad_y_pred)\n",
        "  grad_f1 = grad_y_pred.dot(2*w2.T)\n",
        "  for l in range(f1.shape[0]):\n",
        "    dx = np.zeros((100,100))\n",
        "    for ll in range(f1.shape[1]):\n",
        "      if f1[l,ll] > 0:\n",
        "        dx[ll,ll] = 1\n",
        "      else:\n",
        "        pass\n",
        "    g_f1[l] = grad_f1[l].dot(dx)\n",
        "\n",
        "  grad_w1 = 2*x.T.dot(g_f1)\n",
        "\n",
        "  w1 -= 0.0001 * grad_w1\n",
        "  w2 -= 0.0001 * grad_w2"
      ],
      "metadata": {
        "colab": {
          "base_uri": "https://localhost:8080/"
        },
        "id": "Ic2hStSb_9xv",
        "outputId": "e63d6d0c-10dc-46ec-defb-b2f551b4c783"
      },
      "execution_count": null,
      "outputs": [
        {
          "output_type": "stream",
          "name": "stderr",
          "text": [
            "\r  0%|          | 0/200 [00:00<?, ?it/s]"
          ]
        },
        {
          "output_type": "stream",
          "name": "stdout",
          "text": [
            "0 4.784447237127025e+20\n"
          ]
        },
        {
          "output_type": "stream",
          "name": "stderr",
          "text": [
            "\r  0%|          | 1/200 [00:23<1:16:52, 23.18s/it]"
          ]
        },
        {
          "output_type": "stream",
          "name": "stdout",
          "text": [
            "1 63325.0\n"
          ]
        },
        {
          "output_type": "stream",
          "name": "stderr",
          "text": [
            "\r  1%|          | 2/200 [00:43<1:11:28, 21.66s/it]"
          ]
        },
        {
          "output_type": "stream",
          "name": "stdout",
          "text": [
            "2 63325.0\n"
          ]
        },
        {
          "output_type": "stream",
          "name": "stderr",
          "text": [
            "\r  2%|▏         | 3/200 [01:03<1:08:40, 20.91s/it]"
          ]
        },
        {
          "output_type": "stream",
          "name": "stdout",
          "text": [
            "3 63325.0\n"
          ]
        },
        {
          "output_type": "stream",
          "name": "stderr",
          "text": [
            "\r  2%|▏         | 4/200 [01:23<1:06:33, 20.38s/it]"
          ]
        },
        {
          "output_type": "stream",
          "name": "stdout",
          "text": [
            "4 63325.0\n"
          ]
        },
        {
          "output_type": "stream",
          "name": "stderr",
          "text": [
            "\r  2%|▎         | 5/200 [01:44<1:06:47, 20.55s/it]"
          ]
        },
        {
          "output_type": "stream",
          "name": "stdout",
          "text": [
            "5 63325.0\n"
          ]
        },
        {
          "output_type": "stream",
          "name": "stderr",
          "text": [
            "\r  3%|▎         | 6/200 [02:03<1:05:31, 20.26s/it]"
          ]
        },
        {
          "output_type": "stream",
          "name": "stdout",
          "text": [
            "6 63325.0\n"
          ]
        },
        {
          "output_type": "stream",
          "name": "stderr",
          "text": [
            "\r  4%|▎         | 7/200 [02:23<1:04:06, 19.93s/it]"
          ]
        },
        {
          "output_type": "stream",
          "name": "stdout",
          "text": [
            "7 63325.0\n"
          ]
        },
        {
          "output_type": "stream",
          "name": "stderr",
          "text": [
            "\r  4%|▍         | 8/200 [02:44<1:05:09, 20.36s/it]"
          ]
        },
        {
          "output_type": "stream",
          "name": "stdout",
          "text": [
            "8 63325.0\n"
          ]
        },
        {
          "output_type": "stream",
          "name": "stderr",
          "text": [
            "\r  4%|▍         | 9/200 [03:04<1:04:15, 20.19s/it]"
          ]
        },
        {
          "output_type": "stream",
          "name": "stdout",
          "text": [
            "9 63325.0\n"
          ]
        },
        {
          "output_type": "stream",
          "name": "stderr",
          "text": [
            "\r  5%|▌         | 10/200 [03:23<1:03:03, 19.92s/it]"
          ]
        },
        {
          "output_type": "stream",
          "name": "stdout",
          "text": [
            "10 63325.0\n"
          ]
        },
        {
          "output_type": "stream",
          "name": "stderr",
          "text": [
            "\r  6%|▌         | 11/200 [03:44<1:03:57, 20.30s/it]"
          ]
        },
        {
          "output_type": "stream",
          "name": "stdout",
          "text": [
            "11 63325.0\n"
          ]
        },
        {
          "output_type": "stream",
          "name": "stderr",
          "text": [
            "\r  6%|▌         | 12/200 [04:04<1:03:32, 20.28s/it]"
          ]
        },
        {
          "output_type": "stream",
          "name": "stdout",
          "text": [
            "12 63325.0\n"
          ]
        },
        {
          "output_type": "stream",
          "name": "stderr",
          "text": [
            "\r  6%|▋         | 13/200 [04:24<1:02:14, 19.97s/it]"
          ]
        },
        {
          "output_type": "stream",
          "name": "stdout",
          "text": [
            "13 63325.0\n"
          ]
        },
        {
          "output_type": "stream",
          "name": "stderr",
          "text": [
            "\r  7%|▋         | 14/200 [04:45<1:02:56, 20.30s/it]"
          ]
        },
        {
          "output_type": "stream",
          "name": "stdout",
          "text": [
            "14 63325.0\n"
          ]
        },
        {
          "output_type": "stream",
          "name": "stderr",
          "text": [
            "\r  8%|▊         | 15/200 [05:06<1:03:05, 20.46s/it]"
          ]
        },
        {
          "output_type": "stream",
          "name": "stdout",
          "text": [
            "15 63325.0\n"
          ]
        },
        {
          "output_type": "stream",
          "name": "stderr",
          "text": [
            "\r  8%|▊         | 16/200 [05:25<1:01:39, 20.11s/it]"
          ]
        },
        {
          "output_type": "stream",
          "name": "stdout",
          "text": [
            "16 63325.0\n"
          ]
        },
        {
          "output_type": "stream",
          "name": "stderr",
          "text": [
            "\r  8%|▊         | 17/200 [05:46<1:02:03, 20.35s/it]"
          ]
        },
        {
          "output_type": "stream",
          "name": "stdout",
          "text": [
            "17 63325.0\n"
          ]
        },
        {
          "output_type": "stream",
          "name": "stderr",
          "text": [
            "\r  9%|▉         | 18/200 [06:06<1:01:25, 20.25s/it]"
          ]
        },
        {
          "output_type": "stream",
          "name": "stdout",
          "text": [
            "18 63325.0\n"
          ]
        },
        {
          "output_type": "stream",
          "name": "stderr",
          "text": [
            "\r 10%|▉         | 19/200 [06:26<1:00:38, 20.10s/it]"
          ]
        },
        {
          "output_type": "stream",
          "name": "stdout",
          "text": [
            "19 63325.0\n"
          ]
        },
        {
          "output_type": "stream",
          "name": "stderr",
          "text": [
            "\r 10%|█         | 20/200 [06:46<1:01:01, 20.34s/it]"
          ]
        },
        {
          "output_type": "stream",
          "name": "stdout",
          "text": [
            "20 63325.0\n"
          ]
        },
        {
          "output_type": "stream",
          "name": "stderr",
          "text": [
            "\r 10%|█         | 21/200 [07:06<1:00:15, 20.20s/it]"
          ]
        },
        {
          "output_type": "stream",
          "name": "stdout",
          "text": [
            "21 63325.0\n"
          ]
        },
        {
          "output_type": "stream",
          "name": "stderr",
          "text": [
            "\r 11%|█         | 22/200 [07:26<59:14, 19.97s/it]  "
          ]
        },
        {
          "output_type": "stream",
          "name": "stdout",
          "text": [
            "22 63325.0\n"
          ]
        },
        {
          "output_type": "stream",
          "name": "stderr",
          "text": [
            "\r 12%|█▏        | 23/200 [07:47<59:44, 20.25s/it]"
          ]
        },
        {
          "output_type": "stream",
          "name": "stdout",
          "text": [
            "23 63325.0\n"
          ]
        },
        {
          "output_type": "stream",
          "name": "stderr",
          "text": [
            "\r 12%|█▏        | 24/200 [08:06<58:58, 20.10s/it]"
          ]
        },
        {
          "output_type": "stream",
          "name": "stdout",
          "text": [
            "24 63325.0\n"
          ]
        },
        {
          "output_type": "stream",
          "name": "stderr",
          "text": [
            "\r 12%|█▎        | 25/200 [08:32<1:03:13, 21.68s/it]"
          ]
        },
        {
          "output_type": "stream",
          "name": "stdout",
          "text": [
            "25 63325.0\n"
          ]
        },
        {
          "output_type": "stream",
          "name": "stderr",
          "text": [
            "\r 13%|█▎        | 26/200 [08:52<1:01:31, 21.22s/it]"
          ]
        },
        {
          "output_type": "stream",
          "name": "stdout",
          "text": [
            "26 63325.0\n"
          ]
        },
        {
          "output_type": "stream",
          "name": "stderr",
          "text": [
            "\r 14%|█▎        | 27/200 [09:12<59:44, 20.72s/it]  "
          ]
        },
        {
          "output_type": "stream",
          "name": "stdout",
          "text": [
            "27 63325.0\n"
          ]
        },
        {
          "output_type": "stream",
          "name": "stderr",
          "text": [
            "\r 14%|█▍        | 28/200 [09:33<59:39, 20.81s/it]"
          ]
        },
        {
          "output_type": "stream",
          "name": "stdout",
          "text": [
            "28 63325.0\n"
          ]
        },
        {
          "output_type": "stream",
          "name": "stderr",
          "text": [
            "\r 14%|█▍        | 29/200 [09:53<58:41, 20.59s/it]"
          ]
        },
        {
          "output_type": "stream",
          "name": "stdout",
          "text": [
            "29 63325.0\n"
          ]
        },
        {
          "output_type": "stream",
          "name": "stderr",
          "text": [
            "\r 15%|█▌        | 30/200 [10:13<57:54, 20.44s/it]"
          ]
        },
        {
          "output_type": "stream",
          "name": "stdout",
          "text": [
            "30 63325.0\n"
          ]
        },
        {
          "output_type": "stream",
          "name": "stderr",
          "text": [
            "\r 16%|█▌        | 31/200 [10:34<58:17, 20.69s/it]"
          ]
        },
        {
          "output_type": "stream",
          "name": "stdout",
          "text": [
            "31 63325.0\n"
          ]
        },
        {
          "output_type": "stream",
          "name": "stderr",
          "text": [
            "\r 16%|█▌        | 32/200 [10:54<57:15, 20.45s/it]"
          ]
        },
        {
          "output_type": "stream",
          "name": "stdout",
          "text": [
            "32 63325.0\n"
          ]
        },
        {
          "output_type": "stream",
          "name": "stderr",
          "text": [
            "\r 16%|█▋        | 33/200 [11:14<56:31, 20.31s/it]"
          ]
        },
        {
          "output_type": "stream",
          "name": "stdout",
          "text": [
            "33 63325.0\n"
          ]
        },
        {
          "output_type": "stream",
          "name": "stderr",
          "text": [
            "\r 17%|█▋        | 34/200 [11:35<56:50, 20.54s/it]"
          ]
        },
        {
          "output_type": "stream",
          "name": "stdout",
          "text": [
            "34 63325.0\n"
          ]
        },
        {
          "output_type": "stream",
          "name": "stderr",
          "text": [
            "\r 18%|█▊        | 35/200 [11:55<56:01, 20.37s/it]"
          ]
        },
        {
          "output_type": "stream",
          "name": "stdout",
          "text": [
            "35 63325.0\n"
          ]
        },
        {
          "output_type": "stream",
          "name": "stderr",
          "text": [
            "\r 18%|█▊        | 36/200 [12:15<55:17, 20.23s/it]"
          ]
        },
        {
          "output_type": "stream",
          "name": "stdout",
          "text": [
            "36 63325.0\n"
          ]
        },
        {
          "output_type": "stream",
          "name": "stderr",
          "text": [
            "\r 18%|█▊        | 37/200 [12:36<55:25, 20.40s/it]"
          ]
        },
        {
          "output_type": "stream",
          "name": "stdout",
          "text": [
            "37 63325.0\n"
          ]
        },
        {
          "output_type": "stream",
          "name": "stderr",
          "text": [
            "\r 19%|█▉        | 38/200 [12:56<54:48, 20.30s/it]"
          ]
        },
        {
          "output_type": "stream",
          "name": "stdout",
          "text": [
            "38 63325.0\n"
          ]
        },
        {
          "output_type": "stream",
          "name": "stderr",
          "text": [
            "\r 20%|█▉        | 39/200 [13:15<53:58, 20.11s/it]"
          ]
        },
        {
          "output_type": "stream",
          "name": "stdout",
          "text": [
            "39 63325.0\n"
          ]
        },
        {
          "output_type": "stream",
          "name": "stderr",
          "text": [
            "\r 20%|██        | 40/200 [13:36<54:03, 20.27s/it]"
          ]
        },
        {
          "output_type": "stream",
          "name": "stdout",
          "text": [
            "40 63325.0\n"
          ]
        },
        {
          "output_type": "stream",
          "name": "stderr",
          "text": [
            "\r 20%|██        | 41/200 [13:56<53:23, 20.15s/it]"
          ]
        },
        {
          "output_type": "stream",
          "name": "stdout",
          "text": [
            "41 63325.0\n"
          ]
        },
        {
          "output_type": "stream",
          "name": "stderr",
          "text": [
            "\r 21%|██        | 42/200 [14:16<52:47, 20.05s/it]"
          ]
        },
        {
          "output_type": "stream",
          "name": "stdout",
          "text": [
            "42 63325.0\n"
          ]
        },
        {
          "output_type": "stream",
          "name": "stderr",
          "text": [
            "\r 22%|██▏       | 43/200 [14:35<52:15, 19.97s/it]"
          ]
        },
        {
          "output_type": "stream",
          "name": "stdout",
          "text": [
            "43 63325.0\n"
          ]
        },
        {
          "output_type": "stream",
          "name": "stderr",
          "text": [
            "\r 22%|██▏       | 44/200 [14:56<52:25, 20.16s/it]"
          ]
        },
        {
          "output_type": "stream",
          "name": "stdout",
          "text": [
            "44 63325.0\n"
          ]
        },
        {
          "output_type": "stream",
          "name": "stderr",
          "text": [
            "\r 22%|██▎       | 45/200 [15:16<51:41, 20.01s/it]"
          ]
        },
        {
          "output_type": "stream",
          "name": "stdout",
          "text": [
            "45 63325.0\n"
          ]
        },
        {
          "output_type": "stream",
          "name": "stderr",
          "text": [
            "\r 23%|██▎       | 46/200 [15:36<51:13, 19.96s/it]"
          ]
        },
        {
          "output_type": "stream",
          "name": "stdout",
          "text": [
            "46 63325.0\n"
          ]
        },
        {
          "output_type": "stream",
          "name": "stderr",
          "text": [
            "\r 24%|██▎       | 47/200 [15:56<51:10, 20.07s/it]"
          ]
        },
        {
          "output_type": "stream",
          "name": "stdout",
          "text": [
            "47 63325.0\n"
          ]
        },
        {
          "output_type": "stream",
          "name": "stderr",
          "text": [
            "\r 24%|██▍       | 48/200 [16:16<50:38, 19.99s/it]"
          ]
        },
        {
          "output_type": "stream",
          "name": "stdout",
          "text": [
            "48 63325.0\n"
          ]
        },
        {
          "output_type": "stream",
          "name": "stderr",
          "text": [
            "\r 24%|██▍       | 49/200 [16:36<50:17, 19.99s/it]"
          ]
        },
        {
          "output_type": "stream",
          "name": "stdout",
          "text": [
            "49 63325.0\n"
          ]
        },
        {
          "output_type": "stream",
          "name": "stderr",
          "text": [
            "\r 25%|██▌       | 50/200 [16:56<50:29, 20.20s/it]"
          ]
        },
        {
          "output_type": "stream",
          "name": "stdout",
          "text": [
            "50 63325.0\n"
          ]
        },
        {
          "output_type": "stream",
          "name": "stderr",
          "text": [
            "\r 26%|██▌       | 51/200 [17:16<49:39, 19.99s/it]"
          ]
        },
        {
          "output_type": "stream",
          "name": "stdout",
          "text": [
            "51 63325.0\n"
          ]
        },
        {
          "output_type": "stream",
          "name": "stderr",
          "text": [
            "\r 26%|██▌       | 52/200 [17:36<49:06, 19.91s/it]"
          ]
        },
        {
          "output_type": "stream",
          "name": "stdout",
          "text": [
            "52 63325.0\n"
          ]
        },
        {
          "output_type": "stream",
          "name": "stderr",
          "text": [
            "\r 26%|██▋       | 53/200 [17:56<49:21, 20.15s/it]"
          ]
        },
        {
          "output_type": "stream",
          "name": "stdout",
          "text": [
            "53 63325.0\n"
          ]
        },
        {
          "output_type": "stream",
          "name": "stderr",
          "text": [
            "\r 27%|██▋       | 54/200 [18:16<48:55, 20.10s/it]"
          ]
        },
        {
          "output_type": "stream",
          "name": "stdout",
          "text": [
            "54 63325.0\n"
          ]
        },
        {
          "output_type": "stream",
          "name": "stderr",
          "text": [
            "\r 28%|██▊       | 55/200 [18:41<51:41, 21.39s/it]"
          ]
        },
        {
          "output_type": "stream",
          "name": "stdout",
          "text": [
            "55 63325.0\n"
          ]
        },
        {
          "output_type": "stream",
          "name": "stderr",
          "text": [
            "\r 28%|██▊       | 56/200 [19:02<50:58, 21.24s/it]"
          ]
        },
        {
          "output_type": "stream",
          "name": "stdout",
          "text": [
            "56 63325.0\n"
          ]
        },
        {
          "output_type": "stream",
          "name": "stderr",
          "text": [
            "\r 28%|██▊       | 57/200 [19:22<49:49, 20.91s/it]"
          ]
        },
        {
          "output_type": "stream",
          "name": "stdout",
          "text": [
            "57 63325.0\n"
          ]
        },
        {
          "output_type": "stream",
          "name": "stderr",
          "text": [
            "\r 29%|██▉       | 58/200 [19:43<49:39, 20.98s/it]"
          ]
        },
        {
          "output_type": "stream",
          "name": "stdout",
          "text": [
            "58 63325.0\n"
          ]
        },
        {
          "output_type": "stream",
          "name": "stderr",
          "text": [
            "\r 30%|██▉       | 59/200 [20:04<49:45, 21.17s/it]"
          ]
        },
        {
          "output_type": "stream",
          "name": "stdout",
          "text": [
            "59 63325.0\n"
          ]
        },
        {
          "output_type": "stream",
          "name": "stderr",
          "text": [
            "\r 30%|███       | 60/200 [20:25<49:14, 21.11s/it]"
          ]
        },
        {
          "output_type": "stream",
          "name": "stdout",
          "text": [
            "60 63325.0\n"
          ]
        },
        {
          "output_type": "stream",
          "name": "stderr",
          "text": [
            "\r 30%|███       | 61/200 [20:48<49:42, 21.46s/it]"
          ]
        },
        {
          "output_type": "stream",
          "name": "stdout",
          "text": [
            "61 63325.0\n"
          ]
        },
        {
          "output_type": "stream",
          "name": "stderr",
          "text": [
            "\r 31%|███       | 62/200 [21:09<49:20, 21.45s/it]"
          ]
        },
        {
          "output_type": "stream",
          "name": "stdout",
          "text": [
            "62 63325.0\n"
          ]
        },
        {
          "output_type": "stream",
          "name": "stderr",
          "text": [
            "\r 32%|███▏      | 63/200 [21:31<49:20, 21.61s/it]"
          ]
        },
        {
          "output_type": "stream",
          "name": "stdout",
          "text": [
            "63 63325.0\n"
          ]
        },
        {
          "output_type": "stream",
          "name": "stderr",
          "text": [
            "\r 32%|███▏      | 64/200 [21:53<48:51, 21.55s/it]"
          ]
        },
        {
          "output_type": "stream",
          "name": "stdout",
          "text": [
            "64 63325.0\n"
          ]
        },
        {
          "output_type": "stream",
          "name": "stderr",
          "text": [
            "\r 32%|███▎      | 65/200 [22:14<48:14, 21.44s/it]"
          ]
        },
        {
          "output_type": "stream",
          "name": "stdout",
          "text": [
            "65 63325.0\n"
          ]
        },
        {
          "output_type": "stream",
          "name": "stderr",
          "text": [
            "\r 33%|███▎      | 66/200 [22:35<48:04, 21.53s/it]"
          ]
        },
        {
          "output_type": "stream",
          "name": "stdout",
          "text": [
            "66 63325.0\n"
          ]
        },
        {
          "output_type": "stream",
          "name": "stderr",
          "text": [
            "\r 34%|███▎      | 67/200 [22:56<47:13, 21.30s/it]"
          ]
        },
        {
          "output_type": "stream",
          "name": "stdout",
          "text": [
            "67 63325.0\n"
          ]
        },
        {
          "output_type": "stream",
          "name": "stderr",
          "text": [
            "\r 34%|███▍      | 68/200 [23:19<47:37, 21.64s/it]"
          ]
        },
        {
          "output_type": "stream",
          "name": "stdout",
          "text": [
            "68 63325.0\n"
          ]
        },
        {
          "output_type": "stream",
          "name": "stderr",
          "text": [
            "\r 34%|███▍      | 69/200 [23:40<46:44, 21.41s/it]"
          ]
        },
        {
          "output_type": "stream",
          "name": "stdout",
          "text": [
            "69 63325.0\n"
          ]
        },
        {
          "output_type": "stream",
          "name": "stderr",
          "text": [
            "\r 35%|███▌      | 70/200 [24:01<46:32, 21.48s/it]"
          ]
        },
        {
          "output_type": "stream",
          "name": "stdout",
          "text": [
            "70 63325.0\n"
          ]
        },
        {
          "output_type": "stream",
          "name": "stderr",
          "text": [
            "\r 36%|███▌      | 71/200 [24:23<46:20, 21.55s/it]"
          ]
        },
        {
          "output_type": "stream",
          "name": "stdout",
          "text": [
            "71 63325.0\n"
          ]
        },
        {
          "output_type": "stream",
          "name": "stderr",
          "text": [
            "\r 36%|███▌      | 72/200 [24:44<45:24, 21.28s/it]"
          ]
        },
        {
          "output_type": "stream",
          "name": "stdout",
          "text": [
            "72 63325.0\n"
          ]
        },
        {
          "output_type": "stream",
          "name": "stderr",
          "text": [
            "\r 36%|███▋      | 73/200 [25:05<45:26, 21.47s/it]"
          ]
        },
        {
          "output_type": "stream",
          "name": "stdout",
          "text": [
            "73 63325.0\n"
          ]
        },
        {
          "output_type": "stream",
          "name": "stderr",
          "text": [
            "\r 37%|███▋      | 74/200 [25:27<44:50, 21.36s/it]"
          ]
        },
        {
          "output_type": "stream",
          "name": "stdout",
          "text": [
            "74 63325.0\n"
          ]
        },
        {
          "output_type": "stream",
          "name": "stderr",
          "text": [
            "\r 38%|███▊      | 75/200 [25:49<44:56, 21.57s/it]"
          ]
        },
        {
          "output_type": "stream",
          "name": "stdout",
          "text": [
            "75 63325.0\n"
          ]
        },
        {
          "output_type": "stream",
          "name": "stderr",
          "text": [
            "\r 38%|███▊      | 76/200 [26:10<44:29, 21.53s/it]"
          ]
        },
        {
          "output_type": "stream",
          "name": "stdout",
          "text": [
            "76 63325.0\n"
          ]
        },
        {
          "output_type": "stream",
          "name": "stderr",
          "text": [
            "\r 38%|███▊      | 77/200 [26:31<43:43, 21.33s/it]"
          ]
        },
        {
          "output_type": "stream",
          "name": "stdout",
          "text": [
            "77 63325.0\n"
          ]
        },
        {
          "output_type": "stream",
          "name": "stderr",
          "text": [
            "\r 39%|███▉      | 78/200 [26:53<43:39, 21.47s/it]"
          ]
        },
        {
          "output_type": "stream",
          "name": "stdout",
          "text": [
            "78 63325.0\n"
          ]
        },
        {
          "output_type": "stream",
          "name": "stderr",
          "text": [
            "\r 40%|███▉      | 79/200 [27:14<42:53, 21.27s/it]"
          ]
        },
        {
          "output_type": "stream",
          "name": "stdout",
          "text": [
            "79 63325.0\n"
          ]
        },
        {
          "output_type": "stream",
          "name": "stderr",
          "text": [
            "\r 40%|████      | 80/200 [27:36<43:12, 21.61s/it]"
          ]
        },
        {
          "output_type": "stream",
          "name": "stdout",
          "text": [
            "80 63325.0\n"
          ]
        },
        {
          "output_type": "stream",
          "name": "stderr",
          "text": [
            "\r 40%|████      | 81/200 [27:57<42:27, 21.40s/it]"
          ]
        },
        {
          "output_type": "stream",
          "name": "stdout",
          "text": [
            "81 63325.0\n"
          ]
        },
        {
          "output_type": "stream",
          "name": "stderr",
          "text": [
            "\r 41%|████      | 82/200 [28:18<41:47, 21.25s/it]"
          ]
        },
        {
          "output_type": "stream",
          "name": "stdout",
          "text": [
            "82 63325.0\n"
          ]
        },
        {
          "output_type": "stream",
          "name": "stderr",
          "text": [
            "\r 42%|████▏     | 83/200 [28:44<44:10, 22.65s/it]"
          ]
        },
        {
          "output_type": "stream",
          "name": "stdout",
          "text": [
            "83 63325.0\n"
          ]
        },
        {
          "output_type": "stream",
          "name": "stderr",
          "text": [
            "\r 42%|████▏     | 84/200 [29:05<42:52, 22.18s/it]"
          ]
        },
        {
          "output_type": "stream",
          "name": "stdout",
          "text": [
            "84 63325.0\n"
          ]
        },
        {
          "output_type": "stream",
          "name": "stderr",
          "text": [
            "\r 42%|████▎     | 85/200 [29:27<42:34, 22.22s/it]"
          ]
        },
        {
          "output_type": "stream",
          "name": "stdout",
          "text": [
            "85 63325.0\n"
          ]
        },
        {
          "output_type": "stream",
          "name": "stderr",
          "text": [
            "\r 43%|████▎     | 86/200 [29:48<41:22, 21.78s/it]"
          ]
        },
        {
          "output_type": "stream",
          "name": "stdout",
          "text": [
            "86 63325.0\n"
          ]
        },
        {
          "output_type": "stream",
          "name": "stderr",
          "text": [
            "\r 44%|████▎     | 87/200 [30:10<41:08, 21.85s/it]"
          ]
        },
        {
          "output_type": "stream",
          "name": "stdout",
          "text": [
            "87 63325.0\n"
          ]
        },
        {
          "output_type": "stream",
          "name": "stderr",
          "text": [
            "\r 44%|████▍     | 88/200 [30:31<40:23, 21.64s/it]"
          ]
        },
        {
          "output_type": "stream",
          "name": "stdout",
          "text": [
            "88 63325.0\n"
          ]
        },
        {
          "output_type": "stream",
          "name": "stderr",
          "text": [
            "\r 44%|████▍     | 89/200 [30:51<39:12, 21.19s/it]"
          ]
        },
        {
          "output_type": "stream",
          "name": "stdout",
          "text": [
            "89 63325.0\n"
          ]
        },
        {
          "output_type": "stream",
          "name": "stderr",
          "text": [
            "\r 45%|████▌     | 90/200 [31:13<39:19, 21.45s/it]"
          ]
        },
        {
          "output_type": "stream",
          "name": "stdout",
          "text": [
            "90 63325.0\n"
          ]
        },
        {
          "output_type": "stream",
          "name": "stderr",
          "text": [
            "\r 46%|████▌     | 91/200 [31:34<38:35, 21.24s/it]"
          ]
        },
        {
          "output_type": "stream",
          "name": "stdout",
          "text": [
            "91 63325.0\n"
          ]
        },
        {
          "output_type": "stream",
          "name": "stderr",
          "text": [
            "\r 46%|████▌     | 92/200 [31:56<38:49, 21.57s/it]"
          ]
        },
        {
          "output_type": "stream",
          "name": "stdout",
          "text": [
            "92 63325.0\n"
          ]
        },
        {
          "output_type": "stream",
          "name": "stderr",
          "text": [
            "\r 46%|████▋     | 93/200 [32:17<38:03, 21.34s/it]"
          ]
        },
        {
          "output_type": "stream",
          "name": "stdout",
          "text": [
            "93 63325.0\n"
          ]
        },
        {
          "output_type": "stream",
          "name": "stderr",
          "text": [
            "\r 47%|████▋     | 94/200 [32:38<37:41, 21.33s/it]"
          ]
        },
        {
          "output_type": "stream",
          "name": "stdout",
          "text": [
            "94 63325.0\n"
          ]
        },
        {
          "output_type": "stream",
          "name": "stderr",
          "text": [
            "\r 48%|████▊     | 95/200 [33:01<37:59, 21.71s/it]"
          ]
        },
        {
          "output_type": "stream",
          "name": "stdout",
          "text": [
            "95 63325.0\n"
          ]
        },
        {
          "output_type": "stream",
          "name": "stderr",
          "text": [
            "\r 48%|████▊     | 96/200 [33:22<37:21, 21.55s/it]"
          ]
        },
        {
          "output_type": "stream",
          "name": "stdout",
          "text": [
            "96 63325.0\n"
          ]
        },
        {
          "output_type": "stream",
          "name": "stderr",
          "text": [
            "\r 48%|████▊     | 97/200 [33:45<37:45, 22.00s/it]"
          ]
        },
        {
          "output_type": "stream",
          "name": "stdout",
          "text": [
            "97 63325.0\n"
          ]
        },
        {
          "output_type": "stream",
          "name": "stderr",
          "text": [
            "\r 49%|████▉     | 98/200 [34:06<36:56, 21.73s/it]"
          ]
        },
        {
          "output_type": "stream",
          "name": "stdout",
          "text": [
            "98 63325.0\n"
          ]
        },
        {
          "output_type": "stream",
          "name": "stderr",
          "text": [
            "\r 50%|████▉     | 99/200 [34:27<36:12, 21.51s/it]"
          ]
        },
        {
          "output_type": "stream",
          "name": "stdout",
          "text": [
            "99 63325.0\n"
          ]
        },
        {
          "output_type": "stream",
          "name": "stderr",
          "text": [
            "\r 50%|█████     | 100/200 [34:49<35:54, 21.54s/it]"
          ]
        },
        {
          "output_type": "stream",
          "name": "stdout",
          "text": [
            "100 63325.0\n"
          ]
        },
        {
          "output_type": "stream",
          "name": "stderr",
          "text": [
            "\r 50%|█████     | 101/200 [35:10<35:15, 21.37s/it]"
          ]
        },
        {
          "output_type": "stream",
          "name": "stdout",
          "text": [
            "101 63325.0\n"
          ]
        },
        {
          "output_type": "stream",
          "name": "stderr",
          "text": [
            "\r 51%|█████     | 102/200 [35:33<35:45, 21.90s/it]"
          ]
        },
        {
          "output_type": "stream",
          "name": "stdout",
          "text": [
            "102 63325.0\n"
          ]
        },
        {
          "output_type": "stream",
          "name": "stderr",
          "text": [
            "\r 52%|█████▏    | 103/200 [35:54<34:56, 21.61s/it]"
          ]
        },
        {
          "output_type": "stream",
          "name": "stdout",
          "text": [
            "103 63325.0\n"
          ]
        },
        {
          "output_type": "stream",
          "name": "stderr",
          "text": [
            "\r 52%|█████▏    | 104/200 [36:16<34:33, 21.60s/it]"
          ]
        },
        {
          "output_type": "stream",
          "name": "stdout",
          "text": [
            "104 63325.0\n"
          ]
        },
        {
          "output_type": "stream",
          "name": "stderr",
          "text": [
            "\r 52%|█████▎    | 105/200 [36:38<34:23, 21.73s/it]"
          ]
        },
        {
          "output_type": "stream",
          "name": "stdout",
          "text": [
            "105 63325.0\n"
          ]
        },
        {
          "output_type": "stream",
          "name": "stderr",
          "text": [
            "\r 53%|█████▎    | 106/200 [36:58<33:37, 21.47s/it]"
          ]
        },
        {
          "output_type": "stream",
          "name": "stdout",
          "text": [
            "106 63325.0\n"
          ]
        },
        {
          "output_type": "stream",
          "name": "stderr",
          "text": [
            "\r 54%|█████▎    | 107/200 [37:21<33:48, 21.81s/it]"
          ]
        },
        {
          "output_type": "stream",
          "name": "stdout",
          "text": [
            "107 63325.0\n"
          ]
        },
        {
          "output_type": "stream",
          "name": "stderr",
          "text": [
            "\r 54%|█████▍    | 108/200 [37:42<32:57, 21.49s/it]"
          ]
        },
        {
          "output_type": "stream",
          "name": "stdout",
          "text": [
            "108 63325.0\n"
          ]
        },
        {
          "output_type": "stream",
          "name": "stderr",
          "text": [
            "\r 55%|█████▍    | 109/200 [38:04<32:57, 21.73s/it]"
          ]
        },
        {
          "output_type": "stream",
          "name": "stdout",
          "text": [
            "109 63325.0\n"
          ]
        },
        {
          "output_type": "stream",
          "name": "stderr",
          "text": [
            "\r 55%|█████▌    | 110/200 [38:25<32:03, 21.37s/it]"
          ]
        },
        {
          "output_type": "stream",
          "name": "stdout",
          "text": [
            "110 63325.0\n"
          ]
        },
        {
          "output_type": "stream",
          "name": "stderr",
          "text": [
            "\r 56%|█████▌    | 111/200 [38:48<32:48, 22.11s/it]"
          ]
        },
        {
          "output_type": "stream",
          "name": "stdout",
          "text": [
            "111 63325.0\n"
          ]
        },
        {
          "output_type": "stream",
          "name": "stderr",
          "text": [
            "\r 56%|█████▌    | 112/200 [39:11<32:35, 22.23s/it]"
          ]
        },
        {
          "output_type": "stream",
          "name": "stdout",
          "text": [
            "112 63325.0\n"
          ]
        },
        {
          "output_type": "stream",
          "name": "stderr",
          "text": [
            "\r 56%|█████▋    | 113/200 [39:31<31:28, 21.71s/it]"
          ]
        },
        {
          "output_type": "stream",
          "name": "stdout",
          "text": [
            "113 63325.0\n"
          ]
        },
        {
          "output_type": "stream",
          "name": "stderr",
          "text": [
            "\r 57%|█████▋    | 114/200 [39:54<31:26, 21.94s/it]"
          ]
        },
        {
          "output_type": "stream",
          "name": "stdout",
          "text": [
            "114 63325.0\n"
          ]
        },
        {
          "output_type": "stream",
          "name": "stderr",
          "text": [
            "\r 57%|█████▊    | 115/200 [40:15<30:39, 21.64s/it]"
          ]
        },
        {
          "output_type": "stream",
          "name": "stdout",
          "text": [
            "115 63325.0\n"
          ]
        },
        {
          "output_type": "stream",
          "name": "stderr",
          "text": [
            "\r 58%|█████▊    | 116/200 [40:35<29:47, 21.28s/it]"
          ]
        },
        {
          "output_type": "stream",
          "name": "stdout",
          "text": [
            "116 63325.0\n"
          ]
        },
        {
          "output_type": "stream",
          "name": "stderr",
          "text": [
            "\r 58%|█████▊    | 117/200 [40:57<29:36, 21.41s/it]"
          ]
        },
        {
          "output_type": "stream",
          "name": "stdout",
          "text": [
            "117 63325.0\n"
          ]
        },
        {
          "output_type": "stream",
          "name": "stderr",
          "text": [
            "\r 59%|█████▉    | 118/200 [41:18<28:57, 21.19s/it]"
          ]
        },
        {
          "output_type": "stream",
          "name": "stdout",
          "text": [
            "118 63325.0\n"
          ]
        },
        {
          "output_type": "stream",
          "name": "stderr",
          "text": [
            "\r 60%|█████▉    | 119/200 [41:41<29:16, 21.69s/it]"
          ]
        },
        {
          "output_type": "stream",
          "name": "stdout",
          "text": [
            "119 63325.0\n"
          ]
        },
        {
          "output_type": "stream",
          "name": "stderr",
          "text": [
            "\r 60%|██████    | 120/200 [42:01<28:31, 21.39s/it]"
          ]
        },
        {
          "output_type": "stream",
          "name": "stdout",
          "text": [
            "120 63325.0\n"
          ]
        },
        {
          "output_type": "stream",
          "name": "stderr",
          "text": [
            "\r 60%|██████    | 121/200 [42:23<28:11, 21.41s/it]"
          ]
        },
        {
          "output_type": "stream",
          "name": "stdout",
          "text": [
            "121 63325.0\n"
          ]
        },
        {
          "output_type": "stream",
          "name": "stderr",
          "text": [
            "\r 61%|██████    | 122/200 [42:44<27:53, 21.46s/it]"
          ]
        },
        {
          "output_type": "stream",
          "name": "stdout",
          "text": [
            "122 63325.0\n"
          ]
        },
        {
          "output_type": "stream",
          "name": "stderr",
          "text": [
            "\r 62%|██████▏   | 123/200 [43:06<27:33, 21.48s/it]"
          ]
        },
        {
          "output_type": "stream",
          "name": "stdout",
          "text": [
            "123 63325.0\n"
          ]
        },
        {
          "output_type": "stream",
          "name": "stderr",
          "text": [
            "\r 62%|██████▏   | 124/200 [43:28<27:38, 21.83s/it]"
          ]
        },
        {
          "output_type": "stream",
          "name": "stdout",
          "text": [
            "124 63325.0\n"
          ]
        },
        {
          "output_type": "stream",
          "name": "stderr",
          "text": [
            "\r 62%|██████▎   | 125/200 [43:49<26:52, 21.50s/it]"
          ]
        },
        {
          "output_type": "stream",
          "name": "stdout",
          "text": [
            "125 63325.0\n"
          ]
        },
        {
          "output_type": "stream",
          "name": "stderr",
          "text": [
            "\r 63%|██████▎   | 126/200 [44:11<26:38, 21.60s/it]"
          ]
        },
        {
          "output_type": "stream",
          "name": "stdout",
          "text": [
            "126 63325.0\n"
          ]
        },
        {
          "output_type": "stream",
          "name": "stderr",
          "text": [
            "\r 64%|██████▎   | 127/200 [44:32<26:08, 21.49s/it]"
          ]
        },
        {
          "output_type": "stream",
          "name": "stdout",
          "text": [
            "127 63325.0\n"
          ]
        },
        {
          "output_type": "stream",
          "name": "stderr",
          "text": [
            "\r 64%|██████▍   | 128/200 [44:53<25:32, 21.29s/it]"
          ]
        },
        {
          "output_type": "stream",
          "name": "stdout",
          "text": [
            "128 63325.0\n"
          ]
        },
        {
          "output_type": "stream",
          "name": "stderr",
          "text": [
            "\r 64%|██████▍   | 129/200 [45:15<25:33, 21.60s/it]"
          ]
        },
        {
          "output_type": "stream",
          "name": "stdout",
          "text": [
            "129 63325.0\n"
          ]
        },
        {
          "output_type": "stream",
          "name": "stderr",
          "text": [
            "\r 65%|██████▌   | 130/200 [45:37<25:06, 21.52s/it]"
          ]
        },
        {
          "output_type": "stream",
          "name": "stdout",
          "text": [
            "130 63325.0\n"
          ]
        },
        {
          "output_type": "stream",
          "name": "stderr",
          "text": [
            "\r 66%|██████▌   | 131/200 [45:59<25:04, 21.81s/it]"
          ]
        },
        {
          "output_type": "stream",
          "name": "stdout",
          "text": [
            "131 63325.0\n"
          ]
        },
        {
          "output_type": "stream",
          "name": "stderr",
          "text": [
            "\r 66%|██████▌   | 132/200 [46:20<24:17, 21.43s/it]"
          ]
        },
        {
          "output_type": "stream",
          "name": "stdout",
          "text": [
            "132 63325.0\n"
          ]
        },
        {
          "output_type": "stream",
          "name": "stderr",
          "text": [
            "\r 66%|██████▋   | 133/200 [46:40<23:39, 21.18s/it]"
          ]
        },
        {
          "output_type": "stream",
          "name": "stdout",
          "text": [
            "133 63325.0\n"
          ]
        },
        {
          "output_type": "stream",
          "name": "stderr",
          "text": [
            "\r 67%|██████▋   | 134/200 [47:02<23:30, 21.37s/it]"
          ]
        },
        {
          "output_type": "stream",
          "name": "stdout",
          "text": [
            "134 63325.0\n"
          ]
        },
        {
          "output_type": "stream",
          "name": "stderr",
          "text": [
            "\r 68%|██████▊   | 135/200 [47:23<23:08, 21.36s/it]"
          ]
        },
        {
          "output_type": "stream",
          "name": "stdout",
          "text": [
            "135 63325.0\n"
          ]
        },
        {
          "output_type": "stream",
          "name": "stderr",
          "text": [
            "\r 68%|██████▊   | 136/200 [47:46<23:15, 21.80s/it]"
          ]
        },
        {
          "output_type": "stream",
          "name": "stdout",
          "text": [
            "136 63325.0\n"
          ]
        },
        {
          "output_type": "stream",
          "name": "stderr",
          "text": [
            "\r 68%|██████▊   | 137/200 [48:07<22:31, 21.45s/it]"
          ]
        },
        {
          "output_type": "stream",
          "name": "stdout",
          "text": [
            "137 63325.0\n"
          ]
        },
        {
          "output_type": "stream",
          "name": "stderr",
          "text": [
            "\r 69%|██████▉   | 138/200 [48:28<21:57, 21.25s/it]"
          ]
        },
        {
          "output_type": "stream",
          "name": "stdout",
          "text": [
            "138 63325.0\n"
          ]
        },
        {
          "output_type": "stream",
          "name": "stderr",
          "text": [
            "\r 70%|██████▉   | 139/200 [48:50<21:47, 21.43s/it]"
          ]
        },
        {
          "output_type": "stream",
          "name": "stdout",
          "text": [
            "139 63325.0\n"
          ]
        },
        {
          "output_type": "stream",
          "name": "stderr",
          "text": [
            "\r 70%|███████   | 140/200 [49:11<21:17, 21.30s/it]"
          ]
        },
        {
          "output_type": "stream",
          "name": "stdout",
          "text": [
            "140 63325.0\n"
          ]
        },
        {
          "output_type": "stream",
          "name": "stderr",
          "text": [
            "\r 70%|███████   | 141/200 [49:34<21:27, 21.82s/it]"
          ]
        },
        {
          "output_type": "stream",
          "name": "stdout",
          "text": [
            "141 63325.0\n"
          ]
        },
        {
          "output_type": "stream",
          "name": "stderr",
          "text": [
            "\r 71%|███████   | 142/200 [49:54<20:48, 21.53s/it]"
          ]
        },
        {
          "output_type": "stream",
          "name": "stdout",
          "text": [
            "142 63325.0\n"
          ]
        },
        {
          "output_type": "stream",
          "name": "stderr",
          "text": [
            "\r 72%|███████▏  | 143/200 [50:15<20:09, 21.21s/it]"
          ]
        },
        {
          "output_type": "stream",
          "name": "stdout",
          "text": [
            "143 63325.0\n"
          ]
        },
        {
          "output_type": "stream",
          "name": "stderr",
          "text": [
            "\r 72%|███████▏  | 144/200 [50:37<19:59, 21.42s/it]"
          ]
        },
        {
          "output_type": "stream",
          "name": "stdout",
          "text": [
            "144 63325.0\n"
          ]
        },
        {
          "output_type": "stream",
          "name": "stderr",
          "text": [
            "\r 72%|███████▎  | 145/200 [50:58<19:31, 21.31s/it]"
          ]
        },
        {
          "output_type": "stream",
          "name": "stdout",
          "text": [
            "145 63325.0\n"
          ]
        },
        {
          "output_type": "stream",
          "name": "stderr",
          "text": [
            "\r 73%|███████▎  | 146/200 [51:21<19:33, 21.74s/it]"
          ]
        },
        {
          "output_type": "stream",
          "name": "stdout",
          "text": [
            "146 63325.0\n"
          ]
        },
        {
          "output_type": "stream",
          "name": "stderr",
          "text": [
            "\r 74%|███████▎  | 147/200 [51:42<19:04, 21.59s/it]"
          ]
        },
        {
          "output_type": "stream",
          "name": "stdout",
          "text": [
            "147 63325.0\n"
          ]
        },
        {
          "output_type": "stream",
          "name": "stderr",
          "text": [
            "\r 74%|███████▍  | 148/200 [52:03<18:43, 21.60s/it]"
          ]
        },
        {
          "output_type": "stream",
          "name": "stdout",
          "text": [
            "148 63325.0\n"
          ]
        },
        {
          "output_type": "stream",
          "name": "stderr",
          "text": [
            "\r 74%|███████▍  | 149/200 [52:25<18:13, 21.44s/it]"
          ]
        },
        {
          "output_type": "stream",
          "name": "stdout",
          "text": [
            "149 63325.0\n"
          ]
        },
        {
          "output_type": "stream",
          "name": "stderr",
          "text": [
            "\r 75%|███████▌  | 150/200 [52:45<17:41, 21.24s/it]"
          ]
        },
        {
          "output_type": "stream",
          "name": "stdout",
          "text": [
            "150 63325.0\n"
          ]
        },
        {
          "output_type": "stream",
          "name": "stderr",
          "text": [
            "\r 76%|███████▌  | 151/200 [53:08<17:37, 21.59s/it]"
          ]
        },
        {
          "output_type": "stream",
          "name": "stdout",
          "text": [
            "151 63325.0\n"
          ]
        },
        {
          "output_type": "stream",
          "name": "stderr",
          "text": [
            "\r 76%|███████▌  | 152/200 [53:29<17:06, 21.38s/it]"
          ]
        },
        {
          "output_type": "stream",
          "name": "stdout",
          "text": [
            "152 63325.0\n"
          ]
        },
        {
          "output_type": "stream",
          "name": "stderr",
          "text": [
            "\r 76%|███████▋  | 153/200 [53:52<17:09, 21.91s/it]"
          ]
        },
        {
          "output_type": "stream",
          "name": "stdout",
          "text": [
            "153 63325.0\n"
          ]
        },
        {
          "output_type": "stream",
          "name": "stderr",
          "text": [
            "\r 77%|███████▋  | 154/200 [54:13<16:37, 21.69s/it]"
          ]
        },
        {
          "output_type": "stream",
          "name": "stdout",
          "text": [
            "154 63325.0\n"
          ]
        },
        {
          "output_type": "stream",
          "name": "stderr",
          "text": [
            "\r 78%|███████▊  | 155/200 [54:33<15:57, 21.28s/it]"
          ]
        },
        {
          "output_type": "stream",
          "name": "stdout",
          "text": [
            "155 63325.0\n"
          ]
        },
        {
          "output_type": "stream",
          "name": "stderr",
          "text": [
            "\r 78%|███████▊  | 156/200 [54:55<15:43, 21.43s/it]"
          ]
        },
        {
          "output_type": "stream",
          "name": "stdout",
          "text": [
            "156 63325.0\n"
          ]
        },
        {
          "output_type": "stream",
          "name": "stderr",
          "text": [
            "\r 78%|███████▊  | 157/200 [55:16<15:09, 21.15s/it]"
          ]
        },
        {
          "output_type": "stream",
          "name": "stdout",
          "text": [
            "157 63325.0\n"
          ]
        },
        {
          "output_type": "stream",
          "name": "stderr",
          "text": [
            "\r 79%|███████▉  | 158/200 [55:39<15:14, 21.76s/it]"
          ]
        },
        {
          "output_type": "stream",
          "name": "stdout",
          "text": [
            "158 63325.0\n"
          ]
        },
        {
          "output_type": "stream",
          "name": "stderr",
          "text": [
            "\r 80%|███████▉  | 159/200 [55:59<14:39, 21.45s/it]"
          ]
        },
        {
          "output_type": "stream",
          "name": "stdout",
          "text": [
            "159 63325.0\n"
          ]
        },
        {
          "output_type": "stream",
          "name": "stderr",
          "text": [
            "\r 80%|████████  | 160/200 [56:20<14:12, 21.30s/it]"
          ]
        },
        {
          "output_type": "stream",
          "name": "stdout",
          "text": [
            "160 63325.0\n"
          ]
        },
        {
          "output_type": "stream",
          "name": "stderr",
          "text": [
            "\r 80%|████████  | 161/200 [56:42<13:54, 21.40s/it]"
          ]
        },
        {
          "output_type": "stream",
          "name": "stdout",
          "text": [
            "161 63325.0\n"
          ]
        },
        {
          "output_type": "stream",
          "name": "stderr",
          "text": [
            "\r 81%|████████  | 162/200 [57:03<13:27, 21.26s/it]"
          ]
        },
        {
          "output_type": "stream",
          "name": "stdout",
          "text": [
            "162 63325.0\n"
          ]
        },
        {
          "output_type": "stream",
          "name": "stderr",
          "text": [
            "\r 82%|████████▏ | 163/200 [57:26<13:23, 21.72s/it]"
          ]
        },
        {
          "output_type": "stream",
          "name": "stdout",
          "text": [
            "163 63325.0\n"
          ]
        },
        {
          "output_type": "stream",
          "name": "stderr",
          "text": [
            "\r 82%|████████▏ | 164/200 [57:47<12:53, 21.49s/it]"
          ]
        },
        {
          "output_type": "stream",
          "name": "stdout",
          "text": [
            "164 63325.0\n"
          ]
        },
        {
          "output_type": "stream",
          "name": "stderr",
          "text": [
            "\r 82%|████████▎ | 165/200 [58:09<12:38, 21.68s/it]"
          ]
        },
        {
          "output_type": "stream",
          "name": "stdout",
          "text": [
            "165 63325.0\n"
          ]
        },
        {
          "output_type": "stream",
          "name": "stderr",
          "text": [
            "\r 83%|████████▎ | 166/200 [58:30<12:16, 21.65s/it]"
          ]
        },
        {
          "output_type": "stream",
          "name": "stdout",
          "text": [
            "166 63325.0\n"
          ]
        },
        {
          "output_type": "stream",
          "name": "stderr",
          "text": [
            "\r 84%|████████▎ | 167/200 [58:51<11:39, 21.21s/it]"
          ]
        },
        {
          "output_type": "stream",
          "name": "stdout",
          "text": [
            "167 63325.0\n"
          ]
        },
        {
          "output_type": "stream",
          "name": "stderr",
          "text": [
            "\r 84%|████████▍ | 168/200 [59:13<11:30, 21.57s/it]"
          ]
        },
        {
          "output_type": "stream",
          "name": "stdout",
          "text": [
            "168 63325.0\n"
          ]
        },
        {
          "output_type": "stream",
          "name": "stderr",
          "text": [
            "\r 84%|████████▍ | 169/200 [59:34<11:04, 21.43s/it]"
          ]
        },
        {
          "output_type": "stream",
          "name": "stdout",
          "text": [
            "169 63325.0\n"
          ]
        },
        {
          "output_type": "stream",
          "name": "stderr",
          "text": [
            "\r 85%|████████▌ | 170/200 [59:57<10:55, 21.87s/it]"
          ]
        },
        {
          "output_type": "stream",
          "name": "stdout",
          "text": [
            "170 63325.0\n"
          ]
        },
        {
          "output_type": "stream",
          "name": "stderr",
          "text": [
            "\r 86%|████████▌ | 171/200 [1:00:18<10:27, 21.65s/it]"
          ]
        },
        {
          "output_type": "stream",
          "name": "stdout",
          "text": [
            "171 63325.0\n"
          ]
        },
        {
          "output_type": "stream",
          "name": "stderr",
          "text": [
            "\r 86%|████████▌ | 172/200 [1:00:39<10:03, 21.55s/it]"
          ]
        },
        {
          "output_type": "stream",
          "name": "stdout",
          "text": [
            "172 63325.0\n"
          ]
        },
        {
          "output_type": "stream",
          "name": "stderr",
          "text": [
            "\r 86%|████████▋ | 173/200 [1:01:02<09:46, 21.73s/it]"
          ]
        },
        {
          "output_type": "stream",
          "name": "stdout",
          "text": [
            "173 63325.0\n"
          ]
        },
        {
          "output_type": "stream",
          "name": "stderr",
          "text": [
            "\r 87%|████████▋ | 174/200 [1:01:22<09:17, 21.45s/it]"
          ]
        },
        {
          "output_type": "stream",
          "name": "stdout",
          "text": [
            "174 63325.0\n"
          ]
        },
        {
          "output_type": "stream",
          "name": "stderr",
          "text": [
            "\r 88%|████████▊ | 175/200 [1:01:44<08:58, 21.54s/it]"
          ]
        },
        {
          "output_type": "stream",
          "name": "stdout",
          "text": [
            "175 63325.0\n"
          ]
        },
        {
          "output_type": "stream",
          "name": "stderr",
          "text": [
            "\r 88%|████████▊ | 176/200 [1:02:05<08:33, 21.39s/it]"
          ]
        },
        {
          "output_type": "stream",
          "name": "stdout",
          "text": [
            "176 63325.0\n"
          ]
        },
        {
          "output_type": "stream",
          "name": "stderr",
          "text": [
            "\r 88%|████████▊ | 177/200 [1:02:28<08:18, 21.67s/it]"
          ]
        },
        {
          "output_type": "stream",
          "name": "stdout",
          "text": [
            "177 63325.0\n"
          ]
        },
        {
          "output_type": "stream",
          "name": "stderr",
          "text": [
            "\r 89%|████████▉ | 178/200 [1:02:49<07:53, 21.51s/it]"
          ]
        },
        {
          "output_type": "stream",
          "name": "stdout",
          "text": [
            "178 63325.0\n"
          ]
        },
        {
          "output_type": "stream",
          "name": "stderr",
          "text": [
            "\r 90%|████████▉ | 179/200 [1:03:09<07:26, 21.27s/it]"
          ]
        },
        {
          "output_type": "stream",
          "name": "stdout",
          "text": [
            "179 63325.0\n"
          ]
        },
        {
          "output_type": "stream",
          "name": "stderr",
          "text": [
            "\r 90%|█████████ | 180/200 [1:03:31<07:10, 21.51s/it]"
          ]
        },
        {
          "output_type": "stream",
          "name": "stdout",
          "text": [
            "180 63325.0\n"
          ]
        },
        {
          "output_type": "stream",
          "name": "stderr",
          "text": [
            "\r 90%|█████████ | 181/200 [1:03:53<06:48, 21.51s/it]"
          ]
        },
        {
          "output_type": "stream",
          "name": "stdout",
          "text": [
            "181 63325.0\n"
          ]
        },
        {
          "output_type": "stream",
          "name": "stderr",
          "text": [
            "\r 91%|█████████ | 182/200 [1:04:15<06:31, 21.74s/it]"
          ]
        },
        {
          "output_type": "stream",
          "name": "stdout",
          "text": [
            "182 63325.0\n"
          ]
        },
        {
          "output_type": "stream",
          "name": "stderr",
          "text": [
            "\r 92%|█████████▏| 183/200 [1:04:36<06:04, 21.43s/it]"
          ]
        },
        {
          "output_type": "stream",
          "name": "stdout",
          "text": [
            "183 63325.0\n"
          ]
        },
        {
          "output_type": "stream",
          "name": "stderr",
          "text": [
            "\r 92%|█████████▏| 184/200 [1:04:57<05:39, 21.25s/it]"
          ]
        },
        {
          "output_type": "stream",
          "name": "stdout",
          "text": [
            "184 63325.0\n"
          ]
        },
        {
          "output_type": "stream",
          "name": "stderr",
          "text": [
            "\r 92%|█████████▎| 185/200 [1:05:18<05:20, 21.38s/it]"
          ]
        },
        {
          "output_type": "stream",
          "name": "stdout",
          "text": [
            "185 63325.0\n"
          ]
        },
        {
          "output_type": "stream",
          "name": "stderr",
          "text": [
            "\r 93%|█████████▎| 186/200 [1:05:39<04:57, 21.27s/it]"
          ]
        },
        {
          "output_type": "stream",
          "name": "stdout",
          "text": [
            "186 63325.0\n"
          ]
        },
        {
          "output_type": "stream",
          "name": "stderr",
          "text": [
            "\r 94%|█████████▎| 187/200 [1:06:02<04:41, 21.62s/it]"
          ]
        },
        {
          "output_type": "stream",
          "name": "stdout",
          "text": [
            "187 63325.0\n"
          ]
        },
        {
          "output_type": "stream",
          "name": "stderr",
          "text": [
            "\r 94%|█████████▍| 188/200 [1:06:23<04:17, 21.46s/it]"
          ]
        },
        {
          "output_type": "stream",
          "name": "stdout",
          "text": [
            "188 63325.0\n"
          ]
        },
        {
          "output_type": "stream",
          "name": "stderr",
          "text": [
            "\r 94%|█████████▍| 189/200 [1:06:45<03:59, 21.77s/it]"
          ]
        },
        {
          "output_type": "stream",
          "name": "stdout",
          "text": [
            "189 63325.0\n"
          ]
        },
        {
          "output_type": "stream",
          "name": "stderr",
          "text": [
            "\r 95%|█████████▌| 190/200 [1:07:07<03:36, 21.67s/it]"
          ]
        },
        {
          "output_type": "stream",
          "name": "stdout",
          "text": [
            "190 63325.0\n"
          ]
        },
        {
          "output_type": "stream",
          "name": "stderr",
          "text": [
            "\r 96%|█████████▌| 191/200 [1:07:28<03:13, 21.47s/it]"
          ]
        },
        {
          "output_type": "stream",
          "name": "stdout",
          "text": [
            "191 63325.0\n"
          ]
        },
        {
          "output_type": "stream",
          "name": "stderr",
          "text": [
            "\r 96%|█████████▌| 192/200 [1:07:50<02:52, 21.58s/it]"
          ]
        },
        {
          "output_type": "stream",
          "name": "stdout",
          "text": [
            "192 63325.0\n"
          ]
        },
        {
          "output_type": "stream",
          "name": "stderr",
          "text": [
            "\r 96%|█████████▋| 193/200 [1:08:11<02:29, 21.35s/it]"
          ]
        },
        {
          "output_type": "stream",
          "name": "stdout",
          "text": [
            "193 63325.0\n"
          ]
        },
        {
          "output_type": "stream",
          "name": "stderr",
          "text": [
            "\r 97%|█████████▋| 194/200 [1:08:33<02:10, 21.73s/it]"
          ]
        },
        {
          "output_type": "stream",
          "name": "stdout",
          "text": [
            "194 63325.0\n"
          ]
        },
        {
          "output_type": "stream",
          "name": "stderr",
          "text": [
            "\r 98%|█████████▊| 195/200 [1:08:54<01:47, 21.46s/it]"
          ]
        },
        {
          "output_type": "stream",
          "name": "stdout",
          "text": [
            "195 63325.0\n"
          ]
        },
        {
          "output_type": "stream",
          "name": "stderr",
          "text": [
            "\r 98%|█████████▊| 196/200 [1:09:15<01:25, 21.44s/it]"
          ]
        },
        {
          "output_type": "stream",
          "name": "stdout",
          "text": [
            "196 63325.0\n"
          ]
        },
        {
          "output_type": "stream",
          "name": "stderr",
          "text": [
            "\r 98%|█████████▊| 197/200 [1:09:37<01:04, 21.34s/it]"
          ]
        },
        {
          "output_type": "stream",
          "name": "stdout",
          "text": [
            "197 63325.0\n"
          ]
        },
        {
          "output_type": "stream",
          "name": "stderr",
          "text": [
            "\r 99%|█████████▉| 198/200 [1:09:57<00:42, 21.21s/it]"
          ]
        },
        {
          "output_type": "stream",
          "name": "stdout",
          "text": [
            "198 63325.0\n"
          ]
        },
        {
          "output_type": "stream",
          "name": "stderr",
          "text": [
            "\r100%|█████████▉| 199/200 [1:10:20<00:21, 21.68s/it]"
          ]
        },
        {
          "output_type": "stream",
          "name": "stdout",
          "text": [
            "199 63325.0\n"
          ]
        },
        {
          "output_type": "stream",
          "name": "stderr",
          "text": [
            "100%|██████████| 200/200 [1:10:41<00:00, 21.21s/it]\n"
          ]
        }
      ]
    },
    {
      "cell_type": "code",
      "source": [
        "w1"
      ],
      "metadata": {
        "id": "LrjsobWHwja4"
      },
      "execution_count": null,
      "outputs": []
    },
    {
      "cell_type": "code",
      "source": [
        "xtest_list = []\n",
        "ytest_list = []\n",
        "\n",
        "for l in tqdm(range(len(test_file))):\n",
        "  (a1,a2) = test_file[l].strip().split()\n",
        "  filename = cv2.imread(f'/content/images/{a1}',cv2.IMREAD_GRAYSCALE)\n",
        "  image = cv2.resize(filename,(64,64))\n",
        "  img = image.reshape(1,64*64)\n",
        "  xtest_list.append(img)\n",
        "  label = np.zeros([1,50])\n",
        "  label[0,int(a2)] = int(1)\n",
        "  ytest_list.append(label)"
      ],
      "metadata": {
        "colab": {
          "base_uri": "https://localhost:8080/"
        },
        "id": "nyoSAlbyoInw",
        "outputId": "707ec4ab-2b62-4c05-bb1c-b0b4da7797e8"
      },
      "execution_count": null,
      "outputs": [
        {
          "output_type": "stream",
          "name": "stderr",
          "text": [
            "100%|██████████| 450/450 [00:00<00:00, 820.07it/s]\n"
          ]
        }
      ]
    },
    {
      "cell_type": "code",
      "source": [
        "x1 = np.array(xtest_list)\n",
        "y1 = np.array(ytest_list)\n",
        "x = x1.reshape(len(test_file),4096)\n",
        "y = y1.reshape(len(test_file),50)\n",
        "r = 0\n",
        "w = 0\n",
        "\n",
        "for ll in range(len(test_file)):\n",
        "  t1 = x[ll].dot(w1)\n",
        "  t2 = t1.dot(w2)\n",
        "  nx = max(t2)\n",
        "  fx = np.where(t2 == nx)\n",
        "  fy = np.where(y[ll] == 1)\n",
        "  if fx == fy:\n",
        "    r+=1\n",
        "  else:\n",
        "    w+=1\n",
        "  \n",
        "acc = (r/(r+w))*100\n",
        "print('accuracy = ',acc ,'%')"
      ],
      "metadata": {
        "colab": {
          "base_uri": "https://localhost:8080/"
        },
        "id": "9j7xqkgHoXHE",
        "outputId": "321566b2-1ba6-4bb4-9052-0a4bfdfa2de1"
      },
      "execution_count": null,
      "outputs": [
        {
          "output_type": "stream",
          "name": "stdout",
          "text": [
            "accuracy =  2.0 %\n"
          ]
        }
      ]
    },
    {
      "cell_type": "code",
      "source": [
        "xval_list = []\n",
        "yval_list = []\n",
        "\n",
        "for l in tqdm(range(len(val_file))):\n",
        "  (a1,a2) = val_file[l].strip().split()\n",
        "  filename = cv2.imread(f'/content/images/{a1}',cv2.IMREAD_GRAYSCALE)\n",
        "  image = cv2.resize(filename,(64,64))\n",
        "  img = image.reshape(1,64*64)\n",
        "  xval_list.append(img)\n",
        "  label = np.zeros([1,50])\n",
        "  label[0,int(a2)] = int(1)\n",
        "  yval_list.append(label)"
      ],
      "metadata": {
        "colab": {
          "base_uri": "https://localhost:8080/"
        },
        "id": "Xk-o4Mi4uxRt",
        "outputId": "a8a04e68-3ac6-4c21-f8d5-72962302f002"
      },
      "execution_count": null,
      "outputs": [
        {
          "output_type": "stream",
          "name": "stderr",
          "text": [
            "100%|██████████| 450/450 [00:00<00:00, 895.55it/s]\n"
          ]
        }
      ]
    },
    {
      "cell_type": "code",
      "source": [
        "x1 = np.array(xval_list)\n",
        "y1 = np.array(yval_list)\n",
        "x = x1.reshape(len(val_file),4096)\n",
        "y = y1.reshape(len(val_file),50)\n",
        "r = 0\n",
        "w = 0\n",
        "\n",
        "for ll in range(len(val_file)):\n",
        "  t1 = x[ll].dot(w1)\n",
        "  t2 = t1.dot(w2)\n",
        "  nx = max(t2)\n",
        "  fx = np.where(t2 == nx)\n",
        "  fy = np.where(y[ll] == 1)\n",
        "  if fx == fy:\n",
        "    r+=1\n",
        "  else:\n",
        "    w+=1\n",
        "  \n",
        "fin = (r/(r+w))*100\n",
        "print('accuracy = ',fin ,'%')"
      ],
      "metadata": {
        "colab": {
          "base_uri": "https://localhost:8080/"
        },
        "id": "q5AATnBQu8lI",
        "outputId": "b10eacd2-47c0-4d8f-fb92-3863a650e329"
      },
      "execution_count": null,
      "outputs": [
        {
          "output_type": "stream",
          "name": "stdout",
          "text": [
            "accuracy =  2.0 %\n"
          ]
        }
      ]
    },
    {
      "cell_type": "markdown",
      "source": [
        "#LeNet"
      ],
      "metadata": {
        "id": "IxPlM2s0nHYZ"
      }
    },
    {
      "cell_type": "markdown",
      "source": [
        "##Import package"
      ],
      "metadata": {
        "id": "qOMP_sGi0kU0"
      }
    },
    {
      "cell_type": "code",
      "source": [
        "import pickle\n",
        "import random\n",
        "import numpy as np\n",
        "import matplotlib.pyplot as plt\n",
        "from abc import ABCMeta, abstractmethod"
      ],
      "metadata": {
        "id": "dJ_Iy5EhnPCd"
      },
      "execution_count": null,
      "outputs": []
    },
    {
      "cell_type": "markdown",
      "source": [
        "##Class"
      ],
      "metadata": {
        "id": "9Dava9CY1aet"
      }
    },
    {
      "cell_type": "code",
      "source": [
        "# get batch\n",
        "\n",
        "def get_batch(X, Y, batch_size):   #隨機取訓練資料\n",
        "    N = len(X)\n",
        "    i = random.randint(1, N-batch_size)\n",
        "    return X[i:i+batch_size], Y[i:i+batch_size]\n",
        "\n",
        "\n",
        "# Make one Hot\n",
        "\n",
        "def MakeOneHot(Y, D_out):\n",
        "    N = Y.shape[0]\n",
        "    Z = np.zeros((N, D_out))\n",
        "    Z[np.arange(N), Y] = 1\n",
        "    return Z\n",
        "\n",
        "\n",
        "# Fully connected Layer\n",
        "\n",
        "class FC():\n",
        "\n",
        "    def __init__(self, D_in, D_out):\n",
        "        #print(\"Build FC\")\n",
        "        self.cache = None\n",
        "        #self.W = {'val': np.random.randn(D_in, D_out), 'grad': 0}\n",
        "        self.W = {'val': np.random.normal(0.0, np.sqrt(2/D_in), (D_in,D_out)), 'grad': 0}  #隨機假設初始權重\n",
        "        self.b = {'val': np.random.randn(D_out), 'grad': 0}                  #隨機假設bias\n",
        "\n",
        "    def _forward(self, X):\n",
        "        #print(\"FC: _forward\")\n",
        "        out = np.dot(X, self.W['val']) + self.b['val']                    # X*W+b\n",
        "        self.cache = X\n",
        "        return out\n",
        "\n",
        "    def _backward(self, dout):\n",
        "        #print(\"FC: _backward\")\n",
        "        X = self.cache\n",
        "        dX = np.dot(dout, self.W['val'].T).reshape(X.shape)\n",
        "        self.W['grad'] = np.dot(X.reshape(X.shape[0], np.prod(X.shape[1:])).T, dout)\n",
        "        self.b['grad'] = np.sum(dout, axis=0)\n",
        "        #self._update_params()\n",
        "        return dX\n",
        "\n",
        "    def _update_params(self, lr=0.001):\n",
        "        # Update the parameters\n",
        "        self.W['val'] -= lr*self.W['grad']\n",
        "        self.b['val'] -= lr*self.b['grad']\n",
        "\n",
        "\n",
        "# Sigmoid activation Layer\n",
        "\n",
        "class Sigmoid():\n",
        "\n",
        "    def __init__(self):\n",
        "        self.cache = None\n",
        "\n",
        "    def _forward(self, X):\n",
        "        h = 1 / (1 + np.exp(-X))\n",
        "        self.cache = h\n",
        "        return h\n",
        "\n",
        "    def _backward(self, dout):\n",
        "        h = self.cache\n",
        "        dX = dout*h*(1-h)\n",
        "        return dX\n",
        "\n",
        "\n",
        "# Convolution Layer\n",
        "\n",
        "class Conv():\n",
        "\n",
        "    def __init__(self, Cin, Cout, F, stride=1, padding=0, bias=True):\n",
        "        self.Cin = Cin\n",
        "        self.Cout = Cout\n",
        "        self.F = F\n",
        "        self.S = stride\n",
        "        #self.W = {'val': np.random.randn(Cout, Cin, F, F), 'grad': 0}\n",
        "        self.W = {'val': np.random.normal(0.0,np.sqrt(2/Cin),(Cout,Cin,F,F)), 'grad': 0} # Xavier Initialization\n",
        "        self.b = {'val': np.random.randn(Cout), 'grad': 0}\n",
        "        self.cache = None\n",
        "        self.pad = padding\n",
        "\n",
        "    def _forward(self, X):\n",
        "        X = np.pad(X, ((0,0),(0,0),(self.pad,self.pad),(self.pad,self.pad)), 'constant')\n",
        "        (N, Cin, H, W) = X.shape\n",
        "        H_ = H - self.F + 1\n",
        "        W_ = W - self.F + 1\n",
        "        Y = np.zeros((N, self.Cout, H_, W_))\n",
        "\n",
        "        for n in range(N):\n",
        "            for c in range(self.Cout):\n",
        "                for h in range(H_):\n",
        "                    for w in range(W_):\n",
        "                        Y[n, c, h, w] = np.sum(X[n, :, h:h+self.F, w:w+self.F] * self.W['val'][c, :, :, :]) + self.b['val'][c]\n",
        "\n",
        "        self.cache = X\n",
        "        return Y\n",
        "\n",
        "    def _backward(self, dout):\n",
        "        # dout (N,Cout,H_,W_)\n",
        "        # W (Cout, Cin, F, F)\n",
        "        X = self.cache\n",
        "        (N, Cin, H, W) = X.shape\n",
        "        H_ = H - self.F + 1\n",
        "        W_ = W - self.F + 1\n",
        "        W_rot = np.rot90(np.rot90(self.W['val']))\n",
        "\n",
        "        dX = np.zeros(X.shape)\n",
        "        dW = np.zeros(self.W['val'].shape)\n",
        "        db = np.zeros(self.b['val'].shape)\n",
        "\n",
        "        # dW\n",
        "        for co in range(self.Cout):\n",
        "            for ci in range(Cin):\n",
        "                for h in range(self.F):\n",
        "                    for w in range(self.F):\n",
        "                        dW[co, ci, h, w] = np.sum(X[:,ci,h:h+H_,w:w+W_] * dout[:,co,:,:])\n",
        "\n",
        "        # db\n",
        "        for co in range(self.Cout):\n",
        "            db[co] = np.sum(dout[:,co,:,:])\n",
        "\n",
        "        dout_pad = np.pad(dout, ((0,0),(0,0),(self.F,self.F),(self.F,self.F)), 'constant')\n",
        "        #print(\"dout_pad.shape: \" + str(dout_pad.shape))\n",
        "        # dX\n",
        "        for n in range(N):\n",
        "            for ci in range(Cin):\n",
        "                for h in range(H):\n",
        "                    for w in range(W):\n",
        "                        #print(\"self.F.shape: %s\", self.F)\n",
        "                        #print(\"%s, W_rot[:,ci,:,:].shape: %s, dout_pad[n,:,h:h+self.F,w:w+self.F].shape: %s\" % ((n,ci,h,w),W_rot[:,ci,:,:].shape, dout_pad[n,:,h:h+self.F,w:w+self.F].shape))\n",
        "                        dX[n, ci, h, w] = np.sum(W_rot[:,ci,:,:] * dout_pad[n, :, h:h+self.F,w:w+self.F])\n",
        "\n",
        "        return dX\n",
        "\n",
        "\n",
        "# Softmax\n",
        "\n",
        "class Softmax():\n",
        "\n",
        "    def __init__(self):\n",
        "        #print(\"Build Softmax\")\n",
        "        self.cache = None\n",
        "\n",
        "    def _forward(self, X):\n",
        "        #print(\"Softmax: _forward\")\n",
        "        maxes = np.amax(X, axis=1)\n",
        "        maxes = maxes.reshape(maxes.shape[0], 1)\n",
        "        Y = np.exp(X - maxes)\n",
        "        Z = Y / np.sum(Y, axis=1).reshape(Y.shape[0], 1)\n",
        "        self.cache = (X, Y, Z)\n",
        "        return Z # distribution\n",
        "\n",
        "    def _backward(self, dout):\n",
        "        X, Y, Z = self.cache\n",
        "        dZ = np.zeros(X.shape)\n",
        "        dY = np.zeros(X.shape)\n",
        "        dX = np.zeros(X.shape)\n",
        "        N = X.shape[0]\n",
        "        for n in range(N):\n",
        "            i = np.argmax(Z[n])\n",
        "            dZ[n,:] = np.diag(Z[n]) - np.outer(Z[n],Z[n])\n",
        "            M = np.zeros((N,N))\n",
        "            M[:,i] = 1\n",
        "            dY[n,:] = np.eye(N) - M\n",
        "        dX = np.dot(dout,dZ)\n",
        "        dX = np.dot(dX,dY)\n",
        "        return dX\n",
        "\n",
        "\n",
        "# Max pooling\n",
        "\n",
        "class MaxPool():\n",
        "    def __init__(self, F, stride):\n",
        "        self.F = F\n",
        "        self.S = stride\n",
        "        self.cache = None\n",
        "\n",
        "    def _forward(self, X):\n",
        "        # X: (N, Cin, H, W): maxpool along 3rd, 4th dim\n",
        "        (N,Cin,H,W) = X.shape\n",
        "        F = self.F\n",
        "        W_ = int(float(W)/F)\n",
        "        H_ = int(float(H)/F)\n",
        "        Y = np.zeros((N,Cin,W_,H_))\n",
        "        M = np.zeros(X.shape) # mask\n",
        "        for n in range(N):\n",
        "            for cin in range(Cin):\n",
        "                for w_ in range(W_):\n",
        "                    for h_ in range(H_):\n",
        "                        Y[n,cin,w_,h_] = np.max(X[n,cin,F*w_:F*(w_+1),F*h_:F*(h_+1)])\n",
        "                        i,j = np.unravel_index(X[n,cin,F*w_:F*(w_+1),F*h_:F*(h_+1)].argmax(), (F,F))\n",
        "                        M[n,cin,F*w_+i,F*h_+j] = 1\n",
        "        self.cache = M\n",
        "        return Y\n",
        "\n",
        "    def _backward(self, dout):\n",
        "        M = self.cache\n",
        "        (N,Cin,H,W) = M.shape\n",
        "        dout = np.array(dout)\n",
        "        #print(\"dout.shape: %s, M.shape: %s\" % (dout.shape, M.shape))\n",
        "        dX = np.zeros(M.shape)\n",
        "        for n in range(N):\n",
        "            for c in range(Cin):\n",
        "                #print(\"(n,c): (%s,%s)\" % (n,c))\n",
        "                dX[n,c,:,:] = dout[n,c,:,:].repeat(2, axis=0).repeat(2, axis=1)\n",
        "        return dX*M\n",
        "\n",
        "\n",
        "# Loss\n",
        "\n",
        "class CrossEntropyLoss():\n",
        "    def __init__(self):\n",
        "        pass\n",
        "\n",
        "    def get(self, Y_pred, Y_true):\n",
        "        N = Y_pred.shape[0]\n",
        "        softmax = Softmax()\n",
        "        prob = softmax._forward(Y_pred)\n",
        "        loss = NLLLoss(prob, Y_true)\n",
        "        Y_serial = np.argmax(Y_true, axis=1)\n",
        "        dout = prob.copy()\n",
        "        dout[np.arange(N), Y_serial] -= 1\n",
        "        return loss, dout\n",
        "\n",
        "\n",
        "#Negative log likelihood loss\n",
        "def NLLLoss(Y_pred, Y_true):\n",
        "\n",
        "    loss = 0.0\n",
        "    N = Y_pred.shape[0]\n",
        "    M = np.sum(Y_pred*Y_true, axis=1)\n",
        "    for e in M:\n",
        "        #print(e)\n",
        "        if e == 0:\n",
        "            loss += 500\n",
        "        else:\n",
        "            loss += -np.log(e)\n",
        "    return loss/N\n",
        "\n",
        "\n",
        "\n",
        "# Net\n",
        "\n",
        "class Net(metaclass=ABCMeta):\n",
        "    # Neural network super class\n",
        "\n",
        "    @abstractmethod\n",
        "    def __init__(self):\n",
        "        pass\n",
        "\n",
        "    @abstractmethod\n",
        "    def forward(self, X):\n",
        "        pass\n",
        "\n",
        "    @abstractmethod\n",
        "    def backward(self, dout):\n",
        "        pass\n",
        "\n",
        "    @abstractmethod\n",
        "    def get_params(self):\n",
        "        pass\n",
        "\n",
        "    @abstractmethod\n",
        "    def set_params(self, params):\n",
        "        pass\n",
        "\n",
        "\n",
        "# LeNet5\n",
        "\n",
        "class LeNet5(Net):\n",
        "\n",
        "    def __init__(self):\n",
        "        self.pool0 = MaxPool(2,2)\n",
        "        self.conv1 = Conv(1, 6, 5)\n",
        "        self.Sigm1 = Sigmoid()\n",
        "        self.pool1 = MaxPool(2,2)\n",
        "        self.conv2 = Conv(6, 16, 5)\n",
        "        self.Sigm2 = Sigmoid()\n",
        "        self.pool2 = MaxPool(2,2)\n",
        "        self.FC1 = FC(16*5*5, 120)\n",
        "        self.Sigm3 = Sigmoid()\n",
        "        self.FC2 = FC(120, 84)\n",
        "        self.Sigm4 = Sigmoid()\n",
        "        self.FC3 = FC(84, 50)\n",
        "        self.Sigm5 = Sigmoid()\n",
        "\n",
        "        self.p2_shape = None\n",
        "\n",
        "    def forward(self, X):\n",
        "        h0 = self.pool0._forward(X)\n",
        "        h1 = self.conv1._forward(h0)\n",
        "        a1 = self.Sigm1._forward(h1)\n",
        "        p1 = self.pool1._forward(a1)\n",
        "        h2 = self.conv2._forward(p1)\n",
        "        a2 = self.Sigm2._forward(h2)\n",
        "        p2 = self.pool2._forward(a2)\n",
        "        self.p2_shape = p2.shape\n",
        "        fl = p2.reshape(X.shape[0],-1) # Flatten\n",
        "        h3 = self.FC1._forward(fl)\n",
        "        a3 = self.Sigm3._forward(h3)\n",
        "        h4 = self.FC2._forward(a3)\n",
        "        a5 = self.Sigm4._forward(h4)\n",
        "        h5 = self.FC3._forward(a5)\n",
        "        a5 = self.Sigm5._forward(h5)\n",
        "        return a5\n",
        "\n",
        "    def backward(self, dout):\n",
        "        dout = self.Sigm5._backward(dout)\n",
        "        dout = self.FC3._backward(dout)\n",
        "        dout = self.Sigm4._backward(dout)\n",
        "        dout = self.FC2._backward(dout)\n",
        "        dout = self.Sigm3._backward(dout)\n",
        "        dout = self.FC1._backward(dout)\n",
        "        dout = dout.reshape(self.p2_shape) # reshape\n",
        "        dout = self.pool2._backward(dout)\n",
        "        dout = self.Sigm2._backward(dout)\n",
        "        dout = self.conv2._backward(dout)\n",
        "        dout = self.pool1._backward(dout)\n",
        "        dout = self.Sigm1._backward(dout)\n",
        "        dout = self.conv1._backward(dout)\n",
        "        dout = self.pool0._backward(dout)\n",
        "\n",
        "    def get_params(self):\n",
        "        return [self.conv1.W, self.conv1.b, self.conv2.W, self.conv2.b, self.FC1.W, self.FC1.b, self.FC2.W, self.FC2.b, self.FC3.W, self.FC3.b]\n",
        "\n",
        "    def set_params(self, params):\n",
        "        [self.conv1.W, self.conv1.b, self.conv2.W, self.conv2.b, self.FC1.W, self.FC1.b, self.FC2.W, self.FC2.b, self.FC3.W, self.FC3.b] = params\n",
        "\n",
        "\n",
        "#SGD Momentum\n",
        "\n",
        "class SGDMomentum():\n",
        "    def __init__(self, params, lr=0.001, momentum=0.99, reg=0):\n",
        "        self.l = len(params)\n",
        "        self.parameters = params\n",
        "        self.velocities = []\n",
        "        for param in self.parameters:\n",
        "            self.velocities.append(np.zeros(param['val'].shape))\n",
        "        self.lr = lr\n",
        "        self.rho = momentum\n",
        "        self.reg = reg\n",
        "\n",
        "    def step(self):\n",
        "        for i in range(self.l):\n",
        "            self.velocities[i] = self.rho*self.velocities[i] + (1-self.rho)*self.parameters[i]['grad']\n",
        "            self.parameters[i]['val'] -= (self.lr*self.velocities[i] + self.reg*self.parameters[i]['val'])\n"
      ],
      "metadata": {
        "id": "DqRpuP4e1imU"
      },
      "execution_count": null,
      "outputs": []
    },
    {
      "cell_type": "markdown",
      "source": [
        "## Data processing"
      ],
      "metadata": {
        "id": "2RG-UoQ65_vR"
      }
    },
    {
      "cell_type": "markdown",
      "source": [
        "###train"
      ],
      "metadata": {
        "id": "N8OobAY86IsB"
      }
    },
    {
      "cell_type": "code",
      "source": [
        "x_list = []\n",
        "y_list = []\n",
        "\n",
        "for l in tqdm(range(len(train_file))):\n",
        "  (a1,a2) = train_file[l].strip().split()\n",
        "  filename = cv2.imread(f'/content/images/{a1}',cv2.IMREAD_GRAYSCALE)\n",
        "  image = cv2.resize(filename,(64,64))\n",
        "  img = image.reshape(1,64,64)\n",
        "  x_list.append(img)\n",
        "  y_list.append(int(a2))"
      ],
      "metadata": {
        "colab": {
          "base_uri": "https://localhost:8080/"
        },
        "id": "TwCh3iwR6HSB",
        "outputId": "dfa531d0-0160-4c08-be57-7f2934ea13da"
      },
      "execution_count": null,
      "outputs": [
        {
          "output_type": "stream",
          "name": "stderr",
          "text": [
            "100%|██████████| 63325/63325 [00:53<00:00, 1172.72it/s]\n"
          ]
        }
      ]
    },
    {
      "cell_type": "markdown",
      "source": [
        "###test"
      ],
      "metadata": {
        "id": "Kjow7-cT6Qvo"
      }
    },
    {
      "cell_type": "code",
      "source": [
        "xtest_list = []\n",
        "ytest_list = []\n",
        "\n",
        "for l in tqdm(range(len(test_file))):\n",
        "  (a1,a2) = test_file[l].strip().split()\n",
        "  filename = cv2.imread(f'/content/images/{a1}',cv2.IMREAD_GRAYSCALE)\n",
        "  image = cv2.resize(filename,(64,64))\n",
        "  img = image.reshape(1,64,64)\n",
        "  xtest_list.append(img)\n",
        "  ytest_list.append(int(a2))"
      ],
      "metadata": {
        "colab": {
          "base_uri": "https://localhost:8080/"
        },
        "id": "x12zPVSy6PuC",
        "outputId": "c06078f0-35d6-48af-fece-85ef1933e70c"
      },
      "execution_count": null,
      "outputs": [
        {
          "output_type": "stream",
          "name": "stderr",
          "text": [
            "100%|██████████| 450/450 [00:00<00:00, 811.22it/s]\n"
          ]
        }
      ]
    },
    {
      "cell_type": "markdown",
      "source": [
        "###val"
      ],
      "metadata": {
        "id": "_W9cx1Fn6l6Q"
      }
    },
    {
      "cell_type": "code",
      "source": [
        "xval_list = []\n",
        "yval_list = []\n",
        "\n",
        "for l in tqdm(range(len(val_file))):\n",
        "  (a1,a2) = val_file[l].strip().split()\n",
        "  filename = cv2.imread(f'/content/images/{a1}',cv2.IMREAD_GRAYSCALE)\n",
        "  image = cv2.resize(filename,(64,64))\n",
        "  img = image.reshape(1,64,64)\n",
        "  xval_list.append(img)\n",
        "  yval_list.append(int(a2))"
      ],
      "metadata": {
        "colab": {
          "base_uri": "https://localhost:8080/"
        },
        "id": "jOwqgt-a6nVY",
        "outputId": "3a432c63-dc5d-4db0-b9b5-d686a866ca87"
      },
      "execution_count": null,
      "outputs": [
        {
          "output_type": "stream",
          "name": "stderr",
          "text": [
            "100%|██████████| 450/450 [00:00<00:00, 857.32it/s]\n"
          ]
        }
      ]
    },
    {
      "cell_type": "markdown",
      "source": [
        "##Training"
      ],
      "metadata": {
        "id": "UPnJ5LY_0pXk"
      }
    },
    {
      "cell_type": "code",
      "source": [
        "#mnist.init()\n",
        "#X_train, Y_train, X_test, Y_test = load()\n",
        "X_train = np.array(x_list)\n",
        "Y_train = np.array(y_list)\n",
        "X_test = np.array(xtest_list)\n",
        "Y_test = np.array(ytest_list)\n",
        "X_val = np.array(xval_list)\n",
        "Y_val = np.array(yval_list)\n",
        "X_train, X_test, X_val = X_train/float(255), X_test/float(255), X_val/float(255)\n",
        "X_train -= np.mean(X_train)\n",
        "X_test -= np.mean(X_test)\n",
        "X_val -= np.mean(X_val)\n",
        "\n",
        "batch_size = 100\n",
        "D_in = 64*64\n",
        "D_out = 50\n",
        "model = LeNet5()\n",
        "\n",
        "\n",
        "losses = []\n",
        "optim = SGDMomentum(model.get_params(), lr=0.0001, momentum=0.80, reg=0.00003)\n",
        "criterion = CrossEntropyLoss()"
      ],
      "metadata": {
        "id": "xezgYj9a1USe"
      },
      "execution_count": null,
      "outputs": []
    },
    {
      "cell_type": "code",
      "source": [
        "# TRAIN\n",
        "ITER = 650\n",
        "for i in tqdm(range(ITER)):\n",
        "\t# get batch, make onehot\n",
        "\tX_batch, Y_batch = get_batch(X_train, Y_train, batch_size)\n",
        "\tY_batch = MakeOneHot(Y_batch, D_out)\n",
        "\n",
        "\t# forward, loss, backward, step\n",
        "\tY_pred = model.forward(X_batch)\n",
        "\tloss, dout = criterion.get(Y_pred, Y_batch)\n",
        "\tmodel.backward(dout)\n",
        "\toptim.step()\n",
        "\n",
        "\tif i % 100 == 0:\n",
        "\t\tprint(\"%s%% iter: %s, loss: %s\" % (100*i/ITER,i, loss))\n",
        "\t\tlosses.append(loss)\n",
        "\n",
        "\n",
        "# save params\n",
        "weights = model.get_params()\n",
        "with open(\"weights.pkl\",\"wb\") as f:\n",
        "\tpickle.dump(weights, f)\n",
        "\n",
        "#draw_losses(losses)\n",
        "\n",
        "\n",
        "\n",
        "# VAL SET ACC\n",
        "#Y_pred = model.forward(X_val)\n",
        "#result = np.argmax(Y_pred, axis=1) - Y_val\n",
        "#result = list(result)\n",
        "#print(\"VAL--> Correct: \" + str(result.count(0)) + \" out of \" + str(X_val.shape[0]) + \", acc=\" + str(result.count(0)/X_val.shape[0]))\n",
        "\n",
        "# TEST SET ACC\n",
        "Y_pred = model.forward(X_test)\n",
        "result = np.argmax(Y_pred, axis=1) - Y_test\n",
        "result = list(result)\n",
        "print(\"TEST--> Correct: \" + str(result.count(0)) + \" out of \" + str(X_test.shape[0]) + \", acc=\" + str(result.count(0)/X_test.shape[0]))"
      ],
      "metadata": {
        "colab": {
          "base_uri": "https://localhost:8080/"
        },
        "id": "WTVKWMKYwNVX",
        "outputId": "5dad0d2a-463e-4f96-93c2-19ab10c8d637"
      },
      "execution_count": null,
      "outputs": [
        {
          "output_type": "stream",
          "name": "stderr",
          "text": [
            "  0%|          | 1/650 [00:12<2:18:55, 12.84s/it]"
          ]
        },
        {
          "output_type": "stream",
          "name": "stdout",
          "text": [
            "0.0% iter: 0, loss: 4.223641875562432\n"
          ]
        },
        {
          "output_type": "stream",
          "name": "stderr",
          "text": [
            " 16%|█▌        | 101/650 [20:24<1:52:52, 12.34s/it]"
          ]
        },
        {
          "output_type": "stream",
          "name": "stdout",
          "text": [
            "15.384615384615385% iter: 100, loss: 3.9612619763937893\n"
          ]
        },
        {
          "output_type": "stream",
          "name": "stderr",
          "text": [
            " 31%|███       | 201/650 [40:47<1:32:07, 12.31s/it]"
          ]
        },
        {
          "output_type": "stream",
          "name": "stdout",
          "text": [
            "30.76923076923077% iter: 200, loss: 3.576798050288284\n"
          ]
        },
        {
          "output_type": "stream",
          "name": "stderr",
          "text": [
            " 46%|████▋     | 301/650 [1:01:12<1:10:46, 12.17s/it]"
          ]
        },
        {
          "output_type": "stream",
          "name": "stdout",
          "text": [
            "46.15384615384615% iter: 300, loss: 4.320195903270144\n"
          ]
        },
        {
          "output_type": "stream",
          "name": "stderr",
          "text": [
            " 62%|██████▏   | 401/650 [1:21:38<50:45, 12.23s/it]"
          ]
        },
        {
          "output_type": "stream",
          "name": "stdout",
          "text": [
            "61.53846153846154% iter: 400, loss: 4.139071919829553\n"
          ]
        },
        {
          "output_type": "stream",
          "name": "stderr",
          "text": [
            " 77%|███████▋  | 501/650 [1:42:03<30:37, 12.33s/it]"
          ]
        },
        {
          "output_type": "stream",
          "name": "stdout",
          "text": [
            "76.92307692307692% iter: 500, loss: 4.1150387697464\n"
          ]
        },
        {
          "output_type": "stream",
          "name": "stderr",
          "text": [
            " 92%|█████████▏| 601/650 [2:02:23<09:56, 12.17s/it]"
          ]
        },
        {
          "output_type": "stream",
          "name": "stdout",
          "text": [
            "92.3076923076923% iter: 600, loss: 3.882809710086284\n"
          ]
        },
        {
          "output_type": "stream",
          "name": "stderr",
          "text": [
            "100%|██████████| 650/650 [2:12:22<00:00, 12.22s/it]\n"
          ]
        },
        {
          "output_type": "stream",
          "name": "stdout",
          "text": [
            "TEST--> Correct: 9 out of 450, acc=0.02\n"
          ]
        }
      ]
    },
    {
      "cell_type": "markdown",
      "source": [
        "# Improved LeNet5"
      ],
      "metadata": {
        "id": "DKDHTpSrzyd0"
      }
    },
    {
      "cell_type": "markdown",
      "source": [
        "##Class"
      ],
      "metadata": {
        "id": "k1zXiQNP0VSz"
      }
    },
    {
      "cell_type": "code",
      "source": [
        "# Sigmoid\n",
        "\n",
        "class Sigmoid():\n",
        "    def __init__(self):\n",
        "        self.h = None\n",
        "        self.X = None\n",
        "\n",
        "    def _forward(self, X):\n",
        "        h = 1 / (1 + np.exp(-X))\n",
        "        self.h = h\n",
        "        self.X = X\n",
        "        return h*X\n",
        "\n",
        "    def _backward(self, dout):\n",
        "        h = self.h\n",
        "        X = self.X\n",
        "        dX = dout*(X*h*(1-h)+h)\n",
        "        return dX\n",
        "\n",
        "\n",
        "# LeNet5\n",
        "\n",
        "class LeNet5(Net):\n",
        "\n",
        "    def __init__(self):\n",
        "        self.conv0 = Conv(1, 4, 3)\n",
        "        self.conv1 = Conv(4, 8, 3)\n",
        "        self.sigm1 = Sigmoid()\n",
        "        self.pool1 = MaxPool(2,2)\n",
        "        self.conv2 = Conv(8, 16, 3)\n",
        "        self.sigm2 = Sigmoid()\n",
        "        self.pool2 = MaxPool(2,2)\n",
        "        self.pool3 = MaxPool(2,2)\n",
        "        self.FC1 = FC(16*7*7, 200)\n",
        "        self.sigm3 = Sigmoid()\n",
        "        self.FC2 = FC(200, 84)\n",
        "        self.sigm4 = Sigmoid()\n",
        "        self.FC3 = FC(84, 50)\n",
        "        self.sigm5 = Sigmoid()\n",
        "\n",
        "        self.p2_shape = None\n",
        "\n",
        "    def forward(self, X):\n",
        "        h0 = self.conv0._forward(X)\n",
        "        h1 = self.conv1._forward(h0)\n",
        "        a1 = self.sigm1._forward(h1)\n",
        "        p1 = self.pool1._forward(a1)\n",
        "        h2 = self.conv2._forward(p1)\n",
        "        a2 = self.sigm2._forward(h2)\n",
        "        p2 = self.pool2._forward(a2)\n",
        "        p3 = self.pool3._forward(p2)\n",
        "        self.p3_shape = p3.shape\n",
        "        fl = p3.reshape(X.shape[0],-1) # Flatten\n",
        "        h3 = self.FC1._forward(fl)\n",
        "        a3 = self.sigm3._forward(h3)\n",
        "        h4 = self.FC2._forward(a3)\n",
        "        a5 = self.sigm4._forward(h4)\n",
        "        h5 = self.FC3._forward(a5)\n",
        "        a5 = self.sigm5._forward(h5)\n",
        "        return a5\n",
        "\n",
        "    def backward(self, dout):\n",
        "        dout = self.sigm5._backward(dout)\n",
        "        dout = self.FC3._backward(dout)\n",
        "        dout = self.sigm4._backward(dout)\n",
        "        dout = self.FC2._backward(dout)\n",
        "        dout = self.sigm3._backward(dout)\n",
        "        dout = self.FC1._backward(dout)\n",
        "        dout = dout.reshape(self.p3_shape) # reshape\n",
        "        dout = self.pool3._backward(dout)\n",
        "        dout = self.pool2._backward(dout)\n",
        "        dout = self.sigm2._backward(dout)\n",
        "        dout = self.conv2._backward(dout)\n",
        "        dout = self.pool1._backward(dout)\n",
        "        dout = self.sigm1._backward(dout)\n",
        "        dout = self.conv1._backward(dout)\n",
        "\n",
        "    def get_params(self):\n",
        "        return [self.conv1.W, self.conv1.b, self.conv2.W, self.conv2.b, self.FC1.W, self.FC1.b, self.FC2.W, self.FC2.b, self.FC3.W, self.FC3.b]\n",
        "\n",
        "    def set_params(self, params):\n",
        "        [self.conv1.W, self.conv1.b, self.conv2.W, self.conv2.b, self.FC1.W, self.FC1.b, self.FC2.W, self.FC2.b, self.FC3.W, self.FC3.b] = params\n"
      ],
      "metadata": {
        "id": "vWHuxvMvz_E8"
      },
      "execution_count": null,
      "outputs": []
    },
    {
      "cell_type": "markdown",
      "source": [
        "##Training"
      ],
      "metadata": {
        "id": "Et0MA6Ar5v-5"
      }
    },
    {
      "cell_type": "code",
      "source": [
        "x_train = np.array(x_list)\n",
        "y_train = np.array(y_list)\n",
        "X_test = np.array(xtest_list)\n",
        "Y_test = np.array(ytest_list)\n",
        "X_val = np.array(xval_list)\n",
        "Y_val = np.array(yval_list)\n",
        "x_train, X_test, X_val = x_train/float(255), X_test/float(255), X_val/float(255)\n",
        "x_train -= np.mean(x_train)\n",
        "X_test -= np.mean(X_test)\n",
        "X_val -= np.mean(X_val)\n",
        "\n",
        "batch_size = 64\n",
        "D_in = 64*64\n",
        "D_out = 50\n",
        "model = LeNet5()\n",
        "\n",
        "\n",
        "losses = []\n",
        "optim = SGDMomentum(model.get_params(), lr=0.0001, momentum=0.80, reg=0.00003)\n",
        "criterion = CrossEntropyLoss()"
      ],
      "metadata": {
        "id": "q6PS7Mdm50bJ"
      },
      "execution_count": null,
      "outputs": []
    },
    {
      "cell_type": "code",
      "source": [
        "#隨機排列訓練資料集\n",
        "n = np.arange(len(x_train))\n",
        "random.shuffle(n)\n",
        "X_train = x_train[n]\n",
        "Y_train = y_train[n]"
      ],
      "metadata": {
        "id": "MsCBzuP1wXSU"
      },
      "execution_count": null,
      "outputs": []
    },
    {
      "cell_type": "code",
      "source": [
        "# TRAIN\n",
        "ITER = 400\n",
        "for i in tqdm(range(ITER)):\n",
        "\t# get batch, make onehot\n",
        "\tX_batch, Y_batch = get_batch(X_train, Y_train, batch_size)\n",
        "\tY_batch = MakeOneHot(Y_batch, D_out)\n",
        "\n",
        "\t# forward, loss, backward, step\n",
        "\tY_pred = model.forward(X_batch)\n",
        "\tloss, dout = criterion.get(Y_pred, Y_batch)\n",
        "\tmodel.backward(dout)\n",
        "\toptim.step()\n",
        "\n",
        "\tif i % 100 == 0:\n",
        "\t\tprint(\"%s%% iter: %s, loss: %s\" % (100*i/ITER,i, loss))\n",
        "\t\tlosses.append(loss)\n",
        "\n",
        "\n",
        "# save params\n",
        "weights = model.get_params()\n",
        "with open(\"weights.pkl\",\"wb\") as f:\n",
        "\tpickle.dump(weights, f)\n",
        "\n",
        "#draw_losses(losses)\n",
        "\n",
        "\n",
        "\n",
        "# VAL SET ACC\n",
        "Y_pred = model.forward(X_val)\n",
        "result = np.argmax(Y_pred, axis=1) - Y_val\n",
        "result = list(result)\n",
        "print(\"VAL--> Correct: \" + str(result.count(0)) + \" out of \" + str(X_val.shape[0]) + \", acc=\" + str(result.count(0)/X_val.shape[0]))\n",
        "\n",
        "# TEST SET ACC\n",
        "Y_pred = model.forward(X_test)\n",
        "result = np.argmax(Y_pred, axis=1) - Y_test\n",
        "result = list(result)\n",
        "print(\"TEST--> Correct: \" + str(result.count(0)) + \" out of \" + str(X_test.shape[0]) + \", acc=\" + str(result.count(0)/X_test.shape[0]))"
      ],
      "metadata": {
        "colab": {
          "base_uri": "https://localhost:8080/"
        },
        "id": "wDESKbUMCrmv",
        "outputId": "9ce7fd3d-2cfb-4c84-dffe-d5b11f2d837e"
      },
      "execution_count": null,
      "outputs": [
        {
          "output_type": "stream",
          "name": "stderr",
          "text": [
            "  0%|          | 1/400 [00:58<6:26:29, 58.12s/it]"
          ]
        },
        {
          "output_type": "stream",
          "name": "stdout",
          "text": [
            "0.0% iter: 0, loss: 44.64385945697879\n"
          ]
        },
        {
          "output_type": "stream",
          "name": "stderr",
          "text": [
            " 25%|██▌       | 101/400 [1:37:32<4:46:13, 57.44s/it]"
          ]
        },
        {
          "output_type": "stream",
          "name": "stdout",
          "text": [
            "25.0% iter: 100, loss: 3.947318256630938\n"
          ]
        },
        {
          "output_type": "stream",
          "name": "stderr",
          "text": [
            " 50%|█████     | 201/400 [3:13:48<3:11:45, 57.82s/it]"
          ]
        },
        {
          "output_type": "stream",
          "name": "stdout",
          "text": [
            "50.0% iter: 200, loss: 3.9338833390610035\n"
          ]
        },
        {
          "output_type": "stream",
          "name": "stderr",
          "text": [
            " 75%|███████▌  | 301/400 [4:50:06<1:36:33, 58.52s/it]"
          ]
        },
        {
          "output_type": "stream",
          "name": "stdout",
          "text": [
            "75.0% iter: 300, loss: 3.933173559236654\n"
          ]
        },
        {
          "output_type": "stream",
          "name": "stderr",
          "text": [
            "100%|██████████| 400/400 [6:27:04<00:00, 58.06s/it]\n"
          ]
        },
        {
          "output_type": "stream",
          "name": "stdout",
          "text": [
            "VAL--> Correct: 17 out of 450, acc=0.03777777777777778\n",
            "TEST--> Correct: 18 out of 450, acc=0.04\n"
          ]
        }
      ]
    }
  ]
}